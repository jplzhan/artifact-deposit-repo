{
 "cells": [
  {
   "cell_type": "code",
   "execution_count": 1,
   "id": "984d1053-68c6-4be1-b640-49a9833a466d",
   "metadata": {
    "execution": {
     "iopub.execute_input": "2022-08-23T23:31:58.264833Z",
     "iopub.status.busy": "2022-08-23T23:31:58.264295Z",
     "iopub.status.idle": "2022-08-23T23:31:58.280180Z",
     "shell.execute_reply": "2022-08-23T23:31:58.279071Z"
    },
    "papermill": {
     "duration": 0.027747,
     "end_time": "2022-08-23T23:31:58.284318",
     "exception": false,
     "start_time": "2022-08-23T23:31:58.256571",
     "status": "completed"
    },
    "tags": [
     "parameters"
    ]
   },
   "outputs": [],
   "source": [
    "aoi = 'aoi.geojson' # type: stage-in\n",
    "columns = 'agbd, agbd_se, l2_quality_flag, l4_quality_flag, sensitivity, sensitivity_a2, lon_lowestmode, lan_lowestmode' # type: string\n",
    "query = '' # type: string\n",
    "limit = '10000' # type: int\n",
    "maappgt = 'token' # type: string"
   ]
  },
  {
   "cell_type": "code",
   "execution_count": 2,
   "id": "58d655da",
   "metadata": {
    "execution": {
     "iopub.execute_input": "2022-08-23T23:31:58.291330Z",
     "iopub.status.busy": "2022-08-23T23:31:58.290939Z",
     "iopub.status.idle": "2022-08-23T23:31:58.296188Z",
     "shell.execute_reply": "2022-08-23T23:31:58.295125Z"
    },
    "papermill": {
     "duration": 0.010532,
     "end_time": "2022-08-23T23:31:58.298529",
     "exception": false,
     "start_time": "2022-08-23T23:31:58.287997",
     "status": "completed"
    },
    "tags": [
     "injected-parameters"
    ]
   },
   "outputs": [],
   "source": [
    "# Parameters\n",
    "aoi = \"/var/lib/cwl/stg6d0dbe25-2a7e-4fa5-b269-715cbcb122f0/geoBoundaries-GAB-ADM0.geojson\"\n",
    "columns = \"agbd, agbd_se, l2_quality_flag, l4_quality_flag, sensitivity, sensitivity_a2, lon_lowestmode, lat_lowestmode\"\n",
    "limit = 2\n",
    "maappgt = \"PGT-945-qCOwrb6hBV3pNSVyFhwGA9UTeAIRzGzfZf3tbY6uSb-hpRX4G8Y1pyujdKAMjY0WA7U-904a6371b74a\"\n",
    "query = \"l2_quality_flag == 1 and l4_quality_flag == 1 and sensitivity > 0.95 and sensitivity_a2 > 0.95\"\n"
   ]
  },
  {
   "cell_type": "code",
   "execution_count": 3,
   "id": "42ce04c7-7913-45cb-92f4-b74072082180",
   "metadata": {
    "collapsed": true,
    "execution": {
     "iopub.execute_input": "2022-08-23T23:31:58.303429Z",
     "iopub.status.busy": "2022-08-23T23:31:58.302713Z",
     "iopub.status.idle": "2022-08-23T23:32:33.325112Z",
     "shell.execute_reply": "2022-08-23T23:32:33.324295Z"
    },
    "jupyter": {
     "outputs_hidden": true
    },
    "papermill": {
     "duration": 35.029314,
     "end_time": "2022-08-23T23:32:33.329117",
     "exception": false,
     "start_time": "2022-08-23T23:31:58.299803",
     "status": "completed"
    },
    "tags": []
   },
   "outputs": [
    {
     "name": "stderr",
     "output_type": "stream",
     "text": [
      "2022-08-23 23:32:02,269 [MainProcess:maap.utils.CMR] [INFO] ======== Waiting for response ========\n"
     ]
    },
    {
     "name": "stderr",
     "output_type": "stream",
     "text": [
      "2022-08-23 23:32:02,635 [MainProcess:maap.utils.CMR] [INFO] ======== Waiting for response ========\n"
     ]
    },
    {
     "name": "stderr",
     "output_type": "stream",
     "text": [
      "2022-08-23 23:32:03,359 [MainProcess:gedi_subset] [INFO] Subsetting on 32 processes (chunksize=10)\n"
     ]
    },
    {
     "name": "stderr",
     "output_type": "stream",
     "text": [
      "2022-08-23 23:32:03,478 [ForkPoolWorker-1:gedi_subset.maapx] [DEBUG] Downloading granule GEDI_L4A_AGB_Density_V2_1.GEDI04_A_2019108045816_O01962_01_T01066_02_002_02_V002.h5 to directory /tUWvqg/output\n"
     ]
    },
    {
     "name": "stderr",
     "output_type": "stream",
     "text": [
      "2022-08-23 23:32:03,479 [ForkPoolWorker-1:gedi_subset.maapx] [DEBUG] Obtaining S3 credentials from https://data.ornldaac.earthdata.nasa.gov/s3credentials\n"
     ]
    },
    {
     "name": "stderr",
     "output_type": "stream",
     "text": [
      "2022-08-23 23:32:06,018 [ForkPoolWorker-1:gedi_subset.maapx] [DEBUG] Setting up default boto3 session with new credentials\n"
     ]
    },
    {
     "name": "stderr",
     "output_type": "stream",
     "text": [
      "2022-08-23 23:32:12,701 [ForkPoolWorker-1:gedi_subset] [DEBUG] Subsetting /tUWvqg/output/GEDI04_A_2019108045816_O01962_01_T01066_02_002_02_V002.h5\n"
     ]
    },
    {
     "name": "stderr",
     "output_type": "stream",
     "text": [
      "2022-08-23 23:32:13,514 [ForkPoolWorker-1:gedi_subset] [DEBUG] Empty subset produced from /tUWvqg/output/GEDI04_A_2019108045816_O01962_01_T01066_02_002_02_V002.h5; not writing\n"
     ]
    },
    {
     "name": "stderr",
     "output_type": "stream",
     "text": [
      "2022-08-23 23:32:13,514 [ForkPoolWorker-1:gedi_subset.maapx] [DEBUG] Downloading granule GEDI_L4A_AGB_Density_V2_1.GEDI04_A_2019108045816_O01962_02_T01066_02_002_02_V002.h5 to directory /tUWvqg/output\n"
     ]
    },
    {
     "name": "stderr",
     "output_type": "stream",
     "text": [
      "2022-08-23 23:32:23,757 [ForkPoolWorker-1:gedi_subset] [DEBUG] Subsetting /tUWvqg/output/GEDI04_A_2019108045816_O01962_02_T01066_02_002_02_V002.h5\n"
     ]
    },
    {
     "name": "stderr",
     "output_type": "stream",
     "text": [
      "2022-08-23 23:32:32,719 [ForkPoolWorker-1:gedi_subset] [DEBUG] Writing subset to /tUWvqg/output/GEDI04_A_2019108045816_O01962_02_T01066_02_002_02_V002.gpq\n"
     ]
    },
    {
     "name": "stderr",
     "output_type": "stream",
     "text": [
      "2022-08-23 23:32:32,748 [MainProcess:gedi_subset] [DEBUG] Appending /tUWvqg/output/GEDI04_A_2019108045816_O01962_02_T01066_02_002_02_V002.gpq to /tUWvqg/output/gedi_subset.gpkg\n"
     ]
    },
    {
     "name": "stderr",
     "output_type": "stream",
     "text": [
      "2022-08-23 23:32:32,878 [MainProcess:gedi_subset] [INFO] Subset 1 granule(s) to /tUWvqg/output/gedi_subset.gpkg\n"
     ]
    }
   ],
   "source": [
    "%%bash -s \"$aoi\" \"$columns\" \"$query\" \"$limit\" \"$maappgt\"\n",
    "# write a bash script here\n",
    "export MAAP_PGT=${5}\n",
    "conda run --no-capture-output -n gedi_subset /home/jovyan/maap-documentation-examples/gedi-subset/src/subset.py \\\n",
    "    --cmr-host cmr.earthdata.nasa.gov --verbose --aoi \"${1}\" --columns \"${2}\" --query \"${3}\" --limit ${4}"
   ]
  }
 ],
 "metadata": {
  "kernelspec": {
   "display_name": "Python 3 (ipykernel)",
   "language": "python",
   "name": "python3"
  },
  "language_info": {
   "codemirror_mode": {
    "name": "ipython",
    "version": 3
   },
   "file_extension": ".py",
   "mimetype": "text/x-python",
   "name": "python",
   "nbconvert_exporter": "python",
   "pygments_lexer": "ipython3",
   "version": "3.9.5"
  },
  "papermill": {
   "default_parameters": {},
   "duration": 36.698226,
   "end_time": "2022-08-23T23:32:33.558254",
   "environment_variables": {},
   "exception": null,
   "input_path": "/home/jovyan/process.ipynb",
   "output_path": "output_nb.ipynb",
   "parameters": {
    "aoi": "/var/lib/cwl/stg6d0dbe25-2a7e-4fa5-b269-715cbcb122f0/geoBoundaries-GAB-ADM0.geojson",
    "columns": "agbd, agbd_se, l2_quality_flag, l4_quality_flag, sensitivity, sensitivity_a2, lon_lowestmode, lat_lowestmode",
    "limit": 2,
    "maappgt": "PGT-945-qCOwrb6hBV3pNSVyFhwGA9UTeAIRzGzfZf3tbY6uSb-hpRX4G8Y1pyujdKAMjY0WA7U-904a6371b74a",
    "query": "l2_quality_flag == 1 and l4_quality_flag == 1 and sensitivity > 0.95 and sensitivity_a2 > 0.95"
   },
   "start_time": "2022-08-23T23:31:56.860028",
   "version": "2.4.0"
  }
 },
 "nbformat": 4,
 "nbformat_minor": 5
}