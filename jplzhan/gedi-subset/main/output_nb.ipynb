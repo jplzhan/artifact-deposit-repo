{
 "cells": [
  {
   "cell_type": "markdown",
   "id": "95ac013a",
   "metadata": {
    "tags": [
     "papermill-error-cell-tag"
    ]
   },
   "source": [
    "<span style=\"color:red; font-family:Helvetica Neue, Helvetica, Arial, sans-serif; font-size:2em;\">An Exception was encountered at '<a href=\"#papermill-error-cell\">In [3]</a>'.</span>"
   ]
  },
  {
   "cell_type": "code",
   "execution_count": 1,
   "id": "984d1053-68c6-4be1-b640-49a9833a466d",
   "metadata": {
    "execution": {
     "iopub.execute_input": "2022-08-23T23:02:23.875735Z",
     "iopub.status.busy": "2022-08-23T23:02:23.875045Z",
     "iopub.status.idle": "2022-08-23T23:02:23.890601Z",
     "shell.execute_reply": "2022-08-23T23:02:23.889714Z"
    },
    "papermill": {
     "duration": 0.028448,
     "end_time": "2022-08-23T23:02:23.895124",
     "exception": false,
     "start_time": "2022-08-23T23:02:23.866676",
     "status": "completed"
    },
    "tags": [
     "parameters"
    ]
   },
   "outputs": [],
   "source": [
    "aoi = 'aoi.geojson' # type: stage-in\n",
    "columns = 'agbd, agbd_se, l2_quality_flag, l4_quality_flag, sensitivity, sensitivity_a2, lon_lowestmode, lan_lowestmode' # type: string\n",
    "query = '' # type: string\n",
    "limit = '10000' # type: int\n",
    "maappgt = 'token' # type: string"
   ]
  },
  {
   "cell_type": "code",
   "execution_count": 2,
   "id": "47a49867",
   "metadata": {
    "execution": {
     "iopub.execute_input": "2022-08-23T23:02:23.903520Z",
     "iopub.status.busy": "2022-08-23T23:02:23.903221Z",
     "iopub.status.idle": "2022-08-23T23:02:23.910001Z",
     "shell.execute_reply": "2022-08-23T23:02:23.908917Z"
    },
    "papermill": {
     "duration": 0.013578,
     "end_time": "2022-08-23T23:02:23.912455",
     "exception": false,
     "start_time": "2022-08-23T23:02:23.898877",
     "status": "completed"
    },
    "tags": [
     "injected-parameters"
    ]
   },
   "outputs": [],
   "source": [
    "# Parameters\n",
    "aoi = \"/var/lib/cwl/stgb9ce7a56-e7fa-40fa-9ada-d707179eccbd/geoBoundaries-GAB-ADM0.geojson\"\n",
    "columns = \"agbd, agbd_se, l2_quality_flag, l4_quality_flag, sensitivity, sensitivity_a2, lon_lowestmode, lat_lowestmode\"\n",
    "limit = 10000\n",
    "maappgt = \"PGT-908-tZb6Jr-HFFpc9TRhynzFu2uX6nT3q2Scg1Y6GN3Qt0A1WTk-aFZSUu4iHMQ6oEus3zg-904a6371b74a\"\n",
    "query = \"l2_quality_flag == 1 and l4_quality_flag == 1 and sensitivity > 0.95 and sensitivity_a2 > 0.95\"\n"
   ]
  },
  {
   "cell_type": "markdown",
   "id": "6ff56fa7",
   "metadata": {
    "tags": [
     "papermill-error-cell-tag"
    ]
   },
   "source": [
    "<span id=\"papermill-error-cell\" style=\"color:red; font-family:Helvetica Neue, Helvetica, Arial, sans-serif; font-size:2em;\">Execution using papermill encountered an exception here and stopped:</span>"
   ]
  },
  {
   "cell_type": "code",
   "execution_count": 3,
   "id": "42ce04c7-7913-45cb-92f4-b74072082180",
   "metadata": {
    "collapsed": true,
    "execution": {
     "iopub.execute_input": "2022-08-23T23:02:23.917577Z",
     "iopub.status.busy": "2022-08-23T23:02:23.916778Z",
     "iopub.status.idle": "2022-08-23T23:03:53.324344Z",
     "shell.execute_reply": "2022-08-23T23:03:53.323414Z"
    },
    "jupyter": {
     "outputs_hidden": true
    },
    "papermill": {
     "duration": 89.417941,
     "end_time": "2022-08-23T23:03:53.331695",
     "exception": true,
     "start_time": "2022-08-23T23:02:23.913754",
     "status": "failed"
    },
    "tags": []
   },
   "outputs": [
    {
     "name": "stderr",
     "output_type": "stream",
     "text": [
      "2022-08-23 23:02:27,820 [MainProcess:maap.utils.CMR] [INFO] ======== Waiting for response ========\n"
     ]
    },
    {
     "name": "stderr",
     "output_type": "stream",
     "text": [
      "2022-08-23 23:02:28,165 [MainProcess:maap.utils.CMR] [INFO] ======== Waiting for response ========\n"
     ]
    },
    {
     "name": "stderr",
     "output_type": "stream",
     "text": [
      "2022-08-23 23:03:13,093 [MainProcess:gedi_subset] [INFO] Subsetting on 32 processes (chunksize=10)\n"
     ]
    },
    {
     "name": "stderr",
     "output_type": "stream",
     "text": [
      "2022-08-23 23:03:13,256 [ForkPoolWorker-1:gedi_subset.maapx] [DEBUG] Downloading granule GEDI_L4A_AGB_Density_V2_1.GEDI04_A_2019108045816_O01962_01_T01066_02_002_02_V002.h5 to directory /jqeieG/output\n"
     ]
    },
    {
     "name": "stderr",
     "output_type": "stream",
     "text": [
      "2022-08-23 23:03:13,258 [ForkPoolWorker-1:gedi_subset.maapx] [DEBUG] Obtaining S3 credentials from https://data.ornldaac.earthdata.nasa.gov/s3credentials\n"
     ]
    },
    {
     "name": "stderr",
     "output_type": "stream",
     "text": [
      "2022-08-23 23:03:13,267 [ForkPoolWorker-2:gedi_subset.maapx] [DEBUG] Downloading granule GEDI_L4A_AGB_Density_V2_1.GEDI04_A_2019118120814_O02122_03_T01471_02_002_02_V002.h5 to directory /jqeieG/output\n"
     ]
    },
    {
     "name": "stderr",
     "output_type": "stream",
     "text": [
      "2022-08-23 23:03:13,269 [ForkPoolWorker-2:gedi_subset.maapx] [DEBUG] Obtaining S3 credentials from https://data.ornldaac.earthdata.nasa.gov/s3credentials\n"
     ]
    },
    {
     "name": "stderr",
     "output_type": "stream",
     "text": [
      "2022-08-23 23:03:13,272 [ForkPoolWorker-3:gedi_subset.maapx] [DEBUG] Downloading granule GEDI_L4A_AGB_Density_V2_1.GEDI04_A_2019128205030_O02283_02_T03147_02_002_02_V002.h5 to directory /jqeieG/output\n"
     ]
    },
    {
     "name": "stderr",
     "output_type": "stream",
     "text": [
      "2022-08-23 23:03:13,274 [ForkPoolWorker-3:gedi_subset.maapx] [DEBUG] Obtaining S3 credentials from https://data.ornldaac.earthdata.nasa.gov/s3credentials\n"
     ]
    },
    {
     "name": "stderr",
     "output_type": "stream",
     "text": [
      "2022-08-23 23:03:13,275 [ForkPoolWorker-4:gedi_subset.maapx] [DEBUG] Downloading granule GEDI_L4A_AGB_Density_V2_1.GEDI04_A_2019142152425_O02497_02_T05687_02_002_02_V002.h5 to directory /jqeieG/output\n"
     ]
    },
    {
     "name": "stderr",
     "output_type": "stream",
     "text": [
      "2022-08-23 23:03:13,277 [ForkPoolWorker-4:gedi_subset.maapx] [DEBUG] Obtaining S3 credentials from https://data.ornldaac.earthdata.nasa.gov/s3credentials\n"
     ]
    },
    {
     "name": "stderr",
     "output_type": "stream",
     "text": [
      "2022-08-23 23:03:13,279 [ForkPoolWorker-5:gedi_subset.maapx] [DEBUG] Downloading granule GEDI_L4A_AGB_Density_V2_1.GEDI04_A_2019153110846_O02665_01_T03958_02_002_02_V002.h5 to directory /jqeieG/output\n"
     ]
    },
    {
     "name": "stderr",
     "output_type": "stream",
     "text": [
      "2022-08-23 23:03:13,281 [ForkPoolWorker-5:gedi_subset.maapx] [DEBUG] Obtaining S3 credentials from https://data.ornldaac.earthdata.nasa.gov/s3credentials\n"
     ]
    },
    {
     "name": "stderr",
     "output_type": "stream",
     "text": [
      "2022-08-23 23:03:13,299 [ForkPoolWorker-7:gedi_subset.maapx] [DEBUG] Downloading granule GEDI_L4A_AGB_Density_V2_1.GEDI04_A_2019175132859_O03008_04_T00048_02_002_02_V002.h5 to directory /jqeieG/output\n"
     ]
    },
    {
     "name": "stderr",
     "output_type": "stream",
     "text": [
      "2022-08-23 23:03:13,299 [ForkPoolWorker-6:gedi_subset.maapx] [DEBUG] Downloading granule GEDI_L4A_AGB_Density_V2_1.GEDI04_A_2019164065420_O02833_02_T03499_02_002_02_V002.h5 to directory /jqeieG/output\n"
     ]
    },
    {
     "name": "stderr",
     "output_type": "stream",
     "text": [
      "2022-08-23 23:03:13,300 [ForkPoolWorker-7:gedi_subset.maapx] [DEBUG] Obtaining S3 credentials from https://data.ornldaac.earthdata.nasa.gov/s3credentials\n"
     ]
    },
    {
     "name": "stderr",
     "output_type": "stream",
     "text": [
      "2022-08-23 23:03:13,300 [ForkPoolWorker-6:gedi_subset.maapx] [DEBUG] Obtaining S3 credentials from https://data.ornldaac.earthdata.nasa.gov/s3credentials\n"
     ]
    },
    {
     "name": "stderr",
     "output_type": "stream",
     "text": [
      "2022-08-23 23:03:13,315 [ForkPoolWorker-8:gedi_subset.maapx] [DEBUG] Downloading granule GEDI_L4A_AGB_Density_V2_1.GEDI04_A_2019189204453_O03230_01_T00806_02_002_02_V002.h5 to directory /jqeieG/output\n"
     ]
    },
    {
     "name": "stderr",
     "output_type": "stream",
     "text": [
      "2022-08-23 23:03:13,315 [ForkPoolWorker-9:gedi_subset.maapx] [DEBUG] Downloading granule GEDI_L4A_AGB_Density_V2_1.GEDI04_A_2019197172428_O03352_01_T04218_02_002_02_V002.h5 to directory /jqeieG/output\n"
     ]
    },
    {
     "name": "stderr",
     "output_type": "stream",
     "text": [
      "2022-08-23 23:03:13,316 [ForkPoolWorker-8:gedi_subset.maapx] [DEBUG] Obtaining S3 credentials from https://data.ornldaac.earthdata.nasa.gov/s3credentials\n"
     ]
    },
    {
     "name": "stderr",
     "output_type": "stream",
     "text": [
      "2022-08-23 23:03:13,316 [ForkPoolWorker-9:gedi_subset.maapx] [DEBUG] Obtaining S3 credentials from https://data.ornldaac.earthdata.nasa.gov/s3credentials\n"
     ]
    },
    {
     "name": "stderr",
     "output_type": "stream",
     "text": [
      "2022-08-23 23:03:13,317 [ForkPoolWorker-10:gedi_subset.maapx] [DEBUG] Downloading granule GEDI_L4A_AGB_Density_V2_1.GEDI04_A_2019215103928_O03627_02_T00347_02_002_02_V002.h5 to directory /jqeieG/output\n"
     ]
    },
    {
     "name": "stderr",
     "output_type": "stream",
     "text": [
      "2022-08-23 23:03:13,318 [ForkPoolWorker-10:gedi_subset.maapx] [DEBUG] Obtaining S3 credentials from https://data.ornldaac.earthdata.nasa.gov/s3credentials\n"
     ]
    },
    {
     "name": "stderr",
     "output_type": "stream",
     "text": [
      "2022-08-23 23:03:13,325 [ForkPoolWorker-11:gedi_subset.maapx] [DEBUG] Downloading granule GEDI_L4A_AGB_Density_V2_1.GEDI04_A_2019223071836_O03749_01_T05335_02_002_02_V002.h5 to directory /jqeieG/output\n"
     ]
    },
    {
     "name": "stderr",
     "output_type": "stream",
     "text": [
      "2022-08-23 23:03:13,326 [ForkPoolWorker-11:gedi_subset.maapx] [DEBUG] Obtaining S3 credentials from https://data.ornldaac.earthdata.nasa.gov/s3credentials\n"
     ]
    },
    {
     "name": "stderr",
     "output_type": "stream",
     "text": [
      "2022-08-23 23:03:13,334 [ForkPoolWorker-12:gedi_subset.maapx] [DEBUG] Downloading granule GEDI_L4A_AGB_Density_V2_1.GEDI04_A_2019241113102_O04031_04_T04210_02_002_02_V002.h5 to directory /jqeieG/output\n"
     ]
    },
    {
     "name": "stderr",
     "output_type": "stream",
     "text": [
      "2022-08-23 23:03:13,335 [ForkPoolWorker-12:gedi_subset.maapx] [DEBUG] Obtaining S3 credentials from https://data.ornldaac.earthdata.nasa.gov/s3credentials\n"
     ]
    },
    {
     "name": "stderr",
     "output_type": "stream",
     "text": [
      "2022-08-23 23:03:13,337 [ForkPoolWorker-13:gedi_subset.maapx] [DEBUG] Downloading granule GEDI_L4A_AGB_Density_V2_1.GEDI04_A_2019252194644_O04207_02_T00959_02_002_02_V002.h5 to directory /jqeieG/output\n"
     ]
    },
    {
     "name": "stderr",
     "output_type": "stream",
     "text": [
      "2022-08-23 23:03:13,338 [ForkPoolWorker-13:gedi_subset.maapx] [DEBUG] Obtaining S3 credentials from https://data.ornldaac.earthdata.nasa.gov/s3credentials\n"
     ]
    },
    {
     "name": "stderr",
     "output_type": "stream",
     "text": [
      "2022-08-23 23:03:13,351 [ForkPoolWorker-15:gedi_subset.maapx] [DEBUG] Downloading granule GEDI_L4A_AGB_Density_V2_1.GEDI04_A_2019279091318_O04619_01_T04111_02_002_02_V002.h5 to directory /jqeieG/output\n"
     ]
    },
    {
     "name": "stderr",
     "output_type": "stream",
     "text": [
      "2022-08-23 23:03:13,352 [ForkPoolWorker-15:gedi_subset.maapx] [DEBUG] Obtaining S3 credentials from https://data.ornldaac.earthdata.nasa.gov/s3credentials\n"
     ]
    },
    {
     "name": "stderr",
     "output_type": "stream",
     "text": [
      "2022-08-23 23:03:13,353 [ForkPoolWorker-14:gedi_subset.maapx] [DEBUG] Downloading granule GEDI_L4A_AGB_Density_V2_1.GEDI04_A_2019260163110_O04329_02_T05182_02_002_02_V002.h5 to directory /jqeieG/output\n"
     ]
    },
    {
     "name": "stderr",
     "output_type": "stream",
     "text": [
      "2022-08-23 23:03:13,355 [ForkPoolWorker-14:gedi_subset.maapx] [DEBUG] Obtaining S3 credentials from https://data.ornldaac.earthdata.nasa.gov/s3credentials\n"
     ]
    },
    {
     "name": "stderr",
     "output_type": "stream",
     "text": [
      "2022-08-23 23:03:13,359 [ForkPoolWorker-16:gedi_subset.maapx] [DEBUG] Downloading granule GEDI_L4A_AGB_Density_V2_1.GEDI04_A_2019287055835_O04741_01_T02489_02_002_02_V002.h5 to directory /jqeieG/output\n"
     ]
    },
    {
     "name": "stderr",
     "output_type": "stream",
     "text": [
      "2022-08-23 23:03:13,360 [ForkPoolWorker-16:gedi_subset.maapx] [DEBUG] Obtaining S3 credentials from https://data.ornldaac.earthdata.nasa.gov/s3credentials\n"
     ]
    },
    {
     "name": "stderr",
     "output_type": "stream",
     "text": [
      "2022-08-23 23:03:13,363 [ForkPoolWorker-17:gedi_subset.maapx] [DEBUG] Downloading granule GEDI_L4A_AGB_Density_V2_1.GEDI04_A_2019298015357_O04909_02_T03346_02_002_02_V002.h5 to directory /jqeieG/output\n"
     ]
    },
    {
     "name": "stderr",
     "output_type": "stream",
     "text": [
      "2022-08-23 23:03:13,364 [ForkPoolWorker-17:gedi_subset.maapx] [DEBUG] Obtaining S3 credentials from https://data.ornldaac.earthdata.nasa.gov/s3credentials\n"
     ]
    },
    {
     "name": "stderr",
     "output_type": "stream",
     "text": [
      "2022-08-23 23:03:13,371 [ForkPoolWorker-18:gedi_subset.maapx] [DEBUG] Downloading granule GEDI_L4A_AGB_Density_V2_1.GEDI04_A_2019306092848_O05038_03_T02848_02_002_02_V002.h5 to directory /jqeieG/output\n"
     ]
    },
    {
     "name": "stderr",
     "output_type": "stream",
     "text": [
      "2022-08-23 23:03:13,373 [ForkPoolWorker-18:gedi_subset.maapx] [DEBUG] Obtaining S3 credentials from https://data.ornldaac.earthdata.nasa.gov/s3credentials\n"
     ]
    },
    {
     "name": "stderr",
     "output_type": "stream",
     "text": [
      "2022-08-23 23:03:13,377 [ForkPoolWorker-19:gedi_subset.maapx] [DEBUG] Downloading granule GEDI_L4A_AGB_Density_V2_1.GEDI04_A_2019317052458_O05206_04_T03705_02_002_02_V002.h5 to directory /jqeieG/output\n"
     ]
    },
    {
     "name": "stderr",
     "output_type": "stream",
     "text": [
      "2022-08-23 23:03:13,378 [ForkPoolWorker-19:gedi_subset.maapx] [DEBUG] Obtaining S3 credentials from https://data.ornldaac.earthdata.nasa.gov/s3credentials\n"
     ]
    },
    {
     "name": "stderr",
     "output_type": "stream",
     "text": [
      "2022-08-23 23:03:13,385 [ForkPoolWorker-20:gedi_subset.maapx] [DEBUG] Downloading granule GEDI_L4A_AGB_Density_V2_1.GEDI04_A_2019328134500_O05382_01_T05534_02_002_02_V002.h5 to directory /jqeieG/output\n"
     ]
    },
    {
     "name": "stderr",
     "output_type": "stream",
     "text": [
      "2022-08-23 23:03:13,386 [ForkPoolWorker-20:gedi_subset.maapx] [DEBUG] Obtaining S3 credentials from https://data.ornldaac.earthdata.nasa.gov/s3credentials\n"
     ]
    },
    {
     "name": "stderr",
     "output_type": "stream",
     "text": [
      "2022-08-23 23:03:13,395 [ForkPoolWorker-21:gedi_subset.maapx] [DEBUG] Downloading granule GEDI_L4A_AGB_Density_V2_1.GEDI04_A_2019347062743_O05672_01_T01770_02_002_02_V002.h5 to directory /jqeieG/output\n"
     ]
    },
    {
     "name": "stderr",
     "output_type": "stream",
     "text": [
      "2022-08-23 23:03:13,396 [ForkPoolWorker-21:gedi_subset.maapx] [DEBUG] Obtaining S3 credentials from https://data.ornldaac.earthdata.nasa.gov/s3credentials\n"
     ]
    },
    {
     "name": "stderr",
     "output_type": "stream",
     "text": [
      "2022-08-23 23:03:13,405 [ForkPoolWorker-23:gedi_subset.maapx] [DEBUG] Downloading granule GEDI_L4A_AGB_Density_V2_1.GEDI04_A_2020021020726_O06274_03_T05434_02_002_02_V002.h5 to directory /jqeieG/output\n"
     ]
    },
    {
     "name": "stderr",
     "output_type": "stream",
     "text": [
      "2022-08-23 23:03:13,406 [ForkPoolWorker-22:gedi_subset.maapx] [DEBUG] Downloading granule GEDI_L4A_AGB_Density_V2_1.GEDI04_A_2020009065234_O06091_04_T04669_02_002_02_V002.h5 to directory /jqeieG/output\n"
     ]
    },
    {
     "name": "stderr",
     "output_type": "stream",
     "text": [
      "2022-08-23 23:03:13,406 [ForkPoolWorker-23:gedi_subset.maapx] [DEBUG] Obtaining S3 credentials from https://data.ornldaac.earthdata.nasa.gov/s3credentials\n"
     ]
    },
    {
     "name": "stderr",
     "output_type": "stream",
     "text": [
      "2022-08-23 23:03:13,407 [ForkPoolWorker-22:gedi_subset.maapx] [DEBUG] Obtaining S3 credentials from https://data.ornldaac.earthdata.nasa.gov/s3credentials\n"
     ]
    },
    {
     "name": "stderr",
     "output_type": "stream",
     "text": [
      "2022-08-23 23:03:13,416 [ForkPoolWorker-24:gedi_subset.maapx] [DEBUG] Downloading granule GEDI_L4A_AGB_Density_V2_1.GEDI04_A_2020032212609_O06457_03_T01318_02_002_02_V002.h5 to directory /jqeieG/output\n"
     ]
    },
    {
     "name": "stderr",
     "output_type": "stream",
     "text": [
      "2022-08-23 23:03:13,419 [ForkPoolWorker-24:gedi_subset.maapx] [DEBUG] Obtaining S3 credentials from https://data.ornldaac.earthdata.nasa.gov/s3credentials\n"
     ]
    },
    {
     "name": "stderr",
     "output_type": "stream",
     "text": [
      "2022-08-23 23:03:13,423 [ForkPoolWorker-25:gedi_subset.maapx] [DEBUG] Downloading granule GEDI_L4A_AGB_Density_V2_1.GEDI04_A_2020044055521_O06633_01_T04616_02_002_02_V002.h5 to directory /jqeieG/output\n"
     ]
    },
    {
     "name": "stderr",
     "output_type": "stream",
     "text": [
      "2022-08-23 23:03:13,423 [ForkPoolWorker-26:gedi_subset.maapx] [DEBUG] Downloading granule GEDI_L4A_AGB_Density_V2_1.GEDI04_A_2020052133823_O06762_03_T04470_02_002_02_V002.h5 to directory /jqeieG/output\n"
     ]
    },
    {
     "name": "stderr",
     "output_type": "stream",
     "text": [
      "2022-08-23 23:03:13,425 [ForkPoolWorker-25:gedi_subset.maapx] [DEBUG] Obtaining S3 credentials from https://data.ornldaac.earthdata.nasa.gov/s3credentials\n"
     ]
    },
    {
     "name": "stderr",
     "output_type": "stream",
     "text": [
      "2022-08-23 23:03:13,425 [ForkPoolWorker-26:gedi_subset.maapx] [DEBUG] Obtaining S3 credentials from https://data.ornldaac.earthdata.nasa.gov/s3credentials\n"
     ]
    },
    {
     "name": "stderr",
     "output_type": "stream",
     "text": [
      "2022-08-23 23:03:13,430 [ForkPoolWorker-27:gedi_subset.maapx] [DEBUG] Downloading granule GEDI_L4A_AGB_Density_V2_1.GEDI04_A_2020060103059_O06884_03_T02894_02_002_02_V002.h5 to directory /jqeieG/output\n"
     ]
    },
    {
     "name": "stderr",
     "output_type": "stream",
     "text": [
      "2022-08-23 23:03:13,431 [ForkPoolWorker-27:gedi_subset.maapx] [DEBUG] Obtaining S3 credentials from https://data.ornldaac.earthdata.nasa.gov/s3credentials\n"
     ]
    },
    {
     "name": "stderr",
     "output_type": "stream",
     "text": [
      "2022-08-23 23:03:13,435 [ForkPoolWorker-28:gedi_subset.maapx] [DEBUG] Downloading granule GEDI_L4A_AGB_Density_V2_1.GEDI04_A_2020068194632_O07014_01_T05595_02_002_02_V002.h5 to directory /jqeieG/output\n"
     ]
    },
    {
     "name": "stderr",
     "output_type": "stream",
     "text": [
      "2022-08-23 23:03:13,437 [ForkPoolWorker-28:gedi_subset.maapx] [DEBUG] Obtaining S3 credentials from https://data.ornldaac.earthdata.nasa.gov/s3credentials\n"
     ]
    },
    {
     "name": "stderr",
     "output_type": "stream",
     "text": [
      "2022-08-23 23:03:13,446 [ForkPoolWorker-29:gedi_subset.maapx] [DEBUG] Downloading granule GEDI_L4A_AGB_Density_V2_1.GEDI04_A_2020076163849_O07136_01_T01479_02_002_02_V002.h5 to directory /jqeieG/output\n"
     ]
    },
    {
     "name": "stderr",
     "output_type": "stream",
     "text": [
      "2022-08-23 23:03:13,447 [ForkPoolWorker-30:gedi_subset.maapx] [DEBUG] Downloading granule GEDI_L4A_AGB_Density_V2_1.GEDI04_A_2020084133233_O07258_01_T01326_02_002_02_V002.h5 to directory /jqeieG/output\n"
     ]
    },
    {
     "name": "stderr",
     "output_type": "stream",
     "text": [
      "2022-08-23 23:03:13,448 [ForkPoolWorker-29:gedi_subset.maapx] [DEBUG] Obtaining S3 credentials from https://data.ornldaac.earthdata.nasa.gov/s3credentials\n"
     ]
    },
    {
     "name": "stderr",
     "output_type": "stream",
     "text": [
      "2022-08-23 23:03:13,449 [ForkPoolWorker-30:gedi_subset.maapx] [DEBUG] Obtaining S3 credentials from https://data.ornldaac.earthdata.nasa.gov/s3credentials\n"
     ]
    },
    {
     "name": "stderr",
     "output_type": "stream",
     "text": [
      "2022-08-23 23:03:13,455 [ForkPoolWorker-31:gedi_subset.maapx] [DEBUG] Downloading granule GEDI_L4A_AGB_Density_V2_1.GEDI04_A_2020095094113_O07426_02_T01923_02_002_02_V002.h5 to directory /jqeieG/output\n"
     ]
    },
    {
     "name": "stderr",
     "output_type": "stream",
     "text": [
      "2022-08-23 23:03:13,456 [ForkPoolWorker-31:gedi_subset.maapx] [DEBUG] Obtaining S3 credentials from https://data.ornldaac.earthdata.nasa.gov/s3credentials\n"
     ]
    },
    {
     "name": "stderr",
     "output_type": "stream",
     "text": [
      "2022-08-23 23:03:13,460 [ForkPoolWorker-32:gedi_subset.maapx] [DEBUG] Downloading granule GEDI_L4A_AGB_Density_V2_1.GEDI04_A_2020107155609_O07616_03_T03399_02_002_02_V002.h5 to directory /jqeieG/output\n"
     ]
    },
    {
     "name": "stderr",
     "output_type": "stream",
     "text": [
      "2022-08-23 23:03:13,461 [ForkPoolWorker-32:gedi_subset.maapx] [DEBUG] Obtaining S3 credentials from https://data.ornldaac.earthdata.nasa.gov/s3credentials\n"
     ]
    },
    {
     "name": "stderr",
     "output_type": "stream",
     "text": [
      "2022-08-23 23:03:20,840 [ForkPoolWorker-3:gedi_subset.maapx] [DEBUG] Setting up default boto3 session with new credentials\n"
     ]
    },
    {
     "name": "stderr",
     "output_type": "stream",
     "text": [
      "2022-08-23 23:03:20,917 [ForkPoolWorker-5:gedi_subset.maapx] [DEBUG] Setting up default boto3 session with new credentials\n"
     ]
    },
    {
     "name": "stderr",
     "output_type": "stream",
     "text": [
      "2022-08-23 23:03:20,966 [ForkPoolWorker-7:gedi_subset.maapx] [DEBUG] Setting up default boto3 session with new credentials\n"
     ]
    },
    {
     "name": "stderr",
     "output_type": "stream",
     "text": [
      "2022-08-23 23:03:20,987 [ForkPoolWorker-4:gedi_subset.maapx] [DEBUG] Setting up default boto3 session with new credentials\n"
     ]
    },
    {
     "name": "stderr",
     "output_type": "stream",
     "text": [
      "2022-08-23 23:03:21,365 [ForkPoolWorker-6:gedi_subset.maapx] [DEBUG] Setting up default boto3 session with new credentials\n"
     ]
    },
    {
     "name": "stderr",
     "output_type": "stream",
     "text": [
      "2022-08-23 23:03:21,435 [ForkPoolWorker-13:gedi_subset.maapx] [DEBUG] Setting up default boto3 session with new credentials\n"
     ]
    },
    {
     "name": "stderr",
     "output_type": "stream",
     "text": [
      "2022-08-23 23:03:21,448 [ForkPoolWorker-10:gedi_subset.maapx] [DEBUG] Setting up default boto3 session with new credentials\n"
     ]
    },
    {
     "name": "stderr",
     "output_type": "stream",
     "text": [
      "2022-08-23 23:03:21,538 [ForkPoolWorker-8:gedi_subset.maapx] [DEBUG] Setting up default boto3 session with new credentials\n"
     ]
    },
    {
     "name": "stderr",
     "output_type": "stream",
     "text": [
      "2022-08-23 23:03:21,991 [ForkPoolWorker-9:gedi_subset.maapx] [DEBUG] Setting up default boto3 session with new credentials\n"
     ]
    },
    {
     "name": "stderr",
     "output_type": "stream",
     "text": [
      "2022-08-23 23:03:22,542 [ForkPoolWorker-2:gedi_subset.maapx] [DEBUG] Setting up default boto3 session with new credentials\n"
     ]
    },
    {
     "name": "stderr",
     "output_type": "stream",
     "text": [
      "2022-08-23 23:03:22,608 [ForkPoolWorker-11:gedi_subset.maapx] [DEBUG] Setting up default boto3 session with new credentials\n"
     ]
    },
    {
     "name": "stderr",
     "output_type": "stream",
     "text": [
      "2022-08-23 23:03:22,631 [ForkPoolWorker-5:gedi_subset.maapx] [DEBUG] Downloading granule GEDI_L4A_AGB_Density_V2_1.GEDI04_A_2019153110846_O02665_02_T03958_02_002_02_V002.h5 to directory /jqeieG/output\n"
     ]
    },
    {
     "name": "stderr",
     "output_type": "stream",
     "text": [
      "2022-08-23 23:03:22,659 [ForkPoolWorker-1:gedi_subset.maapx] [DEBUG] Setting up default boto3 session with new credentials\n"
     ]
    },
    {
     "name": "stderr",
     "output_type": "stream",
     "text": [
      "2022-08-23 23:03:22,673 [ForkPoolWorker-4:gedi_subset.maapx] [DEBUG] Downloading granule GEDI_L4A_AGB_Density_V2_1.GEDI04_A_2019143021311_O02504_03_T01425_02_002_02_V002.h5 to directory /jqeieG/output\n"
     ]
    },
    {
     "name": "stderr",
     "output_type": "stream",
     "text": [
      "2022-08-23 23:03:22,680 [ForkPoolWorker-12:gedi_subset.maapx] [DEBUG] Setting up default boto3 session with new credentials\n"
     ]
    },
    {
     "name": "stderr",
     "output_type": "stream",
     "text": [
      "2022-08-23 23:03:22,733 [ForkPoolWorker-3:gedi_subset.maapx] [DEBUG] Downloading granule GEDI_L4A_AGB_Density_V2_1.GEDI04_A_2019129073917_O02290_03_T01731_02_002_02_V002.h5 to directory /jqeieG/output\n"
     ]
    },
    {
     "name": "stderr",
     "output_type": "stream",
     "text": [
      "2022-08-23 23:03:23,026 [ForkPoolWorker-6:gedi_subset.maapx] [DEBUG] Downloading granule GEDI_L4A_AGB_Density_V2_1.GEDI04_A_2019167165109_O02886_04_T00599_02_002_02_V002.h5 to directory /jqeieG/output\n"
     ]
    },
    {
     "name": "stderr",
     "output_type": "stream",
     "text": [
      "2022-08-23 23:03:23,068 [ForkPoolWorker-7:gedi_subset.maapx] [DEBUG] Downloading granule GEDI_L4A_AGB_Density_V2_1.GEDI04_A_2019178123620_O03054_04_T01716_02_002_02_V002.h5 to directory /jqeieG/output\n"
     ]
    },
    {
     "name": "stderr",
     "output_type": "stream",
     "text": [
      "2022-08-23 23:03:23,179 [ForkPoolWorker-13:gedi_subset.maapx] [DEBUG] Downloading granule GEDI_L4A_AGB_Density_V2_1.GEDI04_A_2019253063627_O04214_03_T03506_02_002_02_V002.h5 to directory /jqeieG/output\n"
     ]
    },
    {
     "name": "stderr",
     "output_type": "stream",
     "text": [
      "2022-08-23 23:03:23,683 [ForkPoolWorker-9:gedi_subset.maapx] [DEBUG] Downloading granule GEDI_L4A_AGB_Density_V2_1.GEDI04_A_2019197172428_O03352_02_T04218_02_002_02_V002.h5 to directory /jqeieG/output\n"
     ]
    },
    {
     "name": "stderr",
     "output_type": "stream",
     "text": [
      "2022-08-23 23:03:24,710 [ForkPoolWorker-14:gedi_subset.maapx] [DEBUG] Setting up default boto3 session with new credentials\n"
     ]
    },
    {
     "name": "stderr",
     "output_type": "stream",
     "text": [
      "2022-08-23 23:03:25,018 [ForkPoolWorker-15:gedi_subset.maapx] [DEBUG] Setting up default boto3 session with new credentials\n"
     ]
    },
    {
     "name": "stderr",
     "output_type": "stream",
     "text": [
      "2022-08-23 23:03:25,054 [ForkPoolWorker-5:gedi_subset.maapx] [DEBUG] Downloading granule GEDI_L4A_AGB_Density_V2_1.GEDI04_A_2019156210541_O02718_03_T01058_02_002_02_V002.h5 to directory /jqeieG/output\n"
     ]
    },
    {
     "name": "stderr",
     "output_type": "stream",
     "text": [
      "2022-08-23 23:03:25,066 [ForkPoolWorker-4:gedi_subset.maapx] [DEBUG] Downloading granule GEDI_L4A_AGB_Density_V2_1.GEDI04_A_2019146011955_O02550_03_T02940_02_002_02_V002.h5 to directory /jqeieG/output\n"
     ]
    },
    {
     "name": "stderr",
     "output_type": "stream",
     "text": [
      "2022-08-23 23:03:25,067 [ForkPoolWorker-11:gedi_subset.maapx] [DEBUG] Downloading granule GEDI_L4A_AGB_Density_V2_1.GEDI04_A_2019223071836_O03749_02_T05335_02_002_02_V002.h5 to directory /jqeieG/output\n"
     ]
    },
    {
     "name": "stderr",
     "output_type": "stream",
     "text": [
      "2022-08-23 23:03:25,081 [ForkPoolWorker-12:gedi_subset.maapx] [DEBUG] Downloading granule GEDI_L4A_AGB_Density_V2_1.GEDI04_A_2019241235335_O04039_01_T03912_02_002_02_V002.h5 to directory /jqeieG/output\n"
     ]
    },
    {
     "name": "stderr",
     "output_type": "stream",
     "text": [
      "2022-08-23 23:03:25,103 [ForkPoolWorker-3:gedi_subset.maapx] [DEBUG] Downloading granule GEDI_L4A_AGB_Density_V2_1.GEDI04_A_2019132064242_O02336_03_T05281_02_002_02_V002.h5 to directory /jqeieG/output\n"
     ]
    },
    {
     "name": "stderr",
     "output_type": "stream",
     "text": [
      "2022-08-23 23:03:25,115 [ForkPoolWorker-2:gedi_subset.maapx] [DEBUG] Downloading granule GEDI_L4A_AGB_Density_V2_1.GEDI04_A_2019118120814_O02122_04_T01471_02_002_02_V002.h5 to directory /jqeieG/output\n"
     ]
    },
    {
     "name": "stderr",
     "output_type": "stream",
     "text": [
      "2022-08-23 23:03:25,156 [ForkPoolWorker-6:gedi_subset.maapx] [DEBUG] Downloading granule GEDI_L4A_AGB_Density_V2_1.GEDI04_A_2019168051318_O02894_01_T01877_02_002_02_V002.h5 to directory /jqeieG/output\n"
     ]
    },
    {
     "name": "stderr",
     "output_type": "stream",
     "text": [
      "2022-08-23 23:03:25,208 [ForkPoolWorker-16:gedi_subset.maapx] [DEBUG] Setting up default boto3 session with new credentials\n"
     ]
    },
    {
     "name": "stderr",
     "output_type": "stream",
     "text": [
      "2022-08-23 23:03:26,027 [ForkPoolWorker-17:gedi_subset.maapx] [DEBUG] Setting up default boto3 session with new credentials\n"
     ]
    },
    {
     "name": "stderr",
     "output_type": "stream",
     "text": [
      "2022-08-23 23:03:27,295 [ForkPoolWorker-5:gedi_subset.maapx] [DEBUG] Downloading granule GEDI_L4A_AGB_Density_V2_1.GEDI04_A_2019156210541_O02718_04_T01058_02_002_02_V002.h5 to directory /jqeieG/output\n"
     ]
    },
    {
     "name": "stderr",
     "output_type": "stream",
     "text": [
      "2022-08-23 23:03:27,309 [ForkPoolWorker-15:gedi_subset.maapx] [DEBUG] Downloading granule GEDI_L4A_AGB_Density_V2_1.GEDI04_A_2019279091318_O04619_02_T04111_02_002_02_V002.h5 to directory /jqeieG/output\n"
     ]
    },
    {
     "name": "stderr",
     "output_type": "stream",
     "text": [
      "2022-08-23 23:03:28,167 [ForkPoolWorker-24:gedi_subset.maapx] [DEBUG] Setting up default boto3 session with new credentials\n"
     ]
    },
    {
     "name": "stderr",
     "output_type": "stream",
     "text": [
      "2022-08-23 23:03:29,887 [ForkPoolWorker-24:gedi_subset.maapx] [DEBUG] Downloading granule GEDI_L4A_AGB_Density_V2_1.GEDI04_A_2020032212609_O06457_04_T01318_02_002_02_V002.h5 to directory /jqeieG/output\n"
     ]
    },
    {
     "name": "stderr",
     "output_type": "stream",
     "text": [
      "2022-08-23 23:03:30,014 [ForkPoolWorker-22:gedi_subset.maapx] [DEBUG] Setting up default boto3 session with new credentials\n"
     ]
    },
    {
     "name": "stderr",
     "output_type": "stream",
     "text": [
      "2022-08-23 23:03:30,242 [ForkPoolWorker-23:gedi_subset.maapx] [DEBUG] Setting up default boto3 session with new credentials\n"
     ]
    },
    {
     "name": "stderr",
     "output_type": "stream",
     "text": [
      "2022-08-23 23:03:30,255 [ForkPoolWorker-21:gedi_subset.maapx] [DEBUG] Setting up default boto3 session with new credentials\n"
     ]
    },
    {
     "name": "stderr",
     "output_type": "stream",
     "text": [
      "2022-08-23 23:03:30,342 [ForkPoolWorker-26:gedi_subset.maapx] [DEBUG] Setting up default boto3 session with new credentials\n"
     ]
    },
    {
     "name": "stderr",
     "output_type": "stream",
     "text": [
      "2022-08-23 23:03:30,480 [ForkPoolWorker-19:gedi_subset.maapx] [DEBUG] Setting up default boto3 session with new credentials\n"
     ]
    },
    {
     "name": "stderr",
     "output_type": "stream",
     "text": [
      "2022-08-23 23:03:30,519 [ForkPoolWorker-20:gedi_subset.maapx] [DEBUG] Setting up default boto3 session with new credentials\n"
     ]
    },
    {
     "name": "stderr",
     "output_type": "stream",
     "text": [
      "2022-08-23 23:03:30,607 [ForkPoolWorker-18:gedi_subset.maapx] [DEBUG] Setting up default boto3 session with new credentials\n"
     ]
    },
    {
     "name": "stderr",
     "output_type": "stream",
     "text": [
      "2022-08-23 23:03:32,010 [ForkPoolWorker-23:gedi_subset.maapx] [DEBUG] Downloading granule GEDI_L4A_AGB_Density_V2_1.GEDI04_A_2020021020726_O06274_04_T05434_02_002_02_V002.h5 to directory /jqeieG/output\n"
     ]
    },
    {
     "name": "stderr",
     "output_type": "stream",
     "text": [
      "2022-08-23 23:03:32,183 [ForkPoolWorker-19:gedi_subset.maapx] [DEBUG] Downloading granule GEDI_L4A_AGB_Density_V2_1.GEDI04_A_2019317174742_O05214_01_T03407_02_002_02_V002.h5 to directory /jqeieG/output\n"
     ]
    },
    {
     "name": "stderr",
     "output_type": "stream",
     "text": [
      "2022-08-23 23:03:32,195 [ForkPoolWorker-26:gedi_subset.maapx] [DEBUG] Downloading granule GEDI_L4A_AGB_Density_V2_1.GEDI04_A_2020052133823_O06762_04_T04470_02_002_02_V002.h5 to directory /jqeieG/output\n"
     ]
    },
    {
     "name": "stderr",
     "output_type": "stream",
     "text": [
      "2022-08-23 23:03:32,354 [ForkPoolWorker-28:gedi_subset.maapx] [DEBUG] Setting up default boto3 session with new credentials\n"
     ]
    },
    {
     "name": "stderr",
     "output_type": "stream",
     "text": [
      "2022-08-23 23:03:32,483 [ForkPoolWorker-29:gedi_subset.maapx] [DEBUG] Setting up default boto3 session with new credentials\n"
     ]
    },
    {
     "name": "stderr",
     "output_type": "stream",
     "text": [
      "2022-08-23 23:03:32,593 [ForkPoolWorker-32:gedi_subset.maapx] [DEBUG] Setting up default boto3 session with new credentials\n"
     ]
    },
    {
     "name": "stderr",
     "output_type": "stream",
     "text": [
      "2022-08-23 23:03:32,608 [ForkPoolWorker-27:gedi_subset.maapx] [DEBUG] Setting up default boto3 session with new credentials\n"
     ]
    },
    {
     "name": "stderr",
     "output_type": "stream",
     "text": [
      "2022-08-23 23:03:32,658 [ForkPoolWorker-31:gedi_subset.maapx] [DEBUG] Setting up default boto3 session with new credentials\n"
     ]
    },
    {
     "name": "stderr",
     "output_type": "stream",
     "text": [
      "2022-08-23 23:03:32,759 [ForkPoolWorker-25:gedi_subset.maapx] [DEBUG] Setting up default boto3 session with new credentials\n"
     ]
    },
    {
     "name": "stderr",
     "output_type": "stream",
     "text": [
      "2022-08-23 23:03:32,782 [ForkPoolWorker-30:gedi_subset.maapx] [DEBUG] Setting up default boto3 session with new credentials\n"
     ]
    },
    {
     "name": "stderr",
     "output_type": "stream",
     "text": [
      "2022-08-23 23:03:33,997 [ForkPoolWorker-28:gedi_subset.maapx] [DEBUG] Downloading granule GEDI_L4A_AGB_Density_V2_1.GEDI04_A_2020071185923_O07060_01_T02076_02_002_02_V002.h5 to directory /jqeieG/output\n"
     ]
    },
    {
     "name": "stderr",
     "output_type": "stream",
     "text": [
      "2022-08-23 23:03:34,124 [ForkPoolWorker-29:gedi_subset.maapx] [DEBUG] Downloading granule GEDI_L4A_AGB_Density_V2_1.GEDI04_A_2020079155136_O07182_01_T03652_02_002_02_V002.h5 to directory /jqeieG/output\n"
     ]
    },
    {
     "name": "stderr",
     "output_type": "stream",
     "text": [
      "2022-08-23 23:03:34,313 [ForkPoolWorker-27:gedi_subset.maapx] [DEBUG] Downloading granule GEDI_L4A_AGB_Density_V2_1.GEDI04_A_2020060103059_O06884_04_T02894_02_002_02_V002.h5 to directory /jqeieG/output\n"
     ]
    },
    {
     "name": "stderr",
     "output_type": "stream",
     "text": [
      "2022-08-23 23:03:34,322 [ForkPoolWorker-32:gedi_subset.maapx] [DEBUG] Downloading granule GEDI_L4A_AGB_Density_V2_1.GEDI04_A_2020107155609_O07616_04_T03399_02_002_02_V002.h5 to directory /jqeieG/output\n"
     ]
    },
    {
     "name": "stderr",
     "output_type": "stream",
     "text": [
      "2022-08-23 23:03:34,326 [ForkPoolWorker-31:gedi_subset.maapx] [DEBUG] Downloading granule GEDI_L4A_AGB_Density_V2_1.GEDI04_A_2020095203140_O07433_03_T04317_02_002_02_V002.h5 to directory /jqeieG/output\n"
     ]
    },
    {
     "name": "stderr",
     "output_type": "stream",
     "text": [
      "2022-08-23 23:03:34,613 [ForkPoolWorker-25:gedi_subset.maapx] [DEBUG] Downloading granule GEDI_L4A_AGB_Density_V2_1.GEDI04_A_2020044055521_O06633_02_T04616_02_002_02_V002.h5 to directory /jqeieG/output\n"
     ]
    },
    {
     "name": "stderr",
     "output_type": "stream",
     "text": [
      "2022-08-23 23:03:34,727 [ForkPoolWorker-30:gedi_subset.maapx] [DEBUG] Downloading granule GEDI_L4A_AGB_Density_V2_1.GEDI04_A_2020087124616_O07304_01_T00500_02_002_02_V002.h5 to directory /jqeieG/output\n"
     ]
    },
    {
     "name": "stderr",
     "output_type": "stream",
     "text": [
      "2022-08-23 23:03:35,457 [ForkPoolWorker-8:gedi_subset.maapx] [DEBUG] Downloading granule GEDI_L4A_AGB_Density_V2_1.GEDI04_A_2019189204453_O03230_02_T00806_02_002_02_V002.h5 to directory /jqeieG/output\n"
     ]
    },
    {
     "name": "stderr",
     "output_type": "stream",
     "text": [
      "2022-08-23 23:03:35,616 [ForkPoolWorker-10:gedi_subset.maapx] [DEBUG] Downloading granule GEDI_L4A_AGB_Density_V2_1.GEDI04_A_2019215212856_O03634_03_T01624_02_002_02_V002.h5 to directory /jqeieG/output\n"
     ]
    },
    {
     "name": "stderr",
     "output_type": "stream",
     "text": [
      "2022-08-23 23:03:35,701 [ForkPoolWorker-28:gedi_subset.maapx] [DEBUG] Downloading granule GEDI_L4A_AGB_Density_V2_1.GEDI04_A_2020071185923_O07060_02_T02076_02_002_02_V002.h5 to directory /jqeieG/output\n"
     ]
    },
    {
     "name": "stderr",
     "output_type": "stream",
     "text": [
      "2022-08-23 23:03:35,969 [ForkPoolWorker-32:gedi_subset.maapx] [DEBUG] Downloading granule GEDI_L4A_AGB_Density_V2_1.GEDI04_A_2020111142331_O07677_03_T00553_02_002_02_V002.h5 to directory /jqeieG/output\n"
     ]
    },
    {
     "name": "stderr",
     "output_type": "stream",
     "text": [
      "2022-08-23 23:03:36,281 [ForkPoolWorker-31:gedi_subset.maapx] [DEBUG] Downloading granule GEDI_L4A_AGB_Density_V2_1.GEDI04_A_2020095203140_O07433_04_T04317_02_002_02_V002.h5 to directory /jqeieG/output\n"
     ]
    },
    {
     "name": "stderr",
     "output_type": "stream",
     "text": [
      "2022-08-23 23:03:36,370 [ForkPoolWorker-30:gedi_subset.maapx] [DEBUG] Downloading granule GEDI_L4A_AGB_Density_V2_1.GEDI04_A_2020087124616_O07304_02_T00500_02_002_02_V002.h5 to directory /jqeieG/output\n"
     ]
    },
    {
     "name": "stderr",
     "output_type": "stream",
     "text": [
      "2022-08-23 23:03:36,395 [ForkPoolWorker-25:gedi_subset.maapx] [DEBUG] Downloading granule GEDI_L4A_AGB_Density_V2_1.GEDI04_A_2020044164536_O06640_03_T01318_02_002_02_V002.h5 to directory /jqeieG/output\n"
     ]
    },
    {
     "name": "stderr",
     "output_type": "stream",
     "text": [
      "2022-08-23 23:03:37,195 [ForkPoolWorker-8:gedi_subset.maapx] [DEBUG] Downloading granule GEDI_L4A_AGB_Density_V2_1.GEDI04_A_2019190073422_O03237_03_T02083_02_002_02_V002.h5 to directory /jqeieG/output\n"
     ]
    },
    {
     "name": "stderr",
     "output_type": "stream",
     "text": [
      "2022-08-23 23:03:37,325 [ForkPoolWorker-10:gedi_subset.maapx] [DEBUG] Downloading granule GEDI_L4A_AGB_Density_V2_1.GEDI04_A_2019215212856_O03634_04_T01624_02_002_02_V002.h5 to directory /jqeieG/output\n"
     ]
    },
    {
     "name": "stderr",
     "output_type": "stream",
     "text": [
      "2022-08-23 23:03:37,615 [ForkPoolWorker-32:gedi_subset.maapx] [DEBUG] Downloading granule GEDI_L4A_AGB_Density_V2_1.GEDI04_A_2020111142331_O07677_04_T00553_02_002_02_V002.h5 to directory /jqeieG/output\n"
     ]
    },
    {
     "name": "stderr",
     "output_type": "stream",
     "text": [
      "2022-08-23 23:03:37,793 [ForkPoolWorker-1:gedi_subset.maapx] [DEBUG] Downloading granule GEDI_L4A_AGB_Density_V2_1.GEDI04_A_2019108045816_O01962_02_T01066_02_002_02_V002.h5 to directory /jqeieG/output\n"
     ]
    },
    {
     "name": "stderr",
     "output_type": "stream",
     "text": [
      "2022-08-23 23:03:38,055 [ForkPoolWorker-25:gedi_subset.maapx] [DEBUG] Downloading granule GEDI_L4A_AGB_Density_V2_1.GEDI04_A_2020044164536_O06640_04_T01318_02_002_02_V002.h5 to directory /jqeieG/output\n"
     ]
    },
    {
     "name": "stderr",
     "output_type": "stream",
     "text": [
      "2022-08-23 23:03:38,105 [ForkPoolWorker-31:gedi_subset.maapx] [DEBUG] Downloading granule GEDI_L4A_AGB_Density_V2_1.GEDI04_A_2020096085502_O07441_01_T05136_02_002_02_V002.h5 to directory /jqeieG/output\n"
     ]
    },
    {
     "name": "stderr",
     "output_type": "stream",
     "text": [
      "2022-08-23 23:03:38,120 [ForkPoolWorker-30:gedi_subset.maapx] [DEBUG] Downloading granule GEDI_L4A_AGB_Density_V2_1.GEDI04_A_2020087233636_O07311_03_T04470_02_002_02_V002.h5 to directory /jqeieG/output\n"
     ]
    },
    {
     "name": "stderr",
     "output_type": "stream",
     "text": [
      "2022-08-23 23:03:38,334 [ForkPoolWorker-7:gedi_subset.maapx] [DEBUG] Downloading granule GEDI_L4A_AGB_Density_V2_1.GEDI04_A_2019179005829_O03062_01_T01418_02_002_02_V002.h5 to directory /jqeieG/output\n"
     ]
    },
    {
     "name": "stderr",
     "output_type": "stream",
     "text": [
      "2022-08-23 23:03:38,884 [ForkPoolWorker-13:gedi_subset.maapx] [DEBUG] Downloading granule GEDI_L4A_AGB_Density_V2_1.GEDI04_A_2019253063627_O04214_04_T03506_02_002_02_V002.h5 to directory /jqeieG/output\n"
     ]
    },
    {
     "name": "stderr",
     "output_type": "stream",
     "text": [
      "2022-08-23 23:03:38,903 [ForkPoolWorker-8:gedi_subset.maapx] [DEBUG] Downloading granule GEDI_L4A_AGB_Density_V2_1.GEDI04_A_2019190073422_O03237_04_T02083_02_002_02_V002.h5 to directory /jqeieG/output\n"
     ]
    },
    {
     "name": "stderr",
     "output_type": "stream",
     "text": [
      "2022-08-23 23:03:39,043 [ForkPoolWorker-10:gedi_subset.maapx] [DEBUG] Downloading granule GEDI_L4A_AGB_Density_V2_1.GEDI04_A_2019216095110_O03642_01_T01326_02_002_02_V002.h5 to directory /jqeieG/output\n"
     ]
    },
    {
     "name": "stderr",
     "output_type": "stream",
     "text": [
      "2022-08-23 23:03:39,540 [ForkPoolWorker-1:gedi_subset.maapx] [DEBUG] Downloading granule GEDI_L4A_AGB_Density_V2_1.GEDI04_A_2019111040155_O02008_01_T04616_02_002_02_V002.h5 to directory /jqeieG/output\n"
     ]
    },
    {
     "name": "stderr",
     "output_type": "stream",
     "text": [
      "2022-08-23 23:03:39,660 [ForkPoolWorker-9:gedi_subset.maapx] [DEBUG] Downloading granule GEDI_L4A_AGB_Density_V2_1.GEDI04_A_2019200163229_O03398_02_T04310_02_002_02_V002.h5 to directory /jqeieG/output\n"
     ]
    },
    {
     "name": "stderr",
     "output_type": "stream",
     "text": [
      "2022-08-23 23:03:39,816 [ForkPoolWorker-25:gedi_subset.maapx] [DEBUG] Downloading granule GEDI_L4A_AGB_Density_V2_1.GEDI04_A_2020048042146_O06694_01_T01770_02_002_02_V002.h5 to directory /jqeieG/output\n"
     ]
    },
    {
     "name": "stderr",
     "output_type": "stream",
     "text": [
      "2022-08-23 23:03:39,873 [ForkPoolWorker-31:gedi_subset.maapx] [DEBUG] Downloading granule GEDI_L4A_AGB_Density_V2_1.GEDI04_A_2020099080924_O07487_02_T02887_02_002_02_V002.h5 to directory /jqeieG/output\n"
     ]
    },
    {
     "name": "stderr",
     "output_type": "stream",
     "text": [
      "2022-08-23 23:03:39,995 [ForkPoolWorker-32:gedi_subset.maapx] [DEBUG] Downloading granule GEDI_L4A_AGB_Density_V2_1.GEDI04_A_2020112024636_O07685_01_T02948_02_002_02_V002.h5 to directory /jqeieG/output\n"
     ]
    },
    {
     "name": "stderr",
     "output_type": "stream",
     "text": [
      "2022-08-23 23:03:40,081 [ForkPoolWorker-7:gedi_subset.maapx] [DEBUG] Downloading granule GEDI_L4A_AGB_Density_V2_1.GEDI04_A_2019179005829_O03062_02_T01418_02_002_02_V002.h5 to directory /jqeieG/output\n"
     ]
    },
    {
     "name": "stderr",
     "output_type": "stream",
     "text": [
      "2022-08-23 23:03:40,101 [ForkPoolWorker-14:gedi_subset.maapx] [DEBUG] Downloading granule GEDI_L4A_AGB_Density_V2_1.GEDI04_A_2019264023129_O04382_03_T00247_02_002_02_V002.h5 to directory /jqeieG/output\n"
     ]
    },
    {
     "name": "stderr",
     "output_type": "stream",
     "text": [
      "2022-08-23 23:03:40,141 [ForkPoolWorker-4:gedi_subset.maapx] [DEBUG] Downloading granule GEDI_L4A_AGB_Density_V2_1.GEDI04_A_2019146011955_O02550_04_T02940_02_002_02_V002.h5 to directory /jqeieG/output\n"
     ]
    },
    {
     "name": "stderr",
     "output_type": "stream",
     "text": [
      "2022-08-23 23:03:40,551 [ForkPoolWorker-13:gedi_subset.maapx] [DEBUG] Downloading granule GEDI_L4A_AGB_Density_V2_1.GEDI04_A_2019256054558_O04260_04_T02022_02_002_02_V002.h5 to directory /jqeieG/output\n"
     ]
    },
    {
     "name": "stderr",
     "output_type": "stream",
     "text": [
      "2022-08-23 23:03:40,713 [ForkPoolWorker-8:gedi_subset.maapx] [DEBUG] Downloading granule GEDI_L4A_AGB_Density_V2_1.GEDI04_A_2019193064225_O03283_04_T03445_02_002_02_V002.h5 to directory /jqeieG/output\n"
     ]
    },
    {
     "name": "stderr",
     "output_type": "stream",
     "text": [
      "2022-08-23 23:03:40,717 [ForkPoolWorker-10:gedi_subset.maapx] [DEBUG] Downloading granule GEDI_L4A_AGB_Density_V2_1.GEDI04_A_2019218203648_O03680_04_T02986_02_002_02_V002.h5 to directory /jqeieG/output\n"
     ]
    },
    {
     "name": "stderr",
     "output_type": "stream",
     "text": [
      "2022-08-23 23:03:40,774 [ForkPoolWorker-11:gedi_subset.maapx] [DEBUG] Downloading granule GEDI_L4A_AGB_Density_V2_1.GEDI04_A_2019226171553_O03802_03_T03705_02_002_02_V002.h5 to directory /jqeieG/output\n"
     ]
    },
    {
     "name": "stderr",
     "output_type": "stream",
     "text": [
      "2022-08-23 23:03:40,777 [ForkPoolWorker-12:gedi_subset.maapx] [DEBUG] Downloading granule GEDI_L4A_AGB_Density_V2_1.GEDI04_A_2019241235335_O04039_02_T03912_02_002_02_V002.h5 to directory /jqeieG/output\n"
     ]
    },
    {
     "name": "stderr",
     "output_type": "stream",
     "text": [
      "2022-08-23 23:03:40,801 [ForkPoolWorker-2:gedi_subset.maapx] [DEBUG] Downloading granule GEDI_L4A_AGB_Density_V2_1.GEDI04_A_2019119002944_O02130_01_T05595_02_002_02_V002.h5 to directory /jqeieG/output\n"
     ]
    },
    {
     "name": "stderr",
     "output_type": "stream",
     "text": [
      "2022-08-23 23:03:41,343 [ForkPoolWorker-1:gedi_subset.maapx] [DEBUG] Downloading granule GEDI_L4A_AGB_Density_V2_1.GEDI04_A_2019111040155_O02008_02_T04616_02_002_02_V002.h5 to directory /jqeieG/output\n"
     ]
    },
    {
     "name": "stderr",
     "output_type": "stream",
     "text": [
      "2022-08-23 23:03:41,346 [ForkPoolWorker-9:gedi_subset.maapx] [DEBUG] Downloading granule GEDI_L4A_AGB_Density_V2_1.GEDI04_A_2019201032158_O03405_03_T05587_02_002_02_V002.h5 to directory /jqeieG/output\n"
     ]
    },
    {
     "name": "stderr",
     "output_type": "stream",
     "text": [
      "2022-08-23 23:03:41,520 [ForkPoolWorker-6:gedi_subset.maapx] [DEBUG] Downloading granule GEDI_L4A_AGB_Density_V2_1.GEDI04_A_2019168051318_O02894_02_T01877_02_002_02_V002.h5 to directory /jqeieG/output\n"
     ]
    },
    {
     "name": "stderr",
     "output_type": "stream",
     "text": [
      "2022-08-23 23:03:41,592 [ForkPoolWorker-17:gedi_subset.maapx] [DEBUG] Downloading granule GEDI_L4A_AGB_Density_V2_1.GEDI04_A_2019298124345_O04916_03_T01777_02_002_02_V002.h5 to directory /jqeieG/output\n"
     ]
    },
    {
     "name": "stderr",
     "output_type": "stream",
     "text": [
      "2022-08-23 23:03:41,652 [ForkPoolWorker-32:gedi_subset.maapx] [DEBUG] Downloading granule GEDI_L4A_AGB_Density_V2_1.GEDI04_A_2020112024636_O07685_02_T02948_02_002_02_V002.h5 to directory /jqeieG/output\n"
     ]
    },
    {
     "name": "stderr",
     "output_type": "stream",
     "text": [
      "2022-08-23 23:03:41,743 [ForkPoolWorker-3:gedi_subset.maapx] [DEBUG] Downloading granule GEDI_L4A_AGB_Density_V2_1.GEDI04_A_2019132064242_O02336_04_T05281_02_002_02_V002.h5 to directory /jqeieG/output\n"
     ]
    },
    {
     "name": "stderr",
     "output_type": "stream",
     "text": [
      "2022-08-23 23:03:41,786 [ForkPoolWorker-7:gedi_subset.maapx] [DEBUG] Downloading granule GEDI_L4A_AGB_Density_V2_1.GEDI04_A_2019179114752_O03069_03_T02695_02_002_02_V002.h5 to directory /jqeieG/output\n"
     ]
    },
    {
     "name": "stderr",
     "output_type": "stream",
     "text": [
      "2022-08-23 23:03:41,888 [ForkPoolWorker-16:gedi_subset.maapx] [DEBUG] Downloading granule GEDI_L4A_AGB_Density_V2_1.GEDI04_A_2019287055835_O04741_02_T02489_02_002_02_V002.h5 to directory /jqeieG/output\n"
     ]
    },
    {
     "name": "stderr",
     "output_type": "stream",
     "text": [
      "2022-08-23 23:03:41,951 [ForkPoolWorker-14:gedi_subset.maapx] [DEBUG] Downloading granule GEDI_L4A_AGB_Density_V2_1.GEDI04_A_2019264023129_O04382_04_T00247_02_002_02_V002.h5 to directory /jqeieG/output\n"
     ]
    },
    {
     "name": "stderr",
     "output_type": "stream",
     "text": [
      "2022-08-23 23:03:42,062 [ForkPoolWorker-4:gedi_subset.maapx] [DEBUG] Downloading granule GEDI_L4A_AGB_Density_V2_1.GEDI04_A_2019146134206_O02558_01_T05641_02_002_02_V002.h5 to directory /jqeieG/output\n"
     ]
    },
    {
     "name": "stderr",
     "output_type": "stream",
     "text": [
      "2022-08-23 23:03:42,171 [ForkPoolWorker-5:gedi_subset.maapx] [DEBUG] Downloading granule GEDI_L4A_AGB_Density_V2_1.GEDI04_A_2019157092752_O02726_01_T02336_02_002_02_V002.h5 to directory /jqeieG/output\n"
     ]
    },
    {
     "name": "stderr",
     "output_type": "stream",
     "text": [
      "2022-08-23 23:03:42,198 [ForkPoolWorker-15:gedi_subset.maapx] [DEBUG] Downloading granule GEDI_L4A_AGB_Density_V2_1.GEDI04_A_2019279200308_O04626_03_T03812_02_002_02_V002.h5 to directory /jqeieG/output\n"
     ]
    },
    {
     "name": "stderr",
     "output_type": "stream",
     "text": [
      "2022-08-23 23:03:42,466 [ForkPoolWorker-10:gedi_subset.maapx] [DEBUG] Downloading granule GEDI_L4A_AGB_Density_V2_1.GEDI04_A_2019219085904_O03688_01_T02841_02_002_02_V002.h5 to directory /jqeieG/output\n"
     ]
    },
    {
     "name": "stderr",
     "output_type": "stream",
     "text": [
      "2022-08-23 23:03:42,498 [ForkPoolWorker-13:gedi_subset.maapx] [DEBUG] Downloading granule GEDI_L4A_AGB_Density_V2_1.GEDI04_A_2019256180829_O04268_01_T04570_02_002_02_V002.h5 to directory /jqeieG/output\n"
     ]
    },
    {
     "name": "stderr",
     "output_type": "stream",
     "text": [
      "2022-08-23 23:03:42,634 [ForkPoolWorker-2:gedi_subset.maapx] [DEBUG] Downloading granule GEDI_L4A_AGB_Density_V2_1.GEDI04_A_2019121111147_O02168_04_T05021_02_002_02_V002.h5 to directory /jqeieG/output\n"
     ]
    },
    {
     "name": "stderr",
     "output_type": "stream",
     "text": [
      "2022-08-23 23:03:43,208 [ForkPoolWorker-8:gedi_subset.maapx] [DEBUG] Downloading granule GEDI_L4A_AGB_Density_V2_1.GEDI04_A_2019193190442_O03291_01_T04723_02_002_02_V002.h5 to directory /jqeieG/output\n"
     ]
    },
    {
     "name": "stderr",
     "output_type": "stream",
     "text": [
      "2022-08-23 23:03:43,219 [ForkPoolWorker-11:gedi_subset.maapx] [DEBUG] Downloading granule GEDI_L4A_AGB_Density_V2_1.GEDI04_A_2019226171553_O03802_04_T03705_02_002_02_V002.h5 to directory /jqeieG/output\n"
     ]
    },
    {
     "name": "stderr",
     "output_type": "stream",
     "text": [
      "2022-08-23 23:03:43,418 [ForkPoolWorker-9:gedi_subset.maapx] [DEBUG] Downloading granule GEDI_L4A_AGB_Density_V2_1.GEDI04_A_2019201032158_O03405_04_T05587_02_002_02_V002.h5 to directory /jqeieG/output\n"
     ]
    },
    {
     "name": "stderr",
     "output_type": "stream",
     "text": [
      "2022-08-23 23:03:43,584 [ForkPoolWorker-1:gedi_subset.maapx] [DEBUG] Downloading granule GEDI_L4A_AGB_Density_V2_1.GEDI04_A_2019111145043_O02015_03_T00201_02_002_02_V002.h5 to directory /jqeieG/output\n"
     ]
    },
    {
     "name": "stderr",
     "output_type": "stream",
     "text": [
      "2022-08-23 23:03:43,595 [ForkPoolWorker-17:gedi_subset.maapx] [DEBUG] Downloading granule GEDI_L4A_AGB_Density_V2_1.GEDI04_A_2019298124345_O04916_04_T01777_02_002_02_V002.h5 to directory /jqeieG/output\n"
     ]
    },
    {
     "name": "stderr",
     "output_type": "stream",
     "text": [
      "2022-08-23 23:03:43,748 [ForkPoolWorker-3:gedi_subset.maapx] [DEBUG] Downloading granule GEDI_L4A_AGB_Density_V2_1.GEDI04_A_2019132190410_O02344_01_T00867_02_002_02_V002.h5 to directory /jqeieG/output\n"
     ]
    },
    {
     "name": "stderr",
     "output_type": "stream",
     "text": [
      "2022-08-23 23:03:44,215 [ForkPoolWorker-7:gedi_subset.maapx] [DEBUG] Downloading granule GEDI_L4A_AGB_Density_V2_1.GEDI04_A_2019182105506_O03115_03_T05633_02_002_02_V002.h5 to directory /jqeieG/output\n"
     ]
    },
    {
     "name": "stderr",
     "output_type": "stream",
     "text": [
      "2022-08-23 23:03:44,596 [ForkPoolWorker-24:gedi_subset.maapx] [DEBUG] Downloading granule GEDI_L4A_AGB_Density_V2_1.GEDI04_A_2020033094918_O06465_01_T00867_02_002_02_V002.h5 to directory /jqeieG/output\n"
     ]
    },
    {
     "name": "stderr",
     "output_type": "stream",
     "text": [
      "2022-08-23 23:03:44,614 [ForkPoolWorker-16:gedi_subset.maapx] [DEBUG] Downloading granule GEDI_L4A_AGB_Density_V2_1.GEDI04_A_2019290155834_O04794_03_T01976_02_002_02_V002.h5 to directory /jqeieG/output\n"
     ]
    },
    {
     "name": "stderr",
     "output_type": "stream",
     "text": [
      "2022-08-23 23:03:44,640 [ForkPoolWorker-14:gedi_subset.maapx] [DEBUG] Downloading granule GEDI_L4A_AGB_Density_V2_1.GEDI04_A_2019268005428_O04443_03_T02435_02_002_02_V002.h5 to directory /jqeieG/output\n"
     ]
    },
    {
     "name": "stderr",
     "output_type": "stream",
     "text": [
      "2022-08-23 23:03:44,641 [ForkPoolWorker-4:gedi_subset.maapx] [DEBUG] Downloading granule GEDI_L4A_AGB_Density_V2_1.GEDI04_A_2019146134206_O02558_02_T05641_02_002_02_V002.h5 to directory /jqeieG/output\n"
     ]
    },
    {
     "name": "stderr",
     "output_type": "stream",
     "text": [
      "2022-08-23 23:03:44,648 [ForkPoolWorker-21:gedi_subset.maapx] [DEBUG] Downloading granule GEDI_L4A_AGB_Density_V2_1.GEDI04_A_2019347062743_O05672_02_T01770_02_002_02_V002.h5 to directory /jqeieG/output\n"
     ]
    },
    {
     "name": "stderr",
     "output_type": "stream",
     "text": [
      "2022-08-23 23:03:44,659 [ForkPoolWorker-22:gedi_subset.maapx] [DEBUG] Downloading granule GEDI_L4A_AGB_Density_V2_1.GEDI04_A_2020009191531_O06099_01_T01525_02_002_02_V002.h5 to directory /jqeieG/output\n"
     ]
    },
    {
     "name": "stderr",
     "output_type": "stream",
     "text": [
      "2022-08-23 23:03:44,675 [ForkPoolWorker-5:gedi_subset.maapx] [DEBUG] Downloading granule GEDI_L4A_AGB_Density_V2_1.GEDI04_A_2019157092752_O02726_02_T02336_02_002_02_V002.h5 to directory /jqeieG/output\n"
     ]
    },
    {
     "name": "stderr",
     "output_type": "stream",
     "text": [
      "2022-08-23 23:03:44,676 [ForkPoolWorker-20:gedi_subset.maapx] [DEBUG] Downloading granule GEDI_L4A_AGB_Density_V2_1.GEDI04_A_2019328134500_O05382_02_T05534_02_002_02_V002.h5 to directory /jqeieG/output\n"
     ]
    },
    {
     "name": "stderr",
     "output_type": "stream",
     "text": [
      "2022-08-23 23:03:44,800 [ForkPoolWorker-18:gedi_subset.maapx] [DEBUG] Downloading granule GEDI_L4A_AGB_Density_V2_1.GEDI04_A_2019309083851_O05084_03_T05480_02_002_02_V002.h5 to directory /jqeieG/output\n"
     ]
    },
    {
     "name": "stderr",
     "output_type": "stream",
     "text": [
      "2022-08-23 23:03:44,998 [ForkPoolWorker-8:gedi_subset.maapx] [DEBUG] Downloading granule GEDI_L4A_AGB_Density_V2_1.GEDI04_A_2019193190442_O03291_02_T04723_02_002_02_V002.h5 to directory /jqeieG/output\n"
     ]
    },
    {
     "name": "stderr",
     "output_type": "stream",
     "text": [
      "2022-08-23 23:03:45,925 [ForkPoolWorker-26:gedi_subset.maapx] [DEBUG] Downloading granule GEDI_L4A_AGB_Density_V2_1.GEDI04_A_2020053020130_O06770_01_T01173_02_002_02_V002.h5 to directory /jqeieG/output\n"
     ]
    },
    {
     "name": "stderr",
     "output_type": "stream",
     "text": [
      "2022-08-23 23:03:45,936 [ForkPoolWorker-23:gedi_subset.maapx] [DEBUG] Downloading granule GEDI_L4A_AGB_Density_V2_1.GEDI04_A_2020021143022_O06282_01_T05136_02_002_02_V002.h5 to directory /jqeieG/output\n"
     ]
    },
    {
     "name": "stderr",
     "output_type": "stream",
     "text": [
      "2022-08-23 23:03:46,446 [ForkPoolWorker-19:gedi_subset.maapx] [DEBUG] Downloading granule GEDI_L4A_AGB_Density_V2_1.GEDI04_A_2019320165826_O05260_02_T01617_02_002_02_V002.h5 to directory /jqeieG/output\n"
     ]
    },
    {
     "name": "stderr",
     "output_type": "stream",
     "text": [
      "2022-08-23 23:03:46,448 [ForkPoolWorker-24:gedi_subset.maapx] [DEBUG] Downloading granule GEDI_L4A_AGB_Density_V2_1.GEDI04_A_2020036195239_O06518_03_T04164_02_002_02_V002.h5 to directory /jqeieG/output\n"
     ]
    },
    {
     "name": "stderr",
     "output_type": "stream",
     "text": [
      "2022-08-23 23:03:46,463 [ForkPoolWorker-14:gedi_subset.maapx] [DEBUG] Downloading granule GEDI_L4A_AGB_Density_V2_1.GEDI04_A_2019268005428_O04443_04_T02435_02_002_02_V002.h5 to directory /jqeieG/output\n"
     ]
    },
    {
     "name": "stderr",
     "output_type": "stream",
     "text": [
      "2022-08-23 23:03:46,509 [ForkPoolWorker-21:gedi_subset.maapx] [DEBUG] Downloading granule GEDI_L4A_AGB_Density_V2_1.GEDI04_A_2019347171733_O05679_03_T04011_02_002_02_V002.h5 to directory /jqeieG/output\n"
     ]
    },
    {
     "name": "stderr",
     "output_type": "stream",
     "text": [
      "2022-08-23 23:03:46,532 [ForkPoolWorker-4:gedi_subset.maapx] [DEBUG] Downloading granule GEDI_L4A_AGB_Density_V2_1.GEDI04_A_2019149124939_O02604_02_T00041_02_002_02_V002.h5 to directory /jqeieG/output\n"
     ]
    },
    {
     "name": "stderr",
     "output_type": "stream",
     "text": [
      "2022-08-23 23:03:46,570 [ForkPoolWorker-5:gedi_subset.maapx] [DEBUG] Downloading granule GEDI_L4A_AGB_Density_V2_1.GEDI04_A_2019160192444_O02779_03_T02282_02_002_02_V002.h5 to directory /jqeieG/output\n"
     ]
    },
    {
     "name": "stderr",
     "output_type": "stream",
     "text": [
      "2022-08-23 23:03:46,644 [ForkPoolWorker-20:gedi_subset.maapx] [DEBUG] Downloading granule GEDI_L4A_AGB_Density_V2_1.GEDI04_A_2019329003452_O05389_03_T02542_02_002_02_V002.h5 to directory /jqeieG/output\n"
     ]
    },
    {
     "name": "stderr",
     "output_type": "stream",
     "text": [
      "2022-08-23 23:03:46,726 [ForkPoolWorker-22:gedi_subset.maapx] [DEBUG] Downloading granule GEDI_L4A_AGB_Density_V2_1.GEDI04_A_2020009191531_O06099_02_T01525_02_002_02_V002.h5 to directory /jqeieG/output\n"
     ]
    },
    {
     "name": "stderr",
     "output_type": "stream",
     "text": [
      "2022-08-23 23:03:46,826 [ForkPoolWorker-18:gedi_subset.maapx] [DEBUG] Downloading granule GEDI_L4A_AGB_Density_V2_1.GEDI04_A_2019309083851_O05084_04_T05480_02_002_02_V002.h5 to directory /jqeieG/output\n"
     ]
    },
    {
     "name": "stderr",
     "output_type": "stream",
     "text": [
      "2022-08-23 23:03:46,864 [ForkPoolWorker-8:gedi_subset.maapx] [DEBUG] Downloading granule GEDI_L4A_AGB_Density_V2_1.GEDI04_A_2019194055411_O03298_03_T00155_02_002_02_V002.h5 to directory /jqeieG/output\n"
     ]
    },
    {
     "name": "stderr",
     "output_type": "stream",
     "text": [
      "2022-08-23 23:03:46,946 [ForkPoolWorker-27:gedi_subset.maapx] [DEBUG] Downloading granule GEDI_L4A_AGB_Density_V2_1.GEDI04_A_2020060225406_O06892_01_T05442_02_002_02_V002.h5 to directory /jqeieG/output\n"
     ]
    },
    {
     "name": "stderr",
     "output_type": "stream",
     "text": [
      "2022-08-23 23:03:47,092 [ForkPoolWorker-29:gedi_subset.maapx] [DEBUG] Downloading granule GEDI_L4A_AGB_Density_V2_1.GEDI04_A_2020079155136_O07182_02_T03652_02_002_02_V002.h5 to directory /jqeieG/output\n"
     ]
    },
    {
     "name": "stderr",
     "output_type": "stream",
     "text": [
      "2022-08-23 23:03:47,368 [ForkPoolWorker-28:gedi_subset.maapx] [DEBUG] Downloading granule GEDI_L4A_AGB_Density_V2_1.GEDI04_A_2020072054936_O07067_03_T01777_02_002_02_V002.h5 to directory /jqeieG/output\n"
     ]
    },
    {
     "name": "stderr",
     "output_type": "stream",
     "text": [
      "2022-08-23 23:03:47,738 [ForkPoolWorker-26:gedi_subset.maapx] [DEBUG] Downloading granule GEDI_L4A_AGB_Density_V2_1.GEDI04_A_2020056011427_O06816_01_T00347_02_002_02_V002.h5 to directory /jqeieG/output\n"
     ]
    },
    {
     "name": "stderr",
     "output_type": "stream",
     "text": [
      "2022-08-23 23:03:48,145 [ForkPoolWorker-19:gedi_subset.maapx] [DEBUG] Downloading granule GEDI_L4A_AGB_Density_V2_1.GEDI04_A_2019321034819_O05267_03_T04164_02_002_02_V002.h5 to directory /jqeieG/output\n"
     ]
    },
    {
     "name": "stderr",
     "output_type": "stream",
     "text": [
      "2022-08-23 23:03:48,149 [ForkPoolWorker-24:gedi_subset.maapx] [DEBUG] Downloading granule GEDI_L4A_AGB_Density_V2_1.GEDI04_A_2020036195239_O06518_04_T04164_02_002_02_V002.h5 to directory /jqeieG/output\n"
     ]
    },
    {
     "name": "stderr",
     "output_type": "stream",
     "text": [
      "2022-08-23 23:03:48,159 [ForkPoolWorker-14:gedi_subset.maapx] [DEBUG] Downloading granule GEDI_L4A_AGB_Density_V2_1.GEDI04_A_2019271231724_O04504_03_T01318_02_002_02_V002.h5 to directory /jqeieG/output\n"
     ]
    },
    {
     "name": "stderr",
     "output_type": "stream",
     "text": [
      "2022-08-23 23:03:48,223 [ForkPoolWorker-5:gedi_subset.maapx] [DEBUG] Downloading granule GEDI_L4A_AGB_Density_V2_1.GEDI04_A_2019160192444_O02779_04_T02282_02_002_02_V002.h5 to directory /jqeieG/output\n"
     ]
    },
    {
     "name": "stderr",
     "output_type": "stream",
     "text": [
      "2022-08-23 23:03:48,223 [ForkPoolWorker-21:gedi_subset.maapx] [DEBUG] Downloading granule GEDI_L4A_AGB_Density_V2_1.GEDI04_A_2019347171733_O05679_04_T04011_02_002_02_V002.h5 to directory /jqeieG/output\n"
     ]
    },
    {
     "name": "stderr",
     "output_type": "stream",
     "text": [
      "2022-08-23 23:03:48,229 [ForkPoolWorker-4:gedi_subset.maapx] [DEBUG] Downloading granule GEDI_L4A_AGB_Density_V2_1.GEDI04_A_2019149233903_O02611_03_T02741_02_002_02_V002.h5 to directory /jqeieG/output\n"
     ]
    },
    {
     "name": "stderr",
     "output_type": "stream",
     "text": [
      "2022-08-23 23:03:48,273 [ForkPoolWorker-20:gedi_subset.maapx] [DEBUG] Downloading granule GEDI_L4A_AGB_Density_V2_1.GEDI04_A_2019329003452_O05389_04_T02542_02_002_02_V002.h5 to directory /jqeieG/output\n"
     ]
    },
    {
     "name": "stderr",
     "output_type": "stream",
     "text": [
      "2022-08-23 23:03:48,338 [ForkPoolWorker-22:gedi_subset.maapx] [DEBUG] Downloading granule GEDI_L4A_AGB_Density_V2_1.GEDI04_A_2020013051735_O06152_03_T02129_02_002_02_V002.h5 to directory /jqeieG/output\n"
     ]
    },
    {
     "name": "stderr",
     "output_type": "stream",
     "text": [
      "2022-08-23 23:03:48,434 [ForkPoolWorker-18:gedi_subset.maapx] [DEBUG] Downloading granule GEDI_L4A_AGB_Density_V2_1.GEDI04_A_2019309210128_O05092_01_T03759_02_002_02_V002.h5 to directory /jqeieG/output\n"
     ]
    },
    {
     "name": "stderr",
     "output_type": "stream",
     "text": [
      "2022-08-23 23:03:48,647 [ForkPoolWorker-27:gedi_subset.maapx] [DEBUG] Downloading granule GEDI_L4A_AGB_Density_V2_1.GEDI04_A_2020063220701_O06938_01_T00500_02_002_02_V002.h5 to directory /jqeieG/output\n"
     ]
    },
    {
     "name": "stderr",
     "output_type": "stream",
     "text": [
      "2022-08-23 23:03:48,741 [ForkPoolWorker-8:gedi_subset.maapx] [DEBUG] Downloading granule GEDI_L4A_AGB_Density_V2_1.GEDI04_A_2019197050212_O03344_03_T01670_02_002_02_V002.h5 to directory /jqeieG/output\n"
     ]
    },
    {
     "name": "stderr",
     "output_type": "stream",
     "text": [
      "2022-08-23 23:03:48,752 [ForkPoolWorker-29:gedi_subset.maapx] [DEBUG] Downloading granule GEDI_L4A_AGB_Density_V2_1.GEDI04_A_2020080024156_O07189_03_T03353_02_002_02_V002.h5 to directory /jqeieG/output\n"
     ]
    },
    {
     "name": "stderr",
     "output_type": "stream",
     "text": [
      "2022-08-23 23:03:49,017 [ForkPoolWorker-28:gedi_subset.maapx] [DEBUG] Downloading granule GEDI_L4A_AGB_Density_V2_1.GEDI04_A_2020072054936_O07067_04_T01777_02_002_02_V002.h5 to directory /jqeieG/output\n"
     ]
    },
    {
     "name": "stderr",
     "output_type": "stream",
     "text": [
      "2022-08-23 23:03:49,387 [ForkPoolWorker-30:gedi_subset.maapx] [DEBUG] Downloading granule GEDI_L4A_AGB_Density_V2_1.GEDI04_A_2020087233636_O07311_04_T04470_02_002_02_V002.h5 to directory /jqeieG/output\n"
     ]
    },
    {
     "name": "stderr",
     "output_type": "stream",
     "text": [
      "2022-08-23 23:03:49,757 [ForkPoolWorker-24:gedi_subset.maapx] [DEBUG] Downloading granule GEDI_L4A_AGB_Density_V2_1.GEDI04_A_2020040072853_O06572_01_T03193_02_002_02_V002.h5 to directory /jqeieG/output\n"
     ]
    },
    {
     "name": "stderr",
     "output_type": "stream",
     "text": [
      "2022-08-23 23:03:49,803 [ForkPoolWorker-14:gedi_subset.maapx] [DEBUG] Downloading granule GEDI_L4A_AGB_Density_V2_1.GEDI04_A_2019271231724_O04504_04_T01318_02_002_02_V002.h5 to directory /jqeieG/output\n"
     ]
    },
    {
     "name": "stderr",
     "output_type": "stream",
     "text": [
      "2022-08-23 23:03:49,896 [ForkPoolWorker-4:gedi_subset.maapx] [DEBUG] Downloading granule GEDI_L4A_AGB_Density_V2_1.GEDI04_A_2019149233903_O02611_04_T02741_02_002_02_V002.h5 to directory /jqeieG/output\n"
     ]
    },
    {
     "name": "stderr",
     "output_type": "stream",
     "text": [
      "2022-08-23 23:03:49,918 [ForkPoolWorker-5:gedi_subset.maapx] [DEBUG] Downloading granule GEDI_L4A_AGB_Density_V2_1.GEDI04_A_2019161074654_O02787_01_T00561_02_002_02_V002.h5 to directory /jqeieG/output\n"
     ]
    },
    {
     "name": "stderr",
     "output_type": "stream",
     "text": [
      "2022-08-23 23:03:49,978 [ForkPoolWorker-22:gedi_subset.maapx] [DEBUG] Downloading granule GEDI_L4A_AGB_Density_V2_1.GEDI04_A_2020013051735_O06152_04_T02129_02_002_02_V002.h5 to directory /jqeieG/output\n"
     ]
    },
    {
     "name": "stderr",
     "output_type": "stream",
     "text": [
      "2022-08-23 23:03:49,985 [ForkPoolWorker-21:gedi_subset.maapx] [DEBUG] Downloading granule GEDI_L4A_AGB_Density_V2_1.GEDI04_A_2019348054014_O05687_01_T03713_02_002_02_V002.h5 to directory /jqeieG/output\n"
     ]
    },
    {
     "name": "stderr",
     "output_type": "stream",
     "text": [
      "2022-08-23 23:03:50,006 [ForkPoolWorker-19:gedi_subset.maapx] [DEBUG] Downloading granule GEDI_L4A_AGB_Density_V2_1.GEDI04_A_2019321034819_O05267_04_T04164_02_002_02_V002.h5 to directory /jqeieG/output\n"
     ]
    },
    {
     "name": "stderr",
     "output_type": "stream",
     "text": [
      "2022-08-23 23:03:50,128 [ForkPoolWorker-18:gedi_subset.maapx] [DEBUG] Downloading granule GEDI_L4A_AGB_Density_V2_1.GEDI04_A_2019309210128_O05092_02_T03759_02_002_02_V002.h5 to directory /jqeieG/output\n"
     ]
    },
    {
     "name": "stderr",
     "output_type": "stream",
     "text": [
      "2022-08-23 23:03:50,168 [ForkPoolWorker-20:gedi_subset.maapx] [DEBUG] Downloading granule GEDI_L4A_AGB_Density_V2_1.GEDI04_A_2019335220835_O05496_03_T03904_02_002_02_V002.h5 to directory /jqeieG/output\n"
     ]
    },
    {
     "name": "stderr",
     "output_type": "stream",
     "text": [
      "2022-08-23 23:03:50,361 [ForkPoolWorker-8:gedi_subset.maapx] [DEBUG] Downloading granule GEDI_L4A_AGB_Density_V2_1.GEDI04_A_2019197050212_O03344_04_T01670_02_002_02_V002.h5 to directory /jqeieG/output\n"
     ]
    },
    {
     "name": "stderr",
     "output_type": "stream",
     "text": [
      "2022-08-23 23:03:50,464 [ForkPoolWorker-27:gedi_subset.maapx] [DEBUG] Downloading granule GEDI_L4A_AGB_Density_V2_1.GEDI04_A_2020063220701_O06938_02_T00500_02_002_02_V002.h5 to directory /jqeieG/output\n"
     ]
    },
    {
     "name": "stderr",
     "output_type": "stream",
     "text": [
      "2022-08-23 23:03:50,522 [ForkPoolWorker-29:gedi_subset.maapx] [DEBUG] Downloading granule GEDI_L4A_AGB_Density_V2_1.GEDI04_A_2020080024156_O07189_04_T03353_02_002_02_V002.h5 to directory /jqeieG/output\n"
     ]
    },
    {
     "name": "stderr",
     "output_type": "stream",
     "text": [
      "2022-08-23 23:03:50,559 [ForkPoolWorker-25:gedi_subset.maapx] [DEBUG] Downloading granule GEDI_L4A_AGB_Density_V2_1.GEDI04_A_2020048042146_O06694_02_T01770_02_002_02_V002.h5 to directory /jqeieG/output\n"
     ]
    },
    {
     "name": "stderr",
     "output_type": "stream",
     "text": [
      "2022-08-23 23:03:50,629 [ForkPoolWorker-28:gedi_subset.maapx] [DEBUG] Downloading granule GEDI_L4A_AGB_Density_V2_1.GEDI04_A_2020072181242_O07075_01_T04325_02_002_02_V002.h5 to directory /jqeieG/output\n"
     ]
    },
    {
     "name": "stderr",
     "output_type": "stream",
     "text": [
      "2022-08-23 23:03:51,235 [ForkPoolWorker-12:gedi_subset.maapx] [DEBUG] Downloading granule GEDI_L4A_AGB_Density_V2_1.GEDI04_A_2019245095256_O04092_03_T04975_02_002_02_V002.h5 to directory /jqeieG/output\n"
     ]
    },
    {
     "name": "stderr",
     "output_type": "stream",
     "text": [
      "2022-08-23 23:03:51,577 [ForkPoolWorker-31:gedi_subset.maapx] [DEBUG] Downloading granule GEDI_L4A_AGB_Density_V2_1.GEDI04_A_2020099185950_O07494_03_T03858_02_002_02_V002.h5 to directory /jqeieG/output\n"
     ]
    },
    {
     "name": "stderr",
     "output_type": "stream",
     "text": [
      "2022-08-23 23:03:51,591 [ForkPoolWorker-24:gedi_subset.maapx] [DEBUG] Downloading granule GEDI_L4A_AGB_Density_V2_1.GEDI04_A_2020040072853_O06572_02_T03193_02_002_02_V002.h5 to directory /jqeieG/output\n"
     ]
    },
    {
     "name": "stderr",
     "output_type": "stream",
     "text": [
      "2022-08-23 23:03:51,606 [ForkPoolWorker-14:gedi_subset.maapx] [DEBUG] Downloading granule GEDI_L4A_AGB_Density_V2_1.GEDI04_A_2019272114005_O04512_01_T02596_02_002_02_V002.h5 to directory /jqeieG/output\n"
     ]
    },
    {
     "name": "stderr",
     "output_type": "stream",
     "text": [
      "2022-08-23 23:03:51,643 [ForkPoolWorker-5:gedi_subset.maapx] [DEBUG] Downloading granule GEDI_L4A_AGB_Density_V2_1.GEDI04_A_2019164065420_O02833_01_T03499_02_002_02_V002.h5 to directory /jqeieG/output\n"
     ]
    },
    {
     "name": "stderr",
     "output_type": "stream",
     "text": [
      "2022-08-23 23:03:51,669 [ForkPoolWorker-21:gedi_subset.maapx] [DEBUG] Downloading granule GEDI_L4A_AGB_Density_V2_1.GEDI04_A_2019351045037_O05733_01_T05075_02_002_02_V002.h5 to directory /jqeieG/output\n"
     ]
    },
    {
     "name": "stderr",
     "output_type": "stream",
     "text": [
      "2022-08-23 23:03:51,675 [ForkPoolWorker-4:gedi_subset.maapx] [DEBUG] Downloading granule GEDI_L4A_AGB_Density_V2_1.GEDI04_A_2019150120114_O02619_01_T01020_02_002_02_V002.h5 to directory /jqeieG/output\n"
     ]
    },
    {
     "name": "stderr",
     "output_type": "stream",
     "text": [
      "2022-08-23 23:03:51,676 [ForkPoolWorker-22:gedi_subset.maapx] [DEBUG] Downloading granule GEDI_L4A_AGB_Density_V2_1.GEDI04_A_2020013174032_O06160_01_T01831_02_002_02_V002.h5 to directory /jqeieG/output\n"
     ]
    },
    {
     "name": "stderr",
     "output_type": "stream",
     "text": [
      "2022-08-23 23:03:51,693 [ForkPoolWorker-18:gedi_subset.maapx] [DEBUG] Downloading granule GEDI_L4A_AGB_Density_V2_1.GEDI04_A_2019313070136_O05145_03_T00400_02_002_02_V002.h5 to directory /jqeieG/output\n"
     ]
    },
    {
     "name": "stderr",
     "output_type": "stream",
     "text": [
      "2022-08-23 23:03:51,763 [ForkPoolWorker-20:gedi_subset.maapx] [DEBUG] Downloading granule GEDI_L4A_AGB_Density_V2_1.GEDI04_A_2019335220835_O05496_04_T03904_02_002_02_V002.h5 to directory /jqeieG/output\n"
     ]
    },
    {
     "name": "stderr",
     "output_type": "stream",
     "text": [
      "2022-08-23 23:03:52,119 [ForkPoolWorker-32:gedi_subset.maapx] [DEBUG] Downloading granule GEDI_L4A_AGB_Density_V2_1.GEDI04_A_2020115124925_O07738_03_T02129_02_002_02_V002.h5 to directory /jqeieG/output\n"
     ]
    },
    {
     "name": "stderr",
     "output_type": "stream",
     "text": [
      "2022-08-23 23:03:52,147 [ForkPoolWorker-8:gedi_subset.maapx] [DEBUG] Downloading granule GEDI_L4A_AGB_Density_V2_1.GEDI04_A_2020119233820_O07807_01_T04677_02_002_02_V002.h5 to directory /jqeieG/output\n"
     ]
    },
    {
     "name": "stderr",
     "output_type": "stream",
     "text": [
      "2022-08-23 23:03:52,147 [ForkPoolWorker-8:gedi_subset.maapx] [DEBUG] Obtaining S3 credentials from https://data.ornldaac.earthdata.nasa.gov/s3credentials\n"
     ]
    },
    {
     "name": "stderr",
     "output_type": "stream",
     "text": [
      "Traceback (most recent call last):\n"
     ]
    },
    {
     "name": "stderr",
     "output_type": "stream",
     "text": [
      "  File \"/home/jovyan/maap-documentation-examples/gedi-subset/src/subset.py\", line 264, in <module>\n"
     ]
    },
    {
     "name": "stderr",
     "output_type": "stream",
     "text": [
      "    typer.run(main)\n"
     ]
    },
    {
     "name": "stderr",
     "output_type": "stream",
     "text": [
      "  File \"/opt/conda/envs/gedi_subset/lib/python3.10/site-packages/typer/main.py\", line 864, in run\n"
     ]
    },
    {
     "name": "stderr",
     "output_type": "stream",
     "text": [
      "    app()\n"
     ]
    },
    {
     "name": "stderr",
     "output_type": "stream",
     "text": [
      "  File \"/opt/conda/envs/gedi_subset/lib/python3.10/site-packages/typer/main.py\", line 214, in __call__\n"
     ]
    },
    {
     "name": "stderr",
     "output_type": "stream",
     "text": [
      "    return get_command(self)(*args, **kwargs)\n"
     ]
    },
    {
     "name": "stderr",
     "output_type": "stream",
     "text": [
      "  File \"/opt/conda/envs/gedi_subset/lib/python3.10/site-packages/click/core.py\", line 1130, in __call__\n"
     ]
    },
    {
     "name": "stderr",
     "output_type": "stream",
     "text": [
      "    return self.main(*args, **kwargs)\n"
     ]
    },
    {
     "name": "stderr",
     "output_type": "stream",
     "text": [
      "  File \"/opt/conda/envs/gedi_subset/lib/python3.10/site-packages/click/core.py\", line 1055, in main\n"
     ]
    },
    {
     "name": "stderr",
     "output_type": "stream",
     "text": [
      "    rv = self.invoke(ctx)\n"
     ]
    },
    {
     "name": "stderr",
     "output_type": "stream",
     "text": [
      "  File \"/opt/conda/envs/gedi_subset/lib/python3.10/site-packages/click/core.py\", line 1404, in invoke\n"
     ]
    },
    {
     "name": "stderr",
     "output_type": "stream",
     "text": [
      "    return ctx.invoke(self.callback, **ctx.params)\n"
     ]
    },
    {
     "name": "stderr",
     "output_type": "stream",
     "text": [
      "  File \"/opt/conda/envs/gedi_subset/lib/python3.10/site-packages/click/core.py\", line 760, in invoke\n"
     ]
    },
    {
     "name": "stderr",
     "output_type": "stream",
     "text": [
      "    return __callback(*args, **kwargs)\n"
     ]
    },
    {
     "name": "stderr",
     "output_type": "stream",
     "text": [
      "  File \"/opt/conda/envs/gedi_subset/lib/python3.10/site-packages/typer/main.py\", line 500, in wrapper\n"
     ]
    },
    {
     "name": "stderr",
     "output_type": "stream",
     "text": [
      "    return callback(**use_params)  # type: ignore\n"
     ]
    },
    {
     "name": "stderr",
     "output_type": "stream",
     "text": [
      "  File \"/home/jovyan/maap-documentation-examples/gedi-subset/src/subset.py\", line 232, in main\n"
     ]
    },
    {
     "name": "stderr",
     "output_type": "stream",
     "text": [
      "    IOResult.do(\n"
     ]
    },
    {
     "name": "stderr",
     "output_type": "stream",
     "text": [
      "  File \"/opt/conda/envs/gedi_subset/lib/python3.10/site-packages/returns/io.py\", line 685, in do\n"
     ]
    },
    {
     "name": "stderr",
     "output_type": "stream",
     "text": [
      "    return IOResult.from_value(next(expr))\n"
     ]
    },
    {
     "name": "stderr",
     "output_type": "stream",
     "text": [
      "  File \"/home/jovyan/maap-documentation-examples/gedi-subset/src/subset.py\", line 242, in <genexpr>\n"
     ]
    },
    {
     "name": "stderr",
     "output_type": "stream",
     "text": [
      "    for subsets in subset_granules(\n"
     ]
    },
    {
     "name": "stderr",
     "output_type": "stream",
     "text": [
      "  File \"/home/jovyan/maap-documentation-examples/gedi-subset/src/subset.py\", line 150, in subset_granules\n"
     ]
    },
    {
     "name": "stderr",
     "output_type": "stream",
     "text": [
      "    return flow(\n"
     ]
    },
    {
     "name": "stderr",
     "output_type": "stream",
     "text": [
      "  File \"/opt/conda/envs/gedi_subset/lib/python3.10/site-packages/returns/_internal/pipeline/flow.py\", line 50, in flow\n"
     ]
    },
    {
     "name": "stderr",
     "output_type": "stream",
     "text": [
      "    return reduce(  # type: ignore\n"
     ]
    },
    {
     "name": "stderr",
     "output_type": "stream",
     "text": [
      "  File \"/opt/conda/envs/gedi_subset/lib/python3.10/site-packages/returns/_internal/pipeline/flow.py\", line 51, in <lambda>\n"
     ]
    },
    {
     "name": "stderr",
     "output_type": "stream",
     "text": [
      "    lambda composed, function: function(composed),  # type: ignore\n"
     ]
    },
    {
     "name": "stderr",
     "output_type": "stream",
     "text": [
      "  File \"/opt/conda/envs/gedi_subset/lib/python3.10/site-packages/returns/iterables.py\", line 157, in collect\n"
     ]
    },
    {
     "name": "stderr",
     "output_type": "stream",
     "text": [
      "    return cls._collect(iterable, acc)\n"
     ]
    },
    {
     "name": "stderr",
     "output_type": "stream",
     "text": [
      "  File \"/opt/conda/envs/gedi_subset/lib/python3.10/site-packages/returns/iterables.py\", line 279, in _collect\n"
     ]
    },
    {
     "name": "stderr",
     "output_type": "stream",
     "text": [
      "    return cls._loop(\n"
     ]
    },
    {
     "name": "stderr",
     "output_type": "stream",
     "text": [
      "  File \"/opt/conda/envs/gedi_subset/lib/python3.10/site-packages/returns/iterables.py\", line 355, in _loop\n"
     ]
    },
    {
     "name": "stderr",
     "output_type": "stream",
     "text": [
      "    for current in iterable:\n"
     ]
    },
    {
     "name": "stderr",
     "output_type": "stream",
     "text": [
      "  File \"/opt/conda/envs/gedi_subset/lib/python3.10/site-packages/returns/pointfree/lash.py\", line 55, in factory\n"
     ]
    },
    {
     "name": "stderr",
     "output_type": "stream",
     "text": [
      "    return container.lash(function)\n"
     ]
    },
    {
     "name": "stderr",
     "output_type": "stream",
     "text": [
      "  File \"/opt/conda/envs/gedi_subset/lib/python3.10/site-packages/returns/io.py\", line 851, in lash\n"
     ]
    },
    {
     "name": "stderr",
     "output_type": "stream",
     "text": [
      "    return function(self._inner_value.failure())\n"
     ]
    },
    {
     "name": "stderr",
     "output_type": "stream",
     "text": [
      "  File \"/opt/conda/envs/gedi_subset/lib/python3.10/site-packages/returns/functions.py\", line 132, in raise_exception\n"
     ]
    },
    {
     "name": "stderr",
     "output_type": "stream",
     "text": [
      "    raise exception\n"
     ]
    },
    {
     "name": "stderr",
     "output_type": "stream",
     "text": [
      "requests.exceptions.HTTPError: 401 Client Error: UNAUTHORIZED for url: https://api.ops.maap-project.org/api/cmr/granules/https%253A%252F%252Fdata.ornldaac.earthdata.nasa.gov%252Fprotected%252Fgedi%252FGEDI_L4A_AGB_Density_V2_1%252Fdata%252FGEDI04_A_2019189204453_O03230_01_T00806_02_002_02_V002.h5/data\n"
     ]
    },
    {
     "name": "stderr",
     "output_type": "stream",
     "text": [
      "ERROR conda.cli.main_run:execute(49): `conda run /home/jovyan/maap-documentation-examples/gedi-subset/src/subset.py --cmr-host cmr.earthdata.nasa.gov --verbose --aoi /var/lib/cwl/stgb9ce7a56-e7fa-40fa-9ada-d707179eccbd/geoBoundaries-GAB-ADM0.geojson --columns agbd, agbd_se, l2_quality_flag, l4_quality_flag, sensitivity, sensitivity_a2, lon_lowestmode, lat_lowestmode --query l2_quality_flag == 1 and l4_quality_flag == 1 and sensitivity > 0.95 and sensitivity_a2 > 0.95 --limit 10000` failed. (See above for error)\n"
     ]
    },
    {
     "ename": "CalledProcessError",
     "evalue": "Command 'b'# write a bash script here\\nexport MAAP_PGT=${5}\\nconda run --no-capture-output -n gedi_subset /home/jovyan/maap-documentation-examples/gedi-subset/src/subset.py \\\\\\n    --cmr-host cmr.earthdata.nasa.gov --verbose --aoi \"${1}\" --columns \"${2}\" --query \"${3}\" --limit ${4}\\n'' returned non-zero exit status 1.",
     "output_type": "error",
     "traceback": [
      "\u001b[0;31m---------------------------------------------------------------------------\u001b[0m",
      "\u001b[0;31mCalledProcessError\u001b[0m                        Traceback (most recent call last)",
      "Input \u001b[0;32mIn [3]\u001b[0m, in \u001b[0;36m<cell line: 1>\u001b[0;34m()\u001b[0m\n\u001b[0;32m----> 1\u001b[0m \u001b[43mget_ipython\u001b[49m\u001b[43m(\u001b[49m\u001b[43m)\u001b[49m\u001b[38;5;241;43m.\u001b[39;49m\u001b[43mrun_cell_magic\u001b[49m\u001b[43m(\u001b[49m\u001b[38;5;124;43m'\u001b[39;49m\u001b[38;5;124;43mbash\u001b[39;49m\u001b[38;5;124;43m'\u001b[39;49m\u001b[43m,\u001b[49m\u001b[43m \u001b[49m\u001b[38;5;124;43m'\u001b[39;49m\u001b[38;5;124;43m-s \u001b[39;49m\u001b[38;5;124;43m\"\u001b[39;49m\u001b[38;5;124;43m$aoi\u001b[39;49m\u001b[38;5;124;43m\"\u001b[39;49m\u001b[38;5;124;43m \u001b[39;49m\u001b[38;5;124;43m\"\u001b[39;49m\u001b[38;5;124;43m$columns\u001b[39;49m\u001b[38;5;124;43m\"\u001b[39;49m\u001b[38;5;124;43m \u001b[39;49m\u001b[38;5;124;43m\"\u001b[39;49m\u001b[38;5;124;43m$query\u001b[39;49m\u001b[38;5;124;43m\"\u001b[39;49m\u001b[38;5;124;43m \u001b[39;49m\u001b[38;5;124;43m\"\u001b[39;49m\u001b[38;5;124;43m$limit\u001b[39;49m\u001b[38;5;124;43m\"\u001b[39;49m\u001b[38;5;124;43m \u001b[39;49m\u001b[38;5;124;43m\"\u001b[39;49m\u001b[38;5;124;43m$maappgt\u001b[39;49m\u001b[38;5;124;43m\"\u001b[39;49m\u001b[38;5;124;43m'\u001b[39;49m\u001b[43m,\u001b[49m\u001b[43m \u001b[49m\u001b[38;5;124;43m'\u001b[39;49m\u001b[38;5;124;43m# write a bash script here\u001b[39;49m\u001b[38;5;130;43;01m\\n\u001b[39;49;00m\u001b[38;5;124;43mexport MAAP_PGT=$\u001b[39;49m\u001b[38;5;132;43;01m{5}\u001b[39;49;00m\u001b[38;5;130;43;01m\\n\u001b[39;49;00m\u001b[38;5;124;43mconda run --no-capture-output -n gedi_subset /home/jovyan/maap-documentation-examples/gedi-subset/src/subset.py \u001b[39;49m\u001b[38;5;130;43;01m\\\\\u001b[39;49;00m\u001b[38;5;130;43;01m\\n\u001b[39;49;00m\u001b[38;5;124;43m    --cmr-host cmr.earthdata.nasa.gov --verbose --aoi \u001b[39;49m\u001b[38;5;124;43m\"\u001b[39;49m\u001b[38;5;124;43m$\u001b[39;49m\u001b[38;5;132;43;01m{1}\u001b[39;49;00m\u001b[38;5;124;43m\"\u001b[39;49m\u001b[38;5;124;43m --columns \u001b[39;49m\u001b[38;5;124;43m\"\u001b[39;49m\u001b[38;5;124;43m$\u001b[39;49m\u001b[38;5;132;43;01m{2}\u001b[39;49;00m\u001b[38;5;124;43m\"\u001b[39;49m\u001b[38;5;124;43m --query \u001b[39;49m\u001b[38;5;124;43m\"\u001b[39;49m\u001b[38;5;124;43m$\u001b[39;49m\u001b[38;5;132;43;01m{3}\u001b[39;49;00m\u001b[38;5;124;43m\"\u001b[39;49m\u001b[38;5;124;43m --limit $\u001b[39;49m\u001b[38;5;132;43;01m{4}\u001b[39;49;00m\u001b[38;5;130;43;01m\\n\u001b[39;49;00m\u001b[38;5;124;43m'\u001b[39;49m\u001b[43m)\u001b[49m\n",
      "File \u001b[0;32m/opt/conda/lib/python3.9/site-packages/IPython/core/interactiveshell.py:2358\u001b[0m, in \u001b[0;36mInteractiveShell.run_cell_magic\u001b[0;34m(self, magic_name, line, cell)\u001b[0m\n\u001b[1;32m   2356\u001b[0m \u001b[38;5;28;01mwith\u001b[39;00m \u001b[38;5;28mself\u001b[39m\u001b[38;5;241m.\u001b[39mbuiltin_trap:\n\u001b[1;32m   2357\u001b[0m     args \u001b[38;5;241m=\u001b[39m (magic_arg_s, cell)\n\u001b[0;32m-> 2358\u001b[0m     result \u001b[38;5;241m=\u001b[39m \u001b[43mfn\u001b[49m\u001b[43m(\u001b[49m\u001b[38;5;241;43m*\u001b[39;49m\u001b[43margs\u001b[49m\u001b[43m,\u001b[49m\u001b[43m \u001b[49m\u001b[38;5;241;43m*\u001b[39;49m\u001b[38;5;241;43m*\u001b[39;49m\u001b[43mkwargs\u001b[49m\u001b[43m)\u001b[49m\n\u001b[1;32m   2359\u001b[0m \u001b[38;5;28;01mreturn\u001b[39;00m result\n",
      "File \u001b[0;32m/opt/conda/lib/python3.9/site-packages/IPython/core/magics/script.py:153\u001b[0m, in \u001b[0;36mScriptMagics._make_script_magic.<locals>.named_script_magic\u001b[0;34m(line, cell)\u001b[0m\n\u001b[1;32m    151\u001b[0m \u001b[38;5;28;01melse\u001b[39;00m:\n\u001b[1;32m    152\u001b[0m     line \u001b[38;5;241m=\u001b[39m script\n\u001b[0;32m--> 153\u001b[0m \u001b[38;5;28;01mreturn\u001b[39;00m \u001b[38;5;28;43mself\u001b[39;49m\u001b[38;5;241;43m.\u001b[39;49m\u001b[43mshebang\u001b[49m\u001b[43m(\u001b[49m\u001b[43mline\u001b[49m\u001b[43m,\u001b[49m\u001b[43m \u001b[49m\u001b[43mcell\u001b[49m\u001b[43m)\u001b[49m\n",
      "File \u001b[0;32m/opt/conda/lib/python3.9/site-packages/IPython/core/magics/script.py:305\u001b[0m, in \u001b[0;36mScriptMagics.shebang\u001b[0;34m(self, line, cell)\u001b[0m\n\u001b[1;32m    300\u001b[0m \u001b[38;5;28;01mif\u001b[39;00m args\u001b[38;5;241m.\u001b[39mraise_error \u001b[38;5;129;01mand\u001b[39;00m p\u001b[38;5;241m.\u001b[39mreturncode \u001b[38;5;241m!=\u001b[39m \u001b[38;5;241m0\u001b[39m:\n\u001b[1;32m    301\u001b[0m     \u001b[38;5;66;03m# If we get here and p.returncode is still None, we must have\u001b[39;00m\n\u001b[1;32m    302\u001b[0m     \u001b[38;5;66;03m# killed it but not yet seen its return code. We don't wait for it,\u001b[39;00m\n\u001b[1;32m    303\u001b[0m     \u001b[38;5;66;03m# in case it's stuck in uninterruptible sleep. -9 = SIGKILL\u001b[39;00m\n\u001b[1;32m    304\u001b[0m     rc \u001b[38;5;241m=\u001b[39m p\u001b[38;5;241m.\u001b[39mreturncode \u001b[38;5;129;01mor\u001b[39;00m \u001b[38;5;241m-\u001b[39m\u001b[38;5;241m9\u001b[39m\n\u001b[0;32m--> 305\u001b[0m     \u001b[38;5;28;01mraise\u001b[39;00m CalledProcessError(rc, cell)\n",
      "\u001b[0;31mCalledProcessError\u001b[0m: Command 'b'# write a bash script here\\nexport MAAP_PGT=${5}\\nconda run --no-capture-output -n gedi_subset /home/jovyan/maap-documentation-examples/gedi-subset/src/subset.py \\\\\\n    --cmr-host cmr.earthdata.nasa.gov --verbose --aoi \"${1}\" --columns \"${2}\" --query \"${3}\" --limit ${4}\\n'' returned non-zero exit status 1."
     ]
    }
   ],
   "source": [
    "%%bash -s \"$aoi\" \"$columns\" \"$query\" \"$limit\" \"$maappgt\"\n",
    "# write a bash script here\n",
    "export MAAP_PGT=${5}\n",
    "conda run --no-capture-output -n gedi_subset /home/jovyan/maap-documentation-examples/gedi-subset/src/subset.py \\\n",
    "    --cmr-host cmr.earthdata.nasa.gov --verbose --aoi \"${1}\" --columns \"${2}\" --query \"${3}\" --limit ${4}"
   ]
  }
 ],
 "metadata": {
  "kernelspec": {
   "display_name": "Python 3 (ipykernel)",
   "language": "python",
   "name": "python3"
  },
  "language_info": {
   "codemirror_mode": {
    "name": "ipython",
    "version": 3
   },
   "file_extension": ".py",
   "mimetype": "text/x-python",
   "name": "python",
   "nbconvert_exporter": "python",
   "pygments_lexer": "ipython3",
   "version": "3.9.5"
  },
  "papermill": {
   "default_parameters": {},
   "duration": 91.108024,
   "end_time": "2022-08-23T23:03:53.577605",
   "environment_variables": {},
   "exception": true,
   "input_path": "/home/jovyan/process.ipynb",
   "output_path": "output_nb.ipynb",
   "parameters": {
    "aoi": "/var/lib/cwl/stgb9ce7a56-e7fa-40fa-9ada-d707179eccbd/geoBoundaries-GAB-ADM0.geojson",
    "columns": "agbd, agbd_se, l2_quality_flag, l4_quality_flag, sensitivity, sensitivity_a2, lon_lowestmode, lat_lowestmode",
    "limit": 10000,
    "maappgt": "PGT-908-tZb6Jr-HFFpc9TRhynzFu2uX6nT3q2Scg1Y6GN3Qt0A1WTk-aFZSUu4iHMQ6oEus3zg-904a6371b74a",
    "query": "l2_quality_flag == 1 and l4_quality_flag == 1 and sensitivity > 0.95 and sensitivity_a2 > 0.95"
   },
   "start_time": "2022-08-23T23:02:22.469581",
   "version": "2.4.0"
  }
 },
 "nbformat": 4,
 "nbformat_minor": 5
}