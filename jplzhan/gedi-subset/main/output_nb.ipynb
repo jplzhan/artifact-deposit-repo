{
 "cells": [
  {
   "cell_type": "markdown",
   "id": "e6b570e0",
   "metadata": {
    "tags": [
     "papermill-error-cell-tag"
    ]
   },
   "source": [
    "<span style=\"color:red; font-family:Helvetica Neue, Helvetica, Arial, sans-serif; font-size:2em;\">An Exception was encountered at '<a href=\"#papermill-error-cell\">In [3]</a>'.</span>"
   ]
  },
  {
   "cell_type": "code",
   "execution_count": 1,
   "id": "984d1053-68c6-4be1-b640-49a9833a466d",
   "metadata": {
    "execution": {
     "iopub.execute_input": "2022-08-23T22:56:59.526845Z",
     "iopub.status.busy": "2022-08-23T22:56:59.525533Z",
     "iopub.status.idle": "2022-08-23T22:56:59.543016Z",
     "shell.execute_reply": "2022-08-23T22:56:59.541432Z"
    },
    "papermill": {
     "duration": 0.029898,
     "end_time": "2022-08-23T22:56:59.547584",
     "exception": false,
     "start_time": "2022-08-23T22:56:59.517686",
     "status": "completed"
    },
    "tags": [
     "parameters"
    ]
   },
   "outputs": [],
   "source": [
    "aoi = 'aoi.geojson' # type: stage-in\n",
    "columns = 'agbd, agbd_se, l2_quality_flag, l4_quality_flag, sensitivity, sensitivity_a2, lon_lowestmode, lan_lowestmode' # type: string\n",
    "query = '' # type: string\n",
    "limit = '10000' # type: int\n",
    "maappgt = 'token' # type: string"
   ]
  },
  {
   "cell_type": "code",
   "execution_count": 2,
   "id": "6badcac9",
   "metadata": {
    "execution": {
     "iopub.execute_input": "2022-08-23T22:56:59.555942Z",
     "iopub.status.busy": "2022-08-23T22:56:59.555051Z",
     "iopub.status.idle": "2022-08-23T22:56:59.563202Z",
     "shell.execute_reply": "2022-08-23T22:56:59.561691Z"
    },
    "papermill": {
     "duration": 0.014832,
     "end_time": "2022-08-23T22:56:59.566101",
     "exception": false,
     "start_time": "2022-08-23T22:56:59.551269",
     "status": "completed"
    },
    "tags": [
     "injected-parameters"
    ]
   },
   "outputs": [],
   "source": [
    "# Parameters\n",
    "aoi = \"/var/lib/cwl/stge4d564b0-c551-4781-9e1b-db998c5129ec/geoBoundaries-GAB-ADM0.geojson\"\n",
    "columns = \"agbd, agbd_se, l2_quality_flag, l4_quality_flag, sensitivity, sensitivity_a2, lon_lowestmode, lat_lowestmode\"\n",
    "limit = 10000\n",
    "query = \"l2_quality_flag == 1 and l4_quality_flag == 1 and sensitivity > 0.95 and sensitivity_a2 > 0.95\"\n"
   ]
  },
  {
   "cell_type": "markdown",
   "id": "ef4052a9",
   "metadata": {
    "tags": [
     "papermill-error-cell-tag"
    ]
   },
   "source": [
    "<span id=\"papermill-error-cell\" style=\"color:red; font-family:Helvetica Neue, Helvetica, Arial, sans-serif; font-size:2em;\">Execution using papermill encountered an exception here and stopped:</span>"
   ]
  },
  {
   "cell_type": "code",
   "execution_count": 3,
   "id": "42ce04c7-7913-45cb-92f4-b74072082180",
   "metadata": {
    "collapsed": true,
    "execution": {
     "iopub.execute_input": "2022-08-23T22:56:59.571470Z",
     "iopub.status.busy": "2022-08-23T22:56:59.570712Z",
     "iopub.status.idle": "2022-08-23T22:58:33.181693Z",
     "shell.execute_reply": "2022-08-23T22:58:33.180428Z"
    },
    "jupyter": {
     "outputs_hidden": true
    },
    "papermill": {
     "duration": 93.619243,
     "end_time": "2022-08-23T22:58:33.186890",
     "exception": true,
     "start_time": "2022-08-23T22:56:59.567647",
     "status": "failed"
    },
    "tags": []
   },
   "outputs": [
    {
     "name": "stderr",
     "output_type": "stream",
     "text": [
      "2022-08-23 22:57:03,517 [MainProcess:maap.utils.CMR] [INFO] ======== Waiting for response ========\n"
     ]
    },
    {
     "name": "stderr",
     "output_type": "stream",
     "text": [
      "2022-08-23 22:57:03,921 [MainProcess:maap.utils.CMR] [INFO] ======== Waiting for response ========\n"
     ]
    },
    {
     "name": "stderr",
     "output_type": "stream",
     "text": [
      "2022-08-23 22:57:46,119 [MainProcess:gedi_subset] [INFO] Subsetting on 32 processes (chunksize=10)\n"
     ]
    },
    {
     "name": "stderr",
     "output_type": "stream",
     "text": [
      "2022-08-23 22:57:46,285 [ForkPoolWorker-1:gedi_subset.maapx] [DEBUG] Downloading granule GEDI_L4A_AGB_Density_V2_1.GEDI04_A_2019108045816_O01962_01_T01066_02_002_02_V002.h5 to directory /QoBuXC/output\n"
     ]
    },
    {
     "name": "stderr",
     "output_type": "stream",
     "text": [
      "2022-08-23 22:57:46,287 [ForkPoolWorker-1:gedi_subset.maapx] [DEBUG] Obtaining S3 credentials from https://data.ornldaac.earthdata.nasa.gov/s3credentials\n"
     ]
    },
    {
     "name": "stderr",
     "output_type": "stream",
     "text": [
      "2022-08-23 22:57:46,295 [ForkPoolWorker-2:gedi_subset.maapx] [DEBUG] Downloading granule GEDI_L4A_AGB_Density_V2_1.GEDI04_A_2019118120814_O02122_03_T01471_02_002_02_V002.h5 to directory /QoBuXC/output\n"
     ]
    },
    {
     "name": "stderr",
     "output_type": "stream",
     "text": [
      "2022-08-23 22:57:46,296 [ForkPoolWorker-2:gedi_subset.maapx] [DEBUG] Obtaining S3 credentials from https://data.ornldaac.earthdata.nasa.gov/s3credentials\n"
     ]
    },
    {
     "name": "stderr",
     "output_type": "stream",
     "text": [
      "2022-08-23 22:57:46,303 [ForkPoolWorker-3:gedi_subset.maapx] [DEBUG] Downloading granule GEDI_L4A_AGB_Density_V2_1.GEDI04_A_2019128205030_O02283_02_T03147_02_002_02_V002.h5 to directory /QoBuXC/output\n"
     ]
    },
    {
     "name": "stderr",
     "output_type": "stream",
     "text": [
      "2022-08-23 22:57:46,304 [ForkPoolWorker-3:gedi_subset.maapx] [DEBUG] Obtaining S3 credentials from https://data.ornldaac.earthdata.nasa.gov/s3credentials\n"
     ]
    },
    {
     "name": "stderr",
     "output_type": "stream",
     "text": [
      "2022-08-23 22:57:46,312 [ForkPoolWorker-4:gedi_subset.maapx] [DEBUG] Downloading granule GEDI_L4A_AGB_Density_V2_1.GEDI04_A_2019142152425_O02497_02_T05687_02_002_02_V002.h5 to directory /QoBuXC/output\n"
     ]
    },
    {
     "name": "stderr",
     "output_type": "stream",
     "text": [
      "2022-08-23 22:57:46,312 [ForkPoolWorker-5:gedi_subset.maapx] [DEBUG] Downloading granule GEDI_L4A_AGB_Density_V2_1.GEDI04_A_2019153110846_O02665_01_T03958_02_002_02_V002.h5 to directory /QoBuXC/output\n"
     ]
    },
    {
     "name": "stderr",
     "output_type": "stream",
     "text": [
      "2022-08-23 22:57:46,313 [ForkPoolWorker-4:gedi_subset.maapx] [DEBUG] Obtaining S3 credentials from https://data.ornldaac.earthdata.nasa.gov/s3credentials\n"
     ]
    },
    {
     "name": "stderr",
     "output_type": "stream",
     "text": [
      "2022-08-23 22:57:46,314 [ForkPoolWorker-5:gedi_subset.maapx] [DEBUG] Obtaining S3 credentials from https://data.ornldaac.earthdata.nasa.gov/s3credentials\n"
     ]
    },
    {
     "name": "stderr",
     "output_type": "stream",
     "text": [
      "2022-08-23 22:57:46,319 [ForkPoolWorker-6:gedi_subset.maapx] [DEBUG] Downloading granule GEDI_L4A_AGB_Density_V2_1.GEDI04_A_2019164065420_O02833_02_T03499_02_002_02_V002.h5 to directory /QoBuXC/output\n"
     ]
    },
    {
     "name": "stderr",
     "output_type": "stream",
     "text": [
      "2022-08-23 22:57:46,320 [ForkPoolWorker-6:gedi_subset.maapx] [DEBUG] Obtaining S3 credentials from https://data.ornldaac.earthdata.nasa.gov/s3credentials\n"
     ]
    },
    {
     "name": "stderr",
     "output_type": "stream",
     "text": [
      "2022-08-23 22:57:46,328 [ForkPoolWorker-7:gedi_subset.maapx] [DEBUG] Downloading granule GEDI_L4A_AGB_Density_V2_1.GEDI04_A_2019175132859_O03008_04_T00048_02_002_02_V002.h5 to directory /QoBuXC/output\n"
     ]
    },
    {
     "name": "stderr",
     "output_type": "stream",
     "text": [
      "2022-08-23 22:57:46,329 [ForkPoolWorker-7:gedi_subset.maapx] [DEBUG] Obtaining S3 credentials from https://data.ornldaac.earthdata.nasa.gov/s3credentials\n"
     ]
    },
    {
     "name": "stderr",
     "output_type": "stream",
     "text": [
      "2022-08-23 22:57:46,333 [ForkPoolWorker-8:gedi_subset.maapx] [DEBUG] Downloading granule GEDI_L4A_AGB_Density_V2_1.GEDI04_A_2019189204453_O03230_01_T00806_02_002_02_V002.h5 to directory /QoBuXC/output\n"
     ]
    },
    {
     "name": "stderr",
     "output_type": "stream",
     "text": [
      "2022-08-23 22:57:46,334 [ForkPoolWorker-8:gedi_subset.maapx] [DEBUG] Obtaining S3 credentials from https://data.ornldaac.earthdata.nasa.gov/s3credentials\n"
     ]
    },
    {
     "name": "stderr",
     "output_type": "stream",
     "text": [
      "2022-08-23 22:57:46,345 [ForkPoolWorker-10:gedi_subset.maapx] [DEBUG] Downloading granule GEDI_L4A_AGB_Density_V2_1.GEDI04_A_2019215103928_O03627_02_T00347_02_002_02_V002.h5 to directory /QoBuXC/output\n"
     ]
    },
    {
     "name": "stderr",
     "output_type": "stream",
     "text": [
      "2022-08-23 22:57:46,346 [ForkPoolWorker-10:gedi_subset.maapx] [DEBUG] Obtaining S3 credentials from https://data.ornldaac.earthdata.nasa.gov/s3credentials\n"
     ]
    },
    {
     "name": "stderr",
     "output_type": "stream",
     "text": [
      "2022-08-23 22:57:46,347 [ForkPoolWorker-9:gedi_subset.maapx] [DEBUG] Downloading granule GEDI_L4A_AGB_Density_V2_1.GEDI04_A_2019197172428_O03352_01_T04218_02_002_02_V002.h5 to directory /QoBuXC/output\n"
     ]
    },
    {
     "name": "stderr",
     "output_type": "stream",
     "text": [
      "2022-08-23 22:57:46,348 [ForkPoolWorker-9:gedi_subset.maapx] [DEBUG] Obtaining S3 credentials from https://data.ornldaac.earthdata.nasa.gov/s3credentials\n"
     ]
    },
    {
     "name": "stderr",
     "output_type": "stream",
     "text": [
      "2022-08-23 22:57:46,359 [ForkPoolWorker-12:gedi_subset.maapx] [DEBUG] Downloading granule GEDI_L4A_AGB_Density_V2_1.GEDI04_A_2019241113102_O04031_04_T04210_02_002_02_V002.h5 to directory /QoBuXC/output\n"
     ]
    },
    {
     "name": "stderr",
     "output_type": "stream",
     "text": [
      "2022-08-23 22:57:46,360 [ForkPoolWorker-11:gedi_subset.maapx] [DEBUG] Downloading granule GEDI_L4A_AGB_Density_V2_1.GEDI04_A_2019223071836_O03749_01_T05335_02_002_02_V002.h5 to directory /QoBuXC/output\n"
     ]
    },
    {
     "name": "stderr",
     "output_type": "stream",
     "text": [
      "2022-08-23 22:57:46,361 [ForkPoolWorker-12:gedi_subset.maapx] [DEBUG] Obtaining S3 credentials from https://data.ornldaac.earthdata.nasa.gov/s3credentials\n"
     ]
    },
    {
     "name": "stderr",
     "output_type": "stream",
     "text": [
      "2022-08-23 22:57:46,361 [ForkPoolWorker-11:gedi_subset.maapx] [DEBUG] Obtaining S3 credentials from https://data.ornldaac.earthdata.nasa.gov/s3credentials\n"
     ]
    },
    {
     "name": "stderr",
     "output_type": "stream",
     "text": [
      "2022-08-23 22:57:46,367 [ForkPoolWorker-13:gedi_subset.maapx] [DEBUG] Downloading granule GEDI_L4A_AGB_Density_V2_1.GEDI04_A_2019252194644_O04207_02_T00959_02_002_02_V002.h5 to directory /QoBuXC/output\n"
     ]
    },
    {
     "name": "stderr",
     "output_type": "stream",
     "text": [
      "2022-08-23 22:57:46,368 [ForkPoolWorker-13:gedi_subset.maapx] [DEBUG] Obtaining S3 credentials from https://data.ornldaac.earthdata.nasa.gov/s3credentials\n"
     ]
    },
    {
     "name": "stderr",
     "output_type": "stream",
     "text": [
      "2022-08-23 22:57:46,373 [ForkPoolWorker-14:gedi_subset.maapx] [DEBUG] Downloading granule GEDI_L4A_AGB_Density_V2_1.GEDI04_A_2019260163110_O04329_02_T05182_02_002_02_V002.h5 to directory /QoBuXC/output\n"
     ]
    },
    {
     "name": "stderr",
     "output_type": "stream",
     "text": [
      "2022-08-23 22:57:46,374 [ForkPoolWorker-14:gedi_subset.maapx] [DEBUG] Obtaining S3 credentials from https://data.ornldaac.earthdata.nasa.gov/s3credentials\n"
     ]
    },
    {
     "name": "stderr",
     "output_type": "stream",
     "text": [
      "2022-08-23 22:57:46,379 [ForkPoolWorker-15:gedi_subset.maapx] [DEBUG] Downloading granule GEDI_L4A_AGB_Density_V2_1.GEDI04_A_2019279091318_O04619_01_T04111_02_002_02_V002.h5 to directory /QoBuXC/output\n"
     ]
    },
    {
     "name": "stderr",
     "output_type": "stream",
     "text": [
      "2022-08-23 22:57:46,380 [ForkPoolWorker-15:gedi_subset.maapx] [DEBUG] Obtaining S3 credentials from https://data.ornldaac.earthdata.nasa.gov/s3credentials\n"
     ]
    },
    {
     "name": "stderr",
     "output_type": "stream",
     "text": [
      "2022-08-23 22:57:46,386 [ForkPoolWorker-16:gedi_subset.maapx] [DEBUG] Downloading granule GEDI_L4A_AGB_Density_V2_1.GEDI04_A_2019287055835_O04741_01_T02489_02_002_02_V002.h5 to directory /QoBuXC/output\n"
     ]
    },
    {
     "name": "stderr",
     "output_type": "stream",
     "text": [
      "2022-08-23 22:57:46,388 [ForkPoolWorker-16:gedi_subset.maapx] [DEBUG] Obtaining S3 credentials from https://data.ornldaac.earthdata.nasa.gov/s3credentials\n"
     ]
    },
    {
     "name": "stderr",
     "output_type": "stream",
     "text": [
      "2022-08-23 22:57:46,398 [ForkPoolWorker-17:gedi_subset.maapx] [DEBUG] Downloading granule GEDI_L4A_AGB_Density_V2_1.GEDI04_A_2019298015357_O04909_02_T03346_02_002_02_V002.h5 to directory /QoBuXC/output\n"
     ]
    },
    {
     "name": "stderr",
     "output_type": "stream",
     "text": [
      "2022-08-23 22:57:46,399 [ForkPoolWorker-18:gedi_subset.maapx] [DEBUG] Downloading granule GEDI_L4A_AGB_Density_V2_1.GEDI04_A_2019306092848_O05038_03_T02848_02_002_02_V002.h5 to directory /QoBuXC/output\n"
     ]
    },
    {
     "name": "stderr",
     "output_type": "stream",
     "text": [
      "2022-08-23 22:57:46,399 [ForkPoolWorker-17:gedi_subset.maapx] [DEBUG] Obtaining S3 credentials from https://data.ornldaac.earthdata.nasa.gov/s3credentials\n"
     ]
    },
    {
     "name": "stderr",
     "output_type": "stream",
     "text": [
      "2022-08-23 22:57:46,400 [ForkPoolWorker-18:gedi_subset.maapx] [DEBUG] Obtaining S3 credentials from https://data.ornldaac.earthdata.nasa.gov/s3credentials\n"
     ]
    },
    {
     "name": "stderr",
     "output_type": "stream",
     "text": [
      "2022-08-23 22:57:46,403 [ForkPoolWorker-19:gedi_subset.maapx] [DEBUG] Downloading granule GEDI_L4A_AGB_Density_V2_1.GEDI04_A_2019317052458_O05206_04_T03705_02_002_02_V002.h5 to directory /QoBuXC/output\n"
     ]
    },
    {
     "name": "stderr",
     "output_type": "stream",
     "text": [
      "2022-08-23 22:57:46,405 [ForkPoolWorker-19:gedi_subset.maapx] [DEBUG] Obtaining S3 credentials from https://data.ornldaac.earthdata.nasa.gov/s3credentials\n"
     ]
    },
    {
     "name": "stderr",
     "output_type": "stream",
     "text": [
      "2022-08-23 22:57:46,415 [ForkPoolWorker-20:gedi_subset.maapx] [DEBUG] Downloading granule GEDI_L4A_AGB_Density_V2_1.GEDI04_A_2019328134500_O05382_01_T05534_02_002_02_V002.h5 to directory /QoBuXC/output\n"
     ]
    },
    {
     "name": "stderr",
     "output_type": "stream",
     "text": [
      "2022-08-23 22:57:46,417 [ForkPoolWorker-20:gedi_subset.maapx] [DEBUG] Obtaining S3 credentials from https://data.ornldaac.earthdata.nasa.gov/s3credentials\n"
     ]
    },
    {
     "name": "stderr",
     "output_type": "stream",
     "text": [
      "2022-08-23 22:57:46,418 [ForkPoolWorker-21:gedi_subset.maapx] [DEBUG] Downloading granule GEDI_L4A_AGB_Density_V2_1.GEDI04_A_2019347062743_O05672_01_T01770_02_002_02_V002.h5 to directory /QoBuXC/output\n"
     ]
    },
    {
     "name": "stderr",
     "output_type": "stream",
     "text": [
      "2022-08-23 22:57:46,419 [ForkPoolWorker-21:gedi_subset.maapx] [DEBUG] Obtaining S3 credentials from https://data.ornldaac.earthdata.nasa.gov/s3credentials\n"
     ]
    },
    {
     "name": "stderr",
     "output_type": "stream",
     "text": [
      "2022-08-23 22:57:46,425 [ForkPoolWorker-22:gedi_subset.maapx] [DEBUG] Downloading granule GEDI_L4A_AGB_Density_V2_1.GEDI04_A_2020009065234_O06091_04_T04669_02_002_02_V002.h5 to directory /QoBuXC/output\n"
     ]
    },
    {
     "name": "stderr",
     "output_type": "stream",
     "text": [
      "2022-08-23 22:57:46,427 [ForkPoolWorker-22:gedi_subset.maapx] [DEBUG] Obtaining S3 credentials from https://data.ornldaac.earthdata.nasa.gov/s3credentials\n"
     ]
    },
    {
     "name": "stderr",
     "output_type": "stream",
     "text": [
      "2022-08-23 22:57:46,439 [ForkPoolWorker-23:gedi_subset.maapx] [DEBUG] Downloading granule GEDI_L4A_AGB_Density_V2_1.GEDI04_A_2020021020726_O06274_03_T05434_02_002_02_V002.h5 to directory /QoBuXC/output\n"
     ]
    },
    {
     "name": "stderr",
     "output_type": "stream",
     "text": [
      "2022-08-23 22:57:46,441 [ForkPoolWorker-23:gedi_subset.maapx] [DEBUG] Obtaining S3 credentials from https://data.ornldaac.earthdata.nasa.gov/s3credentials\n"
     ]
    },
    {
     "name": "stderr",
     "output_type": "stream",
     "text": [
      "2022-08-23 22:57:46,441 [ForkPoolWorker-24:gedi_subset.maapx] [DEBUG] Downloading granule GEDI_L4A_AGB_Density_V2_1.GEDI04_A_2020032212609_O06457_03_T01318_02_002_02_V002.h5 to directory /QoBuXC/output\n"
     ]
    },
    {
     "name": "stderr",
     "output_type": "stream",
     "text": [
      "2022-08-23 22:57:46,443 [ForkPoolWorker-24:gedi_subset.maapx] [DEBUG] Obtaining S3 credentials from https://data.ornldaac.earthdata.nasa.gov/s3credentials\n"
     ]
    },
    {
     "name": "stderr",
     "output_type": "stream",
     "text": [
      "2022-08-23 22:57:46,446 [ForkPoolWorker-25:gedi_subset.maapx] [DEBUG] Downloading granule GEDI_L4A_AGB_Density_V2_1.GEDI04_A_2020044055521_O06633_01_T04616_02_002_02_V002.h5 to directory /QoBuXC/output\n"
     ]
    },
    {
     "name": "stderr",
     "output_type": "stream",
     "text": [
      "2022-08-23 22:57:46,447 [ForkPoolWorker-25:gedi_subset.maapx] [DEBUG] Obtaining S3 credentials from https://data.ornldaac.earthdata.nasa.gov/s3credentials\n"
     ]
    },
    {
     "name": "stderr",
     "output_type": "stream",
     "text": [
      "2022-08-23 22:57:46,450 [ForkPoolWorker-26:gedi_subset.maapx] [DEBUG] Downloading granule GEDI_L4A_AGB_Density_V2_1.GEDI04_A_2020052133823_O06762_03_T04470_02_002_02_V002.h5 to directory /QoBuXC/output\n"
     ]
    },
    {
     "name": "stderr",
     "output_type": "stream",
     "text": [
      "2022-08-23 22:57:46,452 [ForkPoolWorker-26:gedi_subset.maapx] [DEBUG] Obtaining S3 credentials from https://data.ornldaac.earthdata.nasa.gov/s3credentials\n"
     ]
    },
    {
     "name": "stderr",
     "output_type": "stream",
     "text": [
      "2022-08-23 22:57:46,459 [ForkPoolWorker-27:gedi_subset.maapx] [DEBUG] Downloading granule GEDI_L4A_AGB_Density_V2_1.GEDI04_A_2020060103059_O06884_03_T02894_02_002_02_V002.h5 to directory /QoBuXC/output\n"
     ]
    },
    {
     "name": "stderr",
     "output_type": "stream",
     "text": [
      "2022-08-23 22:57:46,461 [ForkPoolWorker-27:gedi_subset.maapx] [DEBUG] Obtaining S3 credentials from https://data.ornldaac.earthdata.nasa.gov/s3credentials\n"
     ]
    },
    {
     "name": "stderr",
     "output_type": "stream",
     "text": [
      "2022-08-23 22:57:46,465 [ForkPoolWorker-28:gedi_subset.maapx] [DEBUG] Downloading granule GEDI_L4A_AGB_Density_V2_1.GEDI04_A_2020068194632_O07014_01_T05595_02_002_02_V002.h5 to directory /QoBuXC/output\n"
     ]
    },
    {
     "name": "stderr",
     "output_type": "stream",
     "text": [
      "2022-08-23 22:57:46,467 [ForkPoolWorker-28:gedi_subset.maapx] [DEBUG] Obtaining S3 credentials from https://data.ornldaac.earthdata.nasa.gov/s3credentials\n"
     ]
    },
    {
     "name": "stderr",
     "output_type": "stream",
     "text": [
      "2022-08-23 22:57:46,469 [ForkPoolWorker-29:gedi_subset.maapx] [DEBUG] Downloading granule GEDI_L4A_AGB_Density_V2_1.GEDI04_A_2020076163849_O07136_01_T01479_02_002_02_V002.h5 to directory /QoBuXC/output\n"
     ]
    },
    {
     "name": "stderr",
     "output_type": "stream",
     "text": [
      "2022-08-23 22:57:46,470 [ForkPoolWorker-29:gedi_subset.maapx] [DEBUG] Obtaining S3 credentials from https://data.ornldaac.earthdata.nasa.gov/s3credentials\n"
     ]
    },
    {
     "name": "stderr",
     "output_type": "stream",
     "text": [
      "2022-08-23 22:57:46,476 [ForkPoolWorker-30:gedi_subset.maapx] [DEBUG] Downloading granule GEDI_L4A_AGB_Density_V2_1.GEDI04_A_2020084133233_O07258_01_T01326_02_002_02_V002.h5 to directory /QoBuXC/output\n"
     ]
    },
    {
     "name": "stderr",
     "output_type": "stream",
     "text": [
      "2022-08-23 22:57:46,477 [ForkPoolWorker-30:gedi_subset.maapx] [DEBUG] Obtaining S3 credentials from https://data.ornldaac.earthdata.nasa.gov/s3credentials\n"
     ]
    },
    {
     "name": "stderr",
     "output_type": "stream",
     "text": [
      "2022-08-23 22:57:46,486 [ForkPoolWorker-31:gedi_subset.maapx] [DEBUG] Downloading granule GEDI_L4A_AGB_Density_V2_1.GEDI04_A_2020095094113_O07426_02_T01923_02_002_02_V002.h5 to directory /QoBuXC/output\n"
     ]
    },
    {
     "name": "stderr",
     "output_type": "stream",
     "text": [
      "2022-08-23 22:57:46,487 [ForkPoolWorker-31:gedi_subset.maapx] [DEBUG] Obtaining S3 credentials from https://data.ornldaac.earthdata.nasa.gov/s3credentials\n"
     ]
    },
    {
     "name": "stderr",
     "output_type": "stream",
     "text": [
      "2022-08-23 22:57:46,489 [ForkPoolWorker-32:gedi_subset.maapx] [DEBUG] Downloading granule GEDI_L4A_AGB_Density_V2_1.GEDI04_A_2020107155609_O07616_03_T03399_02_002_02_V002.h5 to directory /QoBuXC/output\n"
     ]
    },
    {
     "name": "stderr",
     "output_type": "stream",
     "text": [
      "2022-08-23 22:57:46,490 [ForkPoolWorker-32:gedi_subset.maapx] [DEBUG] Obtaining S3 credentials from https://data.ornldaac.earthdata.nasa.gov/s3credentials\n"
     ]
    },
    {
     "name": "stderr",
     "output_type": "stream",
     "text": [
      "2022-08-23 22:57:54,667 [ForkPoolWorker-2:gedi_subset.maapx] [DEBUG] Setting up default boto3 session with new credentials\n"
     ]
    },
    {
     "name": "stderr",
     "output_type": "stream",
     "text": [
      "2022-08-23 22:57:55,084 [ForkPoolWorker-6:gedi_subset.maapx] [DEBUG] Setting up default boto3 session with new credentials\n"
     ]
    },
    {
     "name": "stderr",
     "output_type": "stream",
     "text": [
      "2022-08-23 22:57:55,136 [ForkPoolWorker-7:gedi_subset.maapx] [DEBUG] Setting up default boto3 session with new credentials\n"
     ]
    },
    {
     "name": "stderr",
     "output_type": "stream",
     "text": [
      "2022-08-23 22:57:55,155 [ForkPoolWorker-5:gedi_subset.maapx] [DEBUG] Setting up default boto3 session with new credentials\n"
     ]
    },
    {
     "name": "stderr",
     "output_type": "stream",
     "text": [
      "2022-08-23 22:57:55,177 [ForkPoolWorker-1:gedi_subset.maapx] [DEBUG] Setting up default boto3 session with new credentials\n"
     ]
    },
    {
     "name": "stderr",
     "output_type": "stream",
     "text": [
      "2022-08-23 22:57:55,202 [ForkPoolWorker-9:gedi_subset.maapx] [DEBUG] Setting up default boto3 session with new credentials\n"
     ]
    },
    {
     "name": "stderr",
     "output_type": "stream",
     "text": [
      "2022-08-23 22:57:56,096 [ForkPoolWorker-4:gedi_subset.maapx] [DEBUG] Setting up default boto3 session with new credentials\n"
     ]
    },
    {
     "name": "stderr",
     "output_type": "stream",
     "text": [
      "2022-08-23 22:57:56,650 [ForkPoolWorker-16:gedi_subset.maapx] [DEBUG] Setting up default boto3 session with new credentials\n"
     ]
    },
    {
     "name": "stderr",
     "output_type": "stream",
     "text": [
      "2022-08-23 22:57:56,713 [ForkPoolWorker-3:gedi_subset.maapx] [DEBUG] Setting up default boto3 session with new credentials\n"
     ]
    },
    {
     "name": "stderr",
     "output_type": "stream",
     "text": [
      "2022-08-23 22:57:56,838 [ForkPoolWorker-12:gedi_subset.maapx] [DEBUG] Setting up default boto3 session with new credentials\n"
     ]
    },
    {
     "name": "stderr",
     "output_type": "stream",
     "text": [
      "2022-08-23 22:57:57,417 [ForkPoolWorker-6:gedi_subset.maapx] [DEBUG] Downloading granule GEDI_L4A_AGB_Density_V2_1.GEDI04_A_2019167165109_O02886_04_T00599_02_002_02_V002.h5 to directory /QoBuXC/output\n"
     ]
    },
    {
     "name": "stderr",
     "output_type": "stream",
     "text": [
      "2022-08-23 22:57:57,506 [ForkPoolWorker-5:gedi_subset.maapx] [DEBUG] Downloading granule GEDI_L4A_AGB_Density_V2_1.GEDI04_A_2019153110846_O02665_02_T03958_02_002_02_V002.h5 to directory /QoBuXC/output\n"
     ]
    },
    {
     "name": "stderr",
     "output_type": "stream",
     "text": [
      "2022-08-23 22:57:57,548 [ForkPoolWorker-7:gedi_subset.maapx] [DEBUG] Downloading granule GEDI_L4A_AGB_Density_V2_1.GEDI04_A_2019178123620_O03054_04_T01716_02_002_02_V002.h5 to directory /QoBuXC/output\n"
     ]
    },
    {
     "name": "stderr",
     "output_type": "stream",
     "text": [
      "2022-08-23 22:57:57,578 [ForkPoolWorker-1:gedi_subset.maapx] [DEBUG] Downloading granule GEDI_L4A_AGB_Density_V2_1.GEDI04_A_2019108045816_O01962_02_T01066_02_002_02_V002.h5 to directory /QoBuXC/output\n"
     ]
    },
    {
     "name": "stderr",
     "output_type": "stream",
     "text": [
      "2022-08-23 22:57:57,605 [ForkPoolWorker-9:gedi_subset.maapx] [DEBUG] Downloading granule GEDI_L4A_AGB_Density_V2_1.GEDI04_A_2019197172428_O03352_02_T04218_02_002_02_V002.h5 to directory /QoBuXC/output\n"
     ]
    },
    {
     "name": "stderr",
     "output_type": "stream",
     "text": [
      "2022-08-23 22:57:58,291 [ForkPoolWorker-11:gedi_subset.maapx] [DEBUG] Setting up default boto3 session with new credentials\n"
     ]
    },
    {
     "name": "stderr",
     "output_type": "stream",
     "text": [
      "2022-08-23 22:57:58,331 [ForkPoolWorker-18:gedi_subset.maapx] [DEBUG] Setting up default boto3 session with new credentials\n"
     ]
    },
    {
     "name": "stderr",
     "output_type": "stream",
     "text": [
      "2022-08-23 22:57:58,363 [ForkPoolWorker-8:gedi_subset.maapx] [DEBUG] Setting up default boto3 session with new credentials\n"
     ]
    },
    {
     "name": "stderr",
     "output_type": "stream",
     "text": [
      "2022-08-23 22:57:58,458 [ForkPoolWorker-10:gedi_subset.maapx] [DEBUG] Setting up default boto3 session with new credentials\n"
     ]
    },
    {
     "name": "stderr",
     "output_type": "stream",
     "text": [
      "2022-08-23 22:57:58,780 [ForkPoolWorker-26:gedi_subset.maapx] [DEBUG] Setting up default boto3 session with new credentials\n"
     ]
    },
    {
     "name": "stderr",
     "output_type": "stream",
     "text": [
      "2022-08-23 22:57:58,820 [ForkPoolWorker-3:gedi_subset.maapx] [DEBUG] Downloading granule GEDI_L4A_AGB_Density_V2_1.GEDI04_A_2019129073917_O02290_03_T01731_02_002_02_V002.h5 to directory /QoBuXC/output\n"
     ]
    },
    {
     "name": "stderr",
     "output_type": "stream",
     "text": [
      "2022-08-23 22:57:58,829 [ForkPoolWorker-16:gedi_subset.maapx] [DEBUG] Downloading granule GEDI_L4A_AGB_Density_V2_1.GEDI04_A_2019287055835_O04741_02_T02489_02_002_02_V002.h5 to directory /QoBuXC/output\n"
     ]
    },
    {
     "name": "stderr",
     "output_type": "stream",
     "text": [
      "2022-08-23 22:57:59,271 [ForkPoolWorker-14:gedi_subset.maapx] [DEBUG] Setting up default boto3 session with new credentials\n"
     ]
    },
    {
     "name": "stderr",
     "output_type": "stream",
     "text": [
      "2022-08-23 22:57:59,276 [ForkPoolWorker-13:gedi_subset.maapx] [DEBUG] Setting up default boto3 session with new credentials\n"
     ]
    },
    {
     "name": "stderr",
     "output_type": "stream",
     "text": [
      "2022-08-23 22:57:59,378 [ForkPoolWorker-6:gedi_subset.maapx] [DEBUG] Downloading granule GEDI_L4A_AGB_Density_V2_1.GEDI04_A_2019168051318_O02894_01_T01877_02_002_02_V002.h5 to directory /QoBuXC/output\n"
     ]
    },
    {
     "name": "stderr",
     "output_type": "stream",
     "text": [
      "2022-08-23 22:57:59,583 [ForkPoolWorker-15:gedi_subset.maapx] [DEBUG] Setting up default boto3 session with new credentials\n"
     ]
    },
    {
     "name": "stderr",
     "output_type": "stream",
     "text": [
      "2022-08-23 22:57:59,749 [ForkPoolWorker-1:gedi_subset.maapx] [DEBUG] Downloading granule GEDI_L4A_AGB_Density_V2_1.GEDI04_A_2019111040155_O02008_01_T04616_02_002_02_V002.h5 to directory /QoBuXC/output\n"
     ]
    },
    {
     "name": "stderr",
     "output_type": "stream",
     "text": [
      "2022-08-23 22:57:59,891 [ForkPoolWorker-9:gedi_subset.maapx] [DEBUG] Downloading granule GEDI_L4A_AGB_Density_V2_1.GEDI04_A_2019200163229_O03398_02_T04310_02_002_02_V002.h5 to directory /QoBuXC/output\n"
     ]
    },
    {
     "name": "stderr",
     "output_type": "stream",
     "text": [
      "2022-08-23 22:58:00,393 [ForkPoolWorker-11:gedi_subset.maapx] [DEBUG] Downloading granule GEDI_L4A_AGB_Density_V2_1.GEDI04_A_2019223071836_O03749_02_T05335_02_002_02_V002.h5 to directory /QoBuXC/output\n"
     ]
    },
    {
     "name": "stderr",
     "output_type": "stream",
     "text": [
      "2022-08-23 22:58:00,795 [ForkPoolWorker-8:gedi_subset.maapx] [DEBUG] Downloading granule GEDI_L4A_AGB_Density_V2_1.GEDI04_A_2019189204453_O03230_02_T00806_02_002_02_V002.h5 to directory /QoBuXC/output\n"
     ]
    },
    {
     "name": "stderr",
     "output_type": "stream",
     "text": [
      "2022-08-23 22:58:00,864 [ForkPoolWorker-10:gedi_subset.maapx] [DEBUG] Downloading granule GEDI_L4A_AGB_Density_V2_1.GEDI04_A_2019215212856_O03634_03_T01624_02_002_02_V002.h5 to directory /QoBuXC/output\n"
     ]
    },
    {
     "name": "stderr",
     "output_type": "stream",
     "text": [
      "2022-08-23 22:58:01,878 [ForkPoolWorker-26:gedi_subset.maapx] [DEBUG] Downloading granule GEDI_L4A_AGB_Density_V2_1.GEDI04_A_2020052133823_O06762_04_T04470_02_002_02_V002.h5 to directory /QoBuXC/output\n"
     ]
    },
    {
     "name": "stderr",
     "output_type": "stream",
     "text": [
      "2022-08-23 22:58:02,249 [ForkPoolWorker-17:gedi_subset.maapx] [DEBUG] Setting up default boto3 session with new credentials\n"
     ]
    },
    {
     "name": "stderr",
     "output_type": "stream",
     "text": [
      "2022-08-23 22:58:02,964 [ForkPoolWorker-14:gedi_subset.maapx] [DEBUG] Downloading granule GEDI_L4A_AGB_Density_V2_1.GEDI04_A_2019264023129_O04382_03_T00247_02_002_02_V002.h5 to directory /QoBuXC/output\n"
     ]
    },
    {
     "name": "stderr",
     "output_type": "stream",
     "text": [
      "2022-08-23 22:58:02,976 [ForkPoolWorker-19:gedi_subset.maapx] [DEBUG] Setting up default boto3 session with new credentials\n"
     ]
    },
    {
     "name": "stderr",
     "output_type": "stream",
     "text": [
      "2022-08-23 22:58:03,019 [ForkPoolWorker-20:gedi_subset.maapx] [DEBUG] Setting up default boto3 session with new credentials\n"
     ]
    },
    {
     "name": "stderr",
     "output_type": "stream",
     "text": [
      "2022-08-23 22:58:03,028 [ForkPoolWorker-9:gedi_subset.maapx] [DEBUG] Downloading granule GEDI_L4A_AGB_Density_V2_1.GEDI04_A_2019201032158_O03405_03_T05587_02_002_02_V002.h5 to directory /QoBuXC/output\n"
     ]
    },
    {
     "name": "stderr",
     "output_type": "stream",
     "text": [
      "2022-08-23 22:58:03,066 [ForkPoolWorker-15:gedi_subset.maapx] [DEBUG] Downloading granule GEDI_L4A_AGB_Density_V2_1.GEDI04_A_2019279091318_O04619_02_T04111_02_002_02_V002.h5 to directory /QoBuXC/output\n"
     ]
    },
    {
     "name": "stderr",
     "output_type": "stream",
     "text": [
      "2022-08-23 22:58:03,107 [ForkPoolWorker-24:gedi_subset.maapx] [DEBUG] Setting up default boto3 session with new credentials\n"
     ]
    },
    {
     "name": "stderr",
     "output_type": "stream",
     "text": [
      "2022-08-23 22:58:03,144 [ForkPoolWorker-21:gedi_subset.maapx] [DEBUG] Setting up default boto3 session with new credentials\n"
     ]
    },
    {
     "name": "stderr",
     "output_type": "stream",
     "text": [
      "2022-08-23 22:58:03,360 [ForkPoolWorker-25:gedi_subset.maapx] [DEBUG] Setting up default boto3 session with new credentials\n"
     ]
    },
    {
     "name": "stderr",
     "output_type": "stream",
     "text": [
      "2022-08-23 22:58:03,401 [ForkPoolWorker-23:gedi_subset.maapx] [DEBUG] Setting up default boto3 session with new credentials\n"
     ]
    },
    {
     "name": "stderr",
     "output_type": "stream",
     "text": [
      "2022-08-23 22:58:03,412 [ForkPoolWorker-22:gedi_subset.maapx] [DEBUG] Setting up default boto3 session with new credentials\n"
     ]
    },
    {
     "name": "stderr",
     "output_type": "stream",
     "text": [
      "2022-08-23 22:58:03,559 [ForkPoolWorker-18:gedi_subset.maapx] [DEBUG] Downloading granule GEDI_L4A_AGB_Density_V2_1.GEDI04_A_2019309083851_O05084_03_T05480_02_002_02_V002.h5 to directory /QoBuXC/output\n"
     ]
    },
    {
     "name": "stderr",
     "output_type": "stream",
     "text": [
      "2022-08-23 22:58:03,680 [ForkPoolWorker-11:gedi_subset.maapx] [DEBUG] Downloading granule GEDI_L4A_AGB_Density_V2_1.GEDI04_A_2019226171553_O03802_03_T03705_02_002_02_V002.h5 to directory /QoBuXC/output\n"
     ]
    },
    {
     "name": "stderr",
     "output_type": "stream",
     "text": [
      "2022-08-23 22:58:04,624 [ForkPoolWorker-1:gedi_subset.maapx] [DEBUG] Downloading granule GEDI_L4A_AGB_Density_V2_1.GEDI04_A_2019111040155_O02008_02_T04616_02_002_02_V002.h5 to directory /QoBuXC/output\n"
     ]
    },
    {
     "name": "stderr",
     "output_type": "stream",
     "text": [
      "2022-08-23 22:58:04,668 [ForkPoolWorker-26:gedi_subset.maapx] [DEBUG] Downloading granule GEDI_L4A_AGB_Density_V2_1.GEDI04_A_2020053020130_O06770_01_T01173_02_002_02_V002.h5 to directory /QoBuXC/output\n"
     ]
    },
    {
     "name": "stderr",
     "output_type": "stream",
     "text": [
      "2022-08-23 22:58:05,257 [ForkPoolWorker-14:gedi_subset.maapx] [DEBUG] Downloading granule GEDI_L4A_AGB_Density_V2_1.GEDI04_A_2019264023129_O04382_04_T00247_02_002_02_V002.h5 to directory /QoBuXC/output\n"
     ]
    },
    {
     "name": "stderr",
     "output_type": "stream",
     "text": [
      "2022-08-23 22:58:05,512 [ForkPoolWorker-21:gedi_subset.maapx] [DEBUG] Downloading granule GEDI_L4A_AGB_Density_V2_1.GEDI04_A_2019347062743_O05672_02_T01770_02_002_02_V002.h5 to directory /QoBuXC/output\n"
     ]
    },
    {
     "name": "stderr",
     "output_type": "stream",
     "text": [
      "2022-08-23 22:58:05,523 [ForkPoolWorker-15:gedi_subset.maapx] [DEBUG] Downloading granule GEDI_L4A_AGB_Density_V2_1.GEDI04_A_2019279200308_O04626_03_T03812_02_002_02_V002.h5 to directory /QoBuXC/output\n"
     ]
    },
    {
     "name": "stderr",
     "output_type": "stream",
     "text": [
      "2022-08-23 22:58:05,658 [ForkPoolWorker-25:gedi_subset.maapx] [DEBUG] Downloading granule GEDI_L4A_AGB_Density_V2_1.GEDI04_A_2020044055521_O06633_02_T04616_02_002_02_V002.h5 to directory /QoBuXC/output\n"
     ]
    },
    {
     "name": "stderr",
     "output_type": "stream",
     "text": [
      "2022-08-23 22:58:06,218 [ForkPoolWorker-11:gedi_subset.maapx] [DEBUG] Downloading granule GEDI_L4A_AGB_Density_V2_1.GEDI04_A_2019226171553_O03802_04_T03705_02_002_02_V002.h5 to directory /QoBuXC/output\n"
     ]
    },
    {
     "name": "stderr",
     "output_type": "stream",
     "text": [
      "2022-08-23 22:58:06,238 [ForkPoolWorker-18:gedi_subset.maapx] [DEBUG] Downloading granule GEDI_L4A_AGB_Density_V2_1.GEDI04_A_2019309083851_O05084_04_T05480_02_002_02_V002.h5 to directory /QoBuXC/output\n"
     ]
    },
    {
     "name": "stderr",
     "output_type": "stream",
     "text": [
      "2022-08-23 22:58:06,318 [ForkPoolWorker-32:gedi_subset.maapx] [DEBUG] Setting up default boto3 session with new credentials\n"
     ]
    },
    {
     "name": "stderr",
     "output_type": "stream",
     "text": [
      "2022-08-23 22:58:06,511 [ForkPoolWorker-28:gedi_subset.maapx] [DEBUG] Setting up default boto3 session with new credentials\n"
     ]
    },
    {
     "name": "stderr",
     "output_type": "stream",
     "text": [
      "2022-08-23 22:58:06,552 [ForkPoolWorker-29:gedi_subset.maapx] [DEBUG] Setting up default boto3 session with new credentials\n"
     ]
    },
    {
     "name": "stderr",
     "output_type": "stream",
     "text": [
      "2022-08-23 22:58:06,560 [ForkPoolWorker-30:gedi_subset.maapx] [DEBUG] Setting up default boto3 session with new credentials\n"
     ]
    },
    {
     "name": "stderr",
     "output_type": "stream",
     "text": [
      "2022-08-23 22:58:06,650 [ForkPoolWorker-31:gedi_subset.maapx] [DEBUG] Setting up default boto3 session with new credentials\n"
     ]
    },
    {
     "name": "stderr",
     "output_type": "stream",
     "text": [
      "2022-08-23 22:58:06,684 [ForkPoolWorker-27:gedi_subset.maapx] [DEBUG] Setting up default boto3 session with new credentials\n"
     ]
    },
    {
     "name": "stderr",
     "output_type": "stream",
     "text": [
      "2022-08-23 22:58:06,902 [ForkPoolWorker-26:gedi_subset.maapx] [DEBUG] Downloading granule GEDI_L4A_AGB_Density_V2_1.GEDI04_A_2020056011427_O06816_01_T00347_02_002_02_V002.h5 to directory /QoBuXC/output\n"
     ]
    },
    {
     "name": "stderr",
     "output_type": "stream",
     "text": [
      "2022-08-23 22:58:07,460 [ForkPoolWorker-14:gedi_subset.maapx] [DEBUG] Downloading granule GEDI_L4A_AGB_Density_V2_1.GEDI04_A_2019268005428_O04443_03_T02435_02_002_02_V002.h5 to directory /QoBuXC/output\n"
     ]
    },
    {
     "name": "stderr",
     "output_type": "stream",
     "text": [
      "2022-08-23 22:58:07,875 [ForkPoolWorker-21:gedi_subset.maapx] [DEBUG] Downloading granule GEDI_L4A_AGB_Density_V2_1.GEDI04_A_2019347171733_O05679_03_T04011_02_002_02_V002.h5 to directory /QoBuXC/output\n"
     ]
    },
    {
     "name": "stderr",
     "output_type": "stream",
     "text": [
      "2022-08-23 22:58:08,019 [ForkPoolWorker-25:gedi_subset.maapx] [DEBUG] Downloading granule GEDI_L4A_AGB_Density_V2_1.GEDI04_A_2020044164536_O06640_03_T01318_02_002_02_V002.h5 to directory /QoBuXC/output\n"
     ]
    },
    {
     "name": "stderr",
     "output_type": "stream",
     "text": [
      "2022-08-23 22:58:08,722 [ForkPoolWorker-11:gedi_subset.maapx] [DEBUG] Downloading granule GEDI_L4A_AGB_Density_V2_1.GEDI04_A_2019230044746_O03856_01_T04769_02_002_02_V002.h5 to directory /QoBuXC/output\n"
     ]
    },
    {
     "name": "stderr",
     "output_type": "stream",
     "text": [
      "2022-08-23 22:58:08,805 [ForkPoolWorker-28:gedi_subset.maapx] [DEBUG] Downloading granule GEDI_L4A_AGB_Density_V2_1.GEDI04_A_2020071185923_O07060_01_T02076_02_002_02_V002.h5 to directory /QoBuXC/output\n"
     ]
    },
    {
     "name": "stderr",
     "output_type": "stream",
     "text": [
      "2022-08-23 22:58:08,941 [ForkPoolWorker-32:gedi_subset.maapx] [DEBUG] Downloading granule GEDI_L4A_AGB_Density_V2_1.GEDI04_A_2020107155609_O07616_04_T03399_02_002_02_V002.h5 to directory /QoBuXC/output\n"
     ]
    },
    {
     "name": "stderr",
     "output_type": "stream",
     "text": [
      "2022-08-23 22:58:08,976 [ForkPoolWorker-31:gedi_subset.maapx] [DEBUG] Downloading granule GEDI_L4A_AGB_Density_V2_1.GEDI04_A_2020095203140_O07433_03_T04317_02_002_02_V002.h5 to directory /QoBuXC/output\n"
     ]
    },
    {
     "name": "stderr",
     "output_type": "stream",
     "text": [
      "2022-08-23 22:58:08,986 [ForkPoolWorker-18:gedi_subset.maapx] [DEBUG] Downloading granule GEDI_L4A_AGB_Density_V2_1.GEDI04_A_2019309210128_O05092_01_T03759_02_002_02_V002.h5 to directory /QoBuXC/output\n"
     ]
    },
    {
     "name": "stderr",
     "output_type": "stream",
     "text": [
      "2022-08-23 22:58:09,199 [ForkPoolWorker-27:gedi_subset.maapx] [DEBUG] Downloading granule GEDI_L4A_AGB_Density_V2_1.GEDI04_A_2020060103059_O06884_04_T02894_02_002_02_V002.h5 to directory /QoBuXC/output\n"
     ]
    },
    {
     "name": "stderr",
     "output_type": "stream",
     "text": [
      "2022-08-23 22:58:09,281 [ForkPoolWorker-30:gedi_subset.maapx] [DEBUG] Downloading granule GEDI_L4A_AGB_Density_V2_1.GEDI04_A_2020087124616_O07304_01_T00500_02_002_02_V002.h5 to directory /QoBuXC/output\n"
     ]
    },
    {
     "name": "stderr",
     "output_type": "stream",
     "text": [
      "2022-08-23 22:58:09,353 [ForkPoolWorker-29:gedi_subset.maapx] [DEBUG] Downloading granule GEDI_L4A_AGB_Density_V2_1.GEDI04_A_2020079155136_O07182_01_T03652_02_002_02_V002.h5 to directory /QoBuXC/output\n"
     ]
    },
    {
     "name": "stderr",
     "output_type": "stream",
     "text": [
      "2022-08-23 22:58:09,422 [ForkPoolWorker-26:gedi_subset.maapx] [DEBUG] Downloading granule GEDI_L4A_AGB_Density_V2_1.GEDI04_A_2020056011427_O06816_02_T00347_02_002_02_V002.h5 to directory /QoBuXC/output\n"
     ]
    },
    {
     "name": "stderr",
     "output_type": "stream",
     "text": [
      "2022-08-23 22:58:10,053 [ForkPoolWorker-14:gedi_subset.maapx] [DEBUG] Downloading granule GEDI_L4A_AGB_Density_V2_1.GEDI04_A_2019268005428_O04443_04_T02435_02_002_02_V002.h5 to directory /QoBuXC/output\n"
     ]
    },
    {
     "name": "stderr",
     "output_type": "stream",
     "text": [
      "2022-08-23 22:58:10,378 [ForkPoolWorker-21:gedi_subset.maapx] [DEBUG] Downloading granule GEDI_L4A_AGB_Density_V2_1.GEDI04_A_2019347171733_O05679_04_T04011_02_002_02_V002.h5 to directory /QoBuXC/output\n"
     ]
    },
    {
     "name": "stderr",
     "output_type": "stream",
     "text": [
      "2022-08-23 22:58:10,705 [ForkPoolWorker-25:gedi_subset.maapx] [DEBUG] Downloading granule GEDI_L4A_AGB_Density_V2_1.GEDI04_A_2020044164536_O06640_04_T01318_02_002_02_V002.h5 to directory /QoBuXC/output\n"
     ]
    },
    {
     "name": "stderr",
     "output_type": "stream",
     "text": [
      "2022-08-23 22:58:11,442 [ForkPoolWorker-28:gedi_subset.maapx] [DEBUG] Downloading granule GEDI_L4A_AGB_Density_V2_1.GEDI04_A_2020071185923_O07060_02_T02076_02_002_02_V002.h5 to directory /QoBuXC/output\n"
     ]
    },
    {
     "name": "stderr",
     "output_type": "stream",
     "text": [
      "2022-08-23 22:58:11,665 [ForkPoolWorker-30:gedi_subset.maapx] [DEBUG] Downloading granule GEDI_L4A_AGB_Density_V2_1.GEDI04_A_2020087124616_O07304_02_T00500_02_002_02_V002.h5 to directory /QoBuXC/output\n"
     ]
    },
    {
     "name": "stderr",
     "output_type": "stream",
     "text": [
      "2022-08-23 22:58:11,668 [ForkPoolWorker-18:gedi_subset.maapx] [DEBUG] Downloading granule GEDI_L4A_AGB_Density_V2_1.GEDI04_A_2019309210128_O05092_02_T03759_02_002_02_V002.h5 to directory /QoBuXC/output\n"
     ]
    },
    {
     "name": "stderr",
     "output_type": "stream",
     "text": [
      "2022-08-23 22:58:11,702 [ForkPoolWorker-27:gedi_subset.maapx] [DEBUG] Downloading granule GEDI_L4A_AGB_Density_V2_1.GEDI04_A_2020060225406_O06892_01_T05442_02_002_02_V002.h5 to directory /QoBuXC/output\n"
     ]
    },
    {
     "name": "stderr",
     "output_type": "stream",
     "text": [
      "2022-08-23 22:58:11,845 [ForkPoolWorker-2:gedi_subset.maapx] [DEBUG] Downloading granule GEDI_L4A_AGB_Density_V2_1.GEDI04_A_2019118120814_O02122_04_T01471_02_002_02_V002.h5 to directory /QoBuXC/output\n"
     ]
    },
    {
     "name": "stderr",
     "output_type": "stream",
     "text": [
      "2022-08-23 22:58:14,049 [ForkPoolWorker-30:gedi_subset.maapx] [DEBUG] Downloading granule GEDI_L4A_AGB_Density_V2_1.GEDI04_A_2020087233636_O07311_03_T04470_02_002_02_V002.h5 to directory /QoBuXC/output\n"
     ]
    },
    {
     "name": "stderr",
     "output_type": "stream",
     "text": [
      "2022-08-23 22:58:14,160 [ForkPoolWorker-2:gedi_subset.maapx] [DEBUG] Downloading granule GEDI_L4A_AGB_Density_V2_1.GEDI04_A_2019119002944_O02130_01_T05595_02_002_02_V002.h5 to directory /QoBuXC/output\n"
     ]
    },
    {
     "name": "stderr",
     "output_type": "stream",
     "text": [
      "2022-08-23 22:58:14,166 [ForkPoolWorker-27:gedi_subset.maapx] [DEBUG] Downloading granule GEDI_L4A_AGB_Density_V2_1.GEDI04_A_2020063220701_O06938_01_T00500_02_002_02_V002.h5 to directory /QoBuXC/output\n"
     ]
    },
    {
     "name": "stderr",
     "output_type": "stream",
     "text": [
      "2022-08-23 22:58:14,580 [ForkPoolWorker-4:gedi_subset.maapx] [DEBUG] Downloading granule GEDI_L4A_AGB_Density_V2_1.GEDI04_A_2019143021311_O02504_03_T01425_02_002_02_V002.h5 to directory /QoBuXC/output\n"
     ]
    },
    {
     "name": "stderr",
     "output_type": "stream",
     "text": [
      "2022-08-23 22:58:16,570 [ForkPoolWorker-30:gedi_subset.maapx] [DEBUG] Downloading granule GEDI_L4A_AGB_Density_V2_1.GEDI04_A_2020087233636_O07311_04_T04470_02_002_02_V002.h5 to directory /QoBuXC/output\n"
     ]
    },
    {
     "name": "stderr",
     "output_type": "stream",
     "text": [
      "2022-08-23 22:58:16,614 [ForkPoolWorker-12:gedi_subset.maapx] [DEBUG] Downloading granule GEDI_L4A_AGB_Density_V2_1.GEDI04_A_2019241235335_O04039_01_T03912_02_002_02_V002.h5 to directory /QoBuXC/output\n"
     ]
    },
    {
     "name": "stderr",
     "output_type": "stream",
     "text": [
      "2022-08-23 22:58:16,712 [ForkPoolWorker-2:gedi_subset.maapx] [DEBUG] Downloading granule GEDI_L4A_AGB_Density_V2_1.GEDI04_A_2019121111147_O02168_04_T05021_02_002_02_V002.h5 to directory /QoBuXC/output\n"
     ]
    },
    {
     "name": "stderr",
     "output_type": "stream",
     "text": [
      "2022-08-23 22:58:16,911 [ForkPoolWorker-27:gedi_subset.maapx] [DEBUG] Downloading granule GEDI_L4A_AGB_Density_V2_1.GEDI04_A_2020063220701_O06938_02_T00500_02_002_02_V002.h5 to directory /QoBuXC/output\n"
     ]
    },
    {
     "name": "stderr",
     "output_type": "stream",
     "text": [
      "2022-08-23 22:58:17,099 [ForkPoolWorker-4:gedi_subset.maapx] [DEBUG] Downloading granule GEDI_L4A_AGB_Density_V2_1.GEDI04_A_2019146011955_O02550_03_T02940_02_002_02_V002.h5 to directory /QoBuXC/output\n"
     ]
    },
    {
     "name": "stderr",
     "output_type": "stream",
     "text": [
      "2022-08-23 22:58:18,248 [ForkPoolWorker-5:gedi_subset.maapx] [DEBUG] Downloading granule GEDI_L4A_AGB_Density_V2_1.GEDI04_A_2019156210541_O02718_03_T01058_02_002_02_V002.h5 to directory /QoBuXC/output\n"
     ]
    },
    {
     "name": "stderr",
     "output_type": "stream",
     "text": [
      "2022-08-23 22:58:18,662 [ForkPoolWorker-7:gedi_subset.maapx] [DEBUG] Downloading granule GEDI_L4A_AGB_Density_V2_1.GEDI04_A_2019179005829_O03062_01_T01418_02_002_02_V002.h5 to directory /QoBuXC/output\n"
     ]
    },
    {
     "name": "stderr",
     "output_type": "stream",
     "text": [
      "2022-08-23 22:58:18,944 [ForkPoolWorker-30:gedi_subset.maapx] [DEBUG] Downloading granule GEDI_L4A_AGB_Density_V2_1.GEDI04_A_2020088115951_O07319_01_T02749_02_002_02_V002.h5 to directory /QoBuXC/output\n"
     ]
    },
    {
     "name": "stderr",
     "output_type": "stream",
     "text": [
      "2022-08-23 22:58:19,015 [ForkPoolWorker-12:gedi_subset.maapx] [DEBUG] Downloading granule GEDI_L4A_AGB_Density_V2_1.GEDI04_A_2019241235335_O04039_02_T03912_02_002_02_V002.h5 to directory /QoBuXC/output\n"
     ]
    },
    {
     "name": "stderr",
     "output_type": "stream",
     "text": [
      "2022-08-23 22:58:19,241 [ForkPoolWorker-2:gedi_subset.maapx] [DEBUG] Downloading granule GEDI_L4A_AGB_Density_V2_1.GEDI04_A_2019121233316_O02176_01_T04876_02_002_02_V002.h5 to directory /QoBuXC/output\n"
     ]
    },
    {
     "name": "stderr",
     "output_type": "stream",
     "text": [
      "2022-08-23 22:58:19,466 [ForkPoolWorker-4:gedi_subset.maapx] [DEBUG] Downloading granule GEDI_L4A_AGB_Density_V2_1.GEDI04_A_2019146011955_O02550_04_T02940_02_002_02_V002.h5 to directory /QoBuXC/output\n"
     ]
    },
    {
     "name": "stderr",
     "output_type": "stream",
     "text": [
      "2022-08-23 22:58:19,516 [ForkPoolWorker-27:gedi_subset.maapx] [DEBUG] Downloading granule GEDI_L4A_AGB_Density_V2_1.GEDI04_A_2020064085714_O06945_03_T04623_02_002_02_V002.h5 to directory /QoBuXC/output\n"
     ]
    },
    {
     "name": "stderr",
     "output_type": "stream",
     "text": [
      "2022-08-23 22:58:20,602 [ForkPoolWorker-5:gedi_subset.maapx] [DEBUG] Downloading granule GEDI_L4A_AGB_Density_V2_1.GEDI04_A_2019156210541_O02718_04_T01058_02_002_02_V002.h5 to directory /QoBuXC/output\n"
     ]
    },
    {
     "name": "stderr",
     "output_type": "stream",
     "text": [
      "2022-08-23 22:58:20,674 [ForkPoolWorker-13:gedi_subset.maapx] [DEBUG] Downloading granule GEDI_L4A_AGB_Density_V2_1.GEDI04_A_2019253063627_O04214_03_T03506_02_002_02_V002.h5 to directory /QoBuXC/output\n"
     ]
    },
    {
     "name": "stderr",
     "output_type": "stream",
     "text": [
      "2022-08-23 22:58:20,961 [ForkPoolWorker-7:gedi_subset.maapx] [DEBUG] Downloading granule GEDI_L4A_AGB_Density_V2_1.GEDI04_A_2019179005829_O03062_02_T01418_02_002_02_V002.h5 to directory /QoBuXC/output\n"
     ]
    },
    {
     "name": "stderr",
     "output_type": "stream",
     "text": [
      "2022-08-23 22:58:21,121 [ForkPoolWorker-3:gedi_subset.maapx] [DEBUG] Downloading granule GEDI_L4A_AGB_Density_V2_1.GEDI04_A_2019132064242_O02336_03_T05281_02_002_02_V002.h5 to directory /QoBuXC/output\n"
     ]
    },
    {
     "name": "stderr",
     "output_type": "stream",
     "text": [
      "2022-08-23 22:58:21,134 [ForkPoolWorker-16:gedi_subset.maapx] [DEBUG] Downloading granule GEDI_L4A_AGB_Density_V2_1.GEDI04_A_2019290155834_O04794_03_T01976_02_002_02_V002.h5 to directory /QoBuXC/output\n"
     ]
    },
    {
     "name": "stderr",
     "output_type": "stream",
     "text": [
      "2022-08-23 22:58:21,355 [ForkPoolWorker-30:gedi_subset.maapx] [DEBUG] Downloading granule GEDI_L4A_AGB_Density_V2_1.GEDI04_A_2020091220353_O07372_03_T01624_02_002_02_V002.h5 to directory /QoBuXC/output\n"
     ]
    },
    {
     "name": "stderr",
     "output_type": "stream",
     "text": [
      "2022-08-23 22:58:21,398 [ForkPoolWorker-12:gedi_subset.maapx] [DEBUG] Downloading granule GEDI_L4A_AGB_Density_V2_1.GEDI04_A_2019245095256_O04092_03_T04975_02_002_02_V002.h5 to directory /QoBuXC/output\n"
     ]
    },
    {
     "name": "stderr",
     "output_type": "stream",
     "text": [
      "2022-08-23 22:58:21,434 [ForkPoolWorker-6:gedi_subset.maapx] [DEBUG] Downloading granule GEDI_L4A_AGB_Density_V2_1.GEDI04_A_2019168051318_O02894_02_T01877_02_002_02_V002.h5 to directory /QoBuXC/output\n"
     ]
    },
    {
     "name": "stderr",
     "output_type": "stream",
     "text": [
      "2022-08-23 22:58:21,691 [ForkPoolWorker-2:gedi_subset.maapx] [DEBUG] Downloading granule GEDI_L4A_AGB_Density_V2_1.GEDI04_A_2019121233316_O02176_02_T04876_02_002_02_V002.h5 to directory /QoBuXC/output\n"
     ]
    },
    {
     "name": "stderr",
     "output_type": "stream",
     "text": [
      "2022-08-23 22:58:21,904 [ForkPoolWorker-4:gedi_subset.maapx] [DEBUG] Downloading granule GEDI_L4A_AGB_Density_V2_1.GEDI04_A_2019146134206_O02558_01_T05641_02_002_02_V002.h5 to directory /QoBuXC/output\n"
     ]
    },
    {
     "name": "stderr",
     "output_type": "stream",
     "text": [
      "2022-08-23 22:58:22,104 [ForkPoolWorker-27:gedi_subset.maapx] [DEBUG] Downloading granule GEDI_L4A_AGB_Density_V2_1.GEDI04_A_2020064085714_O06945_04_T04623_02_002_02_V002.h5 to directory /QoBuXC/output\n"
     ]
    },
    {
     "name": "stderr",
     "output_type": "stream",
     "text": [
      "2022-08-23 22:58:22,880 [ForkPoolWorker-5:gedi_subset.maapx] [DEBUG] Downloading granule GEDI_L4A_AGB_Density_V2_1.GEDI04_A_2019157092752_O02726_01_T02336_02_002_02_V002.h5 to directory /QoBuXC/output\n"
     ]
    },
    {
     "name": "stderr",
     "output_type": "stream",
     "text": [
      "2022-08-23 22:58:22,999 [ForkPoolWorker-13:gedi_subset.maapx] [DEBUG] Downloading granule GEDI_L4A_AGB_Density_V2_1.GEDI04_A_2019253063627_O04214_04_T03506_02_002_02_V002.h5 to directory /QoBuXC/output\n"
     ]
    },
    {
     "name": "stderr",
     "output_type": "stream",
     "text": [
      "2022-08-23 22:58:23,388 [ForkPoolWorker-7:gedi_subset.maapx] [DEBUG] Downloading granule GEDI_L4A_AGB_Density_V2_1.GEDI04_A_2019179114752_O03069_03_T02695_02_002_02_V002.h5 to directory /QoBuXC/output\n"
     ]
    },
    {
     "name": "stderr",
     "output_type": "stream",
     "text": [
      "2022-08-23 22:58:23,445 [ForkPoolWorker-16:gedi_subset.maapx] [DEBUG] Downloading granule GEDI_L4A_AGB_Density_V2_1.GEDI04_A_2019290155834_O04794_04_T01976_02_002_02_V002.h5 to directory /QoBuXC/output\n"
     ]
    },
    {
     "name": "stderr",
     "output_type": "stream",
     "text": [
      "2022-08-23 22:58:23,458 [ForkPoolWorker-3:gedi_subset.maapx] [DEBUG] Downloading granule GEDI_L4A_AGB_Density_V2_1.GEDI04_A_2019132064242_O02336_04_T05281_02_002_02_V002.h5 to directory /QoBuXC/output\n"
     ]
    },
    {
     "name": "stderr",
     "output_type": "stream",
     "text": [
      "2022-08-23 22:58:23,588 [ForkPoolWorker-30:gedi_subset.maapx] [DEBUG] Downloading granule GEDI_L4A_AGB_Density_V2_1.GEDI04_A_2020091220353_O07372_04_T01624_02_002_02_V002.h5 to directory /QoBuXC/output\n"
     ]
    },
    {
     "name": "stderr",
     "output_type": "stream",
     "text": [
      "2022-08-23 22:58:23,611 [ForkPoolWorker-12:gedi_subset.maapx] [DEBUG] Downloading granule GEDI_L4A_AGB_Density_V2_1.GEDI04_A_2019245095256_O04092_04_T04975_02_002_02_V002.h5 to directory /QoBuXC/output\n"
     ]
    },
    {
     "name": "stderr",
     "output_type": "stream",
     "text": [
      "2022-08-23 22:58:23,694 [ForkPoolWorker-6:gedi_subset.maapx] [DEBUG] Downloading granule GEDI_L4A_AGB_Density_V2_1.GEDI04_A_2019168160242_O02901_03_T03001_02_002_02_V002.h5 to directory /QoBuXC/output\n"
     ]
    },
    {
     "name": "stderr",
     "output_type": "stream",
     "text": [
      "2022-08-23 22:58:23,839 [ForkPoolWorker-2:gedi_subset.maapx] [DEBUG] Downloading granule GEDI_L4A_AGB_Density_V2_1.GEDI04_A_2019125092535_O02229_03_T01165_02_002_02_V002.h5 to directory /QoBuXC/output\n"
     ]
    },
    {
     "name": "stderr",
     "output_type": "stream",
     "text": [
      "2022-08-23 22:58:24,011 [ForkPoolWorker-4:gedi_subset.maapx] [DEBUG] Downloading granule GEDI_L4A_AGB_Density_V2_1.GEDI04_A_2019146134206_O02558_02_T05641_02_002_02_V002.h5 to directory /QoBuXC/output\n"
     ]
    },
    {
     "name": "stderr",
     "output_type": "stream",
     "text": [
      "2022-08-23 22:58:24,172 [ForkPoolWorker-27:gedi_subset.maapx] [DEBUG] Downloading granule GEDI_L4A_AGB_Density_V2_1.GEDI04_A_2020064212020_O06953_01_T04019_02_002_02_V002.h5 to directory /QoBuXC/output\n"
     ]
    },
    {
     "name": "stderr",
     "output_type": "stream",
     "text": [
      "2022-08-23 22:58:24,371 [ForkPoolWorker-8:gedi_subset.maapx] [DEBUG] Downloading granule GEDI_L4A_AGB_Density_V2_1.GEDI04_A_2019190073422_O03237_03_T02083_02_002_02_V002.h5 to directory /QoBuXC/output\n"
     ]
    },
    {
     "name": "stderr",
     "output_type": "stream",
     "text": [
      "2022-08-23 22:58:24,805 [ForkPoolWorker-17:gedi_subset.maapx] [DEBUG] Downloading granule GEDI_L4A_AGB_Density_V2_1.GEDI04_A_2019298124345_O04916_03_T01777_02_002_02_V002.h5 to directory /QoBuXC/output\n"
     ]
    },
    {
     "name": "stderr",
     "output_type": "stream",
     "text": [
      "2022-08-23 22:58:24,954 [ForkPoolWorker-13:gedi_subset.maapx] [DEBUG] Downloading granule GEDI_L4A_AGB_Density_V2_1.GEDI04_A_2019256054558_O04260_04_T02022_02_002_02_V002.h5 to directory /QoBuXC/output\n"
     ]
    },
    {
     "name": "stderr",
     "output_type": "stream",
     "text": [
      "2022-08-23 22:58:25,006 [ForkPoolWorker-5:gedi_subset.maapx] [DEBUG] Downloading granule GEDI_L4A_AGB_Density_V2_1.GEDI04_A_2019157092752_O02726_02_T02336_02_002_02_V002.h5 to directory /QoBuXC/output\n"
     ]
    },
    {
     "name": "stderr",
     "output_type": "stream",
     "text": [
      "2022-08-23 22:58:25,010 [ForkPoolWorker-10:gedi_subset.maapx] [DEBUG] Downloading granule GEDI_L4A_AGB_Density_V2_1.GEDI04_A_2019215212856_O03634_04_T01624_02_002_02_V002.h5 to directory /QoBuXC/output\n"
     ]
    },
    {
     "name": "stderr",
     "output_type": "stream",
     "text": [
      "2022-08-23 22:58:25,419 [ForkPoolWorker-20:gedi_subset.maapx] [DEBUG] Downloading granule GEDI_L4A_AGB_Density_V2_1.GEDI04_A_2019328134500_O05382_02_T05534_02_002_02_V002.h5 to directory /QoBuXC/output\n"
     ]
    },
    {
     "name": "stderr",
     "output_type": "stream",
     "text": [
      "2022-08-23 22:58:25,433 [ForkPoolWorker-3:gedi_subset.maapx] [DEBUG] Downloading granule GEDI_L4A_AGB_Density_V2_1.GEDI04_A_2019132190410_O02344_01_T00867_02_002_02_V002.h5 to directory /QoBuXC/output\n"
     ]
    },
    {
     "name": "stderr",
     "output_type": "stream",
     "text": [
      "2022-08-23 22:58:25,515 [ForkPoolWorker-7:gedi_subset.maapx] [DEBUG] Downloading granule GEDI_L4A_AGB_Density_V2_1.GEDI04_A_2019182105506_O03115_03_T05633_02_002_02_V002.h5 to directory /QoBuXC/output\n"
     ]
    },
    {
     "name": "stderr",
     "output_type": "stream",
     "text": [
      "2022-08-23 22:58:25,544 [ForkPoolWorker-16:gedi_subset.maapx] [DEBUG] Downloading granule GEDI_L4A_AGB_Density_V2_1.GEDI04_A_2019291042113_O04802_01_T04524_02_002_02_V002.h5 to directory /QoBuXC/output\n"
     ]
    },
    {
     "name": "stderr",
     "output_type": "stream",
     "text": [
      "2022-08-23 22:58:25,645 [ForkPoolWorker-22:gedi_subset.maapx] [DEBUG] Downloading granule GEDI_L4A_AGB_Density_V2_1.GEDI04_A_2020009191531_O06099_01_T01525_02_002_02_V002.h5 to directory /QoBuXC/output\n"
     ]
    },
    {
     "name": "stderr",
     "output_type": "stream",
     "text": [
      "2022-08-23 22:58:25,792 [ForkPoolWorker-12:gedi_subset.maapx] [DEBUG] Downloading granule GEDI_L4A_AGB_Density_V2_1.GEDI04_A_2019245221529_O04100_01_T00408_02_002_02_V002.h5 to directory /QoBuXC/output\n"
     ]
    },
    {
     "name": "stderr",
     "output_type": "stream",
     "text": [
      "2022-08-23 22:58:25,803 [ForkPoolWorker-30:gedi_subset.maapx] [DEBUG] Downloading granule GEDI_L4A_AGB_Density_V2_1.GEDI04_A_2020092102708_O07380_01_T02596_02_002_02_V002.h5 to directory /QoBuXC/output\n"
     ]
    },
    {
     "name": "stderr",
     "output_type": "stream",
     "text": [
      "2022-08-23 22:58:25,976 [ForkPoolWorker-6:gedi_subset.maapx] [DEBUG] Downloading granule GEDI_L4A_AGB_Density_V2_1.GEDI04_A_2019171151005_O02947_03_T01823_02_002_02_V002.h5 to directory /QoBuXC/output\n"
     ]
    },
    {
     "name": "stderr",
     "output_type": "stream",
     "text": [
      "2022-08-23 22:58:26,005 [ForkPoolWorker-2:gedi_subset.maapx] [DEBUG] Downloading granule GEDI_L4A_AGB_Density_V2_1.GEDI04_A_2019125092535_O02229_04_T01165_02_002_02_V002.h5 to directory /QoBuXC/output\n"
     ]
    },
    {
     "name": "stderr",
     "output_type": "stream",
     "text": [
      "2022-08-23 22:58:26,012 [ForkPoolWorker-23:gedi_subset.maapx] [DEBUG] Downloading granule GEDI_L4A_AGB_Density_V2_1.GEDI04_A_2020021020726_O06274_04_T05434_02_002_02_V002.h5 to directory /QoBuXC/output\n"
     ]
    },
    {
     "name": "stderr",
     "output_type": "stream",
     "text": [
      "2022-08-23 22:58:26,050 [ForkPoolWorker-24:gedi_subset.maapx] [DEBUG] Downloading granule GEDI_L4A_AGB_Density_V2_1.GEDI04_A_2020032212609_O06457_04_T01318_02_002_02_V002.h5 to directory /QoBuXC/output\n"
     ]
    },
    {
     "name": "stderr",
     "output_type": "stream",
     "text": [
      "2022-08-23 22:58:26,056 [ForkPoolWorker-9:gedi_subset.maapx] [DEBUG] Downloading granule GEDI_L4A_AGB_Density_V2_1.GEDI04_A_2019201032158_O03405_04_T05587_02_002_02_V002.h5 to directory /QoBuXC/output\n"
     ]
    },
    {
     "name": "stderr",
     "output_type": "stream",
     "text": [
      "2022-08-23 22:58:26,064 [ForkPoolWorker-4:gedi_subset.maapx] [DEBUG] Downloading granule GEDI_L4A_AGB_Density_V2_1.GEDI04_A_2019149124939_O02604_02_T00041_02_002_02_V002.h5 to directory /QoBuXC/output\n"
     ]
    },
    {
     "name": "stderr",
     "output_type": "stream",
     "text": [
      "2022-08-23 22:58:26,107 [ForkPoolWorker-19:gedi_subset.maapx] [DEBUG] Downloading granule GEDI_L4A_AGB_Density_V2_1.GEDI04_A_2019317174742_O05214_01_T03407_02_002_02_V002.h5 to directory /QoBuXC/output\n"
     ]
    },
    {
     "name": "stderr",
     "output_type": "stream",
     "text": [
      "2022-08-23 22:58:26,148 [ForkPoolWorker-27:gedi_subset.maapx] [DEBUG] Downloading granule GEDI_L4A_AGB_Density_V2_1.GEDI04_A_2020068072326_O07006_03_T00201_02_002_02_V002.h5 to directory /QoBuXC/output\n"
     ]
    },
    {
     "name": "stderr",
     "output_type": "stream",
     "text": [
      "2022-08-23 22:58:26,273 [ForkPoolWorker-8:gedi_subset.maapx] [DEBUG] Downloading granule GEDI_L4A_AGB_Density_V2_1.GEDI04_A_2019190073422_O03237_04_T02083_02_002_02_V002.h5 to directory /QoBuXC/output\n"
     ]
    },
    {
     "name": "stderr",
     "output_type": "stream",
     "text": [
      "2022-08-23 22:58:26,658 [ForkPoolWorker-1:gedi_subset.maapx] [DEBUG] Downloading granule GEDI_L4A_AGB_Density_V2_1.GEDI04_A_2019111145043_O02015_03_T00201_02_002_02_V002.h5 to directory /QoBuXC/output\n"
     ]
    },
    {
     "name": "stderr",
     "output_type": "stream",
     "text": [
      "2022-08-23 22:58:26,792 [ForkPoolWorker-17:gedi_subset.maapx] [DEBUG] Downloading granule GEDI_L4A_AGB_Density_V2_1.GEDI04_A_2019298124345_O04916_04_T01777_02_002_02_V002.h5 to directory /QoBuXC/output\n"
     ]
    },
    {
     "name": "stderr",
     "output_type": "stream",
     "text": [
      "2022-08-23 22:58:27,691 [ForkPoolWorker-10:gedi_subset.maapx] [DEBUG] Downloading granule GEDI_L4A_AGB_Density_V2_1.GEDI04_A_2019216095110_O03642_01_T01326_02_002_02_V002.h5 to directory /QoBuXC/output\n"
     ]
    },
    {
     "name": "stderr",
     "output_type": "stream",
     "text": [
      "2022-08-23 22:58:27,702 [ForkPoolWorker-13:gedi_subset.maapx] [DEBUG] Downloading granule GEDI_L4A_AGB_Density_V2_1.GEDI04_A_2019256180829_O04268_01_T04570_02_002_02_V002.h5 to directory /QoBuXC/output\n"
     ]
    },
    {
     "name": "stderr",
     "output_type": "stream",
     "text": [
      "2022-08-23 22:58:27,982 [ForkPoolWorker-5:gedi_subset.maapx] [DEBUG] Downloading granule GEDI_L4A_AGB_Density_V2_1.GEDI04_A_2019160192444_O02779_03_T02282_02_002_02_V002.h5 to directory /QoBuXC/output\n"
     ]
    },
    {
     "name": "stderr",
     "output_type": "stream",
     "text": [
      "2022-08-23 22:58:28,143 [ForkPoolWorker-15:gedi_subset.maapx] [DEBUG] Downloading granule GEDI_L4A_AGB_Density_V2_1.GEDI04_A_2019279200308_O04626_04_T03812_02_002_02_V002.h5 to directory /QoBuXC/output\n"
     ]
    },
    {
     "name": "stderr",
     "output_type": "stream",
     "text": [
      "2022-08-23 22:58:28,160 [ForkPoolWorker-20:gedi_subset.maapx] [DEBUG] Downloading granule GEDI_L4A_AGB_Density_V2_1.GEDI04_A_2019329003452_O05389_03_T02542_02_002_02_V002.h5 to directory /QoBuXC/output\n"
     ]
    },
    {
     "name": "stderr",
     "output_type": "stream",
     "text": [
      "2022-08-23 22:58:28,165 [ForkPoolWorker-3:gedi_subset.maapx] [DEBUG] Downloading granule GEDI_L4A_AGB_Density_V2_1.GEDI04_A_2019135054606_O02382_04_T01869_02_002_02_V002.h5 to directory /QoBuXC/output\n"
     ]
    },
    {
     "name": "stderr",
     "output_type": "stream",
     "text": [
      "2022-08-23 22:58:28,189 [ForkPoolWorker-16:gedi_subset.maapx] [DEBUG] Downloading granule GEDI_L4A_AGB_Density_V2_1.GEDI04_A_2019291042113_O04802_02_T04524_02_002_02_V002.h5 to directory /QoBuXC/output\n"
     ]
    },
    {
     "name": "stderr",
     "output_type": "stream",
     "text": [
      "2022-08-23 22:58:28,199 [ForkPoolWorker-22:gedi_subset.maapx] [DEBUG] Downloading granule GEDI_L4A_AGB_Density_V2_1.GEDI04_A_2020009191531_O06099_02_T01525_02_002_02_V002.h5 to directory /QoBuXC/output\n"
     ]
    },
    {
     "name": "stderr",
     "output_type": "stream",
     "text": [
      "2022-08-23 22:58:28,217 [ForkPoolWorker-7:gedi_subset.maapx] [DEBUG] Downloading granule GEDI_L4A_AGB_Density_V2_1.GEDI04_A_2019182105506_O03115_04_T05633_02_002_02_V002.h5 to directory /QoBuXC/output\n"
     ]
    },
    {
     "name": "stderr",
     "output_type": "stream",
     "text": [
      "2022-08-23 22:58:28,381 [ForkPoolWorker-12:gedi_subset.maapx] [DEBUG] Downloading granule GEDI_L4A_AGB_Density_V2_1.GEDI04_A_2019248212459_O04146_02_T00194_02_002_02_V002.h5 to directory /QoBuXC/output\n"
     ]
    },
    {
     "name": "stderr",
     "output_type": "stream",
     "text": [
      "2022-08-23 22:58:28,433 [ForkPoolWorker-30:gedi_subset.maapx] [DEBUG] Downloading granule GEDI_L4A_AGB_Density_V2_1.GEDI04_A_2020095094113_O07426_01_T01923_02_002_02_V002.h5 to directory /QoBuXC/output\n"
     ]
    },
    {
     "name": "stderr",
     "output_type": "stream",
     "text": [
      "2022-08-23 22:58:28,440 [ForkPoolWorker-2:gedi_subset.maapx] [DEBUG] Downloading granule GEDI_L4A_AGB_Density_V2_1.GEDI04_A_2019128082902_O02275_04_T03292_02_002_02_V002.h5 to directory /QoBuXC/output\n"
     ]
    },
    {
     "name": "stderr",
     "output_type": "stream",
     "text": [
      "2022-08-23 22:58:28,451 [ForkPoolWorker-6:gedi_subset.maapx] [DEBUG] Downloading granule GEDI_L4A_AGB_Density_V2_1.GEDI04_A_2019171151005_O02947_04_T01823_02_002_02_V002.h5 to directory /QoBuXC/output\n"
     ]
    },
    {
     "name": "stderr",
     "output_type": "stream",
     "text": [
      "2022-08-23 22:58:28,458 [ForkPoolWorker-31:gedi_subset.maapx] [DEBUG] Downloading granule GEDI_L4A_AGB_Density_V2_1.GEDI04_A_2020095203140_O07433_04_T04317_02_002_02_V002.h5 to directory /QoBuXC/output\n"
     ]
    },
    {
     "name": "stderr",
     "output_type": "stream",
     "text": [
      "2022-08-23 22:58:28,471 [ForkPoolWorker-21:gedi_subset.maapx] [DEBUG] Downloading granule GEDI_L4A_AGB_Density_V2_1.GEDI04_A_2019348054014_O05687_01_T03713_02_002_02_V002.h5 to directory /QoBuXC/output\n"
     ]
    },
    {
     "name": "stderr",
     "output_type": "stream",
     "text": [
      "2022-08-23 22:58:28,479 [ForkPoolWorker-32:gedi_subset.maapx] [DEBUG] Downloading granule GEDI_L4A_AGB_Density_V2_1.GEDI04_A_2020111142331_O07677_03_T00553_02_002_02_V002.h5 to directory /QoBuXC/output\n"
     ]
    },
    {
     "name": "stderr",
     "output_type": "stream",
     "text": [
      "2022-08-23 22:58:28,486 [ForkPoolWorker-29:gedi_subset.maapx] [DEBUG] Downloading granule GEDI_L4A_AGB_Density_V2_1.GEDI04_A_2020079155136_O07182_02_T03652_02_002_02_V002.h5 to directory /QoBuXC/output\n"
     ]
    },
    {
     "name": "stderr",
     "output_type": "stream",
     "text": [
      "2022-08-23 22:58:28,499 [ForkPoolWorker-26:gedi_subset.maapx] [DEBUG] Downloading granule GEDI_L4A_AGB_Density_V2_1.GEDI04_A_2020056120441_O06823_03_T00048_02_002_02_V002.h5 to directory /QoBuXC/output\n"
     ]
    },
    {
     "name": "stderr",
     "output_type": "stream",
     "text": [
      "2022-08-23 22:58:28,510 [ForkPoolWorker-23:gedi_subset.maapx] [DEBUG] Downloading granule GEDI_L4A_AGB_Density_V2_1.GEDI04_A_2020021143022_O06282_01_T05136_02_002_02_V002.h5 to directory /QoBuXC/output\n"
     ]
    },
    {
     "name": "stderr",
     "output_type": "stream",
     "text": [
      "2022-08-23 22:58:28,515 [ForkPoolWorker-28:gedi_subset.maapx] [DEBUG] Downloading granule GEDI_L4A_AGB_Density_V2_1.GEDI04_A_2020072054936_O07067_03_T01777_02_002_02_V002.h5 to directory /QoBuXC/output\n"
     ]
    },
    {
     "name": "stderr",
     "output_type": "stream",
     "text": [
      "2022-08-23 22:58:28,715 [ForkPoolWorker-11:gedi_subset.maapx] [DEBUG] Downloading granule GEDI_L4A_AGB_Density_V2_1.GEDI04_A_2019230044746_O03856_02_T04769_02_002_02_V002.h5 to directory /QoBuXC/output\n"
     ]
    },
    {
     "name": "stderr",
     "output_type": "stream",
     "text": [
      "2022-08-23 22:58:28,727 [ForkPoolWorker-24:gedi_subset.maapx] [DEBUG] Downloading granule GEDI_L4A_AGB_Density_V2_1.GEDI04_A_2020033094918_O06465_01_T00867_02_002_02_V002.h5 to directory /QoBuXC/output\n"
     ]
    },
    {
     "name": "stderr",
     "output_type": "stream",
     "text": [
      "2022-08-23 22:58:28,730 [ForkPoolWorker-25:gedi_subset.maapx] [DEBUG] Downloading granule GEDI_L4A_AGB_Density_V2_1.GEDI04_A_2020048042146_O06694_01_T01770_02_002_02_V002.h5 to directory /QoBuXC/output\n"
     ]
    },
    {
     "name": "stderr",
     "output_type": "stream",
     "text": [
      "2022-08-23 22:58:28,738 [ForkPoolWorker-27:gedi_subset.maapx] [DEBUG] Downloading granule GEDI_L4A_AGB_Density_V2_1.GEDI04_A_2020068072326_O07006_04_T00201_02_002_02_V002.h5 to directory /QoBuXC/output\n"
     ]
    },
    {
     "name": "stderr",
     "output_type": "stream",
     "text": [
      "2022-08-23 22:58:28,796 [ForkPoolWorker-14:gedi_subset.maapx] [DEBUG] Downloading granule GEDI_L4A_AGB_Density_V2_1.GEDI04_A_2019271231724_O04504_03_T01318_02_002_02_V002.h5 to directory /QoBuXC/output\n"
     ]
    },
    {
     "name": "stderr",
     "output_type": "stream",
     "text": [
      "2022-08-23 22:58:28,807 [ForkPoolWorker-18:gedi_subset.maapx] [DEBUG] Downloading granule GEDI_L4A_AGB_Density_V2_1.GEDI04_A_2019313070136_O05145_03_T00400_02_002_02_V002.h5 to directory /QoBuXC/output\n"
     ]
    },
    {
     "name": "stderr",
     "output_type": "stream",
     "text": [
      "2022-08-23 22:58:29,049 [ForkPoolWorker-8:gedi_subset.maapx] [DEBUG] Downloading granule GEDI_L4A_AGB_Density_V2_1.GEDI04_A_2019193064225_O03283_04_T03445_02_002_02_V002.h5 to directory /QoBuXC/output\n"
     ]
    },
    {
     "name": "stderr",
     "output_type": "stream",
     "text": [
      "2022-08-23 22:58:29,444 [ForkPoolWorker-1:gedi_subset.maapx] [DEBUG] Downloading granule GEDI_L4A_AGB_Density_V2_1.GEDI04_A_2019111145043_O02015_04_T00201_02_002_02_V002.h5 to directory /QoBuXC/output\n"
     ]
    },
    {
     "name": "stderr",
     "output_type": "stream",
     "text": [
      "2022-08-23 22:58:29,449 [ForkPoolWorker-9:gedi_subset.maapx] [DEBUG] Downloading granule GEDI_L4A_AGB_Density_V2_1.GEDI04_A_2019204145213_O03459_01_T05381_02_002_02_V002.h5 to directory /QoBuXC/output\n"
     ]
    },
    {
     "name": "stderr",
     "output_type": "stream",
     "text": [
      "2022-08-23 22:58:30,046 [ForkPoolWorker-17:gedi_subset.maapx] [DEBUG] Downloading granule GEDI_L4A_AGB_Density_V2_1.GEDI04_A_2019299010623_O04924_01_T01479_02_002_02_V002.h5 to directory /QoBuXC/output\n"
     ]
    },
    {
     "name": "stderr",
     "output_type": "stream",
     "text": [
      "2022-08-23 22:58:30,107 [ForkPoolWorker-13:gedi_subset.maapx] [DEBUG] Downloading granule GEDI_L4A_AGB_Density_V2_1.GEDI04_A_2019256180829_O04268_02_T04570_02_002_02_V002.h5 to directory /QoBuXC/output\n"
     ]
    },
    {
     "name": "stderr",
     "output_type": "stream",
     "text": [
      "2022-08-23 22:58:30,143 [ForkPoolWorker-10:gedi_subset.maapx] [DEBUG] Downloading granule GEDI_L4A_AGB_Density_V2_1.GEDI04_A_2019218203648_O03680_04_T02986_02_002_02_V002.h5 to directory /QoBuXC/output\n"
     ]
    },
    {
     "name": "stderr",
     "output_type": "stream",
     "text": [
      "2022-08-23 22:58:30,632 [ForkPoolWorker-5:gedi_subset.maapx] [DEBUG] Downloading granule GEDI_L4A_AGB_Density_V2_1.GEDI04_A_2019160192444_O02779_04_T02282_02_002_02_V002.h5 to directory /QoBuXC/output\n"
     ]
    },
    {
     "name": "stderr",
     "output_type": "stream",
     "text": [
      "2022-08-23 22:58:30,864 [ForkPoolWorker-7:gedi_subset.maapx] [DEBUG] Downloading granule GEDI_L4A_AGB_Density_V2_1.GEDI04_A_2019182231714_O03123_01_T02642_02_002_02_V002.h5 to directory /QoBuXC/output\n"
     ]
    },
    {
     "name": "stderr",
     "output_type": "stream",
     "text": [
      "2022-08-23 22:58:30,866 [ForkPoolWorker-16:gedi_subset.maapx] [DEBUG] Downloading granule GEDI_L4A_AGB_Density_V2_1.GEDI04_A_2019294142111_O04855_03_T02588_02_002_02_V002.h5 to directory /QoBuXC/output\n"
     ]
    },
    {
     "name": "stderr",
     "output_type": "stream",
     "text": [
      "2022-08-23 22:58:31,200 [ForkPoolWorker-12:gedi_subset.maapx] [DEBUG] Downloading granule GEDI_L4A_AGB_Density_V2_1.GEDI04_A_2019249081442_O04153_03_T04317_02_002_02_V002.h5 to directory /QoBuXC/output\n"
     ]
    },
    {
     "name": "stderr",
     "output_type": "stream",
     "text": [
      "2022-08-23 22:58:31,203 [ForkPoolWorker-22:gedi_subset.maapx] [DEBUG] Downloading granule GEDI_L4A_AGB_Density_V2_1.GEDI04_A_2020013051735_O06152_03_T02129_02_002_02_V002.h5 to directory /QoBuXC/output\n"
     ]
    },
    {
     "name": "stderr",
     "output_type": "stream",
     "text": [
      "2022-08-23 22:58:31,360 [ForkPoolWorker-6:gedi_subset.maapx] [DEBUG] Downloading granule GEDI_L4A_AGB_Density_V2_1.GEDI04_A_2019175023936_O03001_01_T03040_02_002_02_V002.h5 to directory /QoBuXC/output\n"
     ]
    },
    {
     "name": "stderr",
     "output_type": "stream",
     "text": [
      "2022-08-23 22:58:31,389 [ForkPoolWorker-31:gedi_subset.maapx] [DEBUG] Downloading granule GEDI_L4A_AGB_Density_V2_1.GEDI04_A_2020096085502_O07441_01_T05136_02_002_02_V002.h5 to directory /QoBuXC/output\n"
     ]
    },
    {
     "name": "stderr",
     "output_type": "stream",
     "text": [
      "2022-08-23 22:58:31,609 [ForkPoolWorker-2:gedi_subset.maapx] [DEBUG] Downloading granule GEDI_L4A_AGB_Density_V2_1.GEDI04_A_2019128205030_O02283_01_T03147_02_002_02_V002.h5 to directory /QoBuXC/output\n"
     ]
    },
    {
     "name": "stderr",
     "output_type": "stream",
     "text": [
      "2022-08-23 22:58:31,802 [ForkPoolWorker-25:gedi_subset.maapx] [DEBUG] Downloading granule GEDI_L4A_AGB_Density_V2_1.GEDI04_A_2020048042146_O06694_02_T01770_02_002_02_V002.h5 to directory /QoBuXC/output\n"
     ]
    },
    {
     "name": "stderr",
     "output_type": "stream",
     "text": [
      "2022-08-23 22:58:31,850 [ForkPoolWorker-29:gedi_subset.maapx] [DEBUG] Downloading granule GEDI_L4A_AGB_Density_V2_1.GEDI04_A_2020080024156_O07189_03_T03353_02_002_02_V002.h5 to directory /QoBuXC/output\n"
     ]
    },
    {
     "name": "stderr",
     "output_type": "stream",
     "text": [
      "2022-08-23 22:58:31,851 [ForkPoolWorker-26:gedi_subset.maapx] [DEBUG] Downloading granule GEDI_L4A_AGB_Density_V2_1.GEDI04_A_2020056120441_O06823_04_T00048_02_002_02_V002.h5 to directory /QoBuXC/output\n"
     ]
    },
    {
     "name": "stderr",
     "output_type": "stream",
     "text": [
      "2022-08-23 22:58:31,876 [ForkPoolWorker-4:gedi_subset.maapx] [DEBUG] Downloading granule GEDI_L4A_AGB_Density_V2_1.GEDI04_A_2019149233903_O02611_03_T02741_02_002_02_V002.h5 to directory /QoBuXC/output\n"
     ]
    },
    {
     "name": "stderr",
     "output_type": "stream",
     "text": [
      "2022-08-23 22:58:31,901 [ForkPoolWorker-27:gedi_subset.maapx] [DEBUG] Downloading granule GEDI_L4A_AGB_Density_V2_1.GEDI04_A_2020119233820_O07807_01_T04677_02_002_02_V002.h5 to directory /QoBuXC/output\n"
     ]
    },
    {
     "name": "stderr",
     "output_type": "stream",
     "text": [
      "2022-08-23 22:58:31,902 [ForkPoolWorker-27:gedi_subset.maapx] [DEBUG] Obtaining S3 credentials from https://data.ornldaac.earthdata.nasa.gov/s3credentials\n"
     ]
    },
    {
     "name": "stderr",
     "output_type": "stream",
     "text": [
      "Traceback (most recent call last):\n"
     ]
    },
    {
     "name": "stderr",
     "output_type": "stream",
     "text": [
      "  File \"/home/jovyan/maap-documentation-examples/gedi-subset/src/subset.py\", line 264, in <module>\n"
     ]
    },
    {
     "name": "stderr",
     "output_type": "stream",
     "text": [
      "    typer.run(main)\n"
     ]
    },
    {
     "name": "stderr",
     "output_type": "stream",
     "text": [
      "  File \"/opt/conda/envs/gedi_subset/lib/python3.10/site-packages/typer/main.py\", line 864, in run\n"
     ]
    },
    {
     "name": "stderr",
     "output_type": "stream",
     "text": [
      "    app()\n"
     ]
    },
    {
     "name": "stderr",
     "output_type": "stream",
     "text": [
      "  File \"/opt/conda/envs/gedi_subset/lib/python3.10/site-packages/typer/main.py\", line 214, in __call__\n"
     ]
    },
    {
     "name": "stderr",
     "output_type": "stream",
     "text": [
      "    return get_command(self)(*args, **kwargs)\n"
     ]
    },
    {
     "name": "stderr",
     "output_type": "stream",
     "text": [
      "  File \"/opt/conda/envs/gedi_subset/lib/python3.10/site-packages/click/core.py\", line 1130, in __call__\n"
     ]
    },
    {
     "name": "stderr",
     "output_type": "stream",
     "text": [
      "    return self.main(*args, **kwargs)\n"
     ]
    },
    {
     "name": "stderr",
     "output_type": "stream",
     "text": [
      "  File \"/opt/conda/envs/gedi_subset/lib/python3.10/site-packages/click/core.py\", line 1055, in main\n"
     ]
    },
    {
     "name": "stderr",
     "output_type": "stream",
     "text": [
      "    rv = self.invoke(ctx)\n"
     ]
    },
    {
     "name": "stderr",
     "output_type": "stream",
     "text": [
      "  File \"/opt/conda/envs/gedi_subset/lib/python3.10/site-packages/click/core.py\", line 1404, in invoke\n"
     ]
    },
    {
     "name": "stderr",
     "output_type": "stream",
     "text": [
      "    return ctx.invoke(self.callback, **ctx.params)\n"
     ]
    },
    {
     "name": "stderr",
     "output_type": "stream",
     "text": [
      "  File \"/opt/conda/envs/gedi_subset/lib/python3.10/site-packages/click/core.py\", line 760, in invoke\n"
     ]
    },
    {
     "name": "stderr",
     "output_type": "stream",
     "text": [
      "    return __callback(*args, **kwargs)\n"
     ]
    },
    {
     "name": "stderr",
     "output_type": "stream",
     "text": [
      "  File \"/opt/conda/envs/gedi_subset/lib/python3.10/site-packages/typer/main.py\", line 500, in wrapper\n"
     ]
    },
    {
     "name": "stderr",
     "output_type": "stream",
     "text": [
      "    return callback(**use_params)  # type: ignore\n"
     ]
    },
    {
     "name": "stderr",
     "output_type": "stream",
     "text": [
      "  File \"/home/jovyan/maap-documentation-examples/gedi-subset/src/subset.py\", line 232, in main\n"
     ]
    },
    {
     "name": "stderr",
     "output_type": "stream",
     "text": [
      "    IOResult.do(\n"
     ]
    },
    {
     "name": "stderr",
     "output_type": "stream",
     "text": [
      "  File \"/opt/conda/envs/gedi_subset/lib/python3.10/site-packages/returns/io.py\", line 685, in do\n"
     ]
    },
    {
     "name": "stderr",
     "output_type": "stream",
     "text": [
      "    return IOResult.from_value(next(expr))\n"
     ]
    },
    {
     "name": "stderr",
     "output_type": "stream",
     "text": [
      "  File \"/home/jovyan/maap-documentation-examples/gedi-subset/src/subset.py\", line 242, in <genexpr>\n"
     ]
    },
    {
     "name": "stderr",
     "output_type": "stream",
     "text": [
      "    for subsets in subset_granules(\n"
     ]
    },
    {
     "name": "stderr",
     "output_type": "stream",
     "text": [
      "  File \"/home/jovyan/maap-documentation-examples/gedi-subset/src/subset.py\", line 150, in subset_granules\n"
     ]
    },
    {
     "name": "stderr",
     "output_type": "stream",
     "text": [
      "    return flow(\n"
     ]
    },
    {
     "name": "stderr",
     "output_type": "stream",
     "text": [
      "  File \"/opt/conda/envs/gedi_subset/lib/python3.10/site-packages/returns/_internal/pipeline/flow.py\", line 50, in flow\n"
     ]
    },
    {
     "name": "stderr",
     "output_type": "stream",
     "text": [
      "    return reduce(  # type: ignore\n"
     ]
    },
    {
     "name": "stderr",
     "output_type": "stream",
     "text": [
      "  File \"/opt/conda/envs/gedi_subset/lib/python3.10/site-packages/returns/_internal/pipeline/flow.py\", line 51, in <lambda>\n"
     ]
    },
    {
     "name": "stderr",
     "output_type": "stream",
     "text": [
      "    lambda composed, function: function(composed),  # type: ignore\n"
     ]
    },
    {
     "name": "stderr",
     "output_type": "stream",
     "text": [
      "  File \"/opt/conda/envs/gedi_subset/lib/python3.10/site-packages/returns/iterables.py\", line 157, in collect\n"
     ]
    },
    {
     "name": "stderr",
     "output_type": "stream",
     "text": [
      "    return cls._collect(iterable, acc)\n"
     ]
    },
    {
     "name": "stderr",
     "output_type": "stream",
     "text": [
      "  File \"/opt/conda/envs/gedi_subset/lib/python3.10/site-packages/returns/iterables.py\", line 279, in _collect\n"
     ]
    },
    {
     "name": "stderr",
     "output_type": "stream",
     "text": [
      "    return cls._loop(\n"
     ]
    },
    {
     "name": "stderr",
     "output_type": "stream",
     "text": [
      "  File \"/opt/conda/envs/gedi_subset/lib/python3.10/site-packages/returns/iterables.py\", line 355, in _loop\n"
     ]
    },
    {
     "name": "stderr",
     "output_type": "stream",
     "text": [
      "    for current in iterable:\n"
     ]
    },
    {
     "name": "stderr",
     "output_type": "stream",
     "text": [
      "  File \"/opt/conda/envs/gedi_subset/lib/python3.10/site-packages/returns/pointfree/lash.py\", line 55, in factory\n"
     ]
    },
    {
     "name": "stderr",
     "output_type": "stream",
     "text": [
      "    return container.lash(function)\n"
     ]
    },
    {
     "name": "stderr",
     "output_type": "stream",
     "text": [
      "  File \"/opt/conda/envs/gedi_subset/lib/python3.10/site-packages/returns/io.py\", line 851, in lash\n"
     ]
    },
    {
     "name": "stderr",
     "output_type": "stream",
     "text": [
      "    return function(self._inner_value.failure())\n"
     ]
    },
    {
     "name": "stderr",
     "output_type": "stream",
     "text": [
      "  File \"/opt/conda/envs/gedi_subset/lib/python3.10/site-packages/returns/functions.py\", line 132, in raise_exception\n"
     ]
    },
    {
     "name": "stderr",
     "output_type": "stream",
     "text": [
      "    raise exception\n"
     ]
    },
    {
     "name": "stderr",
     "output_type": "stream",
     "text": [
      "requests.exceptions.HTTPError: 401 Client Error: UNAUTHORIZED for url: https://api.ops.maap-project.org/api/cmr/granules/https%253A%252F%252Fdata.ornldaac.earthdata.nasa.gov%252Fprotected%252Fgedi%252FGEDI_L4A_AGB_Density_V2_1%252Fdata%252FGEDI04_A_2020060103059_O06884_03_T02894_02_002_02_V002.h5/data\n"
     ]
    },
    {
     "name": "stderr",
     "output_type": "stream",
     "text": [
      "ERROR conda.cli.main_run:execute(49): `conda run /home/jovyan/maap-documentation-examples/gedi-subset/src/subset.py --cmr-host cmr.earthdata.nasa.gov --verbose --aoi /var/lib/cwl/stge4d564b0-c551-4781-9e1b-db998c5129ec/geoBoundaries-GAB-ADM0.geojson --columns agbd, agbd_se, l2_quality_flag, l4_quality_flag, sensitivity, sensitivity_a2, lon_lowestmode, lat_lowestmode --query l2_quality_flag == 1 and l4_quality_flag == 1 and sensitivity > 0.95 and sensitivity_a2 > 0.95 --limit 10000` failed. (See above for error)\n"
     ]
    },
    {
     "ename": "CalledProcessError",
     "evalue": "Command 'b'# write a bash script here\\nexport MAAP_PGT=${5}\\nconda run --no-capture-output -n gedi_subset /home/jovyan/maap-documentation-examples/gedi-subset/src/subset.py \\\\\\n    --cmr-host cmr.earthdata.nasa.gov --verbose --aoi \"${1}\" --columns \"${2}\" --query \"${3}\" --limit ${4}\\n'' returned non-zero exit status 1.",
     "output_type": "error",
     "traceback": [
      "\u001b[0;31m---------------------------------------------------------------------------\u001b[0m",
      "\u001b[0;31mCalledProcessError\u001b[0m                        Traceback (most recent call last)",
      "Input \u001b[0;32mIn [3]\u001b[0m, in \u001b[0;36m<cell line: 1>\u001b[0;34m()\u001b[0m\n\u001b[0;32m----> 1\u001b[0m \u001b[43mget_ipython\u001b[49m\u001b[43m(\u001b[49m\u001b[43m)\u001b[49m\u001b[38;5;241;43m.\u001b[39;49m\u001b[43mrun_cell_magic\u001b[49m\u001b[43m(\u001b[49m\u001b[38;5;124;43m'\u001b[39;49m\u001b[38;5;124;43mbash\u001b[39;49m\u001b[38;5;124;43m'\u001b[39;49m\u001b[43m,\u001b[49m\u001b[43m \u001b[49m\u001b[38;5;124;43m'\u001b[39;49m\u001b[38;5;124;43m-s \u001b[39;49m\u001b[38;5;124;43m\"\u001b[39;49m\u001b[38;5;124;43m$aoi\u001b[39;49m\u001b[38;5;124;43m\"\u001b[39;49m\u001b[38;5;124;43m \u001b[39;49m\u001b[38;5;124;43m\"\u001b[39;49m\u001b[38;5;124;43m$columns\u001b[39;49m\u001b[38;5;124;43m\"\u001b[39;49m\u001b[38;5;124;43m \u001b[39;49m\u001b[38;5;124;43m\"\u001b[39;49m\u001b[38;5;124;43m$query\u001b[39;49m\u001b[38;5;124;43m\"\u001b[39;49m\u001b[38;5;124;43m \u001b[39;49m\u001b[38;5;124;43m\"\u001b[39;49m\u001b[38;5;124;43m$limit\u001b[39;49m\u001b[38;5;124;43m\"\u001b[39;49m\u001b[38;5;124;43m \u001b[39;49m\u001b[38;5;124;43m\"\u001b[39;49m\u001b[38;5;124;43m$maappgt\u001b[39;49m\u001b[38;5;124;43m\"\u001b[39;49m\u001b[38;5;124;43m'\u001b[39;49m\u001b[43m,\u001b[49m\u001b[43m \u001b[49m\u001b[38;5;124;43m'\u001b[39;49m\u001b[38;5;124;43m# write a bash script here\u001b[39;49m\u001b[38;5;130;43;01m\\n\u001b[39;49;00m\u001b[38;5;124;43mexport MAAP_PGT=$\u001b[39;49m\u001b[38;5;132;43;01m{5}\u001b[39;49;00m\u001b[38;5;130;43;01m\\n\u001b[39;49;00m\u001b[38;5;124;43mconda run --no-capture-output -n gedi_subset /home/jovyan/maap-documentation-examples/gedi-subset/src/subset.py \u001b[39;49m\u001b[38;5;130;43;01m\\\\\u001b[39;49;00m\u001b[38;5;130;43;01m\\n\u001b[39;49;00m\u001b[38;5;124;43m    --cmr-host cmr.earthdata.nasa.gov --verbose --aoi \u001b[39;49m\u001b[38;5;124;43m\"\u001b[39;49m\u001b[38;5;124;43m$\u001b[39;49m\u001b[38;5;132;43;01m{1}\u001b[39;49;00m\u001b[38;5;124;43m\"\u001b[39;49m\u001b[38;5;124;43m --columns \u001b[39;49m\u001b[38;5;124;43m\"\u001b[39;49m\u001b[38;5;124;43m$\u001b[39;49m\u001b[38;5;132;43;01m{2}\u001b[39;49;00m\u001b[38;5;124;43m\"\u001b[39;49m\u001b[38;5;124;43m --query \u001b[39;49m\u001b[38;5;124;43m\"\u001b[39;49m\u001b[38;5;124;43m$\u001b[39;49m\u001b[38;5;132;43;01m{3}\u001b[39;49;00m\u001b[38;5;124;43m\"\u001b[39;49m\u001b[38;5;124;43m --limit $\u001b[39;49m\u001b[38;5;132;43;01m{4}\u001b[39;49;00m\u001b[38;5;130;43;01m\\n\u001b[39;49;00m\u001b[38;5;124;43m'\u001b[39;49m\u001b[43m)\u001b[49m\n",
      "File \u001b[0;32m/opt/conda/lib/python3.9/site-packages/IPython/core/interactiveshell.py:2358\u001b[0m, in \u001b[0;36mInteractiveShell.run_cell_magic\u001b[0;34m(self, magic_name, line, cell)\u001b[0m\n\u001b[1;32m   2356\u001b[0m \u001b[38;5;28;01mwith\u001b[39;00m \u001b[38;5;28mself\u001b[39m\u001b[38;5;241m.\u001b[39mbuiltin_trap:\n\u001b[1;32m   2357\u001b[0m     args \u001b[38;5;241m=\u001b[39m (magic_arg_s, cell)\n\u001b[0;32m-> 2358\u001b[0m     result \u001b[38;5;241m=\u001b[39m \u001b[43mfn\u001b[49m\u001b[43m(\u001b[49m\u001b[38;5;241;43m*\u001b[39;49m\u001b[43margs\u001b[49m\u001b[43m,\u001b[49m\u001b[43m \u001b[49m\u001b[38;5;241;43m*\u001b[39;49m\u001b[38;5;241;43m*\u001b[39;49m\u001b[43mkwargs\u001b[49m\u001b[43m)\u001b[49m\n\u001b[1;32m   2359\u001b[0m \u001b[38;5;28;01mreturn\u001b[39;00m result\n",
      "File \u001b[0;32m/opt/conda/lib/python3.9/site-packages/IPython/core/magics/script.py:153\u001b[0m, in \u001b[0;36mScriptMagics._make_script_magic.<locals>.named_script_magic\u001b[0;34m(line, cell)\u001b[0m\n\u001b[1;32m    151\u001b[0m \u001b[38;5;28;01melse\u001b[39;00m:\n\u001b[1;32m    152\u001b[0m     line \u001b[38;5;241m=\u001b[39m script\n\u001b[0;32m--> 153\u001b[0m \u001b[38;5;28;01mreturn\u001b[39;00m \u001b[38;5;28;43mself\u001b[39;49m\u001b[38;5;241;43m.\u001b[39;49m\u001b[43mshebang\u001b[49m\u001b[43m(\u001b[49m\u001b[43mline\u001b[49m\u001b[43m,\u001b[49m\u001b[43m \u001b[49m\u001b[43mcell\u001b[49m\u001b[43m)\u001b[49m\n",
      "File \u001b[0;32m/opt/conda/lib/python3.9/site-packages/IPython/core/magics/script.py:305\u001b[0m, in \u001b[0;36mScriptMagics.shebang\u001b[0;34m(self, line, cell)\u001b[0m\n\u001b[1;32m    300\u001b[0m \u001b[38;5;28;01mif\u001b[39;00m args\u001b[38;5;241m.\u001b[39mraise_error \u001b[38;5;129;01mand\u001b[39;00m p\u001b[38;5;241m.\u001b[39mreturncode \u001b[38;5;241m!=\u001b[39m \u001b[38;5;241m0\u001b[39m:\n\u001b[1;32m    301\u001b[0m     \u001b[38;5;66;03m# If we get here and p.returncode is still None, we must have\u001b[39;00m\n\u001b[1;32m    302\u001b[0m     \u001b[38;5;66;03m# killed it but not yet seen its return code. We don't wait for it,\u001b[39;00m\n\u001b[1;32m    303\u001b[0m     \u001b[38;5;66;03m# in case it's stuck in uninterruptible sleep. -9 = SIGKILL\u001b[39;00m\n\u001b[1;32m    304\u001b[0m     rc \u001b[38;5;241m=\u001b[39m p\u001b[38;5;241m.\u001b[39mreturncode \u001b[38;5;129;01mor\u001b[39;00m \u001b[38;5;241m-\u001b[39m\u001b[38;5;241m9\u001b[39m\n\u001b[0;32m--> 305\u001b[0m     \u001b[38;5;28;01mraise\u001b[39;00m CalledProcessError(rc, cell)\n",
      "\u001b[0;31mCalledProcessError\u001b[0m: Command 'b'# write a bash script here\\nexport MAAP_PGT=${5}\\nconda run --no-capture-output -n gedi_subset /home/jovyan/maap-documentation-examples/gedi-subset/src/subset.py \\\\\\n    --cmr-host cmr.earthdata.nasa.gov --verbose --aoi \"${1}\" --columns \"${2}\" --query \"${3}\" --limit ${4}\\n'' returned non-zero exit status 1."
     ]
    }
   ],
   "source": [
    "%%bash -s \"$aoi\" \"$columns\" \"$query\" \"$limit\" \"$maappgt\"\n",
    "# write a bash script here\n",
    "export MAAP_PGT=${5}\n",
    "conda run --no-capture-output -n gedi_subset /home/jovyan/maap-documentation-examples/gedi-subset/src/subset.py \\\n",
    "    --cmr-host cmr.earthdata.nasa.gov --verbose --aoi \"${1}\" --columns \"${2}\" --query \"${3}\" --limit ${4}"
   ]
  }
 ],
 "metadata": {
  "kernelspec": {
   "display_name": "Python 3 (ipykernel)",
   "language": "python",
   "name": "python3"
  },
  "language_info": {
   "codemirror_mode": {
    "name": "ipython",
    "version": 3
   },
   "file_extension": ".py",
   "mimetype": "text/x-python",
   "name": "python",
   "nbconvert_exporter": "python",
   "pygments_lexer": "ipython3",
   "version": "3.9.5"
  },
  "papermill": {
   "default_parameters": {},
   "duration": 95.303792,
   "end_time": "2022-08-23T22:58:33.432677",
   "environment_variables": {},
   "exception": true,
   "input_path": "/home/jovyan/process.ipynb",
   "output_path": "output_nb.ipynb",
   "parameters": {
    "aoi": "/var/lib/cwl/stge4d564b0-c551-4781-9e1b-db998c5129ec/geoBoundaries-GAB-ADM0.geojson",
    "columns": "agbd, agbd_se, l2_quality_flag, l4_quality_flag, sensitivity, sensitivity_a2, lon_lowestmode, lat_lowestmode",
    "limit": 10000,
    "query": "l2_quality_flag == 1 and l4_quality_flag == 1 and sensitivity > 0.95 and sensitivity_a2 > 0.95"
   },
   "start_time": "2022-08-23T22:56:58.128885",
   "version": "2.4.0"
  }
 },
 "nbformat": 4,
 "nbformat_minor": 5
}