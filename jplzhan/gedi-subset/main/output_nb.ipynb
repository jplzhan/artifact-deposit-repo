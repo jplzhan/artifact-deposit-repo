{
 "cells": [
  {
   "cell_type": "markdown",
   "id": "b5b0bcb5",
   "metadata": {
    "tags": [
     "papermill-error-cell-tag"
    ]
   },
   "source": [
    "<span style=\"color:red; font-family:Helvetica Neue, Helvetica, Arial, sans-serif; font-size:2em;\">An Exception was encountered at '<a href=\"#papermill-error-cell\">In [3]</a>'.</span>"
   ]
  },
  {
   "cell_type": "code",
   "execution_count": 1,
   "id": "984d1053-68c6-4be1-b640-49a9833a466d",
   "metadata": {
    "execution": {
     "iopub.execute_input": "2022-08-16T14:11:34.532456Z",
     "iopub.status.busy": "2022-08-16T14:11:34.531710Z",
     "iopub.status.idle": "2022-08-16T14:11:34.549516Z",
     "shell.execute_reply": "2022-08-16T14:11:34.548486Z"
    },
    "papermill": {
     "duration": 0.030664,
     "end_time": "2022-08-16T14:11:34.553499",
     "exception": false,
     "start_time": "2022-08-16T14:11:34.522835",
     "status": "completed"
    },
    "tags": [
     "parameters"
    ]
   },
   "outputs": [],
   "source": [
    "aoi = 'abcd' # type: stage-in\n",
    "columns = 'agbd, agbd_se, l2_quality_flag, l4_quality_flag, sensitivity, sensitivity_a2' # type: string\n",
    "query = '' # type: string\n",
    "limit = '10000' # type: int"
   ]
  },
  {
   "cell_type": "code",
   "execution_count": 2,
   "id": "efdfa7eb",
   "metadata": {
    "execution": {
     "iopub.execute_input": "2022-08-16T14:11:34.559652Z",
     "iopub.status.busy": "2022-08-16T14:11:34.559383Z",
     "iopub.status.idle": "2022-08-16T14:11:34.565263Z",
     "shell.execute_reply": "2022-08-16T14:11:34.563844Z"
    },
    "papermill": {
     "duration": 0.012124,
     "end_time": "2022-08-16T14:11:34.568594",
     "exception": false,
     "start_time": "2022-08-16T14:11:34.556470",
     "status": "completed"
    },
    "tags": [
     "injected-parameters"
    ]
   },
   "outputs": [],
   "source": [
    "# Parameters\n",
    "aoi = \"/MCmfsJ/geoBoundaries-GAB-ADM0.geojson\"\n",
    "columns = \"agbd, agbd_se, l2_quality_flag, l4_quality_flag, sensitivity, sensitivity_a2\"\n",
    "limit = 10000\n",
    "query = \"l2_quality_flag == 1 and l4_quality_flag == 1 and sensitivity > 0.95 and sensitivity_a2 > 0.95\"\n"
   ]
  },
  {
   "cell_type": "markdown",
   "id": "f8fa051c",
   "metadata": {
    "tags": [
     "papermill-error-cell-tag"
    ]
   },
   "source": [
    "<span id=\"papermill-error-cell\" style=\"color:red; font-family:Helvetica Neue, Helvetica, Arial, sans-serif; font-size:2em;\">Execution using papermill encountered an exception here and stopped:</span>"
   ]
  },
  {
   "cell_type": "code",
   "execution_count": 3,
   "id": "42ce04c7-7913-45cb-92f4-b74072082180",
   "metadata": {
    "collapsed": true,
    "execution": {
     "iopub.execute_input": "2022-08-16T14:11:34.574992Z",
     "iopub.status.busy": "2022-08-16T14:11:34.574412Z",
     "iopub.status.idle": "2022-08-16T14:13:58.042925Z",
     "shell.execute_reply": "2022-08-16T14:13:58.039307Z"
    },
    "jupyter": {
     "outputs_hidden": true
    },
    "papermill": {
     "duration": 143.476753,
     "end_time": "2022-08-16T14:13:58.047254",
     "exception": true,
     "start_time": "2022-08-16T14:11:34.570501",
     "status": "failed"
    },
    "tags": []
   },
   "outputs": [
    {
     "name": "stderr",
     "output_type": "stream",
     "text": [
      "2022-08-16 14:11:39,173 [MainProcess:maap.utils.CMR] [INFO] ======== Waiting for response ========\n"
     ]
    },
    {
     "name": "stderr",
     "output_type": "stream",
     "text": [
      "2022-08-16 14:11:39,893 [MainProcess:maap.utils.CMR] [INFO] ======== Waiting for response ========\n"
     ]
    },
    {
     "name": "stderr",
     "output_type": "stream",
     "text": [
      "2022-08-16 14:13:44,146 [MainProcess:gedi_subset] [INFO] Subsetting on 32 processes (chunksize=10)\n"
     ]
    },
    {
     "name": "stderr",
     "output_type": "stream",
     "text": [
      "2022-08-16 14:13:44,313 [ForkPoolWorker-1:gedi_subset.maapx] [DEBUG] Obtaining S3 credentials from https://data.ornldaac.earthdata.nasa.gov/s3credentials\n"
     ]
    },
    {
     "name": "stderr",
     "output_type": "stream",
     "text": [
      "2022-08-16 14:13:44,319 [ForkPoolWorker-2:gedi_subset.maapx] [DEBUG] Obtaining S3 credentials from https://data.ornldaac.earthdata.nasa.gov/s3credentials\n"
     ]
    },
    {
     "name": "stderr",
     "output_type": "stream",
     "text": [
      "2022-08-16 14:13:44,325 [ForkPoolWorker-3:gedi_subset.maapx] [DEBUG] Obtaining S3 credentials from https://data.ornldaac.earthdata.nasa.gov/s3credentials\n"
     ]
    },
    {
     "name": "stderr",
     "output_type": "stream",
     "text": [
      "2022-08-16 14:13:44,332 [ForkPoolWorker-4:gedi_subset.maapx] [DEBUG] Obtaining S3 credentials from https://data.ornldaac.earthdata.nasa.gov/s3credentials\n"
     ]
    },
    {
     "name": "stderr",
     "output_type": "stream",
     "text": [
      "2022-08-16 14:13:44,340 [ForkPoolWorker-5:gedi_subset.maapx] [DEBUG] Obtaining S3 credentials from https://data.ornldaac.earthdata.nasa.gov/s3credentials\n"
     ]
    },
    {
     "name": "stderr",
     "output_type": "stream",
     "text": [
      "2022-08-16 14:13:44,344 [ForkPoolWorker-7:gedi_subset.maapx] [DEBUG] Obtaining S3 credentials from https://data.ornldaac.earthdata.nasa.gov/s3credentials\n"
     ]
    },
    {
     "name": "stderr",
     "output_type": "stream",
     "text": [
      "2022-08-16 14:13:44,348 [ForkPoolWorker-6:gedi_subset.maapx] [DEBUG] Obtaining S3 credentials from https://data.ornldaac.earthdata.nasa.gov/s3credentials\n"
     ]
    },
    {
     "name": "stderr",
     "output_type": "stream",
     "text": [
      "2022-08-16 14:13:44,358 [ForkPoolWorker-8:gedi_subset.maapx] [DEBUG] Obtaining S3 credentials from https://data.ornldaac.earthdata.nasa.gov/s3credentials\n"
     ]
    },
    {
     "name": "stderr",
     "output_type": "stream",
     "text": [
      "2022-08-16 14:13:44,362 [ForkPoolWorker-9:gedi_subset.maapx] [DEBUG] Obtaining S3 credentials from https://data.ornldaac.earthdata.nasa.gov/s3credentials\n"
     ]
    },
    {
     "name": "stderr",
     "output_type": "stream",
     "text": [
      "2022-08-16 14:13:44,364 [ForkPoolWorker-10:gedi_subset.maapx] [DEBUG] Obtaining S3 credentials from https://data.ornldaac.earthdata.nasa.gov/s3credentials\n"
     ]
    },
    {
     "name": "stderr",
     "output_type": "stream",
     "text": [
      "2022-08-16 14:13:44,373 [ForkPoolWorker-11:gedi_subset.maapx] [DEBUG] Obtaining S3 credentials from https://data.ornldaac.earthdata.nasa.gov/s3credentials\n"
     ]
    },
    {
     "name": "stderr",
     "output_type": "stream",
     "text": [
      "2022-08-16 14:13:44,379 [ForkPoolWorker-12:gedi_subset.maapx] [DEBUG] Obtaining S3 credentials from https://data.ornldaac.earthdata.nasa.gov/s3credentials\n"
     ]
    },
    {
     "name": "stderr",
     "output_type": "stream",
     "text": [
      "2022-08-16 14:13:44,393 [ForkPoolWorker-13:gedi_subset.maapx] [DEBUG] Obtaining S3 credentials from https://data.ornldaac.earthdata.nasa.gov/s3credentials\n"
     ]
    },
    {
     "name": "stderr",
     "output_type": "stream",
     "text": [
      "2022-08-16 14:13:44,401 [ForkPoolWorker-14:gedi_subset.maapx] [DEBUG] Obtaining S3 credentials from https://data.ornldaac.earthdata.nasa.gov/s3credentials\n"
     ]
    },
    {
     "name": "stderr",
     "output_type": "stream",
     "text": [
      "2022-08-16 14:13:44,405 [ForkPoolWorker-15:gedi_subset.maapx] [DEBUG] Obtaining S3 credentials from https://data.ornldaac.earthdata.nasa.gov/s3credentials\n"
     ]
    },
    {
     "name": "stderr",
     "output_type": "stream",
     "text": [
      "2022-08-16 14:13:44,406 [ForkPoolWorker-16:gedi_subset.maapx] [DEBUG] Obtaining S3 credentials from https://data.ornldaac.earthdata.nasa.gov/s3credentials\n"
     ]
    },
    {
     "name": "stderr",
     "output_type": "stream",
     "text": [
      "2022-08-16 14:13:44,418 [ForkPoolWorker-17:gedi_subset.maapx] [DEBUG] Obtaining S3 credentials from https://data.ornldaac.earthdata.nasa.gov/s3credentials\n"
     ]
    },
    {
     "name": "stderr",
     "output_type": "stream",
     "text": [
      "2022-08-16 14:13:44,420 [ForkPoolWorker-18:gedi_subset.maapx] [DEBUG] Obtaining S3 credentials from https://data.ornldaac.earthdata.nasa.gov/s3credentials\n"
     ]
    },
    {
     "name": "stderr",
     "output_type": "stream",
     "text": [
      "2022-08-16 14:13:44,429 [ForkPoolWorker-19:gedi_subset.maapx] [DEBUG] Obtaining S3 credentials from https://data.ornldaac.earthdata.nasa.gov/s3credentials\n"
     ]
    },
    {
     "name": "stderr",
     "output_type": "stream",
     "text": [
      "2022-08-16 14:13:44,441 [ForkPoolWorker-21:gedi_subset.maapx] [DEBUG] Obtaining S3 credentials from https://data.ornldaac.earthdata.nasa.gov/s3credentials\n"
     ]
    },
    {
     "name": "stderr",
     "output_type": "stream",
     "text": [
      "2022-08-16 14:13:44,442 [ForkPoolWorker-20:gedi_subset.maapx] [DEBUG] Obtaining S3 credentials from https://data.ornldaac.earthdata.nasa.gov/s3credentials\n"
     ]
    },
    {
     "name": "stderr",
     "output_type": "stream",
     "text": [
      "2022-08-16 14:13:44,448 [ForkPoolWorker-22:gedi_subset.maapx] [DEBUG] Obtaining S3 credentials from https://data.ornldaac.earthdata.nasa.gov/s3credentials\n"
     ]
    },
    {
     "name": "stderr",
     "output_type": "stream",
     "text": [
      "2022-08-16 14:13:44,463 [ForkPoolWorker-23:gedi_subset.maapx] [DEBUG] Obtaining S3 credentials from https://data.ornldaac.earthdata.nasa.gov/s3credentials\n"
     ]
    },
    {
     "name": "stderr",
     "output_type": "stream",
     "text": [
      "2022-08-16 14:13:44,465 [ForkPoolWorker-24:gedi_subset.maapx] [DEBUG] Obtaining S3 credentials from https://data.ornldaac.earthdata.nasa.gov/s3credentials\n"
     ]
    },
    {
     "name": "stderr",
     "output_type": "stream",
     "text": [
      "2022-08-16 14:13:44,468 [ForkPoolWorker-25:gedi_subset.maapx] [DEBUG] Obtaining S3 credentials from https://data.ornldaac.earthdata.nasa.gov/s3credentials\n"
     ]
    },
    {
     "name": "stderr",
     "output_type": "stream",
     "text": [
      "2022-08-16 14:13:44,478 [ForkPoolWorker-26:gedi_subset.maapx] [DEBUG] Obtaining S3 credentials from https://data.ornldaac.earthdata.nasa.gov/s3credentials\n"
     ]
    },
    {
     "name": "stderr",
     "output_type": "stream",
     "text": [
      "2022-08-16 14:13:44,484 [ForkPoolWorker-27:gedi_subset.maapx] [DEBUG] Obtaining S3 credentials from https://data.ornldaac.earthdata.nasa.gov/s3credentials\n"
     ]
    },
    {
     "name": "stderr",
     "output_type": "stream",
     "text": [
      "2022-08-16 14:13:44,489 [ForkPoolWorker-28:gedi_subset.maapx] [DEBUG] Obtaining S3 credentials from https://data.ornldaac.earthdata.nasa.gov/s3credentials\n"
     ]
    },
    {
     "name": "stderr",
     "output_type": "stream",
     "text": [
      "2022-08-16 14:13:44,493 [ForkPoolWorker-29:gedi_subset.maapx] [DEBUG] Obtaining S3 credentials from https://data.ornldaac.earthdata.nasa.gov/s3credentials\n"
     ]
    },
    {
     "name": "stderr",
     "output_type": "stream",
     "text": [
      "2022-08-16 14:13:44,507 [ForkPoolWorker-31:gedi_subset.maapx] [DEBUG] Obtaining S3 credentials from https://data.ornldaac.earthdata.nasa.gov/s3credentials\n"
     ]
    },
    {
     "name": "stderr",
     "output_type": "stream",
     "text": [
      "2022-08-16 14:13:44,508 [ForkPoolWorker-30:gedi_subset.maapx] [DEBUG] Obtaining S3 credentials from https://data.ornldaac.earthdata.nasa.gov/s3credentials\n"
     ]
    },
    {
     "name": "stderr",
     "output_type": "stream",
     "text": [
      "2022-08-16 14:13:44,517 [ForkPoolWorker-32:gedi_subset.maapx] [DEBUG] Obtaining S3 credentials from https://data.ornldaac.earthdata.nasa.gov/s3credentials\n"
     ]
    },
    {
     "name": "stderr",
     "output_type": "stream",
     "text": [
      "2022-08-16 14:13:52,914 [ForkPoolWorker-1:gedi_subset.maapx] [DEBUG] Setting up default boto3 session with new credentials\n"
     ]
    },
    {
     "name": "stderr",
     "output_type": "stream",
     "text": [
      "2022-08-16 14:13:52,929 [ForkPoolWorker-1:gedi_subset.maapx] [DEBUG] Downloading granule GEDI_L4A_AGB_Density_V2_1.GEDI04_A_2019108045816_O01962_01_T01066_02_002_02_V002.h5 to directory /MCmfsJ/output\n"
     ]
    },
    {
     "name": "stderr",
     "output_type": "stream",
     "text": [
      "2022-08-16 14:13:52,952 [ForkPoolWorker-3:gedi_subset.maapx] [DEBUG] Setting up default boto3 session with new credentials\n"
     ]
    },
    {
     "name": "stderr",
     "output_type": "stream",
     "text": [
      "2022-08-16 14:13:52,966 [ForkPoolWorker-3:gedi_subset.maapx] [DEBUG] Downloading granule GEDI_L4A_AGB_Density_V2_1.GEDI04_A_2019128205030_O02283_02_T03147_02_002_02_V002.h5 to directory /MCmfsJ/output\n"
     ]
    },
    {
     "name": "stderr",
     "output_type": "stream",
     "text": [
      "2022-08-16 14:13:52,993 [ForkPoolWorker-10:gedi_subset.maapx] [DEBUG] Setting up default boto3 session with new credentials\n"
     ]
    },
    {
     "name": "stderr",
     "output_type": "stream",
     "text": [
      "2022-08-16 14:13:53,008 [ForkPoolWorker-10:gedi_subset.maapx] [DEBUG] Downloading granule GEDI_L4A_AGB_Density_V2_1.GEDI04_A_2019215103928_O03627_02_T00347_02_002_02_V002.h5 to directory /MCmfsJ/output\n"
     ]
    },
    {
     "name": "stderr",
     "output_type": "stream",
     "text": [
      "2022-08-16 14:13:53,031 [ForkPoolWorker-11:gedi_subset.maapx] [DEBUG] Setting up default boto3 session with new credentials\n"
     ]
    },
    {
     "name": "stderr",
     "output_type": "stream",
     "text": [
      "2022-08-16 14:13:53,045 [ForkPoolWorker-11:gedi_subset.maapx] [DEBUG] Downloading granule GEDI_L4A_AGB_Density_V2_1.GEDI04_A_2019223071836_O03749_01_T05335_02_002_02_V002.h5 to directory /MCmfsJ/output\n"
     ]
    },
    {
     "name": "stderr",
     "output_type": "stream",
     "text": [
      "2022-08-16 14:13:53,098 [ForkPoolWorker-2:gedi_subset.maapx] [DEBUG] Setting up default boto3 session with new credentials\n"
     ]
    },
    {
     "name": "stderr",
     "output_type": "stream",
     "text": [
      "2022-08-16 14:13:53,109 [ForkPoolWorker-8:gedi_subset.maapx] [DEBUG] Setting up default boto3 session with new credentials\n"
     ]
    },
    {
     "name": "stderr",
     "output_type": "stream",
     "text": [
      "2022-08-16 14:13:53,112 [ForkPoolWorker-2:gedi_subset.maapx] [DEBUG] Downloading granule GEDI_L4A_AGB_Density_V2_1.GEDI04_A_2019118120814_O02122_03_T01471_02_002_02_V002.h5 to directory /MCmfsJ/output\n"
     ]
    },
    {
     "name": "stderr",
     "output_type": "stream",
     "text": [
      "2022-08-16 14:13:53,118 [ForkPoolWorker-8:gedi_subset.maapx] [DEBUG] Downloading granule GEDI_L4A_AGB_Density_V2_1.GEDI04_A_2019189204453_O03230_01_T00806_02_002_02_V002.h5 to directory /MCmfsJ/output\n"
     ]
    },
    {
     "name": "stderr",
     "output_type": "stream",
     "text": [
      "2022-08-16 14:13:53,264 [ForkPoolWorker-6:gedi_subset.maapx] [DEBUG] Setting up default boto3 session with new credentials\n"
     ]
    },
    {
     "name": "stderr",
     "output_type": "stream",
     "text": [
      "2022-08-16 14:13:53,279 [ForkPoolWorker-6:gedi_subset.maapx] [DEBUG] Downloading granule GEDI_L4A_AGB_Density_V2_1.GEDI04_A_2019164065420_O02833_02_T03499_02_002_02_V002.h5 to directory /MCmfsJ/output\n"
     ]
    },
    {
     "name": "stderr",
     "output_type": "stream",
     "text": [
      "2022-08-16 14:13:53,355 [ForkPoolWorker-7:gedi_subset.maapx] [DEBUG] Setting up default boto3 session with new credentials\n"
     ]
    },
    {
     "name": "stderr",
     "output_type": "stream",
     "text": [
      "2022-08-16 14:13:53,369 [ForkPoolWorker-7:gedi_subset.maapx] [DEBUG] Downloading granule GEDI_L4A_AGB_Density_V2_1.GEDI04_A_2019175132859_O03008_04_T00048_02_002_02_V002.h5 to directory /MCmfsJ/output\n"
     ]
    },
    {
     "name": "stderr",
     "output_type": "stream",
     "text": [
      "2022-08-16 14:13:53,494 [ForkPoolWorker-10:gedi_subset] [DEBUG] Subsetting /MCmfsJ/output/GEDI04_A_2019215103928_O03627_02_T00347_02_002_02_V002.h5\n"
     ]
    },
    {
     "name": "stderr",
     "output_type": "stream",
     "text": [
      "2022-08-16 14:13:53,498 [ForkPoolWorker-10:gedi_subset.maapx] [DEBUG] Downloading granule GEDI_L4A_AGB_Density_V2_1.GEDI04_A_2019215212856_O03634_03_T01624_02_002_02_V002.h5 to directory /MCmfsJ/output\n"
     ]
    },
    {
     "name": "stderr",
     "output_type": "stream",
     "text": [
      "2022-08-16 14:13:53,500 [ForkPoolWorker-1:gedi_subset] [DEBUG] Subsetting /MCmfsJ/output/GEDI04_A_2019108045816_O01962_01_T01066_02_002_02_V002.h5\n"
     ]
    },
    {
     "name": "stderr",
     "output_type": "stream",
     "text": [
      "2022-08-16 14:13:53,504 [ForkPoolWorker-1:gedi_subset.maapx] [DEBUG] Downloading granule GEDI_L4A_AGB_Density_V2_1.GEDI04_A_2019108045816_O01962_02_T01066_02_002_02_V002.h5 to directory /MCmfsJ/output\n"
     ]
    },
    {
     "name": "stderr",
     "output_type": "stream",
     "text": [
      "2022-08-16 14:13:53,508 [ForkPoolWorker-11:gedi_subset] [DEBUG] Subsetting /MCmfsJ/output/GEDI04_A_2019223071836_O03749_01_T05335_02_002_02_V002.h5\n"
     ]
    },
    {
     "name": "stderr",
     "output_type": "stream",
     "text": [
      "2022-08-16 14:13:53,509 [ForkPoolWorker-2:gedi_subset] [DEBUG] Subsetting /MCmfsJ/output/GEDI04_A_2019118120814_O02122_03_T01471_02_002_02_V002.h5\n"
     ]
    },
    {
     "name": "stderr",
     "output_type": "stream",
     "text": [
      "2022-08-16 14:13:53,511 [ForkPoolWorker-3:gedi_subset] [DEBUG] Subsetting /MCmfsJ/output/GEDI04_A_2019128205030_O02283_02_T03147_02_002_02_V002.h5\n"
     ]
    },
    {
     "name": "stderr",
     "output_type": "stream",
     "text": [
      "2022-08-16 14:13:53,512 [ForkPoolWorker-11:gedi_subset.maapx] [DEBUG] Downloading granule GEDI_L4A_AGB_Density_V2_1.GEDI04_A_2019223071836_O03749_02_T05335_02_002_02_V002.h5 to directory /MCmfsJ/output\n"
     ]
    },
    {
     "name": "stderr",
     "output_type": "stream",
     "text": [
      "2022-08-16 14:13:53,513 [ForkPoolWorker-3:gedi_subset.maapx] [DEBUG] Downloading granule GEDI_L4A_AGB_Density_V2_1.GEDI04_A_2019129073917_O02290_03_T01731_02_002_02_V002.h5 to directory /MCmfsJ/output\n"
     ]
    },
    {
     "name": "stderr",
     "output_type": "stream",
     "text": [
      "2022-08-16 14:13:53,514 [ForkPoolWorker-2:gedi_subset.maapx] [DEBUG] Downloading granule GEDI_L4A_AGB_Density_V2_1.GEDI04_A_2019118120814_O02122_04_T01471_02_002_02_V002.h5 to directory /MCmfsJ/output\n"
     ]
    },
    {
     "name": "stderr",
     "output_type": "stream",
     "text": [
      "2022-08-16 14:13:53,521 [ForkPoolWorker-8:gedi_subset] [DEBUG] Subsetting /MCmfsJ/output/GEDI04_A_2019189204453_O03230_01_T00806_02_002_02_V002.h5\n"
     ]
    },
    {
     "name": "stderr",
     "output_type": "stream",
     "text": [
      "2022-08-16 14:13:53,524 [ForkPoolWorker-8:gedi_subset.maapx] [DEBUG] Downloading granule GEDI_L4A_AGB_Density_V2_1.GEDI04_A_2019189204453_O03230_02_T00806_02_002_02_V002.h5 to directory /MCmfsJ/output\n"
     ]
    },
    {
     "name": "stderr",
     "output_type": "stream",
     "text": [
      "2022-08-16 14:13:53,703 [ForkPoolWorker-6:gedi_subset] [DEBUG] Subsetting /MCmfsJ/output/GEDI04_A_2019164065420_O02833_02_T03499_02_002_02_V002.h5\n"
     ]
    },
    {
     "name": "stderr",
     "output_type": "stream",
     "text": [
      "2022-08-16 14:13:53,708 [ForkPoolWorker-6:gedi_subset.maapx] [DEBUG] Downloading granule GEDI_L4A_AGB_Density_V2_1.GEDI04_A_2019167165109_O02886_04_T00599_02_002_02_V002.h5 to directory /MCmfsJ/output\n"
     ]
    },
    {
     "name": "stderr",
     "output_type": "stream",
     "text": [
      "2022-08-16 14:13:53,764 [ForkPoolWorker-7:gedi_subset] [DEBUG] Subsetting /MCmfsJ/output/GEDI04_A_2019175132859_O03008_04_T00048_02_002_02_V002.h5\n"
     ]
    },
    {
     "name": "stderr",
     "output_type": "stream",
     "text": [
      "2022-08-16 14:13:53,768 [ForkPoolWorker-7:gedi_subset.maapx] [DEBUG] Downloading granule GEDI_L4A_AGB_Density_V2_1.GEDI04_A_2019178123620_O03054_04_T01716_02_002_02_V002.h5 to directory /MCmfsJ/output\n"
     ]
    },
    {
     "name": "stderr",
     "output_type": "stream",
     "text": [
      "2022-08-16 14:13:53,855 [ForkPoolWorker-10:gedi_subset] [DEBUG] Subsetting /MCmfsJ/output/GEDI04_A_2019215212856_O03634_03_T01624_02_002_02_V002.h5\n"
     ]
    },
    {
     "name": "stderr",
     "output_type": "stream",
     "text": [
      "2022-08-16 14:13:53,857 [ForkPoolWorker-10:gedi_subset.maapx] [DEBUG] Downloading granule GEDI_L4A_AGB_Density_V2_1.GEDI04_A_2019215212856_O03634_04_T01624_02_002_02_V002.h5 to directory /MCmfsJ/output\n"
     ]
    },
    {
     "name": "stderr",
     "output_type": "stream",
     "text": [
      "2022-08-16 14:13:53,864 [ForkPoolWorker-3:gedi_subset] [DEBUG] Subsetting /MCmfsJ/output/GEDI04_A_2019129073917_O02290_03_T01731_02_002_02_V002.h5\n"
     ]
    },
    {
     "name": "stderr",
     "output_type": "stream",
     "text": [
      "2022-08-16 14:13:53,866 [ForkPoolWorker-3:gedi_subset.maapx] [DEBUG] Downloading granule GEDI_L4A_AGB_Density_V2_1.GEDI04_A_2019132064242_O02336_03_T05281_02_002_02_V002.h5 to directory /MCmfsJ/output\n"
     ]
    },
    {
     "name": "stderr",
     "output_type": "stream",
     "text": [
      "2022-08-16 14:13:53,867 [ForkPoolWorker-11:gedi_subset] [DEBUG] Subsetting /MCmfsJ/output/GEDI04_A_2019223071836_O03749_02_T05335_02_002_02_V002.h5\n"
     ]
    },
    {
     "name": "stderr",
     "output_type": "stream",
     "text": [
      "2022-08-16 14:13:53,870 [ForkPoolWorker-11:gedi_subset.maapx] [DEBUG] Downloading granule GEDI_L4A_AGB_Density_V2_1.GEDI04_A_2019226171553_O03802_03_T03705_02_002_02_V002.h5 to directory /MCmfsJ/output\n"
     ]
    },
    {
     "name": "stderr",
     "output_type": "stream",
     "text": [
      "2022-08-16 14:13:53,870 [ForkPoolWorker-1:gedi_subset] [DEBUG] Subsetting /MCmfsJ/output/GEDI04_A_2019108045816_O01962_02_T01066_02_002_02_V002.h5\n"
     ]
    },
    {
     "name": "stderr",
     "output_type": "stream",
     "text": [
      "2022-08-16 14:13:53,870 [ForkPoolWorker-2:gedi_subset] [DEBUG] Subsetting /MCmfsJ/output/GEDI04_A_2019118120814_O02122_04_T01471_02_002_02_V002.h5\n"
     ]
    },
    {
     "name": "stderr",
     "output_type": "stream",
     "text": [
      "2022-08-16 14:13:53,871 [ForkPoolWorker-1:gedi_subset.maapx] [DEBUG] Downloading granule GEDI_L4A_AGB_Density_V2_1.GEDI04_A_2019111040155_O02008_01_T04616_02_002_02_V002.h5 to directory /MCmfsJ/output\n"
     ]
    },
    {
     "name": "stderr",
     "output_type": "stream",
     "text": [
      "2022-08-16 14:13:53,872 [ForkPoolWorker-2:gedi_subset.maapx] [DEBUG] Downloading granule GEDI_L4A_AGB_Density_V2_1.GEDI04_A_2019119002944_O02130_01_T05595_02_002_02_V002.h5 to directory /MCmfsJ/output\n"
     ]
    },
    {
     "name": "stderr",
     "output_type": "stream",
     "text": [
      "2022-08-16 14:13:53,904 [ForkPoolWorker-8:gedi_subset] [DEBUG] Subsetting /MCmfsJ/output/GEDI04_A_2019189204453_O03230_02_T00806_02_002_02_V002.h5\n"
     ]
    },
    {
     "name": "stderr",
     "output_type": "stream",
     "text": [
      "2022-08-16 14:13:53,906 [ForkPoolWorker-8:gedi_subset.maapx] [DEBUG] Downloading granule GEDI_L4A_AGB_Density_V2_1.GEDI04_A_2019190073422_O03237_03_T02083_02_002_02_V002.h5 to directory /MCmfsJ/output\n"
     ]
    },
    {
     "name": "stderr",
     "output_type": "stream",
     "text": [
      "2022-08-16 14:13:54,065 [ForkPoolWorker-6:gedi_subset] [DEBUG] Subsetting /MCmfsJ/output/GEDI04_A_2019167165109_O02886_04_T00599_02_002_02_V002.h5\n"
     ]
    },
    {
     "name": "stderr",
     "output_type": "stream",
     "text": [
      "2022-08-16 14:13:54,067 [ForkPoolWorker-6:gedi_subset.maapx] [DEBUG] Downloading granule GEDI_L4A_AGB_Density_V2_1.GEDI04_A_2019168051318_O02894_01_T01877_02_002_02_V002.h5 to directory /MCmfsJ/output\n"
     ]
    },
    {
     "name": "stderr",
     "output_type": "stream",
     "text": [
      "2022-08-16 14:13:54,092 [ForkPoolWorker-7:gedi_subset] [DEBUG] Subsetting /MCmfsJ/output/GEDI04_A_2019178123620_O03054_04_T01716_02_002_02_V002.h5\n"
     ]
    },
    {
     "name": "stderr",
     "output_type": "stream",
     "text": [
      "2022-08-16 14:13:54,094 [ForkPoolWorker-7:gedi_subset.maapx] [DEBUG] Downloading granule GEDI_L4A_AGB_Density_V2_1.GEDI04_A_2019179005829_O03062_01_T01418_02_002_02_V002.h5 to directory /MCmfsJ/output\n"
     ]
    },
    {
     "name": "stderr",
     "output_type": "stream",
     "text": [
      "2022-08-16 14:13:54,215 [ForkPoolWorker-1:gedi_subset] [DEBUG] Subsetting /MCmfsJ/output/GEDI04_A_2019111040155_O02008_01_T04616_02_002_02_V002.h5\n"
     ]
    },
    {
     "name": "stderr",
     "output_type": "stream",
     "text": [
      "2022-08-16 14:13:54,216 [ForkPoolWorker-11:gedi_subset] [DEBUG] Subsetting /MCmfsJ/output/GEDI04_A_2019226171553_O03802_03_T03705_02_002_02_V002.h5\n"
     ]
    },
    {
     "name": "stderr",
     "output_type": "stream",
     "text": [
      "2022-08-16 14:13:54,217 [ForkPoolWorker-1:gedi_subset.maapx] [DEBUG] Downloading granule GEDI_L4A_AGB_Density_V2_1.GEDI04_A_2019111040155_O02008_02_T04616_02_002_02_V002.h5 to directory /MCmfsJ/output\n"
     ]
    },
    {
     "name": "stderr",
     "output_type": "stream",
     "text": [
      "2022-08-16 14:13:54,218 [ForkPoolWorker-11:gedi_subset.maapx] [DEBUG] Downloading granule GEDI_L4A_AGB_Density_V2_1.GEDI04_A_2019226171553_O03802_04_T03705_02_002_02_V002.h5 to directory /MCmfsJ/output\n"
     ]
    },
    {
     "name": "stderr",
     "output_type": "stream",
     "text": [
      "2022-08-16 14:13:54,218 [ForkPoolWorker-10:gedi_subset] [DEBUG] Subsetting /MCmfsJ/output/GEDI04_A_2019215212856_O03634_04_T01624_02_002_02_V002.h5\n"
     ]
    },
    {
     "name": "stderr",
     "output_type": "stream",
     "text": [
      "2022-08-16 14:13:54,220 [ForkPoolWorker-10:gedi_subset.maapx] [DEBUG] Downloading granule GEDI_L4A_AGB_Density_V2_1.GEDI04_A_2019216095110_O03642_01_T01326_02_002_02_V002.h5 to directory /MCmfsJ/output\n"
     ]
    },
    {
     "name": "stderr",
     "output_type": "stream",
     "text": [
      "2022-08-16 14:13:54,222 [ForkPoolWorker-2:gedi_subset] [DEBUG] Subsetting /MCmfsJ/output/GEDI04_A_2019119002944_O02130_01_T05595_02_002_02_V002.h5\n"
     ]
    },
    {
     "name": "stderr",
     "output_type": "stream",
     "text": [
      "2022-08-16 14:13:54,224 [ForkPoolWorker-2:gedi_subset.maapx] [DEBUG] Downloading granule GEDI_L4A_AGB_Density_V2_1.GEDI04_A_2019121111147_O02168_04_T05021_02_002_02_V002.h5 to directory /MCmfsJ/output\n"
     ]
    },
    {
     "name": "stderr",
     "output_type": "stream",
     "text": [
      "2022-08-16 14:13:54,230 [ForkPoolWorker-8:gedi_subset] [DEBUG] Subsetting /MCmfsJ/output/GEDI04_A_2019190073422_O03237_03_T02083_02_002_02_V002.h5\n"
     ]
    },
    {
     "name": "stderr",
     "output_type": "stream",
     "text": [
      "2022-08-16 14:13:54,232 [ForkPoolWorker-8:gedi_subset.maapx] [DEBUG] Downloading granule GEDI_L4A_AGB_Density_V2_1.GEDI04_A_2019190073422_O03237_04_T02083_02_002_02_V002.h5 to directory /MCmfsJ/output\n"
     ]
    },
    {
     "name": "stderr",
     "output_type": "stream",
     "text": [
      "2022-08-16 14:13:54,232 [ForkPoolWorker-3:gedi_subset] [DEBUG] Subsetting /MCmfsJ/output/GEDI04_A_2019132064242_O02336_03_T05281_02_002_02_V002.h5\n"
     ]
    },
    {
     "name": "stderr",
     "output_type": "stream",
     "text": [
      "2022-08-16 14:13:54,234 [ForkPoolWorker-3:gedi_subset.maapx] [DEBUG] Downloading granule GEDI_L4A_AGB_Density_V2_1.GEDI04_A_2019132064242_O02336_04_T05281_02_002_02_V002.h5 to directory /MCmfsJ/output\n"
     ]
    },
    {
     "name": "stderr",
     "output_type": "stream",
     "text": [
      "2022-08-16 14:13:54,271 [ForkPoolWorker-9:gedi_subset.maapx] [DEBUG] Setting up default boto3 session with new credentials\n"
     ]
    },
    {
     "name": "stderr",
     "output_type": "stream",
     "text": [
      "2022-08-16 14:13:54,285 [ForkPoolWorker-9:gedi_subset.maapx] [DEBUG] Downloading granule GEDI_L4A_AGB_Density_V2_1.GEDI04_A_2019197172428_O03352_01_T04218_02_002_02_V002.h5 to directory /MCmfsJ/output\n"
     ]
    },
    {
     "name": "stderr",
     "output_type": "stream",
     "text": [
      "2022-08-16 14:13:54,425 [ForkPoolWorker-6:gedi_subset] [DEBUG] Subsetting /MCmfsJ/output/GEDI04_A_2019168051318_O02894_01_T01877_02_002_02_V002.h5\n"
     ]
    },
    {
     "name": "stderr",
     "output_type": "stream",
     "text": [
      "2022-08-16 14:13:54,427 [ForkPoolWorker-6:gedi_subset.maapx] [DEBUG] Downloading granule GEDI_L4A_AGB_Density_V2_1.GEDI04_A_2019168051318_O02894_02_T01877_02_002_02_V002.h5 to directory /MCmfsJ/output\n"
     ]
    },
    {
     "name": "stderr",
     "output_type": "stream",
     "text": [
      "2022-08-16 14:13:54,449 [ForkPoolWorker-7:gedi_subset] [DEBUG] Subsetting /MCmfsJ/output/GEDI04_A_2019179005829_O03062_01_T01418_02_002_02_V002.h5\n"
     ]
    },
    {
     "name": "stderr",
     "output_type": "stream",
     "text": [
      "2022-08-16 14:13:54,451 [ForkPoolWorker-7:gedi_subset.maapx] [DEBUG] Downloading granule GEDI_L4A_AGB_Density_V2_1.GEDI04_A_2019179005829_O03062_02_T01418_02_002_02_V002.h5 to directory /MCmfsJ/output\n"
     ]
    },
    {
     "name": "stderr",
     "output_type": "stream",
     "text": [
      "2022-08-16 14:13:54,458 [ForkPoolWorker-5:gedi_subset.maapx] [DEBUG] Setting up default boto3 session with new credentials\n"
     ]
    },
    {
     "name": "stderr",
     "output_type": "stream",
     "text": [
      "2022-08-16 14:13:54,481 [ForkPoolWorker-5:gedi_subset.maapx] [DEBUG] Downloading granule GEDI_L4A_AGB_Density_V2_1.GEDI04_A_2019153110846_O02665_01_T03958_02_002_02_V002.h5 to directory /MCmfsJ/output\n"
     ]
    },
    {
     "name": "stderr",
     "output_type": "stream",
     "text": [
      "2022-08-16 14:13:54,516 [ForkPoolWorker-4:gedi_subset.maapx] [DEBUG] Setting up default boto3 session with new credentials\n"
     ]
    },
    {
     "name": "stderr",
     "output_type": "stream",
     "text": [
      "2022-08-16 14:13:54,525 [ForkPoolWorker-4:gedi_subset.maapx] [DEBUG] Downloading granule GEDI_L4A_AGB_Density_V2_1.GEDI04_A_2019142152425_O02497_02_T05687_02_002_02_V002.h5 to directory /MCmfsJ/output\n"
     ]
    },
    {
     "name": "stderr",
     "output_type": "stream",
     "text": [
      "2022-08-16 14:13:54,574 [ForkPoolWorker-3:gedi_subset] [DEBUG] Subsetting /MCmfsJ/output/GEDI04_A_2019132064242_O02336_04_T05281_02_002_02_V002.h5\n"
     ]
    },
    {
     "name": "stderr",
     "output_type": "stream",
     "text": [
      "2022-08-16 14:13:54,576 [ForkPoolWorker-3:gedi_subset.maapx] [DEBUG] Downloading granule GEDI_L4A_AGB_Density_V2_1.GEDI04_A_2019132190410_O02344_01_T00867_02_002_02_V002.h5 to directory /MCmfsJ/output\n"
     ]
    },
    {
     "name": "stderr",
     "output_type": "stream",
     "text": [
      "2022-08-16 14:13:54,576 [ForkPoolWorker-10:gedi_subset] [DEBUG] Subsetting /MCmfsJ/output/GEDI04_A_2019216095110_O03642_01_T01326_02_002_02_V002.h5\n"
     ]
    },
    {
     "name": "stderr",
     "output_type": "stream",
     "text": [
      "2022-08-16 14:13:54,578 [ForkPoolWorker-10:gedi_subset.maapx] [DEBUG] Downloading granule GEDI_L4A_AGB_Density_V2_1.GEDI04_A_2019218203648_O03680_04_T02986_02_002_02_V002.h5 to directory /MCmfsJ/output\n"
     ]
    },
    {
     "name": "stderr",
     "output_type": "stream",
     "text": [
      "2022-08-16 14:13:54,582 [ForkPoolWorker-1:gedi_subset] [DEBUG] Subsetting /MCmfsJ/output/GEDI04_A_2019111040155_O02008_02_T04616_02_002_02_V002.h5\n"
     ]
    },
    {
     "name": "stderr",
     "output_type": "stream",
     "text": [
      "2022-08-16 14:13:54,582 [ForkPoolWorker-8:gedi_subset] [DEBUG] Subsetting /MCmfsJ/output/GEDI04_A_2019190073422_O03237_04_T02083_02_002_02_V002.h5\n"
     ]
    },
    {
     "name": "stderr",
     "output_type": "stream",
     "text": [
      "2022-08-16 14:13:54,583 [ForkPoolWorker-1:gedi_subset.maapx] [DEBUG] Downloading granule GEDI_L4A_AGB_Density_V2_1.GEDI04_A_2019111145043_O02015_03_T00201_02_002_02_V002.h5 to directory /MCmfsJ/output\n"
     ]
    },
    {
     "name": "stderr",
     "output_type": "stream",
     "text": [
      "2022-08-16 14:13:54,584 [ForkPoolWorker-8:gedi_subset.maapx] [DEBUG] Downloading granule GEDI_L4A_AGB_Density_V2_1.GEDI04_A_2019193064225_O03283_04_T03445_02_002_02_V002.h5 to directory /MCmfsJ/output\n"
     ]
    },
    {
     "name": "stderr",
     "output_type": "stream",
     "text": [
      "2022-08-16 14:13:54,590 [ForkPoolWorker-11:gedi_subset] [DEBUG] Subsetting /MCmfsJ/output/GEDI04_A_2019226171553_O03802_04_T03705_02_002_02_V002.h5\n"
     ]
    },
    {
     "name": "stderr",
     "output_type": "stream",
     "text": [
      "2022-08-16 14:13:54,591 [ForkPoolWorker-11:gedi_subset.maapx] [DEBUG] Downloading granule GEDI_L4A_AGB_Density_V2_1.GEDI04_A_2019230044746_O03856_01_T04769_02_002_02_V002.h5 to directory /MCmfsJ/output\n"
     ]
    },
    {
     "name": "stderr",
     "output_type": "stream",
     "text": [
      "2022-08-16 14:13:54,655 [ForkPoolWorker-9:gedi_subset] [DEBUG] Subsetting /MCmfsJ/output/GEDI04_A_2019197172428_O03352_01_T04218_02_002_02_V002.h5\n"
     ]
    },
    {
     "name": "stderr",
     "output_type": "stream",
     "text": [
      "2022-08-16 14:13:54,659 [ForkPoolWorker-9:gedi_subset.maapx] [DEBUG] Downloading granule GEDI_L4A_AGB_Density_V2_1.GEDI04_A_2019197172428_O03352_02_T04218_02_002_02_V002.h5 to directory /MCmfsJ/output\n"
     ]
    },
    {
     "name": "stderr",
     "output_type": "stream",
     "text": [
      "2022-08-16 14:13:54,793 [ForkPoolWorker-7:gedi_subset] [DEBUG] Subsetting /MCmfsJ/output/GEDI04_A_2019179005829_O03062_02_T01418_02_002_02_V002.h5\n"
     ]
    },
    {
     "name": "stderr",
     "output_type": "stream",
     "text": [
      "2022-08-16 14:13:54,795 [ForkPoolWorker-7:gedi_subset.maapx] [DEBUG] Downloading granule GEDI_L4A_AGB_Density_V2_1.GEDI04_A_2019179114752_O03069_03_T02695_02_002_02_V002.h5 to directory /MCmfsJ/output\n"
     ]
    },
    {
     "name": "stderr",
     "output_type": "stream",
     "text": [
      "2022-08-16 14:13:54,838 [ForkPoolWorker-6:gedi_subset] [DEBUG] Subsetting /MCmfsJ/output/GEDI04_A_2019168051318_O02894_02_T01877_02_002_02_V002.h5\n"
     ]
    },
    {
     "name": "stderr",
     "output_type": "stream",
     "text": [
      "2022-08-16 14:13:54,840 [ForkPoolWorker-6:gedi_subset.maapx] [DEBUG] Downloading granule GEDI_L4A_AGB_Density_V2_1.GEDI04_A_2019168160242_O02901_03_T03001_02_002_02_V002.h5 to directory /MCmfsJ/output\n"
     ]
    },
    {
     "name": "stderr",
     "output_type": "stream",
     "text": [
      "2022-08-16 14:13:54,857 [ForkPoolWorker-2:gedi_subset] [DEBUG] Subsetting /MCmfsJ/output/GEDI04_A_2019121111147_O02168_04_T05021_02_002_02_V002.h5\n"
     ]
    },
    {
     "name": "stderr",
     "output_type": "stream",
     "text": [
      "2022-08-16 14:13:54,859 [ForkPoolWorker-2:gedi_subset.maapx] [DEBUG] Downloading granule GEDI_L4A_AGB_Density_V2_1.GEDI04_A_2019121233316_O02176_01_T04876_02_002_02_V002.h5 to directory /MCmfsJ/output\n"
     ]
    },
    {
     "name": "stderr",
     "output_type": "stream",
     "text": [
      "2022-08-16 14:13:54,925 [ForkPoolWorker-11:gedi_subset] [DEBUG] Subsetting /MCmfsJ/output/GEDI04_A_2019230044746_O03856_01_T04769_02_002_02_V002.h5\n"
     ]
    },
    {
     "name": "stderr",
     "output_type": "stream",
     "text": [
      "2022-08-16 14:13:54,927 [ForkPoolWorker-11:gedi_subset.maapx] [DEBUG] Downloading granule GEDI_L4A_AGB_Density_V2_1.GEDI04_A_2019230044746_O03856_02_T04769_02_002_02_V002.h5 to directory /MCmfsJ/output\n"
     ]
    },
    {
     "name": "stderr",
     "output_type": "stream",
     "text": [
      "2022-08-16 14:13:54,938 [ForkPoolWorker-1:gedi_subset] [DEBUG] Subsetting /MCmfsJ/output/GEDI04_A_2019111145043_O02015_03_T00201_02_002_02_V002.h5\n"
     ]
    },
    {
     "name": "stderr",
     "output_type": "stream",
     "text": [
      "2022-08-16 14:13:54,938 [ForkPoolWorker-5:gedi_subset] [DEBUG] Subsetting /MCmfsJ/output/GEDI04_A_2019153110846_O02665_01_T03958_02_002_02_V002.h5\n"
     ]
    },
    {
     "name": "stderr",
     "output_type": "stream",
     "text": [
      "2022-08-16 14:13:54,939 [ForkPoolWorker-1:gedi_subset.maapx] [DEBUG] Downloading granule GEDI_L4A_AGB_Density_V2_1.GEDI04_A_2019111145043_O02015_04_T00201_02_002_02_V002.h5 to directory /MCmfsJ/output\n"
     ]
    },
    {
     "name": "stderr",
     "output_type": "stream",
     "text": [
      "2022-08-16 14:13:54,942 [ForkPoolWorker-5:gedi_subset.maapx] [DEBUG] Downloading granule GEDI_L4A_AGB_Density_V2_1.GEDI04_A_2019153110846_O02665_02_T03958_02_002_02_V002.h5 to directory /MCmfsJ/output\n"
     ]
    },
    {
     "name": "stderr",
     "output_type": "stream",
     "text": [
      "2022-08-16 14:13:54,946 [ForkPoolWorker-3:gedi_subset] [DEBUG] Subsetting /MCmfsJ/output/GEDI04_A_2019132190410_O02344_01_T00867_02_002_02_V002.h5\n"
     ]
    },
    {
     "name": "stderr",
     "output_type": "stream",
     "text": [
      "2022-08-16 14:13:54,947 [ForkPoolWorker-3:gedi_subset.maapx] [DEBUG] Downloading granule GEDI_L4A_AGB_Density_V2_1.GEDI04_A_2019135054606_O02382_04_T01869_02_002_02_V002.h5 to directory /MCmfsJ/output\n"
     ]
    },
    {
     "name": "stderr",
     "output_type": "stream",
     "text": [
      "2022-08-16 14:13:54,962 [ForkPoolWorker-10:gedi_subset] [DEBUG] Subsetting /MCmfsJ/output/GEDI04_A_2019218203648_O03680_04_T02986_02_002_02_V002.h5\n"
     ]
    },
    {
     "name": "stderr",
     "output_type": "stream",
     "text": [
      "2022-08-16 14:13:54,963 [ForkPoolWorker-10:gedi_subset.maapx] [DEBUG] Downloading granule GEDI_L4A_AGB_Density_V2_1.GEDI04_A_2019219085904_O03688_01_T02841_02_002_02_V002.h5 to directory /MCmfsJ/output\n"
     ]
    },
    {
     "name": "stderr",
     "output_type": "stream",
     "text": [
      "2022-08-16 14:13:54,964 [ForkPoolWorker-8:gedi_subset] [DEBUG] Subsetting /MCmfsJ/output/GEDI04_A_2019193064225_O03283_04_T03445_02_002_02_V002.h5\n"
     ]
    },
    {
     "name": "stderr",
     "output_type": "stream",
     "text": [
      "2022-08-16 14:13:54,966 [ForkPoolWorker-8:gedi_subset.maapx] [DEBUG] Downloading granule GEDI_L4A_AGB_Density_V2_1.GEDI04_A_2019193190442_O03291_01_T04723_02_002_02_V002.h5 to directory /MCmfsJ/output\n"
     ]
    },
    {
     "name": "stderr",
     "output_type": "stream",
     "text": [
      "2022-08-16 14:13:54,976 [ForkPoolWorker-4:gedi_subset] [DEBUG] Subsetting /MCmfsJ/output/GEDI04_A_2019142152425_O02497_02_T05687_02_002_02_V002.h5\n"
     ]
    },
    {
     "name": "stderr",
     "output_type": "stream",
     "text": [
      "2022-08-16 14:13:54,979 [ForkPoolWorker-9:gedi_subset] [DEBUG] Subsetting /MCmfsJ/output/GEDI04_A_2019197172428_O03352_02_T04218_02_002_02_V002.h5\n"
     ]
    },
    {
     "name": "stderr",
     "output_type": "stream",
     "text": [
      "2022-08-16 14:13:54,980 [ForkPoolWorker-4:gedi_subset.maapx] [DEBUG] Downloading granule GEDI_L4A_AGB_Density_V2_1.GEDI04_A_2019143021311_O02504_03_T01425_02_002_02_V002.h5 to directory /MCmfsJ/output\n"
     ]
    },
    {
     "name": "stderr",
     "output_type": "stream",
     "text": [
      "2022-08-16 14:13:54,981 [ForkPoolWorker-9:gedi_subset.maapx] [DEBUG] Downloading granule GEDI_L4A_AGB_Density_V2_1.GEDI04_A_2019200163229_O03398_02_T04310_02_002_02_V002.h5 to directory /MCmfsJ/output\n"
     ]
    },
    {
     "name": "stderr",
     "output_type": "stream",
     "text": [
      "2022-08-16 14:13:55,131 [ForkPoolWorker-7:gedi_subset] [DEBUG] Subsetting /MCmfsJ/output/GEDI04_A_2019179114752_O03069_03_T02695_02_002_02_V002.h5\n"
     ]
    },
    {
     "name": "stderr",
     "output_type": "stream",
     "text": [
      "2022-08-16 14:13:55,133 [ForkPoolWorker-7:gedi_subset.maapx] [DEBUG] Downloading granule GEDI_L4A_AGB_Density_V2_1.GEDI04_A_2019182105506_O03115_03_T05633_02_002_02_V002.h5 to directory /MCmfsJ/output\n"
     ]
    },
    {
     "name": "stderr",
     "output_type": "stream",
     "text": [
      "2022-08-16 14:13:55,202 [ForkPoolWorker-6:gedi_subset] [DEBUG] Subsetting /MCmfsJ/output/GEDI04_A_2019168160242_O02901_03_T03001_02_002_02_V002.h5\n"
     ]
    },
    {
     "name": "stderr",
     "output_type": "stream",
     "text": [
      "2022-08-16 14:13:55,204 [ForkPoolWorker-6:gedi_subset.maapx] [DEBUG] Downloading granule GEDI_L4A_AGB_Density_V2_1.GEDI04_A_2019171151005_O02947_03_T01823_02_002_02_V002.h5 to directory /MCmfsJ/output\n"
     ]
    },
    {
     "name": "stderr",
     "output_type": "stream",
     "text": [
      "2022-08-16 14:13:55,215 [ForkPoolWorker-2:gedi_subset] [DEBUG] Subsetting /MCmfsJ/output/GEDI04_A_2019121233316_O02176_01_T04876_02_002_02_V002.h5\n"
     ]
    },
    {
     "name": "stderr",
     "output_type": "stream",
     "text": [
      "2022-08-16 14:13:55,217 [ForkPoolWorker-2:gedi_subset.maapx] [DEBUG] Downloading granule GEDI_L4A_AGB_Density_V2_1.GEDI04_A_2019121233316_O02176_02_T04876_02_002_02_V002.h5 to directory /MCmfsJ/output\n"
     ]
    },
    {
     "name": "stderr",
     "output_type": "stream",
     "text": [
      "2022-08-16 14:13:55,265 [ForkPoolWorker-11:gedi_subset] [DEBUG] Subsetting /MCmfsJ/output/GEDI04_A_2019230044746_O03856_02_T04769_02_002_02_V002.h5\n"
     ]
    },
    {
     "name": "stderr",
     "output_type": "stream",
     "text": [
      "2022-08-16 14:13:55,267 [ForkPoolWorker-11:gedi_subset.maapx] [DEBUG] Downloading granule GEDI_L4A_AGB_Density_V2_1.GEDI04_A_2019230153730_O03863_03_T03047_02_002_02_V002.h5 to directory /MCmfsJ/output\n"
     ]
    },
    {
     "name": "stderr",
     "output_type": "stream",
     "text": [
      "2022-08-16 14:13:55,281 [ForkPoolWorker-10:gedi_subset] [DEBUG] Subsetting /MCmfsJ/output/GEDI04_A_2019219085904_O03688_01_T02841_02_002_02_V002.h5\n"
     ]
    },
    {
     "name": "stderr",
     "output_type": "stream",
     "text": [
      "2022-08-16 14:13:55,283 [ForkPoolWorker-10:gedi_subset.maapx] [DEBUG] Downloading granule GEDI_L4A_AGB_Density_V2_1.GEDI04_A_2019219085904_O03688_02_T02841_02_002_02_V002.h5 to directory /MCmfsJ/output\n"
     ]
    },
    {
     "name": "stderr",
     "output_type": "stream",
     "text": [
      "2022-08-16 14:13:55,295 [ForkPoolWorker-5:gedi_subset] [DEBUG] Subsetting /MCmfsJ/output/GEDI04_A_2019153110846_O02665_02_T03958_02_002_02_V002.h5\n"
     ]
    },
    {
     "name": "stderr",
     "output_type": "stream",
     "text": [
      "2022-08-16 14:13:55,295 [ForkPoolWorker-1:gedi_subset] [DEBUG] Subsetting /MCmfsJ/output/GEDI04_A_2019111145043_O02015_04_T00201_02_002_02_V002.h5\n"
     ]
    },
    {
     "name": "stderr",
     "output_type": "stream",
     "text": [
      "2022-08-16 14:13:55,297 [ForkPoolWorker-5:gedi_subset.maapx] [DEBUG] Downloading granule GEDI_L4A_AGB_Density_V2_1.GEDI04_A_2019156210541_O02718_03_T01058_02_002_02_V002.h5 to directory /MCmfsJ/output\n"
     ]
    },
    {
     "name": "stderr",
     "output_type": "stream",
     "text": [
      "2022-08-16 14:13:55,297 [ForkPoolWorker-1:gedi_subset.maapx] [DEBUG] Downloading granule GEDI_L4A_AGB_Density_V2_1.GEDI04_A_2019114135421_O02061_04_T00905_02_002_02_V002.h5 to directory /MCmfsJ/output\n"
     ]
    },
    {
     "name": "stderr",
     "output_type": "stream",
     "text": [
      "2022-08-16 14:13:55,304 [ForkPoolWorker-3:gedi_subset] [DEBUG] Subsetting /MCmfsJ/output/GEDI04_A_2019135054606_O02382_04_T01869_02_002_02_V002.h5\n"
     ]
    },
    {
     "name": "stderr",
     "output_type": "stream",
     "text": [
      "2022-08-16 14:13:55,306 [ForkPoolWorker-3:gedi_subset.maapx] [DEBUG] Downloading granule GEDI_L4A_AGB_Density_V2_1.GEDI04_A_2019135180733_O02390_01_T01724_02_002_02_V002.h5 to directory /MCmfsJ/output\n"
     ]
    },
    {
     "name": "stderr",
     "output_type": "stream",
     "text": [
      "2022-08-16 14:13:55,320 [ForkPoolWorker-4:gedi_subset] [DEBUG] Subsetting /MCmfsJ/output/GEDI04_A_2019143021311_O02504_03_T01425_02_002_02_V002.h5\n"
     ]
    },
    {
     "name": "stderr",
     "output_type": "stream",
     "text": [
      "2022-08-16 14:13:55,322 [ForkPoolWorker-4:gedi_subset.maapx] [DEBUG] Downloading granule GEDI_L4A_AGB_Density_V2_1.GEDI04_A_2019146011955_O02550_03_T02940_02_002_02_V002.h5 to directory /MCmfsJ/output\n"
     ]
    },
    {
     "name": "stderr",
     "output_type": "stream",
     "text": [
      "2022-08-16 14:13:55,325 [ForkPoolWorker-9:gedi_subset] [DEBUG] Subsetting /MCmfsJ/output/GEDI04_A_2019200163229_O03398_02_T04310_02_002_02_V002.h5\n"
     ]
    },
    {
     "name": "stderr",
     "output_type": "stream",
     "text": [
      "2022-08-16 14:13:55,326 [ForkPoolWorker-9:gedi_subset.maapx] [DEBUG] Downloading granule GEDI_L4A_AGB_Density_V2_1.GEDI04_A_2019201032158_O03405_03_T05587_02_002_02_V002.h5 to directory /MCmfsJ/output\n"
     ]
    },
    {
     "name": "stderr",
     "output_type": "stream",
     "text": [
      "2022-08-16 14:13:55,331 [ForkPoolWorker-8:gedi_subset] [DEBUG] Subsetting /MCmfsJ/output/GEDI04_A_2019193190442_O03291_01_T04723_02_002_02_V002.h5\n"
     ]
    },
    {
     "name": "stderr",
     "output_type": "stream",
     "text": [
      "2022-08-16 14:13:55,333 [ForkPoolWorker-8:gedi_subset.maapx] [DEBUG] Downloading granule GEDI_L4A_AGB_Density_V2_1.GEDI04_A_2019193190442_O03291_02_T04723_02_002_02_V002.h5 to directory /MCmfsJ/output\n"
     ]
    },
    {
     "name": "stderr",
     "output_type": "stream",
     "text": [
      "2022-08-16 14:13:55,456 [ForkPoolWorker-7:gedi_subset] [DEBUG] Subsetting /MCmfsJ/output/GEDI04_A_2019182105506_O03115_03_T05633_02_002_02_V002.h5\n"
     ]
    },
    {
     "name": "stderr",
     "output_type": "stream",
     "text": [
      "2022-08-16 14:13:55,458 [ForkPoolWorker-7:gedi_subset.maapx] [DEBUG] Downloading granule GEDI_L4A_AGB_Density_V2_1.GEDI04_A_2019182105506_O03115_04_T05633_02_002_02_V002.h5 to directory /MCmfsJ/output\n"
     ]
    },
    {
     "name": "stderr",
     "output_type": "stream",
     "text": [
      "2022-08-16 14:13:55,528 [ForkPoolWorker-2:gedi_subset] [DEBUG] Subsetting /MCmfsJ/output/GEDI04_A_2019121233316_O02176_02_T04876_02_002_02_V002.h5\n"
     ]
    },
    {
     "name": "stderr",
     "output_type": "stream",
     "text": [
      "2022-08-16 14:13:55,530 [ForkPoolWorker-2:gedi_subset.maapx] [DEBUG] Downloading granule GEDI_L4A_AGB_Density_V2_1.GEDI04_A_2019125092535_O02229_03_T01165_02_002_02_V002.h5 to directory /MCmfsJ/output\n"
     ]
    },
    {
     "name": "stderr",
     "output_type": "stream",
     "text": [
      "2022-08-16 14:13:55,546 [ForkPoolWorker-6:gedi_subset] [DEBUG] Subsetting /MCmfsJ/output/GEDI04_A_2019171151005_O02947_03_T01823_02_002_02_V002.h5\n"
     ]
    },
    {
     "name": "stderr",
     "output_type": "stream",
     "text": [
      "2022-08-16 14:13:55,547 [ForkPoolWorker-6:gedi_subset.maapx] [DEBUG] Downloading granule GEDI_L4A_AGB_Density_V2_1.GEDI04_A_2019171151005_O02947_04_T01823_02_002_02_V002.h5 to directory /MCmfsJ/output\n"
     ]
    },
    {
     "name": "stderr",
     "output_type": "stream",
     "text": [
      "2022-08-16 14:13:55,563 [ForkPoolWorker-11:gedi_subset] [DEBUG] Subsetting /MCmfsJ/output/GEDI04_A_2019230153730_O03863_03_T03047_02_002_02_V002.h5\n"
     ]
    },
    {
     "name": "stderr",
     "output_type": "stream",
     "text": [
      "2022-08-16 14:13:55,564 [ForkPoolWorker-11:gedi_subset.maapx] [DEBUG] Downloading granule GEDI_L4A_AGB_Density_V2_1.GEDI04_A_2019230153730_O03863_04_T03047_02_002_02_V002.h5 to directory /MCmfsJ/output\n"
     ]
    },
    {
     "name": "stderr",
     "output_type": "stream",
     "text": [
      "2022-08-16 14:13:55,619 [ForkPoolWorker-5:gedi_subset] [DEBUG] Subsetting /MCmfsJ/output/GEDI04_A_2019156210541_O02718_03_T01058_02_002_02_V002.h5\n"
     ]
    },
    {
     "name": "stderr",
     "output_type": "stream",
     "text": [
      "2022-08-16 14:13:55,622 [ForkPoolWorker-5:gedi_subset.maapx] [DEBUG] Downloading granule GEDI_L4A_AGB_Density_V2_1.GEDI04_A_2019156210541_O02718_04_T01058_02_002_02_V002.h5 to directory /MCmfsJ/output\n"
     ]
    },
    {
     "name": "stderr",
     "output_type": "stream",
     "text": [
      "2022-08-16 14:13:55,624 [ForkPoolWorker-10:gedi_subset] [DEBUG] Subsetting /MCmfsJ/output/GEDI04_A_2019219085904_O03688_02_T02841_02_002_02_V002.h5\n"
     ]
    },
    {
     "name": "stderr",
     "output_type": "stream",
     "text": [
      "2022-08-16 14:13:55,626 [ForkPoolWorker-10:gedi_subset.maapx] [DEBUG] Downloading granule GEDI_L4A_AGB_Density_V2_1.GEDI04_A_2019219194832_O03695_03_T03965_02_002_02_V002.h5 to directory /MCmfsJ/output\n"
     ]
    },
    {
     "name": "stderr",
     "output_type": "stream",
     "text": [
      "2022-08-16 14:13:55,634 [ForkPoolWorker-3:gedi_subset] [DEBUG] Subsetting /MCmfsJ/output/GEDI04_A_2019135180733_O02390_01_T01724_02_002_02_V002.h5\n"
     ]
    },
    {
     "name": "stderr",
     "output_type": "stream",
     "text": [
      "2022-08-16 14:13:55,636 [ForkPoolWorker-3:gedi_subset.maapx] [DEBUG] Downloading granule GEDI_L4A_AGB_Density_V2_1.GEDI04_A_2019135180733_O02390_02_T01724_02_002_02_V002.h5 to directory /MCmfsJ/output\n"
     ]
    },
    {
     "name": "stderr",
     "output_type": "stream",
     "text": [
      "2022-08-16 14:13:55,639 [ForkPoolWorker-9:gedi_subset] [DEBUG] Subsetting /MCmfsJ/output/GEDI04_A_2019201032158_O03405_03_T05587_02_002_02_V002.h5\n"
     ]
    },
    {
     "name": "stderr",
     "output_type": "stream",
     "text": [
      "2022-08-16 14:13:55,641 [ForkPoolWorker-9:gedi_subset.maapx] [DEBUG] Downloading granule GEDI_L4A_AGB_Density_V2_1.GEDI04_A_2019201032158_O03405_04_T05587_02_002_02_V002.h5 to directory /MCmfsJ/output\n"
     ]
    },
    {
     "name": "stderr",
     "output_type": "stream",
     "text": [
      "2022-08-16 14:13:55,656 [ForkPoolWorker-1:gedi_subset] [DEBUG] Subsetting /MCmfsJ/output/GEDI04_A_2019114135421_O02061_04_T00905_02_002_02_V002.h5\n"
     ]
    },
    {
     "name": "stderr",
     "output_type": "stream",
     "text": [
      "2022-08-16 14:13:55,658 [ForkPoolWorker-1:gedi_subset.maapx] [DEBUG] Downloading granule GEDI_L4A_AGB_Density_V2_1.GEDI04_A_2019115021551_O02069_01_T03606_02_002_02_V002.h5 to directory /MCmfsJ/output\n"
     ]
    },
    {
     "name": "stderr",
     "output_type": "stream",
     "text": [
      "2022-08-16 14:13:55,658 [ForkPoolWorker-4:gedi_subset] [DEBUG] Subsetting /MCmfsJ/output/GEDI04_A_2019146011955_O02550_03_T02940_02_002_02_V002.h5\n"
     ]
    },
    {
     "name": "stderr",
     "output_type": "stream",
     "text": [
      "2022-08-16 14:13:55,659 [ForkPoolWorker-4:gedi_subset.maapx] [DEBUG] Downloading granule GEDI_L4A_AGB_Density_V2_1.GEDI04_A_2019146011955_O02550_04_T02940_02_002_02_V002.h5 to directory /MCmfsJ/output\n"
     ]
    },
    {
     "name": "stderr",
     "output_type": "stream",
     "text": [
      "2022-08-16 14:13:55,668 [ForkPoolWorker-8:gedi_subset] [DEBUG] Subsetting /MCmfsJ/output/GEDI04_A_2019193190442_O03291_02_T04723_02_002_02_V002.h5\n"
     ]
    },
    {
     "name": "stderr",
     "output_type": "stream",
     "text": [
      "2022-08-16 14:13:55,670 [ForkPoolWorker-8:gedi_subset.maapx] [DEBUG] Downloading granule GEDI_L4A_AGB_Density_V2_1.GEDI04_A_2019194055411_O03298_03_T00155_02_002_02_V002.h5 to directory /MCmfsJ/output\n"
     ]
    },
    {
     "name": "stderr",
     "output_type": "stream",
     "text": [
      "2022-08-16 14:13:55,778 [ForkPoolWorker-7:gedi_subset] [DEBUG] Subsetting /MCmfsJ/output/GEDI04_A_2019182105506_O03115_04_T05633_02_002_02_V002.h5\n"
     ]
    },
    {
     "name": "stderr",
     "output_type": "stream",
     "text": [
      "2022-08-16 14:13:55,780 [ForkPoolWorker-7:gedi_subset.maapx] [DEBUG] Downloading granule GEDI_L4A_AGB_Density_V2_1.GEDI04_A_2019182231714_O03123_01_T02642_02_002_02_V002.h5 to directory /MCmfsJ/output\n"
     ]
    },
    {
     "name": "stderr",
     "output_type": "stream",
     "text": [
      "2022-08-16 14:13:55,863 [ForkPoolWorker-2:gedi_subset] [DEBUG] Subsetting /MCmfsJ/output/GEDI04_A_2019125092535_O02229_03_T01165_02_002_02_V002.h5\n"
     ]
    },
    {
     "name": "stderr",
     "output_type": "stream",
     "text": [
      "2022-08-16 14:13:55,865 [ForkPoolWorker-2:gedi_subset.maapx] [DEBUG] Downloading granule GEDI_L4A_AGB_Density_V2_1.GEDI04_A_2019125092535_O02229_04_T01165_02_002_02_V002.h5 to directory /MCmfsJ/output\n"
     ]
    },
    {
     "name": "stderr",
     "output_type": "stream",
     "text": [
      "2022-08-16 14:13:55,886 [ForkPoolWorker-6:gedi_subset] [DEBUG] Subsetting /MCmfsJ/output/GEDI04_A_2019171151005_O02947_04_T01823_02_002_02_V002.h5\n"
     ]
    },
    {
     "name": "stderr",
     "output_type": "stream",
     "text": [
      "2022-08-16 14:13:55,888 [ForkPoolWorker-6:gedi_subset.maapx] [DEBUG] Downloading granule GEDI_L4A_AGB_Density_V2_1.GEDI04_A_2019175023936_O03001_01_T03040_02_002_02_V002.h5 to directory /MCmfsJ/output\n"
     ]
    },
    {
     "name": "stderr",
     "output_type": "stream",
     "text": [
      "2022-08-16 14:13:55,899 [ForkPoolWorker-11:gedi_subset] [DEBUG] Subsetting /MCmfsJ/output/GEDI04_A_2019230153730_O03863_04_T03047_02_002_02_V002.h5\n"
     ]
    },
    {
     "name": "stderr",
     "output_type": "stream",
     "text": [
      "2022-08-16 14:13:55,900 [ForkPoolWorker-11:gedi_subset.maapx] [DEBUG] Downloading granule GEDI_L4A_AGB_Density_V2_1.GEDI04_A_2019231040003_O03871_01_T04172_02_002_02_V002.h5 to directory /MCmfsJ/output\n"
     ]
    },
    {
     "name": "stderr",
     "output_type": "stream",
     "text": [
      "2022-08-16 14:13:55,957 [ForkPoolWorker-10:gedi_subset] [DEBUG] Subsetting /MCmfsJ/output/GEDI04_A_2019219194832_O03695_03_T03965_02_002_02_V002.h5\n"
     ]
    },
    {
     "name": "stderr",
     "output_type": "stream",
     "text": [
      "2022-08-16 14:13:55,960 [ForkPoolWorker-10:gedi_subset.maapx] [DEBUG] Downloading granule GEDI_L4A_AGB_Density_V2_1.GEDI04_A_2019222185622_O03741_03_T02787_02_002_02_V002.h5 to directory /MCmfsJ/output\n"
     ]
    },
    {
     "name": "stderr",
     "output_type": "stream",
     "text": [
      "2022-08-16 14:13:55,961 [ForkPoolWorker-9:gedi_subset] [DEBUG] Subsetting /MCmfsJ/output/GEDI04_A_2019201032158_O03405_04_T05587_02_002_02_V002.h5\n"
     ]
    },
    {
     "name": "stderr",
     "output_type": "stream",
     "text": [
      "2022-08-16 14:13:55,963 [ForkPoolWorker-9:gedi_subset.maapx] [DEBUG] Downloading granule GEDI_L4A_AGB_Density_V2_1.GEDI04_A_2019204145213_O03459_01_T05381_02_002_02_V002.h5 to directory /MCmfsJ/output\n"
     ]
    },
    {
     "name": "stderr",
     "output_type": "stream",
     "text": [
      "2022-08-16 14:13:55,966 [ForkPoolWorker-3:gedi_subset] [DEBUG] Subsetting /MCmfsJ/output/GEDI04_A_2019135180733_O02390_02_T01724_02_002_02_V002.h5\n"
     ]
    },
    {
     "name": "stderr",
     "output_type": "stream",
     "text": [
      "2022-08-16 14:13:55,968 [ForkPoolWorker-3:gedi_subset.maapx] [DEBUG] Downloading granule GEDI_L4A_AGB_Density_V2_1.GEDI04_A_2019136045620_O02397_03_T01578_02_002_02_V002.h5 to directory /MCmfsJ/output\n"
     ]
    },
    {
     "name": "stderr",
     "output_type": "stream",
     "text": [
      "2022-08-16 14:13:55,967 [ForkPoolWorker-5:gedi_subset] [DEBUG] Subsetting /MCmfsJ/output/GEDI04_A_2019156210541_O02718_04_T01058_02_002_02_V002.h5\n"
     ]
    },
    {
     "name": "stderr",
     "output_type": "stream",
     "text": [
      "2022-08-16 14:13:55,969 [ForkPoolWorker-5:gedi_subset.maapx] [DEBUG] Downloading granule GEDI_L4A_AGB_Density_V2_1.GEDI04_A_2019157092752_O02726_01_T02336_02_002_02_V002.h5 to directory /MCmfsJ/output\n"
     ]
    },
    {
     "name": "stderr",
     "output_type": "stream",
     "text": [
      "2022-08-16 14:13:56,001 [ForkPoolWorker-8:gedi_subset] [DEBUG] Subsetting /MCmfsJ/output/GEDI04_A_2019194055411_O03298_03_T00155_02_002_02_V002.h5\n"
     ]
    },
    {
     "name": "stderr",
     "output_type": "stream",
     "text": [
      "2022-08-16 14:13:56,003 [ForkPoolWorker-8:gedi_subset.maapx] [DEBUG] Downloading granule GEDI_L4A_AGB_Density_V2_1.GEDI04_A_2019197050212_O03344_03_T01670_02_002_02_V002.h5 to directory /MCmfsJ/output\n"
     ]
    },
    {
     "name": "stderr",
     "output_type": "stream",
     "text": [
      "2022-08-16 14:13:56,003 [ForkPoolWorker-1:gedi_subset] [DEBUG] Subsetting /MCmfsJ/output/GEDI04_A_2019115021551_O02069_01_T03606_02_002_02_V002.h5\n"
     ]
    },
    {
     "name": "stderr",
     "output_type": "stream",
     "text": [
      "2022-08-16 14:13:56,006 [ForkPoolWorker-1:gedi_subset.maapx] [DEBUG] Downloading granule GEDI_L4A_AGB_Density_V2_1.GEDI04_A_2019115021551_O02069_02_T03606_02_002_02_V002.h5 to directory /MCmfsJ/output\n"
     ]
    },
    {
     "name": "stderr",
     "output_type": "stream",
     "text": [
      "2022-08-16 14:13:56,010 [ForkPoolWorker-4:gedi_subset] [DEBUG] Subsetting /MCmfsJ/output/GEDI04_A_2019146011955_O02550_04_T02940_02_002_02_V002.h5\n"
     ]
    },
    {
     "name": "stderr",
     "output_type": "stream",
     "text": [
      "2022-08-16 14:13:56,012 [ForkPoolWorker-4:gedi_subset.maapx] [DEBUG] Downloading granule GEDI_L4A_AGB_Density_V2_1.GEDI04_A_2019146134206_O02558_01_T05641_02_002_02_V002.h5 to directory /MCmfsJ/output\n"
     ]
    },
    {
     "name": "stderr",
     "output_type": "stream",
     "text": [
      "2022-08-16 14:13:56,111 [ForkPoolWorker-7:gedi_subset] [DEBUG] Subsetting /MCmfsJ/output/GEDI04_A_2019182231714_O03123_01_T02642_02_002_02_V002.h5\n"
     ]
    },
    {
     "name": "stderr",
     "output_type": "stream",
     "text": [
      "2022-08-16 14:13:56,113 [ForkPoolWorker-7:gedi_subset.maapx] [DEBUG] Downloading granule GEDI_L4A_AGB_Density_V2_1.GEDI04_A_2019182231714_O03123_02_T02642_02_002_02_V002.h5 to directory /MCmfsJ/output\n"
     ]
    },
    {
     "name": "stderr",
     "output_type": "stream",
     "text": [
      "2022-08-16 14:13:56,207 [ForkPoolWorker-2:gedi_subset] [DEBUG] Subsetting /MCmfsJ/output/GEDI04_A_2019125092535_O02229_04_T01165_02_002_02_V002.h5\n"
     ]
    },
    {
     "name": "stderr",
     "output_type": "stream",
     "text": [
      "2022-08-16 14:13:56,208 [ForkPoolWorker-2:gedi_subset.maapx] [DEBUG] Downloading granule GEDI_L4A_AGB_Density_V2_1.GEDI04_A_2019128082902_O02275_04_T03292_02_002_02_V002.h5 to directory /MCmfsJ/output\n"
     ]
    },
    {
     "name": "stderr",
     "output_type": "stream",
     "text": [
      "2022-08-16 14:13:56,213 [ForkPoolWorker-6:gedi_subset] [DEBUG] Subsetting /MCmfsJ/output/GEDI04_A_2019175023936_O03001_01_T03040_02_002_02_V002.h5\n"
     ]
    },
    {
     "name": "stderr",
     "output_type": "stream",
     "text": [
      "2022-08-16 14:13:56,215 [ForkPoolWorker-6:gedi_subset.maapx] [DEBUG] Downloading granule GEDI_L4A_AGB_Density_V2_1.GEDI04_A_2019175023936_O03001_02_T03040_02_002_02_V002.h5 to directory /MCmfsJ/output\n"
     ]
    },
    {
     "name": "stderr",
     "output_type": "stream",
     "text": [
      "2022-08-16 14:13:56,290 [ForkPoolWorker-11:gedi_subset] [DEBUG] Subsetting /MCmfsJ/output/GEDI04_A_2019231040003_O03871_01_T04172_02_002_02_V002.h5\n"
     ]
    },
    {
     "name": "stderr",
     "output_type": "stream",
     "text": [
      "2022-08-16 14:13:56,292 [ForkPoolWorker-11:gedi_subset.maapx] [DEBUG] Downloading granule GEDI_L4A_AGB_Density_V2_1.GEDI04_A_2019241113102_O04031_03_T04210_02_002_02_V002.h5 to directory /MCmfsJ/output\n"
     ]
    },
    {
     "name": "stderr",
     "output_type": "stream",
     "text": [
      "2022-08-16 14:13:56,291 [ForkPoolWorker-10:gedi_subset] [DEBUG] Subsetting /MCmfsJ/output/GEDI04_A_2019222185622_O03741_03_T02787_02_002_02_V002.h5\n"
     ]
    },
    {
     "name": "stderr",
     "output_type": "stream",
     "text": [
      "2022-08-16 14:13:56,293 [ForkPoolWorker-10:gedi_subset.maapx] [DEBUG] Downloading granule GEDI_L4A_AGB_Density_V2_1.GEDI04_A_2019222185622_O03741_04_T02787_02_002_02_V002.h5 to directory /MCmfsJ/output\n"
     ]
    },
    {
     "name": "stderr",
     "output_type": "stream",
     "text": [
      "2022-08-16 14:13:56,294 [ForkPoolWorker-5:gedi_subset] [DEBUG] Subsetting /MCmfsJ/output/GEDI04_A_2019157092752_O02726_01_T02336_02_002_02_V002.h5\n"
     ]
    },
    {
     "name": "stderr",
     "output_type": "stream",
     "text": [
      "2022-08-16 14:13:56,295 [ForkPoolWorker-9:gedi_subset] [DEBUG] Subsetting /MCmfsJ/output/GEDI04_A_2019204145213_O03459_01_T05381_02_002_02_V002.h5\n"
     ]
    },
    {
     "name": "stderr",
     "output_type": "stream",
     "text": [
      "2022-08-16 14:13:56,295 [ForkPoolWorker-3:gedi_subset] [DEBUG] Subsetting /MCmfsJ/output/GEDI04_A_2019136045620_O02397_03_T01578_02_002_02_V002.h5\n"
     ]
    },
    {
     "name": "stderr",
     "output_type": "stream",
     "text": [
      "2022-08-16 14:13:56,296 [ForkPoolWorker-5:gedi_subset.maapx] [DEBUG] Downloading granule GEDI_L4A_AGB_Density_V2_1.GEDI04_A_2019157092752_O02726_02_T02336_02_002_02_V002.h5 to directory /MCmfsJ/output\n"
     ]
    },
    {
     "name": "stderr",
     "output_type": "stream",
     "text": [
      "2022-08-16 14:13:56,296 [ForkPoolWorker-9:gedi_subset.maapx] [DEBUG] Downloading granule GEDI_L4A_AGB_Density_V2_1.GEDI04_A_2019204145213_O03459_02_T05381_02_002_02_V002.h5 to directory /MCmfsJ/output\n"
     ]
    },
    {
     "name": "stderr",
     "output_type": "stream",
     "text": [
      "2022-08-16 14:13:56,297 [ForkPoolWorker-3:gedi_subset.maapx] [DEBUG] Downloading granule GEDI_L4A_AGB_Density_V2_1.GEDI04_A_2019142152425_O02497_01_T05687_02_002_02_V002.h5 to directory /MCmfsJ/output\n"
     ]
    },
    {
     "name": "stderr",
     "output_type": "stream",
     "text": [
      "2022-08-16 14:13:56,333 [ForkPoolWorker-1:gedi_subset] [DEBUG] Subsetting /MCmfsJ/output/GEDI04_A_2019115021551_O02069_02_T03606_02_002_02_V002.h5\n"
     ]
    },
    {
     "name": "stderr",
     "output_type": "stream",
     "text": [
      "2022-08-16 14:13:56,335 [ForkPoolWorker-1:gedi_subset.maapx] [DEBUG] Downloading granule GEDI_L4A_AGB_Density_V2_1.GEDI04_A_2019118011926_O02115_02_T02887_02_002_02_V002.h5 to directory /MCmfsJ/output\n"
     ]
    },
    {
     "name": "stderr",
     "output_type": "stream",
     "text": [
      "2022-08-16 14:13:56,344 [ForkPoolWorker-4:gedi_subset] [DEBUG] Subsetting /MCmfsJ/output/GEDI04_A_2019146134206_O02558_01_T05641_02_002_02_V002.h5\n"
     ]
    },
    {
     "name": "stderr",
     "output_type": "stream",
     "text": [
      "2022-08-16 14:13:56,345 [ForkPoolWorker-8:gedi_subset] [DEBUG] Subsetting /MCmfsJ/output/GEDI04_A_2019197050212_O03344_03_T01670_02_002_02_V002.h5\n"
     ]
    },
    {
     "name": "stderr",
     "output_type": "stream",
     "text": [
      "2022-08-16 14:13:56,346 [ForkPoolWorker-4:gedi_subset.maapx] [DEBUG] Downloading granule GEDI_L4A_AGB_Density_V2_1.GEDI04_A_2019146134206_O02558_02_T05641_02_002_02_V002.h5 to directory /MCmfsJ/output\n"
     ]
    },
    {
     "name": "stderr",
     "output_type": "stream",
     "text": [
      "2022-08-16 14:13:56,347 [ForkPoolWorker-8:gedi_subset.maapx] [DEBUG] Downloading granule GEDI_L4A_AGB_Density_V2_1.GEDI04_A_2019197050212_O03344_04_T01670_02_002_02_V002.h5 to directory /MCmfsJ/output\n"
     ]
    },
    {
     "name": "stderr",
     "output_type": "stream",
     "text": [
      "2022-08-16 14:13:56,464 [ForkPoolWorker-7:gedi_subset] [DEBUG] Subsetting /MCmfsJ/output/GEDI04_A_2019182231714_O03123_02_T02642_02_002_02_V002.h5\n"
     ]
    },
    {
     "name": "stderr",
     "output_type": "stream",
     "text": [
      "2022-08-16 14:13:56,466 [ForkPoolWorker-7:gedi_subset.maapx] [DEBUG] Downloading granule GEDI_L4A_AGB_Density_V2_1.GEDI04_A_2019186213649_O03184_01_T03560_02_002_02_V002.h5 to directory /MCmfsJ/output\n"
     ]
    },
    {
     "name": "stderr",
     "output_type": "stream",
     "text": [
      "2022-08-16 14:13:56,535 [ForkPoolWorker-6:gedi_subset] [DEBUG] Subsetting /MCmfsJ/output/GEDI04_A_2019175023936_O03001_02_T03040_02_002_02_V002.h5\n"
     ]
    },
    {
     "name": "stderr",
     "output_type": "stream",
     "text": [
      "2022-08-16 14:13:56,537 [ForkPoolWorker-6:gedi_subset.maapx] [DEBUG] Downloading granule GEDI_L4A_AGB_Density_V2_1.GEDI04_A_2019175132859_O03008_03_T00048_02_002_02_V002.h5 to directory /MCmfsJ/output\n"
     ]
    },
    {
     "name": "stderr",
     "output_type": "stream",
     "text": [
      "2022-08-16 14:13:56,539 [ForkPoolWorker-2:gedi_subset] [DEBUG] Subsetting /MCmfsJ/output/GEDI04_A_2019128082902_O02275_04_T03292_02_002_02_V002.h5\n"
     ]
    },
    {
     "name": "stderr",
     "output_type": "stream",
     "text": [
      "2022-08-16 14:13:56,541 [ForkPoolWorker-2:gedi_subset.maapx] [DEBUG] Downloading granule GEDI_L4A_AGB_Density_V2_1.GEDI04_A_2019128205030_O02283_01_T03147_02_002_02_V002.h5 to directory /MCmfsJ/output\n"
     ]
    },
    {
     "name": "stderr",
     "output_type": "stream",
     "text": [
      "2022-08-16 14:13:56,613 [ForkPoolWorker-3:gedi_subset] [DEBUG] Subsetting /MCmfsJ/output/GEDI04_A_2019142152425_O02497_01_T05687_02_002_02_V002.h5\n"
     ]
    },
    {
     "name": "stderr",
     "output_type": "stream",
     "text": [
      "2022-08-16 14:13:56,624 [ForkPoolWorker-11:gedi_subset] [DEBUG] Subsetting /MCmfsJ/output/GEDI04_A_2019241113102_O04031_03_T04210_02_002_02_V002.h5\n"
     ]
    },
    {
     "name": "stderr",
     "output_type": "stream",
     "text": [
      "Traceback (most recent call last):\n"
     ]
    },
    {
     "name": "stderr",
     "output_type": "stream",
     "text": [
      "  File \"/home/jovyan/maap-documentation-examples/gedi-subset/subset.py\", line 265, in <module>\n"
     ]
    },
    {
     "name": "stderr",
     "output_type": "stream",
     "text": [
      "    typer.run(main)\n"
     ]
    },
    {
     "name": "stderr",
     "output_type": "stream",
     "text": [
      "  File \"/opt/conda/envs/gedi_subset/lib/python3.10/site-packages/typer/main.py\", line 864, in run\n"
     ]
    },
    {
     "name": "stderr",
     "output_type": "stream",
     "text": [
      "    app()\n"
     ]
    },
    {
     "name": "stderr",
     "output_type": "stream",
     "text": [
      "  File \"/opt/conda/envs/gedi_subset/lib/python3.10/site-packages/typer/main.py\", line 214, in __call__\n"
     ]
    },
    {
     "name": "stderr",
     "output_type": "stream",
     "text": [
      "    return get_command(self)(*args, **kwargs)\n"
     ]
    },
    {
     "name": "stderr",
     "output_type": "stream",
     "text": [
      "  File \"/opt/conda/envs/gedi_subset/lib/python3.10/site-packages/click/core.py\", line 1130, in __call__\n"
     ]
    },
    {
     "name": "stderr",
     "output_type": "stream",
     "text": [
      "    return self.main(*args, **kwargs)\n"
     ]
    },
    {
     "name": "stderr",
     "output_type": "stream",
     "text": [
      "  File \"/opt/conda/envs/gedi_subset/lib/python3.10/site-packages/click/core.py\", line 1055, in main\n"
     ]
    },
    {
     "name": "stderr",
     "output_type": "stream",
     "text": [
      "    rv = self.invoke(ctx)\n"
     ]
    },
    {
     "name": "stderr",
     "output_type": "stream",
     "text": [
      "  File \"/opt/conda/envs/gedi_subset/lib/python3.10/site-packages/click/core.py\", line 1404, in invoke\n"
     ]
    },
    {
     "name": "stderr",
     "output_type": "stream",
     "text": [
      "    return ctx.invoke(self.callback, **ctx.params)\n"
     ]
    },
    {
     "name": "stderr",
     "output_type": "stream",
     "text": [
      "  File \"/opt/conda/envs/gedi_subset/lib/python3.10/site-packages/click/core.py\", line 760, in invoke\n"
     ]
    },
    {
     "name": "stderr",
     "output_type": "stream",
     "text": [
      "    return __callback(*args, **kwargs)\n"
     ]
    },
    {
     "name": "stderr",
     "output_type": "stream",
     "text": [
      "  File \"/opt/conda/envs/gedi_subset/lib/python3.10/site-packages/typer/main.py\", line 500, in wrapper\n"
     ]
    },
    {
     "name": "stderr",
     "output_type": "stream",
     "text": [
      "    return callback(**use_params)  # type: ignore\n"
     ]
    },
    {
     "name": "stderr",
     "output_type": "stream",
     "text": [
      "  File \"/home/jovyan/maap-documentation-examples/gedi-subset/subset.py\", line 233, in main\n"
     ]
    },
    {
     "name": "stderr",
     "output_type": "stream",
     "text": [
      "    result = IO.do(\n"
     ]
    },
    {
     "name": "stderr",
     "output_type": "stream",
     "text": [
      "  File \"/opt/conda/envs/gedi_subset/lib/python3.10/site-packages/returns/io.py\", line 188, in do\n"
     ]
    },
    {
     "name": "stderr",
     "output_type": "stream",
     "text": [
      "    return IO(next(expr))\n"
     ]
    },
    {
     "name": "stderr",
     "output_type": "stream",
     "text": [
      "  File \"/home/jovyan/maap-documentation-examples/gedi-subset/subset.py\", line 245, in <genexpr>\n"
     ]
    },
    {
     "name": "stderr",
     "output_type": "stream",
     "text": [
      "    for subsets in subset_granules(\n"
     ]
    },
    {
     "name": "stderr",
     "output_type": "stream",
     "text": [
      "  File \"/home/jovyan/maap-documentation-examples/gedi-subset/subset.py\", line 151, in subset_granules\n"
     ]
    },
    {
     "name": "stderr",
     "output_type": "stream",
     "text": [
      "    return flow(\n"
     ]
    },
    {
     "name": "stderr",
     "output_type": "stream",
     "text": [
      "  File \"/opt/conda/envs/gedi_subset/lib/python3.10/site-packages/returns/_internal/pipeline/flow.py\", line 50, in flow\n"
     ]
    },
    {
     "name": "stderr",
     "output_type": "stream",
     "text": [
      "    return reduce(  # type: ignore\n"
     ]
    },
    {
     "name": "stderr",
     "output_type": "stream",
     "text": [
      "  File \"/opt/conda/envs/gedi_subset/lib/python3.10/site-packages/returns/_internal/pipeline/flow.py\", line 51, in <lambda>\n"
     ]
    },
    {
     "name": "stderr",
     "output_type": "stream",
     "text": [
      "    lambda composed, function: function(composed),  # type: ignore\n"
     ]
    },
    {
     "name": "stderr",
     "output_type": "stream",
     "text": [
      "  File \"/opt/conda/envs/gedi_subset/lib/python3.10/site-packages/returns/iterables.py\", line 157, in collect\n"
     ]
    },
    {
     "name": "stderr",
     "output_type": "stream",
     "text": [
      "    return cls._collect(iterable, acc)\n"
     ]
    },
    {
     "name": "stderr",
     "output_type": "stream",
     "text": [
      "  File \"/opt/conda/envs/gedi_subset/lib/python3.10/site-packages/returns/iterables.py\", line 279, in _collect\n"
     ]
    },
    {
     "name": "stderr",
     "output_type": "stream",
     "text": [
      "    return cls._loop(\n"
     ]
    },
    {
     "name": "stderr",
     "output_type": "stream",
     "text": [
      "  File \"/opt/conda/envs/gedi_subset/lib/python3.10/site-packages/returns/iterables.py\", line 355, in _loop\n"
     ]
    },
    {
     "name": "stderr",
     "output_type": "stream",
     "text": [
      "    for current in iterable:\n"
     ]
    },
    {
     "name": "stderr",
     "output_type": "stream",
     "text": [
      "  File \"/opt/conda/envs/gedi_subset/lib/python3.10/site-packages/returns/pointfree/lash.py\", line 55, in factory\n"
     ]
    },
    {
     "name": "stderr",
     "output_type": "stream",
     "text": [
      "    return container.lash(function)\n"
     ]
    },
    {
     "name": "stderr",
     "output_type": "stream",
     "text": [
      "  File \"/opt/conda/envs/gedi_subset/lib/python3.10/site-packages/returns/io.py\", line 851, in lash\n"
     ]
    },
    {
     "name": "stderr",
     "output_type": "stream",
     "text": [
      "    return function(self._inner_value.failure())\n"
     ]
    },
    {
     "name": "stderr",
     "output_type": "stream",
     "text": [
      "  File \"/opt/conda/envs/gedi_subset/lib/python3.10/site-packages/returns/functions.py\", line 132, in raise_exception\n"
     ]
    },
    {
     "name": "stderr",
     "output_type": "stream",
     "text": [
      "    raise exception\n"
     ]
    },
    {
     "name": "stderr",
     "output_type": "stream",
     "text": [
      "OSError: Unable to open file (file signature not found)\n"
     ]
    },
    {
     "name": "stderr",
     "output_type": "stream",
     "text": [
      "ERROR conda.cli.main_run:execute(49): `conda run /home/jovyan/maap-documentation-examples/gedi-subset/subset.py --verbose --aoi /MCmfsJ/geoBoundaries-GAB-ADM0.geojson --columns agbd, agbd_se, l2_quality_flag, l4_quality_flag, sensitivity, sensitivity_a2 --query l2_quality_flag == 1 and l4_quality_flag == 1 and sensitivity > 0.95 and sensitivity_a2 > 0.95 --limit 10000` failed. (See above for error)\n"
     ]
    },
    {
     "ename": "CalledProcessError",
     "evalue": "Command 'b'# write a bash script here\\nconda run --no-capture-output -n gedi_subset /home/jovyan/maap-documentation-examples/gedi-subset/subset.py \\\\\\n    --verbose --aoi \"${1}\" --columns \"${2}\" --query \"${3}\" --limit ${4}\\n'' returned non-zero exit status 1.",
     "output_type": "error",
     "traceback": [
      "\u001b[0;31m---------------------------------------------------------------------------\u001b[0m",
      "\u001b[0;31mCalledProcessError\u001b[0m                        Traceback (most recent call last)",
      "Input \u001b[0;32mIn [3]\u001b[0m, in \u001b[0;36m<cell line: 1>\u001b[0;34m()\u001b[0m\n\u001b[0;32m----> 1\u001b[0m \u001b[43mget_ipython\u001b[49m\u001b[43m(\u001b[49m\u001b[43m)\u001b[49m\u001b[38;5;241;43m.\u001b[39;49m\u001b[43mrun_cell_magic\u001b[49m\u001b[43m(\u001b[49m\u001b[38;5;124;43m'\u001b[39;49m\u001b[38;5;124;43mbash\u001b[39;49m\u001b[38;5;124;43m'\u001b[39;49m\u001b[43m,\u001b[49m\u001b[43m \u001b[49m\u001b[38;5;124;43m'\u001b[39;49m\u001b[38;5;124;43m-s \u001b[39;49m\u001b[38;5;124;43m\"\u001b[39;49m\u001b[38;5;124;43m$aoi\u001b[39;49m\u001b[38;5;124;43m\"\u001b[39;49m\u001b[38;5;124;43m \u001b[39;49m\u001b[38;5;124;43m\"\u001b[39;49m\u001b[38;5;124;43m$columns\u001b[39;49m\u001b[38;5;124;43m\"\u001b[39;49m\u001b[38;5;124;43m \u001b[39;49m\u001b[38;5;124;43m\"\u001b[39;49m\u001b[38;5;124;43m$query\u001b[39;49m\u001b[38;5;124;43m\"\u001b[39;49m\u001b[38;5;124;43m \u001b[39;49m\u001b[38;5;124;43m\"\u001b[39;49m\u001b[38;5;124;43m$limit\u001b[39;49m\u001b[38;5;124;43m\"\u001b[39;49m\u001b[38;5;124;43m'\u001b[39;49m\u001b[43m,\u001b[49m\u001b[43m \u001b[49m\u001b[38;5;124;43m'\u001b[39;49m\u001b[38;5;124;43m# write a bash script here\u001b[39;49m\u001b[38;5;130;43;01m\\n\u001b[39;49;00m\u001b[38;5;124;43mconda run --no-capture-output -n gedi_subset /home/jovyan/maap-documentation-examples/gedi-subset/subset.py \u001b[39;49m\u001b[38;5;130;43;01m\\\\\u001b[39;49;00m\u001b[38;5;130;43;01m\\n\u001b[39;49;00m\u001b[38;5;124;43m    --verbose --aoi \u001b[39;49m\u001b[38;5;124;43m\"\u001b[39;49m\u001b[38;5;124;43m$\u001b[39;49m\u001b[38;5;132;43;01m{1}\u001b[39;49;00m\u001b[38;5;124;43m\"\u001b[39;49m\u001b[38;5;124;43m --columns \u001b[39;49m\u001b[38;5;124;43m\"\u001b[39;49m\u001b[38;5;124;43m$\u001b[39;49m\u001b[38;5;132;43;01m{2}\u001b[39;49;00m\u001b[38;5;124;43m\"\u001b[39;49m\u001b[38;5;124;43m --query \u001b[39;49m\u001b[38;5;124;43m\"\u001b[39;49m\u001b[38;5;124;43m$\u001b[39;49m\u001b[38;5;132;43;01m{3}\u001b[39;49;00m\u001b[38;5;124;43m\"\u001b[39;49m\u001b[38;5;124;43m --limit $\u001b[39;49m\u001b[38;5;132;43;01m{4}\u001b[39;49;00m\u001b[38;5;130;43;01m\\n\u001b[39;49;00m\u001b[38;5;124;43m'\u001b[39;49m\u001b[43m)\u001b[49m\n",
      "File \u001b[0;32m/opt/conda/lib/python3.9/site-packages/IPython/core/interactiveshell.py:2358\u001b[0m, in \u001b[0;36mInteractiveShell.run_cell_magic\u001b[0;34m(self, magic_name, line, cell)\u001b[0m\n\u001b[1;32m   2356\u001b[0m \u001b[38;5;28;01mwith\u001b[39;00m \u001b[38;5;28mself\u001b[39m\u001b[38;5;241m.\u001b[39mbuiltin_trap:\n\u001b[1;32m   2357\u001b[0m     args \u001b[38;5;241m=\u001b[39m (magic_arg_s, cell)\n\u001b[0;32m-> 2358\u001b[0m     result \u001b[38;5;241m=\u001b[39m \u001b[43mfn\u001b[49m\u001b[43m(\u001b[49m\u001b[38;5;241;43m*\u001b[39;49m\u001b[43margs\u001b[49m\u001b[43m,\u001b[49m\u001b[43m \u001b[49m\u001b[38;5;241;43m*\u001b[39;49m\u001b[38;5;241;43m*\u001b[39;49m\u001b[43mkwargs\u001b[49m\u001b[43m)\u001b[49m\n\u001b[1;32m   2359\u001b[0m \u001b[38;5;28;01mreturn\u001b[39;00m result\n",
      "File \u001b[0;32m/opt/conda/lib/python3.9/site-packages/IPython/core/magics/script.py:153\u001b[0m, in \u001b[0;36mScriptMagics._make_script_magic.<locals>.named_script_magic\u001b[0;34m(line, cell)\u001b[0m\n\u001b[1;32m    151\u001b[0m \u001b[38;5;28;01melse\u001b[39;00m:\n\u001b[1;32m    152\u001b[0m     line \u001b[38;5;241m=\u001b[39m script\n\u001b[0;32m--> 153\u001b[0m \u001b[38;5;28;01mreturn\u001b[39;00m \u001b[38;5;28;43mself\u001b[39;49m\u001b[38;5;241;43m.\u001b[39;49m\u001b[43mshebang\u001b[49m\u001b[43m(\u001b[49m\u001b[43mline\u001b[49m\u001b[43m,\u001b[49m\u001b[43m \u001b[49m\u001b[43mcell\u001b[49m\u001b[43m)\u001b[49m\n",
      "File \u001b[0;32m/opt/conda/lib/python3.9/site-packages/IPython/core/magics/script.py:305\u001b[0m, in \u001b[0;36mScriptMagics.shebang\u001b[0;34m(self, line, cell)\u001b[0m\n\u001b[1;32m    300\u001b[0m \u001b[38;5;28;01mif\u001b[39;00m args\u001b[38;5;241m.\u001b[39mraise_error \u001b[38;5;129;01mand\u001b[39;00m p\u001b[38;5;241m.\u001b[39mreturncode \u001b[38;5;241m!=\u001b[39m \u001b[38;5;241m0\u001b[39m:\n\u001b[1;32m    301\u001b[0m     \u001b[38;5;66;03m# If we get here and p.returncode is still None, we must have\u001b[39;00m\n\u001b[1;32m    302\u001b[0m     \u001b[38;5;66;03m# killed it but not yet seen its return code. We don't wait for it,\u001b[39;00m\n\u001b[1;32m    303\u001b[0m     \u001b[38;5;66;03m# in case it's stuck in uninterruptible sleep. -9 = SIGKILL\u001b[39;00m\n\u001b[1;32m    304\u001b[0m     rc \u001b[38;5;241m=\u001b[39m p\u001b[38;5;241m.\u001b[39mreturncode \u001b[38;5;129;01mor\u001b[39;00m \u001b[38;5;241m-\u001b[39m\u001b[38;5;241m9\u001b[39m\n\u001b[0;32m--> 305\u001b[0m     \u001b[38;5;28;01mraise\u001b[39;00m CalledProcessError(rc, cell)\n",
      "\u001b[0;31mCalledProcessError\u001b[0m: Command 'b'# write a bash script here\\nconda run --no-capture-output -n gedi_subset /home/jovyan/maap-documentation-examples/gedi-subset/subset.py \\\\\\n    --verbose --aoi \"${1}\" --columns \"${2}\" --query \"${3}\" --limit ${4}\\n'' returned non-zero exit status 1."
     ]
    }
   ],
   "source": [
    "%%bash -s \"$aoi\" \"$columns\" \"$query\" \"$limit\"\n",
    "# write a bash script here\n",
    "conda run --no-capture-output -n gedi_subset /home/jovyan/maap-documentation-examples/gedi-subset/subset.py \\\n",
    "    --verbose --aoi \"${1}\" --columns \"${2}\" --query \"${3}\" --limit ${4}"
   ]
  }
 ],
 "metadata": {
  "kernelspec": {
   "display_name": "Python 3 (ipykernel)",
   "language": "python",
   "name": "python3"
  },
  "language_info": {
   "codemirror_mode": {
    "name": "ipython",
    "version": 3
   },
   "file_extension": ".py",
   "mimetype": "text/x-python",
   "name": "python",
   "nbconvert_exporter": "python",
   "pygments_lexer": "ipython3",
   "version": "3.9.5"
  },
  "papermill": {
   "default_parameters": {},
   "duration": 145.244773,
   "end_time": "2022-08-16T14:13:58.392340",
   "environment_variables": {},
   "exception": true,
   "input_path": "/home/jovyan/process.ipynb",
   "output_path": "output_nb.ipynb",
   "parameters": {
    "aoi": "/MCmfsJ/geoBoundaries-GAB-ADM0.geojson",
    "columns": "agbd, agbd_se, l2_quality_flag, l4_quality_flag, sensitivity, sensitivity_a2",
    "limit": 10000,
    "query": "l2_quality_flag == 1 and l4_quality_flag == 1 and sensitivity > 0.95 and sensitivity_a2 > 0.95"
   },
   "start_time": "2022-08-16T14:11:33.147567",
   "version": "2.3.4"
  }
 },
 "nbformat": 4,
 "nbformat_minor": 5
}