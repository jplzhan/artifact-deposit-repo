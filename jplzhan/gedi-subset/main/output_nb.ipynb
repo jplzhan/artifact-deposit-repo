{
 "cells": [
  {
   "cell_type": "markdown",
   "id": "ad9785b2",
   "metadata": {
    "tags": [
     "papermill-error-cell-tag"
    ]
   },
   "source": [
    "<span style=\"color:red; font-family:Helvetica Neue, Helvetica, Arial, sans-serif; font-size:2em;\">An Exception was encountered at '<a href=\"#papermill-error-cell\">In [3]</a>'.</span>"
   ]
  },
  {
   "cell_type": "code",
   "execution_count": 1,
   "id": "984d1053-68c6-4be1-b640-49a9833a466d",
   "metadata": {
    "execution": {
     "iopub.execute_input": "2022-08-16T14:59:41.151621Z",
     "iopub.status.busy": "2022-08-16T14:59:41.149952Z",
     "iopub.status.idle": "2022-08-16T14:59:41.166969Z",
     "shell.execute_reply": "2022-08-16T14:59:41.165374Z"
    },
    "papermill": {
     "duration": 0.02973,
     "end_time": "2022-08-16T14:59:41.171454",
     "exception": false,
     "start_time": "2022-08-16T14:59:41.141724",
     "status": "completed"
    },
    "tags": [
     "parameters"
    ]
   },
   "outputs": [],
   "source": [
    "aoi = 'abcd' # type: stage-in\n",
    "columns = 'agbd, agbd_se, l2_quality_flag, l4_quality_flag, sensitivity, sensitivity_a2' # type: string\n",
    "query = '' # type: string\n",
    "limit = '10000' # type: int"
   ]
  },
  {
   "cell_type": "code",
   "execution_count": 2,
   "id": "d9ed7541",
   "metadata": {
    "execution": {
     "iopub.execute_input": "2022-08-16T14:59:41.180443Z",
     "iopub.status.busy": "2022-08-16T14:59:41.179834Z",
     "iopub.status.idle": "2022-08-16T14:59:41.188661Z",
     "shell.execute_reply": "2022-08-16T14:59:41.186897Z"
    },
    "papermill": {
     "duration": 0.017878,
     "end_time": "2022-08-16T14:59:41.192769",
     "exception": false,
     "start_time": "2022-08-16T14:59:41.174891",
     "status": "completed"
    },
    "tags": [
     "injected-parameters"
    ]
   },
   "outputs": [],
   "source": [
    "# Parameters\n",
    "aoi = \"/var/lib/cwl/stg7dea10b1-637d-4a0b-9dea-3ce2cabdd23a/geoBoundaries-GAB-ADM0.geojson\"\n",
    "columns = \"agbd, agbd_se, l2_quality_flag, l4_quality_flag, sensitivity, sensitivity_a2\"\n",
    "limit = 10000\n",
    "query = \"l2_quality_flag == 1 and l4_quality_flag == 1 and sensitivity > 0.95 and sensitivity_a2 > 0.95\"\n"
   ]
  },
  {
   "cell_type": "markdown",
   "id": "803640d0",
   "metadata": {
    "tags": [
     "papermill-error-cell-tag"
    ]
   },
   "source": [
    "<span id=\"papermill-error-cell\" style=\"color:red; font-family:Helvetica Neue, Helvetica, Arial, sans-serif; font-size:2em;\">Execution using papermill encountered an exception here and stopped:</span>"
   ]
  },
  {
   "cell_type": "code",
   "execution_count": 3,
   "id": "42ce04c7-7913-45cb-92f4-b74072082180",
   "metadata": {
    "collapsed": true,
    "execution": {
     "iopub.execute_input": "2022-08-16T14:59:41.203005Z",
     "iopub.status.busy": "2022-08-16T14:59:41.201469Z",
     "iopub.status.idle": "2022-08-16T15:02:01.578644Z",
     "shell.execute_reply": "2022-08-16T15:02:01.576814Z"
    },
    "jupyter": {
     "outputs_hidden": true
    },
    "papermill": {
     "duration": 140.39029,
     "end_time": "2022-08-16T15:02:01.585991",
     "exception": true,
     "start_time": "2022-08-16T14:59:41.195701",
     "status": "failed"
    },
    "tags": []
   },
   "outputs": [
    {
     "name": "stderr",
     "output_type": "stream",
     "text": [
      "2022-08-16 14:59:45,766 [MainProcess:maap.utils.CMR] [INFO] ======== Waiting for response ========\n"
     ]
    },
    {
     "name": "stderr",
     "output_type": "stream",
     "text": [
      "2022-08-16 14:59:45,976 [MainProcess:maap.utils.CMR] [INFO] ======== Waiting for response ========\n"
     ]
    },
    {
     "name": "stderr",
     "output_type": "stream",
     "text": [
      "2022-08-16 15:01:48,187 [MainProcess:gedi_subset] [INFO] Subsetting on 32 processes (chunksize=10)\n"
     ]
    },
    {
     "name": "stderr",
     "output_type": "stream",
     "text": [
      "2022-08-16 15:01:48,349 [ForkPoolWorker-1:gedi_subset.maapx] [DEBUG] Obtaining S3 credentials from https://data.ornldaac.earthdata.nasa.gov/s3credentials\n"
     ]
    },
    {
     "name": "stderr",
     "output_type": "stream",
     "text": [
      "2022-08-16 15:01:48,356 [ForkPoolWorker-2:gedi_subset.maapx] [DEBUG] Obtaining S3 credentials from https://data.ornldaac.earthdata.nasa.gov/s3credentials\n"
     ]
    },
    {
     "name": "stderr",
     "output_type": "stream",
     "text": [
      "2022-08-16 15:01:48,366 [ForkPoolWorker-3:gedi_subset.maapx] [DEBUG] Obtaining S3 credentials from https://data.ornldaac.earthdata.nasa.gov/s3credentials\n"
     ]
    },
    {
     "name": "stderr",
     "output_type": "stream",
     "text": [
      "2022-08-16 15:01:48,368 [ForkPoolWorker-4:gedi_subset.maapx] [DEBUG] Obtaining S3 credentials from https://data.ornldaac.earthdata.nasa.gov/s3credentials\n"
     ]
    },
    {
     "name": "stderr",
     "output_type": "stream",
     "text": [
      "2022-08-16 15:01:48,376 [ForkPoolWorker-6:gedi_subset.maapx] [DEBUG] Obtaining S3 credentials from https://data.ornldaac.earthdata.nasa.gov/s3credentials\n"
     ]
    },
    {
     "name": "stderr",
     "output_type": "stream",
     "text": [
      "2022-08-16 15:01:48,378 [ForkPoolWorker-5:gedi_subset.maapx] [DEBUG] Obtaining S3 credentials from https://data.ornldaac.earthdata.nasa.gov/s3credentials\n"
     ]
    },
    {
     "name": "stderr",
     "output_type": "stream",
     "text": [
      "2022-08-16 15:01:48,383 [ForkPoolWorker-7:gedi_subset.maapx] [DEBUG] Obtaining S3 credentials from https://data.ornldaac.earthdata.nasa.gov/s3credentials\n"
     ]
    },
    {
     "name": "stderr",
     "output_type": "stream",
     "text": [
      "2022-08-16 15:01:48,398 [ForkPoolWorker-8:gedi_subset.maapx] [DEBUG] Obtaining S3 credentials from https://data.ornldaac.earthdata.nasa.gov/s3credentials\n"
     ]
    },
    {
     "name": "stderr",
     "output_type": "stream",
     "text": [
      "2022-08-16 15:01:48,403 [ForkPoolWorker-10:gedi_subset.maapx] [DEBUG] Obtaining S3 credentials from https://data.ornldaac.earthdata.nasa.gov/s3credentials\n"
     ]
    },
    {
     "name": "stderr",
     "output_type": "stream",
     "text": [
      "2022-08-16 15:01:48,404 [ForkPoolWorker-9:gedi_subset.maapx] [DEBUG] Obtaining S3 credentials from https://data.ornldaac.earthdata.nasa.gov/s3credentials\n"
     ]
    },
    {
     "name": "stderr",
     "output_type": "stream",
     "text": [
      "2022-08-16 15:01:48,410 [ForkPoolWorker-11:gedi_subset.maapx] [DEBUG] Obtaining S3 credentials from https://data.ornldaac.earthdata.nasa.gov/s3credentials\n"
     ]
    },
    {
     "name": "stderr",
     "output_type": "stream",
     "text": [
      "2022-08-16 15:01:48,423 [ForkPoolWorker-13:gedi_subset.maapx] [DEBUG] Obtaining S3 credentials from https://data.ornldaac.earthdata.nasa.gov/s3credentials\n"
     ]
    },
    {
     "name": "stderr",
     "output_type": "stream",
     "text": [
      "2022-08-16 15:01:48,424 [ForkPoolWorker-12:gedi_subset.maapx] [DEBUG] Obtaining S3 credentials from https://data.ornldaac.earthdata.nasa.gov/s3credentials\n"
     ]
    },
    {
     "name": "stderr",
     "output_type": "stream",
     "text": [
      "2022-08-16 15:01:48,430 [ForkPoolWorker-14:gedi_subset.maapx] [DEBUG] Obtaining S3 credentials from https://data.ornldaac.earthdata.nasa.gov/s3credentials\n"
     ]
    },
    {
     "name": "stderr",
     "output_type": "stream",
     "text": [
      "2022-08-16 15:01:48,445 [ForkPoolWorker-15:gedi_subset.maapx] [DEBUG] Obtaining S3 credentials from https://data.ornldaac.earthdata.nasa.gov/s3credentials\n"
     ]
    },
    {
     "name": "stderr",
     "output_type": "stream",
     "text": [
      "2022-08-16 15:01:48,451 [ForkPoolWorker-17:gedi_subset.maapx] [DEBUG] Obtaining S3 credentials from https://data.ornldaac.earthdata.nasa.gov/s3credentials\n"
     ]
    },
    {
     "name": "stderr",
     "output_type": "stream",
     "text": [
      "2022-08-16 15:01:48,452 [ForkPoolWorker-16:gedi_subset.maapx] [DEBUG] Obtaining S3 credentials from https://data.ornldaac.earthdata.nasa.gov/s3credentials\n"
     ]
    },
    {
     "name": "stderr",
     "output_type": "stream",
     "text": [
      "2022-08-16 15:01:48,459 [ForkPoolWorker-18:gedi_subset.maapx] [DEBUG] Obtaining S3 credentials from https://data.ornldaac.earthdata.nasa.gov/s3credentials\n"
     ]
    },
    {
     "name": "stderr",
     "output_type": "stream",
     "text": [
      "2022-08-16 15:01:48,473 [ForkPoolWorker-19:gedi_subset.maapx] [DEBUG] Obtaining S3 credentials from https://data.ornldaac.earthdata.nasa.gov/s3credentials\n"
     ]
    },
    {
     "name": "stderr",
     "output_type": "stream",
     "text": [
      "2022-08-16 15:01:48,478 [ForkPoolWorker-21:gedi_subset.maapx] [DEBUG] Obtaining S3 credentials from https://data.ornldaac.earthdata.nasa.gov/s3credentials\n"
     ]
    },
    {
     "name": "stderr",
     "output_type": "stream",
     "text": [
      "2022-08-16 15:01:48,482 [ForkPoolWorker-20:gedi_subset.maapx] [DEBUG] Obtaining S3 credentials from https://data.ornldaac.earthdata.nasa.gov/s3credentials\n"
     ]
    },
    {
     "name": "stderr",
     "output_type": "stream",
     "text": [
      "2022-08-16 15:01:48,486 [ForkPoolWorker-22:gedi_subset.maapx] [DEBUG] Obtaining S3 credentials from https://data.ornldaac.earthdata.nasa.gov/s3credentials\n"
     ]
    },
    {
     "name": "stderr",
     "output_type": "stream",
     "text": [
      "2022-08-16 15:01:48,504 [ForkPoolWorker-23:gedi_subset.maapx] [DEBUG] Obtaining S3 credentials from https://data.ornldaac.earthdata.nasa.gov/s3credentials\n"
     ]
    },
    {
     "name": "stderr",
     "output_type": "stream",
     "text": [
      "2022-08-16 15:01:48,506 [ForkPoolWorker-24:gedi_subset.maapx] [DEBUG] Obtaining S3 credentials from https://data.ornldaac.earthdata.nasa.gov/s3credentials\n"
     ]
    },
    {
     "name": "stderr",
     "output_type": "stream",
     "text": [
      "2022-08-16 15:01:48,512 [ForkPoolWorker-25:gedi_subset.maapx] [DEBUG] Obtaining S3 credentials from https://data.ornldaac.earthdata.nasa.gov/s3credentials\n"
     ]
    },
    {
     "name": "stderr",
     "output_type": "stream",
     "text": [
      "2022-08-16 15:01:48,513 [ForkPoolWorker-26:gedi_subset.maapx] [DEBUG] Obtaining S3 credentials from https://data.ornldaac.earthdata.nasa.gov/s3credentials\n"
     ]
    },
    {
     "name": "stderr",
     "output_type": "stream",
     "text": [
      "2022-08-16 15:01:48,527 [ForkPoolWorker-27:gedi_subset.maapx] [DEBUG] Obtaining S3 credentials from https://data.ornldaac.earthdata.nasa.gov/s3credentials\n"
     ]
    },
    {
     "name": "stderr",
     "output_type": "stream",
     "text": [
      "2022-08-16 15:01:48,533 [ForkPoolWorker-29:gedi_subset.maapx] [DEBUG] Obtaining S3 credentials from https://data.ornldaac.earthdata.nasa.gov/s3credentials\n"
     ]
    },
    {
     "name": "stderr",
     "output_type": "stream",
     "text": [
      "2022-08-16 15:01:48,538 [ForkPoolWorker-28:gedi_subset.maapx] [DEBUG] Obtaining S3 credentials from https://data.ornldaac.earthdata.nasa.gov/s3credentials\n"
     ]
    },
    {
     "name": "stderr",
     "output_type": "stream",
     "text": [
      "2022-08-16 15:01:48,541 [ForkPoolWorker-30:gedi_subset.maapx] [DEBUG] Obtaining S3 credentials from https://data.ornldaac.earthdata.nasa.gov/s3credentials\n"
     ]
    },
    {
     "name": "stderr",
     "output_type": "stream",
     "text": [
      "2022-08-16 15:01:48,552 [ForkPoolWorker-32:gedi_subset.maapx] [DEBUG] Obtaining S3 credentials from https://data.ornldaac.earthdata.nasa.gov/s3credentials\n"
     ]
    },
    {
     "name": "stderr",
     "output_type": "stream",
     "text": [
      "2022-08-16 15:01:48,555 [ForkPoolWorker-31:gedi_subset.maapx] [DEBUG] Obtaining S3 credentials from https://data.ornldaac.earthdata.nasa.gov/s3credentials\n"
     ]
    },
    {
     "name": "stderr",
     "output_type": "stream",
     "text": [
      "2022-08-16 15:01:56,685 [ForkPoolWorker-10:gedi_subset.maapx] [DEBUG] Setting up default boto3 session with new credentials\n"
     ]
    },
    {
     "name": "stderr",
     "output_type": "stream",
     "text": [
      "2022-08-16 15:01:56,700 [ForkPoolWorker-10:gedi_subset.maapx] [DEBUG] Downloading granule GEDI_L4A_AGB_Density_V2_1.GEDI04_A_2019215103928_O03627_02_T00347_02_002_02_V002.h5 to directory /WuldDn/output\n"
     ]
    },
    {
     "name": "stderr",
     "output_type": "stream",
     "text": [
      "2022-08-16 15:01:56,741 [ForkPoolWorker-1:gedi_subset.maapx] [DEBUG] Setting up default boto3 session with new credentials\n"
     ]
    },
    {
     "name": "stderr",
     "output_type": "stream",
     "text": [
      "2022-08-16 15:01:56,742 [ForkPoolWorker-3:gedi_subset.maapx] [DEBUG] Setting up default boto3 session with new credentials\n"
     ]
    },
    {
     "name": "stderr",
     "output_type": "stream",
     "text": [
      "2022-08-16 15:01:56,755 [ForkPoolWorker-1:gedi_subset.maapx] [DEBUG] Downloading granule GEDI_L4A_AGB_Density_V2_1.GEDI04_A_2019108045816_O01962_01_T01066_02_002_02_V002.h5 to directory /WuldDn/output\n"
     ]
    },
    {
     "name": "stderr",
     "output_type": "stream",
     "text": [
      "2022-08-16 15:01:56,756 [ForkPoolWorker-3:gedi_subset.maapx] [DEBUG] Downloading granule GEDI_L4A_AGB_Density_V2_1.GEDI04_A_2019128205030_O02283_02_T03147_02_002_02_V002.h5 to directory /WuldDn/output\n"
     ]
    },
    {
     "name": "stderr",
     "output_type": "stream",
     "text": [
      "2022-08-16 15:01:56,874 [ForkPoolWorker-12:gedi_subset.maapx] [DEBUG] Setting up default boto3 session with new credentials\n"
     ]
    },
    {
     "name": "stderr",
     "output_type": "stream",
     "text": [
      "2022-08-16 15:01:56,889 [ForkPoolWorker-12:gedi_subset.maapx] [DEBUG] Downloading granule GEDI_L4A_AGB_Density_V2_1.GEDI04_A_2019241113102_O04031_04_T04210_02_002_02_V002.h5 to directory /WuldDn/output\n"
     ]
    },
    {
     "name": "stderr",
     "output_type": "stream",
     "text": [
      "2022-08-16 15:01:56,944 [ForkPoolWorker-13:gedi_subset.maapx] [DEBUG] Setting up default boto3 session with new credentials\n"
     ]
    },
    {
     "name": "stderr",
     "output_type": "stream",
     "text": [
      "2022-08-16 15:01:56,958 [ForkPoolWorker-13:gedi_subset.maapx] [DEBUG] Downloading granule GEDI_L4A_AGB_Density_V2_1.GEDI04_A_2019252194644_O04207_02_T00959_02_002_02_V002.h5 to directory /WuldDn/output\n"
     ]
    },
    {
     "name": "stderr",
     "output_type": "stream",
     "text": [
      "2022-08-16 15:01:57,012 [ForkPoolWorker-6:gedi_subset.maapx] [DEBUG] Setting up default boto3 session with new credentials\n"
     ]
    },
    {
     "name": "stderr",
     "output_type": "stream",
     "text": [
      "2022-08-16 15:01:57,026 [ForkPoolWorker-6:gedi_subset.maapx] [DEBUG] Downloading granule GEDI_L4A_AGB_Density_V2_1.GEDI04_A_2019164065420_O02833_02_T03499_02_002_02_V002.h5 to directory /WuldDn/output\n"
     ]
    },
    {
     "name": "stderr",
     "output_type": "stream",
     "text": [
      "2022-08-16 15:01:57,092 [ForkPoolWorker-10:gedi_subset] [DEBUG] Subsetting /WuldDn/output/GEDI04_A_2019215103928_O03627_02_T00347_02_002_02_V002.h5\n"
     ]
    },
    {
     "name": "stderr",
     "output_type": "stream",
     "text": [
      "2022-08-16 15:01:57,097 [ForkPoolWorker-10:gedi_subset.maapx] [DEBUG] Downloading granule GEDI_L4A_AGB_Density_V2_1.GEDI04_A_2019215212856_O03634_03_T01624_02_002_02_V002.h5 to directory /WuldDn/output\n"
     ]
    },
    {
     "name": "stderr",
     "output_type": "stream",
     "text": [
      "2022-08-16 15:01:57,139 [ForkPoolWorker-1:gedi_subset] [DEBUG] Subsetting /WuldDn/output/GEDI04_A_2019108045816_O01962_01_T01066_02_002_02_V002.h5\n"
     ]
    },
    {
     "name": "stderr",
     "output_type": "stream",
     "text": [
      "2022-08-16 15:01:57,143 [ForkPoolWorker-1:gedi_subset.maapx] [DEBUG] Downloading granule GEDI_L4A_AGB_Density_V2_1.GEDI04_A_2019108045816_O01962_02_T01066_02_002_02_V002.h5 to directory /WuldDn/output\n"
     ]
    },
    {
     "name": "stderr",
     "output_type": "stream",
     "text": [
      "2022-08-16 15:01:57,185 [ForkPoolWorker-3:gedi_subset] [DEBUG] Subsetting /WuldDn/output/GEDI04_A_2019128205030_O02283_02_T03147_02_002_02_V002.h5\n"
     ]
    },
    {
     "name": "stderr",
     "output_type": "stream",
     "text": [
      "2022-08-16 15:01:57,188 [ForkPoolWorker-3:gedi_subset.maapx] [DEBUG] Downloading granule GEDI_L4A_AGB_Density_V2_1.GEDI04_A_2019129073917_O02290_03_T01731_02_002_02_V002.h5 to directory /WuldDn/output\n"
     ]
    },
    {
     "name": "stderr",
     "output_type": "stream",
     "text": [
      "2022-08-16 15:01:57,255 [ForkPoolWorker-11:gedi_subset.maapx] [DEBUG] Setting up default boto3 session with new credentials\n"
     ]
    },
    {
     "name": "stderr",
     "output_type": "stream",
     "text": [
      "2022-08-16 15:01:57,266 [ForkPoolWorker-12:gedi_subset] [DEBUG] Subsetting /WuldDn/output/GEDI04_A_2019241113102_O04031_04_T04210_02_002_02_V002.h5\n"
     ]
    },
    {
     "name": "stderr",
     "output_type": "stream",
     "text": [
      "2022-08-16 15:01:57,270 [ForkPoolWorker-12:gedi_subset.maapx] [DEBUG] Downloading granule GEDI_L4A_AGB_Density_V2_1.GEDI04_A_2019241235335_O04039_01_T03912_02_002_02_V002.h5 to directory /WuldDn/output\n"
     ]
    },
    {
     "name": "stderr",
     "output_type": "stream",
     "text": [
      "2022-08-16 15:01:57,271 [ForkPoolWorker-11:gedi_subset.maapx] [DEBUG] Downloading granule GEDI_L4A_AGB_Density_V2_1.GEDI04_A_2019223071836_O03749_01_T05335_02_002_02_V002.h5 to directory /WuldDn/output\n"
     ]
    },
    {
     "name": "stderr",
     "output_type": "stream",
     "text": [
      "2022-08-16 15:01:57,285 [ForkPoolWorker-7:gedi_subset.maapx] [DEBUG] Setting up default boto3 session with new credentials\n"
     ]
    },
    {
     "name": "stderr",
     "output_type": "stream",
     "text": [
      "2022-08-16 15:01:57,299 [ForkPoolWorker-7:gedi_subset.maapx] [DEBUG] Downloading granule GEDI_L4A_AGB_Density_V2_1.GEDI04_A_2019175132859_O03008_04_T00048_02_002_02_V002.h5 to directory /WuldDn/output\n"
     ]
    },
    {
     "name": "stderr",
     "output_type": "stream",
     "text": [
      "2022-08-16 15:01:57,400 [ForkPoolWorker-13:gedi_subset] [DEBUG] Subsetting /WuldDn/output/GEDI04_A_2019252194644_O04207_02_T00959_02_002_02_V002.h5\n"
     ]
    },
    {
     "name": "stderr",
     "output_type": "stream",
     "text": [
      "2022-08-16 15:01:57,404 [ForkPoolWorker-13:gedi_subset.maapx] [DEBUG] Downloading granule GEDI_L4A_AGB_Density_V2_1.GEDI04_A_2019253063627_O04214_03_T03506_02_002_02_V002.h5 to directory /WuldDn/output\n"
     ]
    },
    {
     "name": "stderr",
     "output_type": "stream",
     "text": [
      "2022-08-16 15:01:57,440 [ForkPoolWorker-6:gedi_subset] [DEBUG] Subsetting /WuldDn/output/GEDI04_A_2019164065420_O02833_02_T03499_02_002_02_V002.h5\n"
     ]
    },
    {
     "name": "stderr",
     "output_type": "stream",
     "text": [
      "2022-08-16 15:01:57,442 [ForkPoolWorker-6:gedi_subset.maapx] [DEBUG] Downloading granule GEDI_L4A_AGB_Density_V2_1.GEDI04_A_2019167165109_O02886_04_T00599_02_002_02_V002.h5 to directory /WuldDn/output\n"
     ]
    },
    {
     "name": "stderr",
     "output_type": "stream",
     "text": [
      "2022-08-16 15:01:57,475 [ForkPoolWorker-10:gedi_subset] [DEBUG] Subsetting /WuldDn/output/GEDI04_A_2019215212856_O03634_03_T01624_02_002_02_V002.h5\n"
     ]
    },
    {
     "name": "stderr",
     "output_type": "stream",
     "text": [
      "2022-08-16 15:01:57,477 [ForkPoolWorker-10:gedi_subset.maapx] [DEBUG] Downloading granule GEDI_L4A_AGB_Density_V2_1.GEDI04_A_2019215212856_O03634_04_T01624_02_002_02_V002.h5 to directory /WuldDn/output\n"
     ]
    },
    {
     "name": "stderr",
     "output_type": "stream",
     "text": [
      "2022-08-16 15:01:57,525 [ForkPoolWorker-1:gedi_subset] [DEBUG] Subsetting /WuldDn/output/GEDI04_A_2019108045816_O01962_02_T01066_02_002_02_V002.h5\n"
     ]
    },
    {
     "name": "stderr",
     "output_type": "stream",
     "text": [
      "2022-08-16 15:01:57,528 [ForkPoolWorker-1:gedi_subset.maapx] [DEBUG] Downloading granule GEDI_L4A_AGB_Density_V2_1.GEDI04_A_2019111040155_O02008_01_T04616_02_002_02_V002.h5 to directory /WuldDn/output\n"
     ]
    },
    {
     "name": "stderr",
     "output_type": "stream",
     "text": [
      "2022-08-16 15:01:57,593 [ForkPoolWorker-12:gedi_subset] [DEBUG] Subsetting /WuldDn/output/GEDI04_A_2019241235335_O04039_01_T03912_02_002_02_V002.h5\n"
     ]
    },
    {
     "name": "stderr",
     "output_type": "stream",
     "text": [
      "2022-08-16 15:01:57,595 [ForkPoolWorker-12:gedi_subset.maapx] [DEBUG] Downloading granule GEDI_L4A_AGB_Density_V2_1.GEDI04_A_2019241235335_O04039_02_T03912_02_002_02_V002.h5 to directory /WuldDn/output\n"
     ]
    },
    {
     "name": "stderr",
     "output_type": "stream",
     "text": [
      "2022-08-16 15:01:57,596 [ForkPoolWorker-3:gedi_subset] [DEBUG] Subsetting /WuldDn/output/GEDI04_A_2019129073917_O02290_03_T01731_02_002_02_V002.h5\n"
     ]
    },
    {
     "name": "stderr",
     "output_type": "stream",
     "text": [
      "2022-08-16 15:01:57,598 [ForkPoolWorker-3:gedi_subset.maapx] [DEBUG] Downloading granule GEDI_L4A_AGB_Density_V2_1.GEDI04_A_2019132064242_O02336_03_T05281_02_002_02_V002.h5 to directory /WuldDn/output\n"
     ]
    },
    {
     "name": "stderr",
     "output_type": "stream",
     "text": [
      "2022-08-16 15:01:57,611 [ForkPoolWorker-11:gedi_subset] [DEBUG] Subsetting /WuldDn/output/GEDI04_A_2019223071836_O03749_01_T05335_02_002_02_V002.h5\n"
     ]
    },
    {
     "name": "stderr",
     "output_type": "stream",
     "text": [
      "2022-08-16 15:01:57,615 [ForkPoolWorker-11:gedi_subset.maapx] [DEBUG] Downloading granule GEDI_L4A_AGB_Density_V2_1.GEDI04_A_2019223071836_O03749_02_T05335_02_002_02_V002.h5 to directory /WuldDn/output\n"
     ]
    },
    {
     "name": "stderr",
     "output_type": "stream",
     "text": [
      "2022-08-16 15:01:57,681 [ForkPoolWorker-7:gedi_subset] [DEBUG] Subsetting /WuldDn/output/GEDI04_A_2019175132859_O03008_04_T00048_02_002_02_V002.h5\n"
     ]
    },
    {
     "name": "stderr",
     "output_type": "stream",
     "text": [
      "2022-08-16 15:01:57,684 [ForkPoolWorker-7:gedi_subset.maapx] [DEBUG] Downloading granule GEDI_L4A_AGB_Density_V2_1.GEDI04_A_2019178123620_O03054_04_T01716_02_002_02_V002.h5 to directory /WuldDn/output\n"
     ]
    },
    {
     "name": "stderr",
     "output_type": "stream",
     "text": [
      "2022-08-16 15:01:57,748 [ForkPoolWorker-13:gedi_subset] [DEBUG] Subsetting /WuldDn/output/GEDI04_A_2019253063627_O04214_03_T03506_02_002_02_V002.h5\n"
     ]
    },
    {
     "name": "stderr",
     "output_type": "stream",
     "text": [
      "2022-08-16 15:01:57,750 [ForkPoolWorker-13:gedi_subset.maapx] [DEBUG] Downloading granule GEDI_L4A_AGB_Density_V2_1.GEDI04_A_2019253063627_O04214_04_T03506_02_002_02_V002.h5 to directory /WuldDn/output\n"
     ]
    },
    {
     "name": "stderr",
     "output_type": "stream",
     "text": [
      "2022-08-16 15:01:57,783 [ForkPoolWorker-6:gedi_subset] [DEBUG] Subsetting /WuldDn/output/GEDI04_A_2019167165109_O02886_04_T00599_02_002_02_V002.h5\n"
     ]
    },
    {
     "name": "stderr",
     "output_type": "stream",
     "text": [
      "2022-08-16 15:01:57,785 [ForkPoolWorker-6:gedi_subset.maapx] [DEBUG] Downloading granule GEDI_L4A_AGB_Density_V2_1.GEDI04_A_2019168051318_O02894_01_T01877_02_002_02_V002.h5 to directory /WuldDn/output\n"
     ]
    },
    {
     "name": "stderr",
     "output_type": "stream",
     "text": [
      "2022-08-16 15:01:57,845 [ForkPoolWorker-10:gedi_subset] [DEBUG] Subsetting /WuldDn/output/GEDI04_A_2019215212856_O03634_04_T01624_02_002_02_V002.h5\n"
     ]
    },
    {
     "name": "stderr",
     "output_type": "stream",
     "text": [
      "2022-08-16 15:01:57,846 [ForkPoolWorker-10:gedi_subset.maapx] [DEBUG] Downloading granule GEDI_L4A_AGB_Density_V2_1.GEDI04_A_2019216095110_O03642_01_T01326_02_002_02_V002.h5 to directory /WuldDn/output\n"
     ]
    },
    {
     "name": "stderr",
     "output_type": "stream",
     "text": [
      "2022-08-16 15:01:57,883 [ForkPoolWorker-1:gedi_subset] [DEBUG] Subsetting /WuldDn/output/GEDI04_A_2019111040155_O02008_01_T04616_02_002_02_V002.h5\n"
     ]
    },
    {
     "name": "stderr",
     "output_type": "stream",
     "text": [
      "2022-08-16 15:01:57,885 [ForkPoolWorker-1:gedi_subset.maapx] [DEBUG] Downloading granule GEDI_L4A_AGB_Density_V2_1.GEDI04_A_2019111040155_O02008_02_T04616_02_002_02_V002.h5 to directory /WuldDn/output\n"
     ]
    },
    {
     "name": "stderr",
     "output_type": "stream",
     "text": [
      "2022-08-16 15:01:57,942 [ForkPoolWorker-11:gedi_subset] [DEBUG] Subsetting /WuldDn/output/GEDI04_A_2019223071836_O03749_02_T05335_02_002_02_V002.h5\n"
     ]
    },
    {
     "name": "stderr",
     "output_type": "stream",
     "text": [
      "2022-08-16 15:01:57,945 [ForkPoolWorker-11:gedi_subset.maapx] [DEBUG] Downloading granule GEDI_L4A_AGB_Density_V2_1.GEDI04_A_2019226171553_O03802_03_T03705_02_002_02_V002.h5 to directory /WuldDn/output\n"
     ]
    },
    {
     "name": "stderr",
     "output_type": "stream",
     "text": [
      "2022-08-16 15:01:57,970 [ForkPoolWorker-3:gedi_subset] [DEBUG] Subsetting /WuldDn/output/GEDI04_A_2019132064242_O02336_03_T05281_02_002_02_V002.h5\n"
     ]
    },
    {
     "name": "stderr",
     "output_type": "stream",
     "text": [
      "2022-08-16 15:01:57,972 [ForkPoolWorker-3:gedi_subset.maapx] [DEBUG] Downloading granule GEDI_L4A_AGB_Density_V2_1.GEDI04_A_2019132064242_O02336_04_T05281_02_002_02_V002.h5 to directory /WuldDn/output\n"
     ]
    },
    {
     "name": "stderr",
     "output_type": "stream",
     "text": [
      "2022-08-16 15:01:58,016 [ForkPoolWorker-12:gedi_subset] [DEBUG] Subsetting /WuldDn/output/GEDI04_A_2019241235335_O04039_02_T03912_02_002_02_V002.h5\n"
     ]
    },
    {
     "name": "stderr",
     "output_type": "stream",
     "text": [
      "2022-08-16 15:01:58,018 [ForkPoolWorker-12:gedi_subset.maapx] [DEBUG] Downloading granule GEDI_L4A_AGB_Density_V2_1.GEDI04_A_2019245095256_O04092_03_T04975_02_002_02_V002.h5 to directory /WuldDn/output\n"
     ]
    },
    {
     "name": "stderr",
     "output_type": "stream",
     "text": [
      "2022-08-16 15:01:58,025 [ForkPoolWorker-7:gedi_subset] [DEBUG] Subsetting /WuldDn/output/GEDI04_A_2019178123620_O03054_04_T01716_02_002_02_V002.h5\n"
     ]
    },
    {
     "name": "stderr",
     "output_type": "stream",
     "text": [
      "2022-08-16 15:01:58,027 [ForkPoolWorker-7:gedi_subset.maapx] [DEBUG] Downloading granule GEDI_L4A_AGB_Density_V2_1.GEDI04_A_2019179005829_O03062_01_T01418_02_002_02_V002.h5 to directory /WuldDn/output\n"
     ]
    },
    {
     "name": "stderr",
     "output_type": "stream",
     "text": [
      "2022-08-16 15:01:58,083 [ForkPoolWorker-13:gedi_subset] [DEBUG] Subsetting /WuldDn/output/GEDI04_A_2019253063627_O04214_04_T03506_02_002_02_V002.h5\n"
     ]
    },
    {
     "name": "stderr",
     "output_type": "stream",
     "text": [
      "2022-08-16 15:01:58,084 [ForkPoolWorker-13:gedi_subset.maapx] [DEBUG] Downloading granule GEDI_L4A_AGB_Density_V2_1.GEDI04_A_2019256054558_O04260_04_T02022_02_002_02_V002.h5 to directory /WuldDn/output\n"
     ]
    },
    {
     "name": "stderr",
     "output_type": "stream",
     "text": [
      "2022-08-16 15:01:58,098 [ForkPoolWorker-5:gedi_subset.maapx] [DEBUG] Setting up default boto3 session with new credentials\n"
     ]
    },
    {
     "name": "stderr",
     "output_type": "stream",
     "text": [
      "2022-08-16 15:01:58,107 [ForkPoolWorker-5:gedi_subset.maapx] [DEBUG] Downloading granule GEDI_L4A_AGB_Density_V2_1.GEDI04_A_2019153110846_O02665_01_T03958_02_002_02_V002.h5 to directory /WuldDn/output\n"
     ]
    },
    {
     "name": "stderr",
     "output_type": "stream",
     "text": [
      "2022-08-16 15:01:58,142 [ForkPoolWorker-6:gedi_subset] [DEBUG] Subsetting /WuldDn/output/GEDI04_A_2019168051318_O02894_01_T01877_02_002_02_V002.h5\n"
     ]
    },
    {
     "name": "stderr",
     "output_type": "stream",
     "text": [
      "2022-08-16 15:01:58,144 [ForkPoolWorker-6:gedi_subset.maapx] [DEBUG] Downloading granule GEDI_L4A_AGB_Density_V2_1.GEDI04_A_2019168051318_O02894_02_T01877_02_002_02_V002.h5 to directory /WuldDn/output\n"
     ]
    },
    {
     "name": "stderr",
     "output_type": "stream",
     "text": [
      "2022-08-16 15:01:58,199 [ForkPoolWorker-10:gedi_subset] [DEBUG] Subsetting /WuldDn/output/GEDI04_A_2019216095110_O03642_01_T01326_02_002_02_V002.h5\n"
     ]
    },
    {
     "name": "stderr",
     "output_type": "stream",
     "text": [
      "2022-08-16 15:01:58,201 [ForkPoolWorker-10:gedi_subset.maapx] [DEBUG] Downloading granule GEDI_L4A_AGB_Density_V2_1.GEDI04_A_2019218203648_O03680_04_T02986_02_002_02_V002.h5 to directory /WuldDn/output\n"
     ]
    },
    {
     "name": "stderr",
     "output_type": "stream",
     "text": [
      "2022-08-16 15:01:58,249 [ForkPoolWorker-1:gedi_subset] [DEBUG] Subsetting /WuldDn/output/GEDI04_A_2019111040155_O02008_02_T04616_02_002_02_V002.h5\n"
     ]
    },
    {
     "name": "stderr",
     "output_type": "stream",
     "text": [
      "2022-08-16 15:01:58,251 [ForkPoolWorker-1:gedi_subset.maapx] [DEBUG] Downloading granule GEDI_L4A_AGB_Density_V2_1.GEDI04_A_2019111145043_O02015_03_T00201_02_002_02_V002.h5 to directory /WuldDn/output\n"
     ]
    },
    {
     "name": "stderr",
     "output_type": "stream",
     "text": [
      "2022-08-16 15:01:58,299 [ForkPoolWorker-11:gedi_subset] [DEBUG] Subsetting /WuldDn/output/GEDI04_A_2019226171553_O03802_03_T03705_02_002_02_V002.h5\n"
     ]
    },
    {
     "name": "stderr",
     "output_type": "stream",
     "text": [
      "2022-08-16 15:01:58,301 [ForkPoolWorker-11:gedi_subset.maapx] [DEBUG] Downloading granule GEDI_L4A_AGB_Density_V2_1.GEDI04_A_2019226171553_O03802_04_T03705_02_002_02_V002.h5 to directory /WuldDn/output\n"
     ]
    },
    {
     "name": "stderr",
     "output_type": "stream",
     "text": [
      "2022-08-16 15:01:58,325 [ForkPoolWorker-3:gedi_subset] [DEBUG] Subsetting /WuldDn/output/GEDI04_A_2019132064242_O02336_04_T05281_02_002_02_V002.h5\n"
     ]
    },
    {
     "name": "stderr",
     "output_type": "stream",
     "text": [
      "2022-08-16 15:01:58,327 [ForkPoolWorker-3:gedi_subset.maapx] [DEBUG] Downloading granule GEDI_L4A_AGB_Density_V2_1.GEDI04_A_2019132190410_O02344_01_T00867_02_002_02_V002.h5 to directory /WuldDn/output\n"
     ]
    },
    {
     "name": "stderr",
     "output_type": "stream",
     "text": [
      "2022-08-16 15:01:58,360 [ForkPoolWorker-7:gedi_subset] [DEBUG] Subsetting /WuldDn/output/GEDI04_A_2019179005829_O03062_01_T01418_02_002_02_V002.h5\n"
     ]
    },
    {
     "name": "stderr",
     "output_type": "stream",
     "text": [
      "2022-08-16 15:01:58,362 [ForkPoolWorker-7:gedi_subset.maapx] [DEBUG] Downloading granule GEDI_L4A_AGB_Density_V2_1.GEDI04_A_2019179005829_O03062_02_T01418_02_002_02_V002.h5 to directory /WuldDn/output\n"
     ]
    },
    {
     "name": "stderr",
     "output_type": "stream",
     "text": [
      "2022-08-16 15:01:58,376 [ForkPoolWorker-12:gedi_subset] [DEBUG] Subsetting /WuldDn/output/GEDI04_A_2019245095256_O04092_03_T04975_02_002_02_V002.h5\n"
     ]
    },
    {
     "name": "stderr",
     "output_type": "stream",
     "text": [
      "2022-08-16 15:01:58,378 [ForkPoolWorker-12:gedi_subset.maapx] [DEBUG] Downloading granule GEDI_L4A_AGB_Density_V2_1.GEDI04_A_2019245095256_O04092_04_T04975_02_002_02_V002.h5 to directory /WuldDn/output\n"
     ]
    },
    {
     "name": "stderr",
     "output_type": "stream",
     "text": [
      "2022-08-16 15:01:58,396 [ForkPoolWorker-18:gedi_subset.maapx] [DEBUG] Setting up default boto3 session with new credentials\n"
     ]
    },
    {
     "name": "stderr",
     "output_type": "stream",
     "text": [
      "2022-08-16 15:01:58,409 [ForkPoolWorker-13:gedi_subset] [DEBUG] Subsetting /WuldDn/output/GEDI04_A_2019256054558_O04260_04_T02022_02_002_02_V002.h5\n"
     ]
    },
    {
     "name": "stderr",
     "output_type": "stream",
     "text": [
      "2022-08-16 15:01:58,411 [ForkPoolWorker-13:gedi_subset.maapx] [DEBUG] Downloading granule GEDI_L4A_AGB_Density_V2_1.GEDI04_A_2019256180829_O04268_01_T04570_02_002_02_V002.h5 to directory /WuldDn/output\n"
     ]
    },
    {
     "name": "stderr",
     "output_type": "stream",
     "text": [
      "2022-08-16 15:01:58,411 [ForkPoolWorker-18:gedi_subset.maapx] [DEBUG] Downloading granule GEDI_L4A_AGB_Density_V2_1.GEDI04_A_2019306092848_O05038_03_T02848_02_002_02_V002.h5 to directory /WuldDn/output\n"
     ]
    },
    {
     "name": "stderr",
     "output_type": "stream",
     "text": [
      "2022-08-16 15:01:58,436 [ForkPoolWorker-4:gedi_subset.maapx] [DEBUG] Setting up default boto3 session with new credentials\n"
     ]
    },
    {
     "name": "stderr",
     "output_type": "stream",
     "text": [
      "2022-08-16 15:01:58,451 [ForkPoolWorker-4:gedi_subset.maapx] [DEBUG] Downloading granule GEDI_L4A_AGB_Density_V2_1.GEDI04_A_2019142152425_O02497_02_T05687_02_002_02_V002.h5 to directory /WuldDn/output\n"
     ]
    },
    {
     "name": "stderr",
     "output_type": "stream",
     "text": [
      "2022-08-16 15:01:58,471 [ForkPoolWorker-5:gedi_subset] [DEBUG] Subsetting /WuldDn/output/GEDI04_A_2019153110846_O02665_01_T03958_02_002_02_V002.h5\n"
     ]
    },
    {
     "name": "stderr",
     "output_type": "stream",
     "text": [
      "2022-08-16 15:01:58,474 [ForkPoolWorker-5:gedi_subset.maapx] [DEBUG] Downloading granule GEDI_L4A_AGB_Density_V2_1.GEDI04_A_2019153110846_O02665_02_T03958_02_002_02_V002.h5 to directory /WuldDn/output\n"
     ]
    },
    {
     "name": "stderr",
     "output_type": "stream",
     "text": [
      "2022-08-16 15:01:58,477 [ForkPoolWorker-6:gedi_subset] [DEBUG] Subsetting /WuldDn/output/GEDI04_A_2019168051318_O02894_02_T01877_02_002_02_V002.h5\n"
     ]
    },
    {
     "name": "stderr",
     "output_type": "stream",
     "text": [
      "2022-08-16 15:01:58,479 [ForkPoolWorker-6:gedi_subset.maapx] [DEBUG] Downloading granule GEDI_L4A_AGB_Density_V2_1.GEDI04_A_2019168160242_O02901_03_T03001_02_002_02_V002.h5 to directory /WuldDn/output\n"
     ]
    },
    {
     "name": "stderr",
     "output_type": "stream",
     "text": [
      "2022-08-16 15:01:58,492 [ForkPoolWorker-2:gedi_subset.maapx] [DEBUG] Setting up default boto3 session with new credentials\n"
     ]
    },
    {
     "name": "stderr",
     "output_type": "stream",
     "text": [
      "2022-08-16 15:01:58,503 [ForkPoolWorker-2:gedi_subset.maapx] [DEBUG] Downloading granule GEDI_L4A_AGB_Density_V2_1.GEDI04_A_2019118120814_O02122_03_T01471_02_002_02_V002.h5 to directory /WuldDn/output\n"
     ]
    },
    {
     "name": "stderr",
     "output_type": "stream",
     "text": [
      "2022-08-16 15:01:58,532 [ForkPoolWorker-10:gedi_subset] [DEBUG] Subsetting /WuldDn/output/GEDI04_A_2019218203648_O03680_04_T02986_02_002_02_V002.h5\n"
     ]
    },
    {
     "name": "stderr",
     "output_type": "stream",
     "text": [
      "2022-08-16 15:01:58,533 [ForkPoolWorker-10:gedi_subset.maapx] [DEBUG] Downloading granule GEDI_L4A_AGB_Density_V2_1.GEDI04_A_2019219085904_O03688_01_T02841_02_002_02_V002.h5 to directory /WuldDn/output\n"
     ]
    },
    {
     "name": "stderr",
     "output_type": "stream",
     "text": [
      "2022-08-16 15:01:58,628 [ForkPoolWorker-8:gedi_subset.maapx] [DEBUG] Setting up default boto3 session with new credentials\n"
     ]
    },
    {
     "name": "stderr",
     "output_type": "stream",
     "text": [
      "2022-08-16 15:01:58,633 [ForkPoolWorker-11:gedi_subset] [DEBUG] Subsetting /WuldDn/output/GEDI04_A_2019226171553_O03802_04_T03705_02_002_02_V002.h5\n"
     ]
    },
    {
     "name": "stderr",
     "output_type": "stream",
     "text": [
      "2022-08-16 15:01:58,635 [ForkPoolWorker-11:gedi_subset.maapx] [DEBUG] Downloading granule GEDI_L4A_AGB_Density_V2_1.GEDI04_A_2019230044746_O03856_01_T04769_02_002_02_V002.h5 to directory /WuldDn/output\n"
     ]
    },
    {
     "name": "stderr",
     "output_type": "stream",
     "text": [
      "2022-08-16 15:01:58,641 [ForkPoolWorker-1:gedi_subset] [DEBUG] Subsetting /WuldDn/output/GEDI04_A_2019111145043_O02015_03_T00201_02_002_02_V002.h5\n"
     ]
    },
    {
     "name": "stderr",
     "output_type": "stream",
     "text": [
      "2022-08-16 15:01:58,643 [ForkPoolWorker-8:gedi_subset.maapx] [DEBUG] Downloading granule GEDI_L4A_AGB_Density_V2_1.GEDI04_A_2019189204453_O03230_01_T00806_02_002_02_V002.h5 to directory /WuldDn/output\n"
     ]
    },
    {
     "name": "stderr",
     "output_type": "stream",
     "text": [
      "2022-08-16 15:01:58,643 [ForkPoolWorker-1:gedi_subset.maapx] [DEBUG] Downloading granule GEDI_L4A_AGB_Density_V2_1.GEDI04_A_2019111145043_O02015_04_T00201_02_002_02_V002.h5 to directory /WuldDn/output\n"
     ]
    },
    {
     "name": "stderr",
     "output_type": "stream",
     "text": [
      "2022-08-16 15:01:58,656 [ForkPoolWorker-3:gedi_subset] [DEBUG] Subsetting /WuldDn/output/GEDI04_A_2019132190410_O02344_01_T00867_02_002_02_V002.h5\n"
     ]
    },
    {
     "name": "stderr",
     "output_type": "stream",
     "text": [
      "2022-08-16 15:01:58,657 [ForkPoolWorker-3:gedi_subset.maapx] [DEBUG] Downloading granule GEDI_L4A_AGB_Density_V2_1.GEDI04_A_2019135054606_O02382_04_T01869_02_002_02_V002.h5 to directory /WuldDn/output\n"
     ]
    },
    {
     "name": "stderr",
     "output_type": "stream",
     "text": [
      "2022-08-16 15:01:58,693 [ForkPoolWorker-7:gedi_subset] [DEBUG] Subsetting /WuldDn/output/GEDI04_A_2019179005829_O03062_02_T01418_02_002_02_V002.h5\n"
     ]
    },
    {
     "name": "stderr",
     "output_type": "stream",
     "text": [
      "2022-08-16 15:01:58,694 [ForkPoolWorker-7:gedi_subset.maapx] [DEBUG] Downloading granule GEDI_L4A_AGB_Density_V2_1.GEDI04_A_2019179114752_O03069_03_T02695_02_002_02_V002.h5 to directory /WuldDn/output\n"
     ]
    },
    {
     "name": "stderr",
     "output_type": "stream",
     "text": [
      "2022-08-16 15:01:58,720 [ForkPoolWorker-12:gedi_subset] [DEBUG] Subsetting /WuldDn/output/GEDI04_A_2019245095256_O04092_04_T04975_02_002_02_V002.h5\n"
     ]
    },
    {
     "name": "stderr",
     "output_type": "stream",
     "text": [
      "2022-08-16 15:01:58,722 [ForkPoolWorker-12:gedi_subset.maapx] [DEBUG] Downloading granule GEDI_L4A_AGB_Density_V2_1.GEDI04_A_2019245221529_O04100_01_T00408_02_002_02_V002.h5 to directory /WuldDn/output\n"
     ]
    },
    {
     "name": "stderr",
     "output_type": "stream",
     "text": [
      "2022-08-16 15:01:58,757 [ForkPoolWorker-13:gedi_subset] [DEBUG] Subsetting /WuldDn/output/GEDI04_A_2019256180829_O04268_01_T04570_02_002_02_V002.h5\n"
     ]
    },
    {
     "name": "stderr",
     "output_type": "stream",
     "text": [
      "2022-08-16 15:01:58,759 [ForkPoolWorker-13:gedi_subset.maapx] [DEBUG] Downloading granule GEDI_L4A_AGB_Density_V2_1.GEDI04_A_2019256180829_O04268_02_T04570_02_002_02_V002.h5 to directory /WuldDn/output\n"
     ]
    },
    {
     "name": "stderr",
     "output_type": "stream",
     "text": [
      "2022-08-16 15:01:58,777 [ForkPoolWorker-18:gedi_subset] [DEBUG] Subsetting /WuldDn/output/GEDI04_A_2019306092848_O05038_03_T02848_02_002_02_V002.h5\n"
     ]
    },
    {
     "name": "stderr",
     "output_type": "stream",
     "text": [
      "2022-08-16 15:01:58,781 [ForkPoolWorker-18:gedi_subset.maapx] [DEBUG] Downloading granule GEDI_L4A_AGB_Density_V2_1.GEDI04_A_2019309083851_O05084_03_T05480_02_002_02_V002.h5 to directory /WuldDn/output\n"
     ]
    },
    {
     "name": "stderr",
     "output_type": "stream",
     "text": [
      "2022-08-16 15:01:58,801 [ForkPoolWorker-4:gedi_subset] [DEBUG] Subsetting /WuldDn/output/GEDI04_A_2019142152425_O02497_02_T05687_02_002_02_V002.h5\n"
     ]
    },
    {
     "name": "stderr",
     "output_type": "stream",
     "text": [
      "2022-08-16 15:01:58,802 [ForkPoolWorker-6:gedi_subset] [DEBUG] Subsetting /WuldDn/output/GEDI04_A_2019168160242_O02901_03_T03001_02_002_02_V002.h5\n"
     ]
    },
    {
     "name": "stderr",
     "output_type": "stream",
     "text": [
      "2022-08-16 15:01:58,804 [ForkPoolWorker-6:gedi_subset.maapx] [DEBUG] Downloading granule GEDI_L4A_AGB_Density_V2_1.GEDI04_A_2019171151005_O02947_03_T01823_02_002_02_V002.h5 to directory /WuldDn/output\n"
     ]
    },
    {
     "name": "stderr",
     "output_type": "stream",
     "text": [
      "2022-08-16 15:01:58,804 [ForkPoolWorker-4:gedi_subset.maapx] [DEBUG] Downloading granule GEDI_L4A_AGB_Density_V2_1.GEDI04_A_2019143021311_O02504_03_T01425_02_002_02_V002.h5 to directory /WuldDn/output\n"
     ]
    },
    {
     "name": "stderr",
     "output_type": "stream",
     "text": [
      "2022-08-16 15:01:58,804 [ForkPoolWorker-5:gedi_subset] [DEBUG] Subsetting /WuldDn/output/GEDI04_A_2019153110846_O02665_02_T03958_02_002_02_V002.h5\n"
     ]
    },
    {
     "name": "stderr",
     "output_type": "stream",
     "text": [
      "2022-08-16 15:01:58,806 [ForkPoolWorker-5:gedi_subset.maapx] [DEBUG] Downloading granule GEDI_L4A_AGB_Density_V2_1.GEDI04_A_2019156210541_O02718_03_T01058_02_002_02_V002.h5 to directory /WuldDn/output\n"
     ]
    },
    {
     "name": "stderr",
     "output_type": "stream",
     "text": [
      "2022-08-16 15:01:58,892 [ForkPoolWorker-10:gedi_subset] [DEBUG] Subsetting /WuldDn/output/GEDI04_A_2019219085904_O03688_01_T02841_02_002_02_V002.h5\n"
     ]
    },
    {
     "name": "stderr",
     "output_type": "stream",
     "text": [
      "2022-08-16 15:01:58,894 [ForkPoolWorker-10:gedi_subset.maapx] [DEBUG] Downloading granule GEDI_L4A_AGB_Density_V2_1.GEDI04_A_2019219085904_O03688_02_T02841_02_002_02_V002.h5 to directory /WuldDn/output\n"
     ]
    },
    {
     "name": "stderr",
     "output_type": "stream",
     "text": [
      "2022-08-16 15:01:58,895 [ForkPoolWorker-2:gedi_subset] [DEBUG] Subsetting /WuldDn/output/GEDI04_A_2019118120814_O02122_03_T01471_02_002_02_V002.h5\n"
     ]
    },
    {
     "name": "stderr",
     "output_type": "stream",
     "text": [
      "2022-08-16 15:01:58,899 [ForkPoolWorker-2:gedi_subset.maapx] [DEBUG] Downloading granule GEDI_L4A_AGB_Density_V2_1.GEDI04_A_2019118120814_O02122_04_T01471_02_002_02_V002.h5 to directory /WuldDn/output\n"
     ]
    },
    {
     "name": "stderr",
     "output_type": "stream",
     "text": [
      "2022-08-16 15:01:58,956 [ForkPoolWorker-3:gedi_subset] [DEBUG] Subsetting /WuldDn/output/GEDI04_A_2019135054606_O02382_04_T01869_02_002_02_V002.h5\n"
     ]
    },
    {
     "name": "stderr",
     "output_type": "stream",
     "text": [
      "2022-08-16 15:01:58,957 [ForkPoolWorker-3:gedi_subset.maapx] [DEBUG] Downloading granule GEDI_L4A_AGB_Density_V2_1.GEDI04_A_2019135180733_O02390_01_T01724_02_002_02_V002.h5 to directory /WuldDn/output\n"
     ]
    },
    {
     "name": "stderr",
     "output_type": "stream",
     "text": [
      "2022-08-16 15:01:58,997 [ForkPoolWorker-11:gedi_subset] [DEBUG] Subsetting /WuldDn/output/GEDI04_A_2019230044746_O03856_01_T04769_02_002_02_V002.h5\n"
     ]
    },
    {
     "name": "stderr",
     "output_type": "stream",
     "text": [
      "2022-08-16 15:01:58,998 [ForkPoolWorker-11:gedi_subset.maapx] [DEBUG] Downloading granule GEDI_L4A_AGB_Density_V2_1.GEDI04_A_2019230044746_O03856_02_T04769_02_002_02_V002.h5 to directory /WuldDn/output\n"
     ]
    },
    {
     "name": "stderr",
     "output_type": "stream",
     "text": [
      "2022-08-16 15:01:59,009 [ForkPoolWorker-8:gedi_subset] [DEBUG] Subsetting /WuldDn/output/GEDI04_A_2019189204453_O03230_01_T00806_02_002_02_V002.h5\n"
     ]
    },
    {
     "name": "stderr",
     "output_type": "stream",
     "text": [
      "2022-08-16 15:01:59,013 [ForkPoolWorker-8:gedi_subset.maapx] [DEBUG] Downloading granule GEDI_L4A_AGB_Density_V2_1.GEDI04_A_2019189204453_O03230_02_T00806_02_002_02_V002.h5 to directory /WuldDn/output\n"
     ]
    },
    {
     "name": "stderr",
     "output_type": "stream",
     "text": [
      "2022-08-16 15:01:59,048 [ForkPoolWorker-7:gedi_subset] [DEBUG] Subsetting /WuldDn/output/GEDI04_A_2019179114752_O03069_03_T02695_02_002_02_V002.h5\n"
     ]
    },
    {
     "name": "stderr",
     "output_type": "stream",
     "text": [
      "2022-08-16 15:01:59,050 [ForkPoolWorker-7:gedi_subset.maapx] [DEBUG] Downloading granule GEDI_L4A_AGB_Density_V2_1.GEDI04_A_2019182105506_O03115_03_T05633_02_002_02_V002.h5 to directory /WuldDn/output\n"
     ]
    },
    {
     "name": "stderr",
     "output_type": "stream",
     "text": [
      "2022-08-16 15:01:59,064 [ForkPoolWorker-12:gedi_subset] [DEBUG] Subsetting /WuldDn/output/GEDI04_A_2019245221529_O04100_01_T00408_02_002_02_V002.h5\n"
     ]
    },
    {
     "name": "stderr",
     "output_type": "stream",
     "text": [
      "2022-08-16 15:01:59,065 [ForkPoolWorker-12:gedi_subset.maapx] [DEBUG] Downloading granule GEDI_L4A_AGB_Density_V2_1.GEDI04_A_2019248212459_O04146_02_T00194_02_002_02_V002.h5 to directory /WuldDn/output\n"
     ]
    },
    {
     "name": "stderr",
     "output_type": "stream",
     "text": [
      "2022-08-16 15:01:59,074 [ForkPoolWorker-13:gedi_subset] [DEBUG] Subsetting /WuldDn/output/GEDI04_A_2019256180829_O04268_02_T04570_02_002_02_V002.h5\n"
     ]
    },
    {
     "name": "stderr",
     "output_type": "stream",
     "text": [
      "2022-08-16 15:01:59,075 [ForkPoolWorker-13:gedi_subset.maapx] [DEBUG] Downloading granule GEDI_L4A_AGB_Density_V2_1.GEDI04_A_2019257045811_O04275_03_T00002_02_002_02_V002.h5 to directory /WuldDn/output\n"
     ]
    },
    {
     "name": "stderr",
     "output_type": "stream",
     "text": [
      "2022-08-16 15:01:59,079 [ForkPoolWorker-1:gedi_subset] [DEBUG] Subsetting /WuldDn/output/GEDI04_A_2019111145043_O02015_04_T00201_02_002_02_V002.h5\n"
     ]
    },
    {
     "name": "stderr",
     "output_type": "stream",
     "text": [
      "2022-08-16 15:01:59,082 [ForkPoolWorker-1:gedi_subset.maapx] [DEBUG] Downloading granule GEDI_L4A_AGB_Density_V2_1.GEDI04_A_2019114135421_O02061_04_T00905_02_002_02_V002.h5 to directory /WuldDn/output\n"
     ]
    },
    {
     "name": "stderr",
     "output_type": "stream",
     "text": [
      "2022-08-16 15:01:59,112 [ForkPoolWorker-4:gedi_subset] [DEBUG] Subsetting /WuldDn/output/GEDI04_A_2019143021311_O02504_03_T01425_02_002_02_V002.h5\n"
     ]
    },
    {
     "name": "stderr",
     "output_type": "stream",
     "text": [
      "2022-08-16 15:01:59,113 [ForkPoolWorker-4:gedi_subset.maapx] [DEBUG] Downloading granule GEDI_L4A_AGB_Density_V2_1.GEDI04_A_2019146011955_O02550_03_T02940_02_002_02_V002.h5 to directory /WuldDn/output\n"
     ]
    },
    {
     "name": "stderr",
     "output_type": "stream",
     "text": [
      "2022-08-16 15:01:59,124 [ForkPoolWorker-6:gedi_subset] [DEBUG] Subsetting /WuldDn/output/GEDI04_A_2019171151005_O02947_03_T01823_02_002_02_V002.h5\n"
     ]
    },
    {
     "name": "stderr",
     "output_type": "stream",
     "text": [
      "2022-08-16 15:01:59,126 [ForkPoolWorker-6:gedi_subset.maapx] [DEBUG] Downloading granule GEDI_L4A_AGB_Density_V2_1.GEDI04_A_2019171151005_O02947_04_T01823_02_002_02_V002.h5 to directory /WuldDn/output\n"
     ]
    },
    {
     "name": "stderr",
     "output_type": "stream",
     "text": [
      "2022-08-16 15:01:59,130 [ForkPoolWorker-5:gedi_subset] [DEBUG] Subsetting /WuldDn/output/GEDI04_A_2019156210541_O02718_03_T01058_02_002_02_V002.h5\n"
     ]
    },
    {
     "name": "stderr",
     "output_type": "stream",
     "text": [
      "2022-08-16 15:01:59,131 [ForkPoolWorker-5:gedi_subset.maapx] [DEBUG] Downloading granule GEDI_L4A_AGB_Density_V2_1.GEDI04_A_2019156210541_O02718_04_T01058_02_002_02_V002.h5 to directory /WuldDn/output\n"
     ]
    },
    {
     "name": "stderr",
     "output_type": "stream",
     "text": [
      "2022-08-16 15:01:59,183 [ForkPoolWorker-18:gedi_subset] [DEBUG] Subsetting /WuldDn/output/GEDI04_A_2019309083851_O05084_03_T05480_02_002_02_V002.h5\n"
     ]
    },
    {
     "name": "stderr",
     "output_type": "stream",
     "text": [
      "2022-08-16 15:01:59,185 [ForkPoolWorker-18:gedi_subset.maapx] [DEBUG] Downloading granule GEDI_L4A_AGB_Density_V2_1.GEDI04_A_2019309083851_O05084_04_T05480_02_002_02_V002.h5 to directory /WuldDn/output\n"
     ]
    },
    {
     "name": "stderr",
     "output_type": "stream",
     "text": [
      "2022-08-16 15:01:59,208 [ForkPoolWorker-2:gedi_subset] [DEBUG] Subsetting /WuldDn/output/GEDI04_A_2019118120814_O02122_04_T01471_02_002_02_V002.h5\n"
     ]
    },
    {
     "name": "stderr",
     "output_type": "stream",
     "text": [
      "2022-08-16 15:01:59,210 [ForkPoolWorker-2:gedi_subset.maapx] [DEBUG] Downloading granule GEDI_L4A_AGB_Density_V2_1.GEDI04_A_2019119002944_O02130_01_T05595_02_002_02_V002.h5 to directory /WuldDn/output\n"
     ]
    },
    {
     "name": "stderr",
     "output_type": "stream",
     "text": [
      "2022-08-16 15:01:59,232 [ForkPoolWorker-10:gedi_subset] [DEBUG] Subsetting /WuldDn/output/GEDI04_A_2019219085904_O03688_02_T02841_02_002_02_V002.h5\n"
     ]
    },
    {
     "name": "stderr",
     "output_type": "stream",
     "text": [
      "2022-08-16 15:01:59,233 [ForkPoolWorker-10:gedi_subset.maapx] [DEBUG] Downloading granule GEDI_L4A_AGB_Density_V2_1.GEDI04_A_2019219194832_O03695_03_T03965_02_002_02_V002.h5 to directory /WuldDn/output\n"
     ]
    },
    {
     "name": "stderr",
     "output_type": "stream",
     "text": [
      "2022-08-16 15:01:59,295 [ForkPoolWorker-3:gedi_subset] [DEBUG] Subsetting /WuldDn/output/GEDI04_A_2019135180733_O02390_01_T01724_02_002_02_V002.h5\n"
     ]
    },
    {
     "name": "stderr",
     "output_type": "stream",
     "text": [
      "2022-08-16 15:01:59,296 [ForkPoolWorker-3:gedi_subset.maapx] [DEBUG] Downloading granule GEDI_L4A_AGB_Density_V2_1.GEDI04_A_2019135180733_O02390_02_T01724_02_002_02_V002.h5 to directory /WuldDn/output\n"
     ]
    },
    {
     "name": "stderr",
     "output_type": "stream",
     "text": [
      "2022-08-16 15:01:59,332 [ForkPoolWorker-11:gedi_subset] [DEBUG] Subsetting /WuldDn/output/GEDI04_A_2019230044746_O03856_02_T04769_02_002_02_V002.h5\n"
     ]
    },
    {
     "name": "stderr",
     "output_type": "stream",
     "text": [
      "2022-08-16 15:01:59,334 [ForkPoolWorker-11:gedi_subset.maapx] [DEBUG] Downloading granule GEDI_L4A_AGB_Density_V2_1.GEDI04_A_2019230153730_O03863_03_T03047_02_002_02_V002.h5 to directory /WuldDn/output\n"
     ]
    },
    {
     "name": "stderr",
     "output_type": "stream",
     "text": [
      "2022-08-16 15:01:59,348 [ForkPoolWorker-8:gedi_subset] [DEBUG] Subsetting /WuldDn/output/GEDI04_A_2019189204453_O03230_02_T00806_02_002_02_V002.h5\n"
     ]
    },
    {
     "name": "stderr",
     "output_type": "stream",
     "text": [
      "2022-08-16 15:01:59,350 [ForkPoolWorker-8:gedi_subset.maapx] [DEBUG] Downloading granule GEDI_L4A_AGB_Density_V2_1.GEDI04_A_2019190073422_O03237_03_T02083_02_002_02_V002.h5 to directory /WuldDn/output\n"
     ]
    },
    {
     "name": "stderr",
     "output_type": "stream",
     "text": [
      "2022-08-16 15:01:59,386 [ForkPoolWorker-7:gedi_subset] [DEBUG] Subsetting /WuldDn/output/GEDI04_A_2019182105506_O03115_03_T05633_02_002_02_V002.h5\n"
     ]
    },
    {
     "name": "stderr",
     "output_type": "stream",
     "text": [
      "2022-08-16 15:01:59,388 [ForkPoolWorker-7:gedi_subset.maapx] [DEBUG] Downloading granule GEDI_L4A_AGB_Density_V2_1.GEDI04_A_2019182105506_O03115_04_T05633_02_002_02_V002.h5 to directory /WuldDn/output\n"
     ]
    },
    {
     "name": "stderr",
     "output_type": "stream",
     "text": [
      "2022-08-16 15:01:59,403 [ForkPoolWorker-12:gedi_subset] [DEBUG] Subsetting /WuldDn/output/GEDI04_A_2019248212459_O04146_02_T00194_02_002_02_V002.h5\n"
     ]
    },
    {
     "name": "stderr",
     "output_type": "stream",
     "text": [
      "2022-08-16 15:01:59,404 [ForkPoolWorker-12:gedi_subset.maapx] [DEBUG] Downloading granule GEDI_L4A_AGB_Density_V2_1.GEDI04_A_2019249081442_O04153_03_T04317_02_002_02_V002.h5 to directory /WuldDn/output\n"
     ]
    },
    {
     "name": "stderr",
     "output_type": "stream",
     "text": [
      "2022-08-16 15:01:59,407 [ForkPoolWorker-13:gedi_subset] [DEBUG] Subsetting /WuldDn/output/GEDI04_A_2019257045811_O04275_03_T00002_02_002_02_V002.h5\n"
     ]
    },
    {
     "name": "stderr",
     "output_type": "stream",
     "text": [
      "2022-08-16 15:01:59,409 [ForkPoolWorker-13:gedi_subset.maapx] [DEBUG] Downloading granule GEDI_L4A_AGB_Density_V2_1.GEDI04_A_2019260040828_O04321_03_T04057_02_002_02_V002.h5 to directory /WuldDn/output\n"
     ]
    },
    {
     "name": "stderr",
     "output_type": "stream",
     "text": [
      "2022-08-16 15:01:59,426 [ForkPoolWorker-1:gedi_subset] [DEBUG] Subsetting /WuldDn/output/GEDI04_A_2019114135421_O02061_04_T00905_02_002_02_V002.h5\n"
     ]
    },
    {
     "name": "stderr",
     "output_type": "stream",
     "text": [
      "2022-08-16 15:01:59,428 [ForkPoolWorker-1:gedi_subset.maapx] [DEBUG] Downloading granule GEDI_L4A_AGB_Density_V2_1.GEDI04_A_2019115021551_O02069_01_T03606_02_002_02_V002.h5 to directory /WuldDn/output\n"
     ]
    },
    {
     "name": "stderr",
     "output_type": "stream",
     "text": [
      "2022-08-16 15:01:59,434 [ForkPoolWorker-6:gedi_subset] [DEBUG] Subsetting /WuldDn/output/GEDI04_A_2019171151005_O02947_04_T01823_02_002_02_V002.h5\n"
     ]
    },
    {
     "name": "stderr",
     "output_type": "stream",
     "text": [
      "2022-08-16 15:01:59,436 [ForkPoolWorker-6:gedi_subset.maapx] [DEBUG] Downloading granule GEDI_L4A_AGB_Density_V2_1.GEDI04_A_2019175023936_O03001_01_T03040_02_002_02_V002.h5 to directory /WuldDn/output\n"
     ]
    },
    {
     "name": "stderr",
     "output_type": "stream",
     "text": [
      "2022-08-16 15:01:59,442 [ForkPoolWorker-5:gedi_subset] [DEBUG] Subsetting /WuldDn/output/GEDI04_A_2019156210541_O02718_04_T01058_02_002_02_V002.h5\n"
     ]
    },
    {
     "name": "stderr",
     "output_type": "stream",
     "text": [
      "2022-08-16 15:01:59,443 [ForkPoolWorker-5:gedi_subset.maapx] [DEBUG] Downloading granule GEDI_L4A_AGB_Density_V2_1.GEDI04_A_2019157092752_O02726_01_T02336_02_002_02_V002.h5 to directory /WuldDn/output\n"
     ]
    },
    {
     "name": "stderr",
     "output_type": "stream",
     "text": [
      "2022-08-16 15:01:59,449 [ForkPoolWorker-4:gedi_subset] [DEBUG] Subsetting /WuldDn/output/GEDI04_A_2019146011955_O02550_03_T02940_02_002_02_V002.h5\n"
     ]
    },
    {
     "name": "stderr",
     "output_type": "stream",
     "text": [
      "2022-08-16 15:01:59,451 [ForkPoolWorker-4:gedi_subset.maapx] [DEBUG] Downloading granule GEDI_L4A_AGB_Density_V2_1.GEDI04_A_2019146011955_O02550_04_T02940_02_002_02_V002.h5 to directory /WuldDn/output\n"
     ]
    },
    {
     "name": "stderr",
     "output_type": "stream",
     "text": [
      "2022-08-16 15:01:59,480 [ForkPoolWorker-17:gedi_subset.maapx] [DEBUG] Setting up default boto3 session with new credentials\n"
     ]
    },
    {
     "name": "stderr",
     "output_type": "stream",
     "text": [
      "2022-08-16 15:01:59,495 [ForkPoolWorker-17:gedi_subset.maapx] [DEBUG] Downloading granule GEDI_L4A_AGB_Density_V2_1.GEDI04_A_2019298015357_O04909_02_T03346_02_002_02_V002.h5 to directory /WuldDn/output\n"
     ]
    },
    {
     "name": "stderr",
     "output_type": "stream",
     "text": [
      "2022-08-16 15:01:59,509 [ForkPoolWorker-14:gedi_subset.maapx] [DEBUG] Setting up default boto3 session with new credentials\n"
     ]
    },
    {
     "name": "stderr",
     "output_type": "stream",
     "text": [
      "2022-08-16 15:01:59,520 [ForkPoolWorker-18:gedi_subset] [DEBUG] Subsetting /WuldDn/output/GEDI04_A_2019309083851_O05084_04_T05480_02_002_02_V002.h5\n"
     ]
    },
    {
     "name": "stderr",
     "output_type": "stream",
     "text": [
      "2022-08-16 15:01:59,522 [ForkPoolWorker-18:gedi_subset.maapx] [DEBUG] Downloading granule GEDI_L4A_AGB_Density_V2_1.GEDI04_A_2019309210128_O05092_01_T03759_02_002_02_V002.h5 to directory /WuldDn/output\n"
     ]
    },
    {
     "name": "stderr",
     "output_type": "stream",
     "text": [
      "2022-08-16 15:01:59,523 [ForkPoolWorker-14:gedi_subset.maapx] [DEBUG] Downloading granule GEDI_L4A_AGB_Density_V2_1.GEDI04_A_2019260163110_O04329_02_T05182_02_002_02_V002.h5 to directory /WuldDn/output\n"
     ]
    },
    {
     "name": "stderr",
     "output_type": "stream",
     "text": [
      "2022-08-16 15:01:59,530 [ForkPoolWorker-2:gedi_subset] [DEBUG] Subsetting /WuldDn/output/GEDI04_A_2019119002944_O02130_01_T05595_02_002_02_V002.h5\n"
     ]
    },
    {
     "name": "stderr",
     "output_type": "stream",
     "text": [
      "2022-08-16 15:01:59,532 [ForkPoolWorker-2:gedi_subset.maapx] [DEBUG] Downloading granule GEDI_L4A_AGB_Density_V2_1.GEDI04_A_2019121111147_O02168_04_T05021_02_002_02_V002.h5 to directory /WuldDn/output\n"
     ]
    },
    {
     "name": "stderr",
     "output_type": "stream",
     "text": [
      "2022-08-16 15:01:59,544 [ForkPoolWorker-10:gedi_subset] [DEBUG] Subsetting /WuldDn/output/GEDI04_A_2019219194832_O03695_03_T03965_02_002_02_V002.h5\n"
     ]
    },
    {
     "name": "stderr",
     "output_type": "stream",
     "text": [
      "2022-08-16 15:01:59,545 [ForkPoolWorker-15:gedi_subset.maapx] [DEBUG] Setting up default boto3 session with new credentials\n"
     ]
    },
    {
     "name": "stderr",
     "output_type": "stream",
     "text": [
      "2022-08-16 15:01:59,545 [ForkPoolWorker-10:gedi_subset.maapx] [DEBUG] Downloading granule GEDI_L4A_AGB_Density_V2_1.GEDI04_A_2019222185622_O03741_03_T02787_02_002_02_V002.h5 to directory /WuldDn/output\n"
     ]
    },
    {
     "name": "stderr",
     "output_type": "stream",
     "text": [
      "2022-08-16 15:01:59,561 [ForkPoolWorker-15:gedi_subset.maapx] [DEBUG] Downloading granule GEDI_L4A_AGB_Density_V2_1.GEDI04_A_2019279091318_O04619_01_T04111_02_002_02_V002.h5 to directory /WuldDn/output\n"
     ]
    },
    {
     "name": "stderr",
     "output_type": "stream",
     "text": [
      "2022-08-16 15:01:59,617 [ForkPoolWorker-16:gedi_subset.maapx] [DEBUG] Setting up default boto3 session with new credentials\n"
     ]
    },
    {
     "name": "stderr",
     "output_type": "stream",
     "text": [
      "2022-08-16 15:01:59,633 [ForkPoolWorker-16:gedi_subset.maapx] [DEBUG] Downloading granule GEDI_L4A_AGB_Density_V2_1.GEDI04_A_2019287055835_O04741_01_T02489_02_002_02_V002.h5 to directory /WuldDn/output\n"
     ]
    },
    {
     "name": "stderr",
     "output_type": "stream",
     "text": [
      "2022-08-16 15:01:59,645 [ForkPoolWorker-11:gedi_subset] [DEBUG] Subsetting /WuldDn/output/GEDI04_A_2019230153730_O03863_03_T03047_02_002_02_V002.h5\n"
     ]
    },
    {
     "name": "stderr",
     "output_type": "stream",
     "text": [
      "2022-08-16 15:01:59,647 [ForkPoolWorker-11:gedi_subset.maapx] [DEBUG] Downloading granule GEDI_L4A_AGB_Density_V2_1.GEDI04_A_2019230153730_O03863_04_T03047_02_002_02_V002.h5 to directory /WuldDn/output\n"
     ]
    },
    {
     "name": "stderr",
     "output_type": "stream",
     "text": [
      "2022-08-16 15:01:59,692 [ForkPoolWorker-3:gedi_subset] [DEBUG] Subsetting /WuldDn/output/GEDI04_A_2019135180733_O02390_02_T01724_02_002_02_V002.h5\n"
     ]
    },
    {
     "name": "stderr",
     "output_type": "stream",
     "text": [
      "2022-08-16 15:01:59,695 [ForkPoolWorker-3:gedi_subset.maapx] [DEBUG] Downloading granule GEDI_L4A_AGB_Density_V2_1.GEDI04_A_2019136045620_O02397_03_T01578_02_002_02_V002.h5 to directory /WuldDn/output\n"
     ]
    },
    {
     "name": "stderr",
     "output_type": "stream",
     "text": [
      "2022-08-16 15:01:59,709 [ForkPoolWorker-8:gedi_subset] [DEBUG] Subsetting /WuldDn/output/GEDI04_A_2019190073422_O03237_03_T02083_02_002_02_V002.h5\n"
     ]
    },
    {
     "name": "stderr",
     "output_type": "stream",
     "text": [
      "2022-08-16 15:01:59,711 [ForkPoolWorker-8:gedi_subset.maapx] [DEBUG] Downloading granule GEDI_L4A_AGB_Density_V2_1.GEDI04_A_2019190073422_O03237_04_T02083_02_002_02_V002.h5 to directory /WuldDn/output\n"
     ]
    },
    {
     "name": "stderr",
     "output_type": "stream",
     "text": [
      "2022-08-16 15:01:59,718 [ForkPoolWorker-7:gedi_subset] [DEBUG] Subsetting /WuldDn/output/GEDI04_A_2019182105506_O03115_04_T05633_02_002_02_V002.h5\n"
     ]
    },
    {
     "name": "stderr",
     "output_type": "stream",
     "text": [
      "2022-08-16 15:01:59,719 [ForkPoolWorker-7:gedi_subset.maapx] [DEBUG] Downloading granule GEDI_L4A_AGB_Density_V2_1.GEDI04_A_2019182231714_O03123_01_T02642_02_002_02_V002.h5 to directory /WuldDn/output\n"
     ]
    },
    {
     "name": "stderr",
     "output_type": "stream",
     "text": [
      "2022-08-16 15:01:59,733 [ForkPoolWorker-1:gedi_subset] [DEBUG] Subsetting /WuldDn/output/GEDI04_A_2019115021551_O02069_01_T03606_02_002_02_V002.h5\n"
     ]
    },
    {
     "name": "stderr",
     "output_type": "stream",
     "text": [
      "2022-08-16 15:01:59,734 [ForkPoolWorker-13:gedi_subset] [DEBUG] Subsetting /WuldDn/output/GEDI04_A_2019260040828_O04321_03_T04057_02_002_02_V002.h5\n"
     ]
    },
    {
     "name": "stderr",
     "output_type": "stream",
     "text": [
      "2022-08-16 15:01:59,735 [ForkPoolWorker-1:gedi_subset.maapx] [DEBUG] Downloading granule GEDI_L4A_AGB_Density_V2_1.GEDI04_A_2019115021551_O02069_02_T03606_02_002_02_V002.h5 to directory /WuldDn/output\n"
     ]
    },
    {
     "name": "stderr",
     "output_type": "stream",
     "text": [
      "2022-08-16 15:01:59,735 [ForkPoolWorker-13:gedi_subset.maapx] [DEBUG] Downloading granule GEDI_L4A_AGB_Density_V2_1.GEDI04_A_2019260040828_O04321_04_T04057_02_002_02_V002.h5 to directory /WuldDn/output\n"
     ]
    },
    {
     "name": "stderr",
     "output_type": "stream",
     "text": [
      "2022-08-16 15:01:59,769 [ForkPoolWorker-12:gedi_subset] [DEBUG] Subsetting /WuldDn/output/GEDI04_A_2019249081442_O04153_03_T04317_02_002_02_V002.h5\n"
     ]
    },
    {
     "name": "stderr",
     "output_type": "stream",
     "text": [
      "2022-08-16 15:01:59,770 [ForkPoolWorker-12:gedi_subset.maapx] [DEBUG] Downloading granule GEDI_L4A_AGB_Density_V2_1.GEDI04_A_2019249081442_O04153_04_T04317_02_002_02_V002.h5 to directory /WuldDn/output\n"
     ]
    },
    {
     "name": "stderr",
     "output_type": "stream",
     "text": [
      "2022-08-16 15:01:59,770 [ForkPoolWorker-6:gedi_subset] [DEBUG] Subsetting /WuldDn/output/GEDI04_A_2019175023936_O03001_01_T03040_02_002_02_V002.h5\n"
     ]
    },
    {
     "name": "stderr",
     "output_type": "stream",
     "text": [
      "2022-08-16 15:01:59,771 [ForkPoolWorker-6:gedi_subset.maapx] [DEBUG] Downloading granule GEDI_L4A_AGB_Density_V2_1.GEDI04_A_2019175023936_O03001_02_T03040_02_002_02_V002.h5 to directory /WuldDn/output\n"
     ]
    },
    {
     "name": "stderr",
     "output_type": "stream",
     "text": [
      "2022-08-16 15:01:59,782 [ForkPoolWorker-4:gedi_subset] [DEBUG] Subsetting /WuldDn/output/GEDI04_A_2019146011955_O02550_04_T02940_02_002_02_V002.h5\n"
     ]
    },
    {
     "name": "stderr",
     "output_type": "stream",
     "text": [
      "2022-08-16 15:01:59,784 [ForkPoolWorker-4:gedi_subset.maapx] [DEBUG] Downloading granule GEDI_L4A_AGB_Density_V2_1.GEDI04_A_2019146134206_O02558_01_T05641_02_002_02_V002.h5 to directory /WuldDn/output\n"
     ]
    },
    {
     "name": "stderr",
     "output_type": "stream",
     "text": [
      "2022-08-16 15:01:59,820 [ForkPoolWorker-5:gedi_subset] [DEBUG] Subsetting /WuldDn/output/GEDI04_A_2019157092752_O02726_01_T02336_02_002_02_V002.h5\n"
     ]
    },
    {
     "name": "stderr",
     "output_type": "stream",
     "text": [
      "2022-08-16 15:01:59,821 [ForkPoolWorker-5:gedi_subset.maapx] [DEBUG] Downloading granule GEDI_L4A_AGB_Density_V2_1.GEDI04_A_2019157092752_O02726_02_T02336_02_002_02_V002.h5 to directory /WuldDn/output\n"
     ]
    },
    {
     "name": "stderr",
     "output_type": "stream",
     "text": [
      "2022-08-16 15:01:59,823 [ForkPoolWorker-18:gedi_subset] [DEBUG] Subsetting /WuldDn/output/GEDI04_A_2019309210128_O05092_01_T03759_02_002_02_V002.h5\n"
     ]
    },
    {
     "name": "stderr",
     "output_type": "stream",
     "text": [
      "2022-08-16 15:01:59,824 [ForkPoolWorker-18:gedi_subset.maapx] [DEBUG] Downloading granule GEDI_L4A_AGB_Density_V2_1.GEDI04_A_2019309210128_O05092_02_T03759_02_002_02_V002.h5 to directory /WuldDn/output\n"
     ]
    },
    {
     "name": "stderr",
     "output_type": "stream",
     "text": [
      "2022-08-16 15:01:59,850 [ForkPoolWorker-10:gedi_subset] [DEBUG] Subsetting /WuldDn/output/GEDI04_A_2019222185622_O03741_03_T02787_02_002_02_V002.h5\n"
     ]
    },
    {
     "name": "stderr",
     "output_type": "stream",
     "text": [
      "2022-08-16 15:01:59,851 [ForkPoolWorker-17:gedi_subset] [DEBUG] Subsetting /WuldDn/output/GEDI04_A_2019298015357_O04909_02_T03346_02_002_02_V002.h5\n"
     ]
    },
    {
     "name": "stderr",
     "output_type": "stream",
     "text": [
      "2022-08-16 15:01:59,853 [ForkPoolWorker-10:gedi_subset.maapx] [DEBUG] Downloading granule GEDI_L4A_AGB_Density_V2_1.GEDI04_A_2019222185622_O03741_04_T02787_02_002_02_V002.h5 to directory /WuldDn/output\n"
     ]
    },
    {
     "name": "stderr",
     "output_type": "stream",
     "text": [
      "2022-08-16 15:01:59,856 [ForkPoolWorker-17:gedi_subset.maapx] [DEBUG] Downloading granule GEDI_L4A_AGB_Density_V2_1.GEDI04_A_2019298124345_O04916_03_T01777_02_002_02_V002.h5 to directory /WuldDn/output\n"
     ]
    },
    {
     "name": "stderr",
     "output_type": "stream",
     "text": [
      "2022-08-16 15:01:59,877 [ForkPoolWorker-2:gedi_subset] [DEBUG] Subsetting /WuldDn/output/GEDI04_A_2019121111147_O02168_04_T05021_02_002_02_V002.h5\n"
     ]
    },
    {
     "name": "stderr",
     "output_type": "stream",
     "text": [
      "2022-08-16 15:01:59,878 [ForkPoolWorker-2:gedi_subset.maapx] [DEBUG] Downloading granule GEDI_L4A_AGB_Density_V2_1.GEDI04_A_2019121233316_O02176_01_T04876_02_002_02_V002.h5 to directory /WuldDn/output\n"
     ]
    },
    {
     "name": "stderr",
     "output_type": "stream",
     "text": [
      "2022-08-16 15:01:59,888 [ForkPoolWorker-14:gedi_subset] [DEBUG] Subsetting /WuldDn/output/GEDI04_A_2019260163110_O04329_02_T05182_02_002_02_V002.h5\n"
     ]
    },
    {
     "name": "stderr",
     "output_type": "stream",
     "text": [
      "2022-08-16 15:01:59,889 [ForkPoolWorker-14:gedi_subset.maapx] [DEBUG] Downloading granule GEDI_L4A_AGB_Density_V2_1.GEDI04_A_2019264023129_O04382_03_T00247_02_002_02_V002.h5 to directory /WuldDn/output\n"
     ]
    },
    {
     "name": "stderr",
     "output_type": "stream",
     "text": [
      "2022-08-16 15:01:59,932 [ForkPoolWorker-15:gedi_subset] [DEBUG] Subsetting /WuldDn/output/GEDI04_A_2019279091318_O04619_01_T04111_02_002_02_V002.h5\n"
     ]
    },
    {
     "name": "stderr",
     "output_type": "stream",
     "text": [
      "2022-08-16 15:01:59,934 [ForkPoolWorker-15:gedi_subset.maapx] [DEBUG] Downloading granule GEDI_L4A_AGB_Density_V2_1.GEDI04_A_2019279091318_O04619_02_T04111_02_002_02_V002.h5 to directory /WuldDn/output\n"
     ]
    },
    {
     "name": "stderr",
     "output_type": "stream",
     "text": [
      "2022-08-16 15:01:59,964 [ForkPoolWorker-11:gedi_subset] [DEBUG] Subsetting /WuldDn/output/GEDI04_A_2019230153730_O03863_04_T03047_02_002_02_V002.h5\n"
     ]
    },
    {
     "name": "stderr",
     "output_type": "stream",
     "text": [
      "2022-08-16 15:01:59,966 [ForkPoolWorker-11:gedi_subset.maapx] [DEBUG] Downloading granule GEDI_L4A_AGB_Density_V2_1.GEDI04_A_2019231040003_O03871_01_T04172_02_002_02_V002.h5 to directory /WuldDn/output\n"
     ]
    },
    {
     "name": "stderr",
     "output_type": "stream",
     "text": [
      "2022-08-16 15:02:00,017 [ForkPoolWorker-3:gedi_subset] [DEBUG] Subsetting /WuldDn/output/GEDI04_A_2019136045620_O02397_03_T01578_02_002_02_V002.h5\n"
     ]
    },
    {
     "name": "stderr",
     "output_type": "stream",
     "text": [
      "2022-08-16 15:02:00,018 [ForkPoolWorker-3:gedi_subset.maapx] [DEBUG] Downloading granule GEDI_L4A_AGB_Density_V2_1.GEDI04_A_2019142152425_O02497_01_T05687_02_002_02_V002.h5 to directory /WuldDn/output\n"
     ]
    },
    {
     "name": "stderr",
     "output_type": "stream",
     "text": [
      "2022-08-16 15:02:00,020 [ForkPoolWorker-8:gedi_subset] [DEBUG] Subsetting /WuldDn/output/GEDI04_A_2019190073422_O03237_04_T02083_02_002_02_V002.h5\n"
     ]
    },
    {
     "name": "stderr",
     "output_type": "stream",
     "text": [
      "2022-08-16 15:02:00,022 [ForkPoolWorker-8:gedi_subset.maapx] [DEBUG] Downloading granule GEDI_L4A_AGB_Density_V2_1.GEDI04_A_2019193064225_O03283_04_T03445_02_002_02_V002.h5 to directory /WuldDn/output\n"
     ]
    },
    {
     "name": "stderr",
     "output_type": "stream",
     "text": [
      "2022-08-16 15:02:00,035 [ForkPoolWorker-16:gedi_subset] [DEBUG] Subsetting /WuldDn/output/GEDI04_A_2019287055835_O04741_01_T02489_02_002_02_V002.h5\n"
     ]
    },
    {
     "name": "stderr",
     "output_type": "stream",
     "text": [
      "2022-08-16 15:02:00,038 [ForkPoolWorker-16:gedi_subset.maapx] [DEBUG] Downloading granule GEDI_L4A_AGB_Density_V2_1.GEDI04_A_2019287055835_O04741_02_T02489_02_002_02_V002.h5 to directory /WuldDn/output\n"
     ]
    },
    {
     "name": "stderr",
     "output_type": "stream",
     "text": [
      "2022-08-16 15:02:00,039 [ForkPoolWorker-1:gedi_subset] [DEBUG] Subsetting /WuldDn/output/GEDI04_A_2019115021551_O02069_02_T03606_02_002_02_V002.h5\n"
     ]
    },
    {
     "name": "stderr",
     "output_type": "stream",
     "text": [
      "2022-08-16 15:02:00,040 [ForkPoolWorker-1:gedi_subset.maapx] [DEBUG] Downloading granule GEDI_L4A_AGB_Density_V2_1.GEDI04_A_2019118011926_O02115_02_T02887_02_002_02_V002.h5 to directory /WuldDn/output\n"
     ]
    },
    {
     "name": "stderr",
     "output_type": "stream",
     "text": [
      "2022-08-16 15:02:00,043 [ForkPoolWorker-13:gedi_subset] [DEBUG] Subsetting /WuldDn/output/GEDI04_A_2019260040828_O04321_04_T04057_02_002_02_V002.h5\n"
     ]
    },
    {
     "name": "stderr",
     "output_type": "stream",
     "text": [
      "2022-08-16 15:02:00,045 [ForkPoolWorker-13:gedi_subset.maapx] [DEBUG] Downloading granule GEDI_L4A_AGB_Density_V2_1.GEDI04_A_2019260163110_O04329_01_T05182_02_002_02_V002.h5 to directory /WuldDn/output\n"
     ]
    },
    {
     "name": "stderr",
     "output_type": "stream",
     "text": [
      "2022-08-16 15:02:00,069 [ForkPoolWorker-12:gedi_subset] [DEBUG] Subsetting /WuldDn/output/GEDI04_A_2019249081442_O04153_04_T04317_02_002_02_V002.h5\n"
     ]
    },
    {
     "name": "stderr",
     "output_type": "stream",
     "text": [
      "2022-08-16 15:02:00,070 [ForkPoolWorker-12:gedi_subset.maapx] [DEBUG] Downloading granule GEDI_L4A_AGB_Density_V2_1.GEDI04_A_2019252194644_O04207_01_T00959_02_002_02_V002.h5 to directory /WuldDn/output\n"
     ]
    },
    {
     "name": "stderr",
     "output_type": "stream",
     "text": [
      "2022-08-16 15:02:00,073 [ForkPoolWorker-7:gedi_subset] [DEBUG] Subsetting /WuldDn/output/GEDI04_A_2019182231714_O03123_01_T02642_02_002_02_V002.h5\n"
     ]
    },
    {
     "name": "stderr",
     "output_type": "stream",
     "text": [
      "2022-08-16 15:02:00,075 [ForkPoolWorker-7:gedi_subset.maapx] [DEBUG] Downloading granule GEDI_L4A_AGB_Density_V2_1.GEDI04_A_2019182231714_O03123_02_T02642_02_002_02_V002.h5 to directory /WuldDn/output\n"
     ]
    },
    {
     "name": "stderr",
     "output_type": "stream",
     "text": [
      "2022-08-16 15:02:00,084 [ForkPoolWorker-4:gedi_subset] [DEBUG] Subsetting /WuldDn/output/GEDI04_A_2019146134206_O02558_01_T05641_02_002_02_V002.h5\n"
     ]
    },
    {
     "name": "stderr",
     "output_type": "stream",
     "text": [
      "2022-08-16 15:02:00,086 [ForkPoolWorker-4:gedi_subset.maapx] [DEBUG] Downloading granule GEDI_L4A_AGB_Density_V2_1.GEDI04_A_2019146134206_O02558_02_T05641_02_002_02_V002.h5 to directory /WuldDn/output\n"
     ]
    },
    {
     "name": "stderr",
     "output_type": "stream",
     "text": [
      "2022-08-16 15:02:00,087 [ForkPoolWorker-6:gedi_subset] [DEBUG] Subsetting /WuldDn/output/GEDI04_A_2019175023936_O03001_02_T03040_02_002_02_V002.h5\n"
     ]
    },
    {
     "name": "stderr",
     "output_type": "stream",
     "text": [
      "2022-08-16 15:02:00,089 [ForkPoolWorker-6:gedi_subset.maapx] [DEBUG] Downloading granule GEDI_L4A_AGB_Density_V2_1.GEDI04_A_2019175132859_O03008_03_T00048_02_002_02_V002.h5 to directory /WuldDn/output\n"
     ]
    },
    {
     "name": "stderr",
     "output_type": "stream",
     "text": [
      "2022-08-16 15:02:00,146 [ForkPoolWorker-18:gedi_subset] [DEBUG] Subsetting /WuldDn/output/GEDI04_A_2019309210128_O05092_02_T03759_02_002_02_V002.h5\n"
     ]
    },
    {
     "name": "stderr",
     "output_type": "stream",
     "text": [
      "2022-08-16 15:02:00,147 [ForkPoolWorker-18:gedi_subset.maapx] [DEBUG] Downloading granule GEDI_L4A_AGB_Density_V2_1.GEDI04_A_2019313070136_O05145_03_T00400_02_002_02_V002.h5 to directory /WuldDn/output\n"
     ]
    },
    {
     "name": "stderr",
     "output_type": "stream",
     "text": [
      "2022-08-16 15:02:00,165 [ForkPoolWorker-10:gedi_subset] [DEBUG] Subsetting /WuldDn/output/GEDI04_A_2019222185622_O03741_04_T02787_02_002_02_V002.h5\n"
     ]
    },
    {
     "name": "stderr",
     "output_type": "stream",
     "text": [
      "2022-08-16 15:02:00,165 [ForkPoolWorker-17:gedi_subset] [DEBUG] Subsetting /WuldDn/output/GEDI04_A_2019298124345_O04916_03_T01777_02_002_02_V002.h5\n"
     ]
    },
    {
     "name": "stderr",
     "output_type": "stream",
     "text": [
      "2022-08-16 15:02:00,167 [ForkPoolWorker-17:gedi_subset.maapx] [DEBUG] Downloading granule GEDI_L4A_AGB_Density_V2_1.GEDI04_A_2019298124345_O04916_04_T01777_02_002_02_V002.h5 to directory /WuldDn/output\n"
     ]
    },
    {
     "name": "stderr",
     "output_type": "stream",
     "text": [
      "2022-08-16 15:02:00,169 [ForkPoolWorker-5:gedi_subset] [DEBUG] Subsetting /WuldDn/output/GEDI04_A_2019157092752_O02726_02_T02336_02_002_02_V002.h5\n"
     ]
    },
    {
     "name": "stderr",
     "output_type": "stream",
     "text": [
      "2022-08-16 15:02:00,171 [ForkPoolWorker-5:gedi_subset.maapx] [DEBUG] Downloading granule GEDI_L4A_AGB_Density_V2_1.GEDI04_A_2019160192444_O02779_03_T02282_02_002_02_V002.h5 to directory /WuldDn/output\n"
     ]
    },
    {
     "name": "stderr",
     "output_type": "stream",
     "text": [
      "2022-08-16 15:02:00,174 [ForkPoolWorker-10:gedi_subset.maapx] [DEBUG] Obtaining S3 credentials from https://data.ornldaac.earthdata.nasa.gov/s3credentials\n"
     ]
    },
    {
     "name": "stderr",
     "output_type": "stream",
     "text": [
      "Traceback (most recent call last):\n"
     ]
    },
    {
     "name": "stderr",
     "output_type": "stream",
     "text": [
      "  File \"/home/jovyan/maap-documentation-examples/gedi-subset/subset.py\", line 265, in <module>\n"
     ]
    },
    {
     "name": "stderr",
     "output_type": "stream",
     "text": [
      "    typer.run(main)\n"
     ]
    },
    {
     "name": "stderr",
     "output_type": "stream",
     "text": [
      "  File \"/opt/conda/envs/gedi_subset/lib/python3.10/site-packages/typer/main.py\", line 864, in run\n"
     ]
    },
    {
     "name": "stderr",
     "output_type": "stream",
     "text": [
      "    app()\n"
     ]
    },
    {
     "name": "stderr",
     "output_type": "stream",
     "text": [
      "  File \"/opt/conda/envs/gedi_subset/lib/python3.10/site-packages/typer/main.py\", line 214, in __call__\n"
     ]
    },
    {
     "name": "stderr",
     "output_type": "stream",
     "text": [
      "    return get_command(self)(*args, **kwargs)\n"
     ]
    },
    {
     "name": "stderr",
     "output_type": "stream",
     "text": [
      "  File \"/opt/conda/envs/gedi_subset/lib/python3.10/site-packages/click/core.py\", line 1130, in __call__\n"
     ]
    },
    {
     "name": "stderr",
     "output_type": "stream",
     "text": [
      "    return self.main(*args, **kwargs)\n"
     ]
    },
    {
     "name": "stderr",
     "output_type": "stream",
     "text": [
      "  File \"/opt/conda/envs/gedi_subset/lib/python3.10/site-packages/click/core.py\", line 1055, in main\n"
     ]
    },
    {
     "name": "stderr",
     "output_type": "stream",
     "text": [
      "    rv = self.invoke(ctx)\n"
     ]
    },
    {
     "name": "stderr",
     "output_type": "stream",
     "text": [
      "  File \"/opt/conda/envs/gedi_subset/lib/python3.10/site-packages/click/core.py\", line 1404, in invoke\n"
     ]
    },
    {
     "name": "stderr",
     "output_type": "stream",
     "text": [
      "    return ctx.invoke(self.callback, **ctx.params)\n"
     ]
    },
    {
     "name": "stderr",
     "output_type": "stream",
     "text": [
      "  File \"/opt/conda/envs/gedi_subset/lib/python3.10/site-packages/click/core.py\", line 760, in invoke\n"
     ]
    },
    {
     "name": "stderr",
     "output_type": "stream",
     "text": [
      "    return __callback(*args, **kwargs)\n"
     ]
    },
    {
     "name": "stderr",
     "output_type": "stream",
     "text": [
      "  File \"/opt/conda/envs/gedi_subset/lib/python3.10/site-packages/typer/main.py\", line 500, in wrapper\n"
     ]
    },
    {
     "name": "stderr",
     "output_type": "stream",
     "text": [
      "    return callback(**use_params)  # type: ignore\n"
     ]
    },
    {
     "name": "stderr",
     "output_type": "stream",
     "text": [
      "  File \"/home/jovyan/maap-documentation-examples/gedi-subset/subset.py\", line 233, in main\n"
     ]
    },
    {
     "name": "stderr",
     "output_type": "stream",
     "text": [
      "    result = IO.do(\n"
     ]
    },
    {
     "name": "stderr",
     "output_type": "stream",
     "text": [
      "  File \"/opt/conda/envs/gedi_subset/lib/python3.10/site-packages/returns/io.py\", line 188, in do\n"
     ]
    },
    {
     "name": "stderr",
     "output_type": "stream",
     "text": [
      "    return IO(next(expr))\n"
     ]
    },
    {
     "name": "stderr",
     "output_type": "stream",
     "text": [
      "  File \"/home/jovyan/maap-documentation-examples/gedi-subset/subset.py\", line 245, in <genexpr>\n"
     ]
    },
    {
     "name": "stderr",
     "output_type": "stream",
     "text": [
      "    for subsets in subset_granules(\n"
     ]
    },
    {
     "name": "stderr",
     "output_type": "stream",
     "text": [
      "  File \"/home/jovyan/maap-documentation-examples/gedi-subset/subset.py\", line 151, in subset_granules\n"
     ]
    },
    {
     "name": "stderr",
     "output_type": "stream",
     "text": [
      "    return flow(\n"
     ]
    },
    {
     "name": "stderr",
     "output_type": "stream",
     "text": [
      "  File \"/opt/conda/envs/gedi_subset/lib/python3.10/site-packages/returns/_internal/pipeline/flow.py\", line 50, in flow\n"
     ]
    },
    {
     "name": "stderr",
     "output_type": "stream",
     "text": [
      "    return reduce(  # type: ignore\n"
     ]
    },
    {
     "name": "stderr",
     "output_type": "stream",
     "text": [
      "  File \"/opt/conda/envs/gedi_subset/lib/python3.10/site-packages/returns/_internal/pipeline/flow.py\", line 51, in <lambda>\n"
     ]
    },
    {
     "name": "stderr",
     "output_type": "stream",
     "text": [
      "    lambda composed, function: function(composed),  # type: ignore\n"
     ]
    },
    {
     "name": "stderr",
     "output_type": "stream",
     "text": [
      "  File \"/opt/conda/envs/gedi_subset/lib/python3.10/site-packages/returns/iterables.py\", line 157, in collect\n"
     ]
    },
    {
     "name": "stderr",
     "output_type": "stream",
     "text": [
      "    return cls._collect(iterable, acc)\n"
     ]
    },
    {
     "name": "stderr",
     "output_type": "stream",
     "text": [
      "  File \"/opt/conda/envs/gedi_subset/lib/python3.10/site-packages/returns/iterables.py\", line 279, in _collect\n"
     ]
    },
    {
     "name": "stderr",
     "output_type": "stream",
     "text": [
      "    return cls._loop(\n"
     ]
    },
    {
     "name": "stderr",
     "output_type": "stream",
     "text": [
      "  File \"/opt/conda/envs/gedi_subset/lib/python3.10/site-packages/returns/iterables.py\", line 355, in _loop\n"
     ]
    },
    {
     "name": "stderr",
     "output_type": "stream",
     "text": [
      "    for current in iterable:\n"
     ]
    },
    {
     "name": "stderr",
     "output_type": "stream",
     "text": [
      "  File \"/opt/conda/envs/gedi_subset/lib/python3.10/site-packages/returns/pointfree/lash.py\", line 55, in factory\n"
     ]
    },
    {
     "name": "stderr",
     "output_type": "stream",
     "text": [
      "    return container.lash(function)\n"
     ]
    },
    {
     "name": "stderr",
     "output_type": "stream",
     "text": [
      "  File \"/opt/conda/envs/gedi_subset/lib/python3.10/site-packages/returns/io.py\", line 851, in lash\n"
     ]
    },
    {
     "name": "stderr",
     "output_type": "stream",
     "text": [
      "    return function(self._inner_value.failure())\n"
     ]
    },
    {
     "name": "stderr",
     "output_type": "stream",
     "text": [
      "  File \"/opt/conda/envs/gedi_subset/lib/python3.10/site-packages/returns/functions.py\", line 132, in raise_exception\n"
     ]
    },
    {
     "name": "stderr",
     "output_type": "stream",
     "text": [
      "    raise exception\n"
     ]
    },
    {
     "name": "stderr",
     "output_type": "stream",
     "text": [
      "OSError: Unable to open file (file signature not found)\n"
     ]
    },
    {
     "name": "stderr",
     "output_type": "stream",
     "text": [
      "ERROR conda.cli.main_run:execute(49): `conda run /home/jovyan/maap-documentation-examples/gedi-subset/subset.py --verbose --aoi /var/lib/cwl/stg7dea10b1-637d-4a0b-9dea-3ce2cabdd23a/geoBoundaries-GAB-ADM0.geojson --columns agbd, agbd_se, l2_quality_flag, l4_quality_flag, sensitivity, sensitivity_a2 --query l2_quality_flag == 1 and l4_quality_flag == 1 and sensitivity > 0.95 and sensitivity_a2 > 0.95 --limit 10000` failed. (See above for error)\n"
     ]
    },
    {
     "ename": "CalledProcessError",
     "evalue": "Command 'b'# write a bash script here\\nconda run --no-capture-output -n gedi_subset /home/jovyan/maap-documentation-examples/gedi-subset/subset.py \\\\\\n    --verbose --aoi \"${1}\" --columns \"${2}\" --query \"${3}\" --limit ${4}\\n'' returned non-zero exit status 1.",
     "output_type": "error",
     "traceback": [
      "\u001b[0;31m---------------------------------------------------------------------------\u001b[0m",
      "\u001b[0;31mCalledProcessError\u001b[0m                        Traceback (most recent call last)",
      "Input \u001b[0;32mIn [3]\u001b[0m, in \u001b[0;36m<cell line: 1>\u001b[0;34m()\u001b[0m\n\u001b[0;32m----> 1\u001b[0m \u001b[43mget_ipython\u001b[49m\u001b[43m(\u001b[49m\u001b[43m)\u001b[49m\u001b[38;5;241;43m.\u001b[39;49m\u001b[43mrun_cell_magic\u001b[49m\u001b[43m(\u001b[49m\u001b[38;5;124;43m'\u001b[39;49m\u001b[38;5;124;43mbash\u001b[39;49m\u001b[38;5;124;43m'\u001b[39;49m\u001b[43m,\u001b[49m\u001b[43m \u001b[49m\u001b[38;5;124;43m'\u001b[39;49m\u001b[38;5;124;43m-s \u001b[39;49m\u001b[38;5;124;43m\"\u001b[39;49m\u001b[38;5;124;43m$aoi\u001b[39;49m\u001b[38;5;124;43m\"\u001b[39;49m\u001b[38;5;124;43m \u001b[39;49m\u001b[38;5;124;43m\"\u001b[39;49m\u001b[38;5;124;43m$columns\u001b[39;49m\u001b[38;5;124;43m\"\u001b[39;49m\u001b[38;5;124;43m \u001b[39;49m\u001b[38;5;124;43m\"\u001b[39;49m\u001b[38;5;124;43m$query\u001b[39;49m\u001b[38;5;124;43m\"\u001b[39;49m\u001b[38;5;124;43m \u001b[39;49m\u001b[38;5;124;43m\"\u001b[39;49m\u001b[38;5;124;43m$limit\u001b[39;49m\u001b[38;5;124;43m\"\u001b[39;49m\u001b[38;5;124;43m'\u001b[39;49m\u001b[43m,\u001b[49m\u001b[43m \u001b[49m\u001b[38;5;124;43m'\u001b[39;49m\u001b[38;5;124;43m# write a bash script here\u001b[39;49m\u001b[38;5;130;43;01m\\n\u001b[39;49;00m\u001b[38;5;124;43mconda run --no-capture-output -n gedi_subset /home/jovyan/maap-documentation-examples/gedi-subset/subset.py \u001b[39;49m\u001b[38;5;130;43;01m\\\\\u001b[39;49;00m\u001b[38;5;130;43;01m\\n\u001b[39;49;00m\u001b[38;5;124;43m    --verbose --aoi \u001b[39;49m\u001b[38;5;124;43m\"\u001b[39;49m\u001b[38;5;124;43m$\u001b[39;49m\u001b[38;5;132;43;01m{1}\u001b[39;49;00m\u001b[38;5;124;43m\"\u001b[39;49m\u001b[38;5;124;43m --columns \u001b[39;49m\u001b[38;5;124;43m\"\u001b[39;49m\u001b[38;5;124;43m$\u001b[39;49m\u001b[38;5;132;43;01m{2}\u001b[39;49;00m\u001b[38;5;124;43m\"\u001b[39;49m\u001b[38;5;124;43m --query \u001b[39;49m\u001b[38;5;124;43m\"\u001b[39;49m\u001b[38;5;124;43m$\u001b[39;49m\u001b[38;5;132;43;01m{3}\u001b[39;49;00m\u001b[38;5;124;43m\"\u001b[39;49m\u001b[38;5;124;43m --limit $\u001b[39;49m\u001b[38;5;132;43;01m{4}\u001b[39;49;00m\u001b[38;5;130;43;01m\\n\u001b[39;49;00m\u001b[38;5;124;43m'\u001b[39;49m\u001b[43m)\u001b[49m\n",
      "File \u001b[0;32m/opt/conda/lib/python3.9/site-packages/IPython/core/interactiveshell.py:2358\u001b[0m, in \u001b[0;36mInteractiveShell.run_cell_magic\u001b[0;34m(self, magic_name, line, cell)\u001b[0m\n\u001b[1;32m   2356\u001b[0m \u001b[38;5;28;01mwith\u001b[39;00m \u001b[38;5;28mself\u001b[39m\u001b[38;5;241m.\u001b[39mbuiltin_trap:\n\u001b[1;32m   2357\u001b[0m     args \u001b[38;5;241m=\u001b[39m (magic_arg_s, cell)\n\u001b[0;32m-> 2358\u001b[0m     result \u001b[38;5;241m=\u001b[39m \u001b[43mfn\u001b[49m\u001b[43m(\u001b[49m\u001b[38;5;241;43m*\u001b[39;49m\u001b[43margs\u001b[49m\u001b[43m,\u001b[49m\u001b[43m \u001b[49m\u001b[38;5;241;43m*\u001b[39;49m\u001b[38;5;241;43m*\u001b[39;49m\u001b[43mkwargs\u001b[49m\u001b[43m)\u001b[49m\n\u001b[1;32m   2359\u001b[0m \u001b[38;5;28;01mreturn\u001b[39;00m result\n",
      "File \u001b[0;32m/opt/conda/lib/python3.9/site-packages/IPython/core/magics/script.py:153\u001b[0m, in \u001b[0;36mScriptMagics._make_script_magic.<locals>.named_script_magic\u001b[0;34m(line, cell)\u001b[0m\n\u001b[1;32m    151\u001b[0m \u001b[38;5;28;01melse\u001b[39;00m:\n\u001b[1;32m    152\u001b[0m     line \u001b[38;5;241m=\u001b[39m script\n\u001b[0;32m--> 153\u001b[0m \u001b[38;5;28;01mreturn\u001b[39;00m \u001b[38;5;28;43mself\u001b[39;49m\u001b[38;5;241;43m.\u001b[39;49m\u001b[43mshebang\u001b[49m\u001b[43m(\u001b[49m\u001b[43mline\u001b[49m\u001b[43m,\u001b[49m\u001b[43m \u001b[49m\u001b[43mcell\u001b[49m\u001b[43m)\u001b[49m\n",
      "File \u001b[0;32m/opt/conda/lib/python3.9/site-packages/IPython/core/magics/script.py:305\u001b[0m, in \u001b[0;36mScriptMagics.shebang\u001b[0;34m(self, line, cell)\u001b[0m\n\u001b[1;32m    300\u001b[0m \u001b[38;5;28;01mif\u001b[39;00m args\u001b[38;5;241m.\u001b[39mraise_error \u001b[38;5;129;01mand\u001b[39;00m p\u001b[38;5;241m.\u001b[39mreturncode \u001b[38;5;241m!=\u001b[39m \u001b[38;5;241m0\u001b[39m:\n\u001b[1;32m    301\u001b[0m     \u001b[38;5;66;03m# If we get here and p.returncode is still None, we must have\u001b[39;00m\n\u001b[1;32m    302\u001b[0m     \u001b[38;5;66;03m# killed it but not yet seen its return code. We don't wait for it,\u001b[39;00m\n\u001b[1;32m    303\u001b[0m     \u001b[38;5;66;03m# in case it's stuck in uninterruptible sleep. -9 = SIGKILL\u001b[39;00m\n\u001b[1;32m    304\u001b[0m     rc \u001b[38;5;241m=\u001b[39m p\u001b[38;5;241m.\u001b[39mreturncode \u001b[38;5;129;01mor\u001b[39;00m \u001b[38;5;241m-\u001b[39m\u001b[38;5;241m9\u001b[39m\n\u001b[0;32m--> 305\u001b[0m     \u001b[38;5;28;01mraise\u001b[39;00m CalledProcessError(rc, cell)\n",
      "\u001b[0;31mCalledProcessError\u001b[0m: Command 'b'# write a bash script here\\nconda run --no-capture-output -n gedi_subset /home/jovyan/maap-documentation-examples/gedi-subset/subset.py \\\\\\n    --verbose --aoi \"${1}\" --columns \"${2}\" --query \"${3}\" --limit ${4}\\n'' returned non-zero exit status 1."
     ]
    }
   ],
   "source": [
    "%%bash -s \"$aoi\" \"$columns\" \"$query\" \"$limit\"\n",
    "# write a bash script here\n",
    "conda run --no-capture-output -n gedi_subset /home/jovyan/maap-documentation-examples/gedi-subset/subset.py \\\n",
    "    --verbose --aoi \"${1}\" --columns \"${2}\" --query \"${3}\" --limit ${4}"
   ]
  }
 ],
 "metadata": {
  "kernelspec": {
   "display_name": "Python 3 (ipykernel)",
   "language": "python",
   "name": "python3"
  },
  "language_info": {
   "codemirror_mode": {
    "name": "ipython",
    "version": 3
   },
   "file_extension": ".py",
   "mimetype": "text/x-python",
   "name": "python",
   "nbconvert_exporter": "python",
   "pygments_lexer": "ipython3",
   "version": "3.9.5"
  },
  "papermill": {
   "default_parameters": {},
   "duration": 142.173016,
   "end_time": "2022-08-16T15:02:01.940084",
   "environment_variables": {},
   "exception": true,
   "input_path": "/home/jovyan/process.ipynb",
   "output_path": "output_nb.ipynb",
   "parameters": {
    "aoi": "/var/lib/cwl/stg7dea10b1-637d-4a0b-9dea-3ce2cabdd23a/geoBoundaries-GAB-ADM0.geojson",
    "columns": "agbd, agbd_se, l2_quality_flag, l4_quality_flag, sensitivity, sensitivity_a2",
    "limit": 10000,
    "query": "l2_quality_flag == 1 and l4_quality_flag == 1 and sensitivity > 0.95 and sensitivity_a2 > 0.95"
   },
   "start_time": "2022-08-16T14:59:39.767068",
   "version": "2.3.4"
  }
 },
 "nbformat": 4,
 "nbformat_minor": 5
}