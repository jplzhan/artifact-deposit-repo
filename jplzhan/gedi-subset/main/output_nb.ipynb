{
 "cells": [
  {
   "cell_type": "markdown",
   "id": "7df52235",
   "metadata": {
    "tags": [
     "papermill-error-cell-tag"
    ]
   },
   "source": [
    "<span style=\"color:red; font-family:Helvetica Neue, Helvetica, Arial, sans-serif; font-size:2em;\">An Exception was encountered at '<a href=\"#papermill-error-cell\">In [3]</a>'.</span>"
   ]
  },
  {
   "cell_type": "code",
   "execution_count": 1,
   "id": "984d1053-68c6-4be1-b640-49a9833a466d",
   "metadata": {
    "execution": {
     "iopub.execute_input": "2022-08-19T14:23:12.956211Z",
     "iopub.status.busy": "2022-08-19T14:23:12.955189Z",
     "iopub.status.idle": "2022-08-19T14:23:12.973330Z",
     "shell.execute_reply": "2022-08-19T14:23:12.971779Z"
    },
    "papermill": {
     "duration": 0.029007,
     "end_time": "2022-08-19T14:23:12.977502",
     "exception": false,
     "start_time": "2022-08-19T14:23:12.948495",
     "status": "completed"
    },
    "tags": [
     "parameters"
    ]
   },
   "outputs": [],
   "source": [
    "aoi = 'abcd' # type: stage-in\n",
    "columns = 'agbd, agbd_se, l2_quality_flag, l4_quality_flag, sensitivity, sensitivity_a2' # type: string\n",
    "query = '' # type: string\n",
    "limit = '10000' # type: int"
   ]
  },
  {
   "cell_type": "code",
   "execution_count": 2,
   "id": "811de520",
   "metadata": {
    "execution": {
     "iopub.execute_input": "2022-08-19T14:23:12.984509Z",
     "iopub.status.busy": "2022-08-19T14:23:12.983761Z",
     "iopub.status.idle": "2022-08-19T14:23:12.990515Z",
     "shell.execute_reply": "2022-08-19T14:23:12.988897Z"
    },
    "papermill": {
     "duration": 0.012447,
     "end_time": "2022-08-19T14:23:12.992760",
     "exception": false,
     "start_time": "2022-08-19T14:23:12.980313",
     "status": "completed"
    },
    "tags": [
     "injected-parameters"
    ]
   },
   "outputs": [],
   "source": [
    "# Parameters\n",
    "aoi = \"/var/lib/cwl/stg4dcb2ff2-a559-4026-a1c9-0dce162ec333/geoBoundaries-GAB-ADM0.geojson\"\n",
    "columns = \"agbd, agbd_se, l2_quality_flag, l4_quality_flag, sensitivity, sensitivity_a2\"\n",
    "limit = 10000\n",
    "query = \"l2_quality_flag == 1 and l4_quality_flag == 1 and sensitivity > 0.95 and sensitivity_a2 > 0.95\"\n"
   ]
  },
  {
   "cell_type": "markdown",
   "id": "d87e9bea",
   "metadata": {
    "tags": [
     "papermill-error-cell-tag"
    ]
   },
   "source": [
    "<span id=\"papermill-error-cell\" style=\"color:red; font-family:Helvetica Neue, Helvetica, Arial, sans-serif; font-size:2em;\">Execution using papermill encountered an exception here and stopped:</span>"
   ]
  },
  {
   "cell_type": "code",
   "execution_count": 3,
   "id": "42ce04c7-7913-45cb-92f4-b74072082180",
   "metadata": {
    "collapsed": true,
    "execution": {
     "iopub.execute_input": "2022-08-19T14:23:12.998322Z",
     "iopub.status.busy": "2022-08-19T14:23:12.997472Z",
     "iopub.status.idle": "2022-08-19T14:25:33.812257Z",
     "shell.execute_reply": "2022-08-19T14:25:33.810403Z"
    },
    "jupyter": {
     "outputs_hidden": true
    },
    "papermill": {
     "duration": 140.824987,
     "end_time": "2022-08-19T14:25:33.818794",
     "exception": true,
     "start_time": "2022-08-19T14:23:12.993807",
     "status": "failed"
    },
    "tags": []
   },
   "outputs": [
    {
     "name": "stderr",
     "output_type": "stream",
     "text": [
      "2022-08-19 14:23:16,914 [MainProcess:maap.utils.CMR] [INFO] ======== Waiting for response ========\n"
     ]
    },
    {
     "name": "stderr",
     "output_type": "stream",
     "text": [
      "2022-08-19 14:23:17,097 [MainProcess:maap.utils.CMR] [INFO] ======== Waiting for response ========\n"
     ]
    },
    {
     "name": "stderr",
     "output_type": "stream",
     "text": [
      "2022-08-19 14:25:21,080 [MainProcess:gedi_subset] [INFO] Subsetting on 32 processes (chunksize=10)\n"
     ]
    },
    {
     "name": "stderr",
     "output_type": "stream",
     "text": [
      "2022-08-19 14:25:21,256 [ForkPoolWorker-1:gedi_subset.maapx] [DEBUG] Downloading granule GEDI_L4A_AGB_Density_V2_1.GEDI04_A_2019108045816_O01962_01_T01066_02_002_02_V002.h5 to directory /tVkzvW/output\n"
     ]
    },
    {
     "name": "stderr",
     "output_type": "stream",
     "text": [
      "2022-08-19 14:25:21,257 [ForkPoolWorker-1:gedi_subset.maapx] [DEBUG] Obtaining S3 credentials from https://data.ornldaac.earthdata.nasa.gov/s3credentials\n"
     ]
    },
    {
     "name": "stderr",
     "output_type": "stream",
     "text": [
      "2022-08-19 14:25:21,263 [ForkPoolWorker-2:gedi_subset.maapx] [DEBUG] Downloading granule GEDI_L4A_AGB_Density_V2_1.GEDI04_A_2019118120814_O02122_03_T01471_02_002_02_V002.h5 to directory /tVkzvW/output\n"
     ]
    },
    {
     "name": "stderr",
     "output_type": "stream",
     "text": [
      "2022-08-19 14:25:21,264 [ForkPoolWorker-2:gedi_subset.maapx] [DEBUG] Obtaining S3 credentials from https://data.ornldaac.earthdata.nasa.gov/s3credentials\n"
     ]
    },
    {
     "name": "stderr",
     "output_type": "stream",
     "text": [
      "2022-08-19 14:25:21,271 [ForkPoolWorker-3:gedi_subset.maapx] [DEBUG] Downloading granule GEDI_L4A_AGB_Density_V2_1.GEDI04_A_2019128205030_O02283_02_T03147_02_002_02_V002.h5 to directory /tVkzvW/output\n"
     ]
    },
    {
     "name": "stderr",
     "output_type": "stream",
     "text": [
      "2022-08-19 14:25:21,273 [ForkPoolWorker-3:gedi_subset.maapx] [DEBUG] Obtaining S3 credentials from https://data.ornldaac.earthdata.nasa.gov/s3credentials\n"
     ]
    },
    {
     "name": "stderr",
     "output_type": "stream",
     "text": [
      "2022-08-19 14:25:21,283 [ForkPoolWorker-4:gedi_subset.maapx] [DEBUG] Downloading granule GEDI_L4A_AGB_Density_V2_1.GEDI04_A_2019142152425_O02497_02_T05687_02_002_02_V002.h5 to directory /tVkzvW/output\n"
     ]
    },
    {
     "name": "stderr",
     "output_type": "stream",
     "text": [
      "2022-08-19 14:25:21,284 [ForkPoolWorker-4:gedi_subset.maapx] [DEBUG] Obtaining S3 credentials from https://data.ornldaac.earthdata.nasa.gov/s3credentials\n"
     ]
    },
    {
     "name": "stderr",
     "output_type": "stream",
     "text": [
      "2022-08-19 14:25:21,290 [ForkPoolWorker-6:gedi_subset.maapx] [DEBUG] Downloading granule GEDI_L4A_AGB_Density_V2_1.GEDI04_A_2019164065420_O02833_02_T03499_02_002_02_V002.h5 to directory /tVkzvW/output\n"
     ]
    },
    {
     "name": "stderr",
     "output_type": "stream",
     "text": [
      "2022-08-19 14:25:21,290 [ForkPoolWorker-5:gedi_subset.maapx] [DEBUG] Downloading granule GEDI_L4A_AGB_Density_V2_1.GEDI04_A_2019153110846_O02665_01_T03958_02_002_02_V002.h5 to directory /tVkzvW/output\n"
     ]
    },
    {
     "name": "stderr",
     "output_type": "stream",
     "text": [
      "2022-08-19 14:25:21,291 [ForkPoolWorker-6:gedi_subset.maapx] [DEBUG] Obtaining S3 credentials from https://data.ornldaac.earthdata.nasa.gov/s3credentials\n"
     ]
    },
    {
     "name": "stderr",
     "output_type": "stream",
     "text": [
      "2022-08-19 14:25:21,292 [ForkPoolWorker-5:gedi_subset.maapx] [DEBUG] Obtaining S3 credentials from https://data.ornldaac.earthdata.nasa.gov/s3credentials\n"
     ]
    },
    {
     "name": "stderr",
     "output_type": "stream",
     "text": [
      "2022-08-19 14:25:21,303 [ForkPoolWorker-7:gedi_subset.maapx] [DEBUG] Downloading granule GEDI_L4A_AGB_Density_V2_1.GEDI04_A_2019175132859_O03008_04_T00048_02_002_02_V002.h5 to directory /tVkzvW/output\n"
     ]
    },
    {
     "name": "stderr",
     "output_type": "stream",
     "text": [
      "2022-08-19 14:25:21,304 [ForkPoolWorker-7:gedi_subset.maapx] [DEBUG] Obtaining S3 credentials from https://data.ornldaac.earthdata.nasa.gov/s3credentials\n"
     ]
    },
    {
     "name": "stderr",
     "output_type": "stream",
     "text": [
      "2022-08-19 14:25:21,311 [ForkPoolWorker-8:gedi_subset.maapx] [DEBUG] Downloading granule GEDI_L4A_AGB_Density_V2_1.GEDI04_A_2019189204453_O03230_01_T00806_02_002_02_V002.h5 to directory /tVkzvW/output\n"
     ]
    },
    {
     "name": "stderr",
     "output_type": "stream",
     "text": [
      "2022-08-19 14:25:21,313 [ForkPoolWorker-8:gedi_subset.maapx] [DEBUG] Obtaining S3 credentials from https://data.ornldaac.earthdata.nasa.gov/s3credentials\n"
     ]
    },
    {
     "name": "stderr",
     "output_type": "stream",
     "text": [
      "2022-08-19 14:25:21,317 [ForkPoolWorker-10:gedi_subset.maapx] [DEBUG] Downloading granule GEDI_L4A_AGB_Density_V2_1.GEDI04_A_2019215103928_O03627_02_T00347_02_002_02_V002.h5 to directory /tVkzvW/output\n"
     ]
    },
    {
     "name": "stderr",
     "output_type": "stream",
     "text": [
      "2022-08-19 14:25:21,318 [ForkPoolWorker-10:gedi_subset.maapx] [DEBUG] Obtaining S3 credentials from https://data.ornldaac.earthdata.nasa.gov/s3credentials\n"
     ]
    },
    {
     "name": "stderr",
     "output_type": "stream",
     "text": [
      "2022-08-19 14:25:21,319 [ForkPoolWorker-9:gedi_subset.maapx] [DEBUG] Downloading granule GEDI_L4A_AGB_Density_V2_1.GEDI04_A_2019197172428_O03352_01_T04218_02_002_02_V002.h5 to directory /tVkzvW/output\n"
     ]
    },
    {
     "name": "stderr",
     "output_type": "stream",
     "text": [
      "2022-08-19 14:25:21,320 [ForkPoolWorker-9:gedi_subset.maapx] [DEBUG] Obtaining S3 credentials from https://data.ornldaac.earthdata.nasa.gov/s3credentials\n"
     ]
    },
    {
     "name": "stderr",
     "output_type": "stream",
     "text": [
      "2022-08-19 14:25:21,332 [ForkPoolWorker-11:gedi_subset.maapx] [DEBUG] Downloading granule GEDI_L4A_AGB_Density_V2_1.GEDI04_A_2019223071836_O03749_01_T05335_02_002_02_V002.h5 to directory /tVkzvW/output\n"
     ]
    },
    {
     "name": "stderr",
     "output_type": "stream",
     "text": [
      "2022-08-19 14:25:21,335 [ForkPoolWorker-11:gedi_subset.maapx] [DEBUG] Obtaining S3 credentials from https://data.ornldaac.earthdata.nasa.gov/s3credentials\n"
     ]
    },
    {
     "name": "stderr",
     "output_type": "stream",
     "text": [
      "2022-08-19 14:25:21,340 [ForkPoolWorker-13:gedi_subset.maapx] [DEBUG] Downloading granule GEDI_L4A_AGB_Density_V2_1.GEDI04_A_2019252194644_O04207_02_T00959_02_002_02_V002.h5 to directory /tVkzvW/output\n"
     ]
    },
    {
     "name": "stderr",
     "output_type": "stream",
     "text": [
      "2022-08-19 14:25:21,341 [ForkPoolWorker-13:gedi_subset.maapx] [DEBUG] Obtaining S3 credentials from https://data.ornldaac.earthdata.nasa.gov/s3credentials\n"
     ]
    },
    {
     "name": "stderr",
     "output_type": "stream",
     "text": [
      "2022-08-19 14:25:21,344 [ForkPoolWorker-12:gedi_subset.maapx] [DEBUG] Downloading granule GEDI_L4A_AGB_Density_V2_1.GEDI04_A_2019241113102_O04031_04_T04210_02_002_02_V002.h5 to directory /tVkzvW/output\n"
     ]
    },
    {
     "name": "stderr",
     "output_type": "stream",
     "text": [
      "2022-08-19 14:25:21,346 [ForkPoolWorker-12:gedi_subset.maapx] [DEBUG] Obtaining S3 credentials from https://data.ornldaac.earthdata.nasa.gov/s3credentials\n"
     ]
    },
    {
     "name": "stderr",
     "output_type": "stream",
     "text": [
      "2022-08-19 14:25:21,349 [ForkPoolWorker-14:gedi_subset.maapx] [DEBUG] Downloading granule GEDI_L4A_AGB_Density_V2_1.GEDI04_A_2019260163110_O04329_02_T05182_02_002_02_V002.h5 to directory /tVkzvW/output\n"
     ]
    },
    {
     "name": "stderr",
     "output_type": "stream",
     "text": [
      "2022-08-19 14:25:21,350 [ForkPoolWorker-14:gedi_subset.maapx] [DEBUG] Obtaining S3 credentials from https://data.ornldaac.earthdata.nasa.gov/s3credentials\n"
     ]
    },
    {
     "name": "stderr",
     "output_type": "stream",
     "text": [
      "2022-08-19 14:25:21,355 [ForkPoolWorker-15:gedi_subset.maapx] [DEBUG] Downloading granule GEDI_L4A_AGB_Density_V2_1.GEDI04_A_2019279091318_O04619_01_T04111_02_002_02_V002.h5 to directory /tVkzvW/output\n"
     ]
    },
    {
     "name": "stderr",
     "output_type": "stream",
     "text": [
      "2022-08-19 14:25:21,357 [ForkPoolWorker-15:gedi_subset.maapx] [DEBUG] Obtaining S3 credentials from https://data.ornldaac.earthdata.nasa.gov/s3credentials\n"
     ]
    },
    {
     "name": "stderr",
     "output_type": "stream",
     "text": [
      "2022-08-19 14:25:21,360 [ForkPoolWorker-16:gedi_subset.maapx] [DEBUG] Downloading granule GEDI_L4A_AGB_Density_V2_1.GEDI04_A_2019287055835_O04741_01_T02489_02_002_02_V002.h5 to directory /tVkzvW/output\n"
     ]
    },
    {
     "name": "stderr",
     "output_type": "stream",
     "text": [
      "2022-08-19 14:25:21,362 [ForkPoolWorker-16:gedi_subset.maapx] [DEBUG] Obtaining S3 credentials from https://data.ornldaac.earthdata.nasa.gov/s3credentials\n"
     ]
    },
    {
     "name": "stderr",
     "output_type": "stream",
     "text": [
      "2022-08-19 14:25:21,368 [ForkPoolWorker-17:gedi_subset.maapx] [DEBUG] Downloading granule GEDI_L4A_AGB_Density_V2_1.GEDI04_A_2019298015357_O04909_02_T03346_02_002_02_V002.h5 to directory /tVkzvW/output\n"
     ]
    },
    {
     "name": "stderr",
     "output_type": "stream",
     "text": [
      "2022-08-19 14:25:21,369 [ForkPoolWorker-17:gedi_subset.maapx] [DEBUG] Obtaining S3 credentials from https://data.ornldaac.earthdata.nasa.gov/s3credentials\n"
     ]
    },
    {
     "name": "stderr",
     "output_type": "stream",
     "text": [
      "2022-08-19 14:25:21,375 [ForkPoolWorker-18:gedi_subset.maapx] [DEBUG] Downloading granule GEDI_L4A_AGB_Density_V2_1.GEDI04_A_2019306092848_O05038_03_T02848_02_002_02_V002.h5 to directory /tVkzvW/output\n"
     ]
    },
    {
     "name": "stderr",
     "output_type": "stream",
     "text": [
      "2022-08-19 14:25:21,376 [ForkPoolWorker-18:gedi_subset.maapx] [DEBUG] Obtaining S3 credentials from https://data.ornldaac.earthdata.nasa.gov/s3credentials\n"
     ]
    },
    {
     "name": "stderr",
     "output_type": "stream",
     "text": [
      "2022-08-19 14:25:21,386 [ForkPoolWorker-19:gedi_subset.maapx] [DEBUG] Downloading granule GEDI_L4A_AGB_Density_V2_1.GEDI04_A_2019317052458_O05206_04_T03705_02_002_02_V002.h5 to directory /tVkzvW/output\n"
     ]
    },
    {
     "name": "stderr",
     "output_type": "stream",
     "text": [
      "2022-08-19 14:25:21,387 [ForkPoolWorker-19:gedi_subset.maapx] [DEBUG] Obtaining S3 credentials from https://data.ornldaac.earthdata.nasa.gov/s3credentials\n"
     ]
    },
    {
     "name": "stderr",
     "output_type": "stream",
     "text": [
      "2022-08-19 14:25:21,389 [ForkPoolWorker-20:gedi_subset.maapx] [DEBUG] Downloading granule GEDI_L4A_AGB_Density_V2_1.GEDI04_A_2019328134500_O05382_01_T05534_02_002_02_V002.h5 to directory /tVkzvW/output\n"
     ]
    },
    {
     "name": "stderr",
     "output_type": "stream",
     "text": [
      "2022-08-19 14:25:21,391 [ForkPoolWorker-20:gedi_subset.maapx] [DEBUG] Obtaining S3 credentials from https://data.ornldaac.earthdata.nasa.gov/s3credentials\n"
     ]
    },
    {
     "name": "stderr",
     "output_type": "stream",
     "text": [
      "2022-08-19 14:25:21,403 [ForkPoolWorker-21:gedi_subset.maapx] [DEBUG] Downloading granule GEDI_L4A_AGB_Density_V2_1.GEDI04_A_2019347062743_O05672_01_T01770_02_002_02_V002.h5 to directory /tVkzvW/output\n"
     ]
    },
    {
     "name": "stderr",
     "output_type": "stream",
     "text": [
      "2022-08-19 14:25:21,404 [ForkPoolWorker-21:gedi_subset.maapx] [DEBUG] Obtaining S3 credentials from https://data.ornldaac.earthdata.nasa.gov/s3credentials\n"
     ]
    },
    {
     "name": "stderr",
     "output_type": "stream",
     "text": [
      "2022-08-19 14:25:21,408 [ForkPoolWorker-22:gedi_subset.maapx] [DEBUG] Downloading granule GEDI_L4A_AGB_Density_V2_1.GEDI04_A_2020009065234_O06091_04_T04669_02_002_02_V002.h5 to directory /tVkzvW/output\n"
     ]
    },
    {
     "name": "stderr",
     "output_type": "stream",
     "text": [
      "2022-08-19 14:25:21,410 [ForkPoolWorker-22:gedi_subset.maapx] [DEBUG] Obtaining S3 credentials from https://data.ornldaac.earthdata.nasa.gov/s3credentials\n"
     ]
    },
    {
     "name": "stderr",
     "output_type": "stream",
     "text": [
      "2022-08-19 14:25:21,416 [ForkPoolWorker-23:gedi_subset.maapx] [DEBUG] Downloading granule GEDI_L4A_AGB_Density_V2_1.GEDI04_A_2020021020726_O06274_03_T05434_02_002_02_V002.h5 to directory /tVkzvW/output\n"
     ]
    },
    {
     "name": "stderr",
     "output_type": "stream",
     "text": [
      "2022-08-19 14:25:21,417 [ForkPoolWorker-23:gedi_subset.maapx] [DEBUG] Obtaining S3 credentials from https://data.ornldaac.earthdata.nasa.gov/s3credentials\n"
     ]
    },
    {
     "name": "stderr",
     "output_type": "stream",
     "text": [
      "2022-08-19 14:25:21,425 [ForkPoolWorker-24:gedi_subset.maapx] [DEBUG] Downloading granule GEDI_L4A_AGB_Density_V2_1.GEDI04_A_2020032212609_O06457_03_T01318_02_002_02_V002.h5 to directory /tVkzvW/output\n"
     ]
    },
    {
     "name": "stderr",
     "output_type": "stream",
     "text": [
      "2022-08-19 14:25:21,427 [ForkPoolWorker-24:gedi_subset.maapx] [DEBUG] Obtaining S3 credentials from https://data.ornldaac.earthdata.nasa.gov/s3credentials\n"
     ]
    },
    {
     "name": "stderr",
     "output_type": "stream",
     "text": [
      "2022-08-19 14:25:21,432 [ForkPoolWorker-25:gedi_subset.maapx] [DEBUG] Downloading granule GEDI_L4A_AGB_Density_V2_1.GEDI04_A_2020044055521_O06633_01_T04616_02_002_02_V002.h5 to directory /tVkzvW/output\n"
     ]
    },
    {
     "name": "stderr",
     "output_type": "stream",
     "text": [
      "2022-08-19 14:25:21,434 [ForkPoolWorker-25:gedi_subset.maapx] [DEBUG] Obtaining S3 credentials from https://data.ornldaac.earthdata.nasa.gov/s3credentials\n"
     ]
    },
    {
     "name": "stderr",
     "output_type": "stream",
     "text": [
      "2022-08-19 14:25:21,437 [ForkPoolWorker-26:gedi_subset.maapx] [DEBUG] Downloading granule GEDI_L4A_AGB_Density_V2_1.GEDI04_A_2020052133823_O06762_03_T04470_02_002_02_V002.h5 to directory /tVkzvW/output\n"
     ]
    },
    {
     "name": "stderr",
     "output_type": "stream",
     "text": [
      "2022-08-19 14:25:21,439 [ForkPoolWorker-26:gedi_subset.maapx] [DEBUG] Obtaining S3 credentials from https://data.ornldaac.earthdata.nasa.gov/s3credentials\n"
     ]
    },
    {
     "name": "stderr",
     "output_type": "stream",
     "text": [
      "2022-08-19 14:25:21,447 [ForkPoolWorker-27:gedi_subset.maapx] [DEBUG] Downloading granule GEDI_L4A_AGB_Density_V2_1.GEDI04_A_2020060103059_O06884_03_T02894_02_002_02_V002.h5 to directory /tVkzvW/output\n"
     ]
    },
    {
     "name": "stderr",
     "output_type": "stream",
     "text": [
      "2022-08-19 14:25:21,448 [ForkPoolWorker-28:gedi_subset.maapx] [DEBUG] Downloading granule GEDI_L4A_AGB_Density_V2_1.GEDI04_A_2020068194632_O07014_01_T05595_02_002_02_V002.h5 to directory /tVkzvW/output\n"
     ]
    },
    {
     "name": "stderr",
     "output_type": "stream",
     "text": [
      "2022-08-19 14:25:21,448 [ForkPoolWorker-27:gedi_subset.maapx] [DEBUG] Obtaining S3 credentials from https://data.ornldaac.earthdata.nasa.gov/s3credentials\n"
     ]
    },
    {
     "name": "stderr",
     "output_type": "stream",
     "text": [
      "2022-08-19 14:25:21,450 [ForkPoolWorker-28:gedi_subset.maapx] [DEBUG] Obtaining S3 credentials from https://data.ornldaac.earthdata.nasa.gov/s3credentials\n"
     ]
    },
    {
     "name": "stderr",
     "output_type": "stream",
     "text": [
      "2022-08-19 14:25:21,453 [ForkPoolWorker-29:gedi_subset.maapx] [DEBUG] Downloading granule GEDI_L4A_AGB_Density_V2_1.GEDI04_A_2020076163849_O07136_01_T01479_02_002_02_V002.h5 to directory /tVkzvW/output\n"
     ]
    },
    {
     "name": "stderr",
     "output_type": "stream",
     "text": [
      "2022-08-19 14:25:21,455 [ForkPoolWorker-29:gedi_subset.maapx] [DEBUG] Obtaining S3 credentials from https://data.ornldaac.earthdata.nasa.gov/s3credentials\n"
     ]
    },
    {
     "name": "stderr",
     "output_type": "stream",
     "text": [
      "2022-08-19 14:25:21,458 [ForkPoolWorker-30:gedi_subset.maapx] [DEBUG] Downloading granule GEDI_L4A_AGB_Density_V2_1.GEDI04_A_2020084133233_O07258_01_T01326_02_002_02_V002.h5 to directory /tVkzvW/output\n"
     ]
    },
    {
     "name": "stderr",
     "output_type": "stream",
     "text": [
      "2022-08-19 14:25:21,460 [ForkPoolWorker-30:gedi_subset.maapx] [DEBUG] Obtaining S3 credentials from https://data.ornldaac.earthdata.nasa.gov/s3credentials\n"
     ]
    },
    {
     "name": "stderr",
     "output_type": "stream",
     "text": [
      "2022-08-19 14:25:21,466 [ForkPoolWorker-31:gedi_subset.maapx] [DEBUG] Downloading granule GEDI_L4A_AGB_Density_V2_1.GEDI04_A_2020095094113_O07426_02_T01923_02_002_02_V002.h5 to directory /tVkzvW/output\n"
     ]
    },
    {
     "name": "stderr",
     "output_type": "stream",
     "text": [
      "2022-08-19 14:25:21,467 [ForkPoolWorker-31:gedi_subset.maapx] [DEBUG] Obtaining S3 credentials from https://data.ornldaac.earthdata.nasa.gov/s3credentials\n"
     ]
    },
    {
     "name": "stderr",
     "output_type": "stream",
     "text": [
      "2022-08-19 14:25:21,478 [ForkPoolWorker-32:gedi_subset.maapx] [DEBUG] Downloading granule GEDI_L4A_AGB_Density_V2_1.GEDI04_A_2020107155609_O07616_03_T03399_02_002_02_V002.h5 to directory /tVkzvW/output\n"
     ]
    },
    {
     "name": "stderr",
     "output_type": "stream",
     "text": [
      "2022-08-19 14:25:21,479 [ForkPoolWorker-32:gedi_subset.maapx] [DEBUG] Obtaining S3 credentials from https://data.ornldaac.earthdata.nasa.gov/s3credentials\n"
     ]
    },
    {
     "name": "stderr",
     "output_type": "stream",
     "text": [
      "2022-08-19 14:25:29,182 [ForkPoolWorker-4:gedi_subset.maapx] [DEBUG] Setting up default boto3 session with new credentials\n"
     ]
    },
    {
     "name": "stderr",
     "output_type": "stream",
     "text": [
      "2022-08-19 14:25:29,454 [ForkPoolWorker-12:gedi_subset.maapx] [DEBUG] Setting up default boto3 session with new credentials\n"
     ]
    },
    {
     "name": "stderr",
     "output_type": "stream",
     "text": [
      "2022-08-19 14:25:29,485 [ForkPoolWorker-5:gedi_subset.maapx] [DEBUG] Setting up default boto3 session with new credentials\n"
     ]
    },
    {
     "name": "stderr",
     "output_type": "stream",
     "text": [
      "2022-08-19 14:25:29,497 [ForkPoolWorker-11:gedi_subset.maapx] [DEBUG] Setting up default boto3 session with new credentials\n"
     ]
    },
    {
     "name": "stderr",
     "output_type": "stream",
     "text": [
      "2022-08-19 14:25:29,510 [ForkPoolWorker-1:gedi_subset.maapx] [DEBUG] Setting up default boto3 session with new credentials\n"
     ]
    },
    {
     "name": "stderr",
     "output_type": "stream",
     "text": [
      "2022-08-19 14:25:29,603 [ForkPoolWorker-4:gedi_subset.maapx] [DEBUG] Downloading granule GEDI_L4A_AGB_Density_V2_1.GEDI04_A_2019143021311_O02504_03_T01425_02_002_02_V002.h5 to directory /tVkzvW/output\n"
     ]
    },
    {
     "name": "stderr",
     "output_type": "stream",
     "text": [
      "2022-08-19 14:25:29,751 [ForkPoolWorker-10:gedi_subset.maapx] [DEBUG] Setting up default boto3 session with new credentials\n"
     ]
    },
    {
     "name": "stderr",
     "output_type": "stream",
     "text": [
      "2022-08-19 14:25:29,847 [ForkPoolWorker-3:gedi_subset.maapx] [DEBUG] Setting up default boto3 session with new credentials\n"
     ]
    },
    {
     "name": "stderr",
     "output_type": "stream",
     "text": [
      "2022-08-19 14:25:29,881 [ForkPoolWorker-12:gedi_subset.maapx] [DEBUG] Downloading granule GEDI_L4A_AGB_Density_V2_1.GEDI04_A_2019241235335_O04039_01_T03912_02_002_02_V002.h5 to directory /tVkzvW/output\n"
     ]
    },
    {
     "name": "stderr",
     "output_type": "stream",
     "text": [
      "2022-08-19 14:25:29,895 [ForkPoolWorker-5:gedi_subset.maapx] [DEBUG] Downloading granule GEDI_L4A_AGB_Density_V2_1.GEDI04_A_2019153110846_O02665_02_T03958_02_002_02_V002.h5 to directory /tVkzvW/output\n"
     ]
    },
    {
     "name": "stderr",
     "output_type": "stream",
     "text": [
      "2022-08-19 14:25:29,938 [ForkPoolWorker-1:gedi_subset.maapx] [DEBUG] Downloading granule GEDI_L4A_AGB_Density_V2_1.GEDI04_A_2019108045816_O01962_02_T01066_02_002_02_V002.h5 to directory /tVkzvW/output\n"
     ]
    },
    {
     "name": "stderr",
     "output_type": "stream",
     "text": [
      "2022-08-19 14:25:29,938 [ForkPoolWorker-11:gedi_subset.maapx] [DEBUG] Downloading granule GEDI_L4A_AGB_Density_V2_1.GEDI04_A_2019223071836_O03749_02_T05335_02_002_02_V002.h5 to directory /tVkzvW/output\n"
     ]
    },
    {
     "name": "stderr",
     "output_type": "stream",
     "text": [
      "2022-08-19 14:25:29,945 [ForkPoolWorker-4:gedi_subset.maapx] [DEBUG] Downloading granule GEDI_L4A_AGB_Density_V2_1.GEDI04_A_2019146011955_O02550_03_T02940_02_002_02_V002.h5 to directory /tVkzvW/output\n"
     ]
    },
    {
     "name": "stderr",
     "output_type": "stream",
     "text": [
      "2022-08-19 14:25:29,948 [ForkPoolWorker-9:gedi_subset.maapx] [DEBUG] Setting up default boto3 session with new credentials\n"
     ]
    },
    {
     "name": "stderr",
     "output_type": "stream",
     "text": [
      "2022-08-19 14:25:30,161 [ForkPoolWorker-10:gedi_subset.maapx] [DEBUG] Downloading granule GEDI_L4A_AGB_Density_V2_1.GEDI04_A_2019215212856_O03634_03_T01624_02_002_02_V002.h5 to directory /tVkzvW/output\n"
     ]
    },
    {
     "name": "stderr",
     "output_type": "stream",
     "text": [
      "2022-08-19 14:25:30,200 [ForkPoolWorker-7:gedi_subset.maapx] [DEBUG] Setting up default boto3 session with new credentials\n"
     ]
    },
    {
     "name": "stderr",
     "output_type": "stream",
     "text": [
      "2022-08-19 14:25:30,228 [ForkPoolWorker-5:gedi_subset.maapx] [DEBUG] Downloading granule GEDI_L4A_AGB_Density_V2_1.GEDI04_A_2019156210541_O02718_03_T01058_02_002_02_V002.h5 to directory /tVkzvW/output\n"
     ]
    },
    {
     "name": "stderr",
     "output_type": "stream",
     "text": [
      "2022-08-19 14:25:30,233 [ForkPoolWorker-12:gedi_subset.maapx] [DEBUG] Downloading granule GEDI_L4A_AGB_Density_V2_1.GEDI04_A_2019241235335_O04039_02_T03912_02_002_02_V002.h5 to directory /tVkzvW/output\n"
     ]
    },
    {
     "name": "stderr",
     "output_type": "stream",
     "text": [
      "2022-08-19 14:25:30,254 [ForkPoolWorker-3:gedi_subset.maapx] [DEBUG] Downloading granule GEDI_L4A_AGB_Density_V2_1.GEDI04_A_2019129073917_O02290_03_T01731_02_002_02_V002.h5 to directory /tVkzvW/output\n"
     ]
    },
    {
     "name": "stderr",
     "output_type": "stream",
     "text": [
      "2022-08-19 14:25:30,292 [ForkPoolWorker-4:gedi_subset.maapx] [DEBUG] Downloading granule GEDI_L4A_AGB_Density_V2_1.GEDI04_A_2019146011955_O02550_04_T02940_02_002_02_V002.h5 to directory /tVkzvW/output\n"
     ]
    },
    {
     "name": "stderr",
     "output_type": "stream",
     "text": [
      "2022-08-19 14:25:30,301 [ForkPoolWorker-1:gedi_subset.maapx] [DEBUG] Downloading granule GEDI_L4A_AGB_Density_V2_1.GEDI04_A_2019111040155_O02008_01_T04616_02_002_02_V002.h5 to directory /tVkzvW/output\n"
     ]
    },
    {
     "name": "stderr",
     "output_type": "stream",
     "text": [
      "2022-08-19 14:25:30,306 [ForkPoolWorker-11:gedi_subset.maapx] [DEBUG] Downloading granule GEDI_L4A_AGB_Density_V2_1.GEDI04_A_2019226171553_O03802_03_T03705_02_002_02_V002.h5 to directory /tVkzvW/output\n"
     ]
    },
    {
     "name": "stderr",
     "output_type": "stream",
     "text": [
      "2022-08-19 14:25:30,347 [ForkPoolWorker-9:gedi_subset.maapx] [DEBUG] Downloading granule GEDI_L4A_AGB_Density_V2_1.GEDI04_A_2019197172428_O03352_02_T04218_02_002_02_V002.h5 to directory /tVkzvW/output\n"
     ]
    },
    {
     "name": "stderr",
     "output_type": "stream",
     "text": [
      "2022-08-19 14:25:30,354 [ForkPoolWorker-6:gedi_subset.maapx] [DEBUG] Setting up default boto3 session with new credentials\n"
     ]
    },
    {
     "name": "stderr",
     "output_type": "stream",
     "text": [
      "2022-08-19 14:25:30,502 [ForkPoolWorker-10:gedi_subset.maapx] [DEBUG] Downloading granule GEDI_L4A_AGB_Density_V2_1.GEDI04_A_2019215212856_O03634_04_T01624_02_002_02_V002.h5 to directory /tVkzvW/output\n"
     ]
    },
    {
     "name": "stderr",
     "output_type": "stream",
     "text": [
      "2022-08-19 14:25:30,541 [ForkPoolWorker-12:gedi_subset.maapx] [DEBUG] Downloading granule GEDI_L4A_AGB_Density_V2_1.GEDI04_A_2019245095256_O04092_03_T04975_02_002_02_V002.h5 to directory /tVkzvW/output\n"
     ]
    },
    {
     "name": "stderr",
     "output_type": "stream",
     "text": [
      "2022-08-19 14:25:30,584 [ForkPoolWorker-5:gedi_subset.maapx] [DEBUG] Downloading granule GEDI_L4A_AGB_Density_V2_1.GEDI04_A_2019156210541_O02718_04_T01058_02_002_02_V002.h5 to directory /tVkzvW/output\n"
     ]
    },
    {
     "name": "stderr",
     "output_type": "stream",
     "text": [
      "2022-08-19 14:25:30,595 [ForkPoolWorker-3:gedi_subset.maapx] [DEBUG] Downloading granule GEDI_L4A_AGB_Density_V2_1.GEDI04_A_2019132064242_O02336_03_T05281_02_002_02_V002.h5 to directory /tVkzvW/output\n"
     ]
    },
    {
     "name": "stderr",
     "output_type": "stream",
     "text": [
      "2022-08-19 14:25:30,597 [ForkPoolWorker-13:gedi_subset.maapx] [DEBUG] Setting up default boto3 session with new credentials\n"
     ]
    },
    {
     "name": "stderr",
     "output_type": "stream",
     "text": [
      "2022-08-19 14:25:30,601 [ForkPoolWorker-7:gedi_subset.maapx] [DEBUG] Downloading granule GEDI_L4A_AGB_Density_V2_1.GEDI04_A_2019178123620_O03054_04_T01716_02_002_02_V002.h5 to directory /tVkzvW/output\n"
     ]
    },
    {
     "name": "stderr",
     "output_type": "stream",
     "text": [
      "2022-08-19 14:25:30,625 [ForkPoolWorker-4:gedi_subset.maapx] [DEBUG] Downloading granule GEDI_L4A_AGB_Density_V2_1.GEDI04_A_2019146134206_O02558_01_T05641_02_002_02_V002.h5 to directory /tVkzvW/output\n"
     ]
    },
    {
     "name": "stderr",
     "output_type": "stream",
     "text": [
      "2022-08-19 14:25:30,626 [ForkPoolWorker-1:gedi_subset.maapx] [DEBUG] Downloading granule GEDI_L4A_AGB_Density_V2_1.GEDI04_A_2019111040155_O02008_02_T04616_02_002_02_V002.h5 to directory /tVkzvW/output\n"
     ]
    },
    {
     "name": "stderr",
     "output_type": "stream",
     "text": [
      "2022-08-19 14:25:30,644 [ForkPoolWorker-11:gedi_subset.maapx] [DEBUG] Downloading granule GEDI_L4A_AGB_Density_V2_1.GEDI04_A_2019226171553_O03802_04_T03705_02_002_02_V002.h5 to directory /tVkzvW/output\n"
     ]
    },
    {
     "name": "stderr",
     "output_type": "stream",
     "text": [
      "2022-08-19 14:25:30,684 [ForkPoolWorker-9:gedi_subset.maapx] [DEBUG] Downloading granule GEDI_L4A_AGB_Density_V2_1.GEDI04_A_2019200163229_O03398_02_T04310_02_002_02_V002.h5 to directory /tVkzvW/output\n"
     ]
    },
    {
     "name": "stderr",
     "output_type": "stream",
     "text": [
      "2022-08-19 14:25:30,725 [ForkPoolWorker-6:gedi_subset.maapx] [DEBUG] Downloading granule GEDI_L4A_AGB_Density_V2_1.GEDI04_A_2019167165109_O02886_04_T00599_02_002_02_V002.h5 to directory /tVkzvW/output\n"
     ]
    },
    {
     "name": "stderr",
     "output_type": "stream",
     "text": [
      "2022-08-19 14:25:30,810 [ForkPoolWorker-10:gedi_subset.maapx] [DEBUG] Downloading granule GEDI_L4A_AGB_Density_V2_1.GEDI04_A_2019216095110_O03642_01_T01326_02_002_02_V002.h5 to directory /tVkzvW/output\n"
     ]
    },
    {
     "name": "stderr",
     "output_type": "stream",
     "text": [
      "2022-08-19 14:25:30,891 [ForkPoolWorker-12:gedi_subset.maapx] [DEBUG] Downloading granule GEDI_L4A_AGB_Density_V2_1.GEDI04_A_2019245095256_O04092_04_T04975_02_002_02_V002.h5 to directory /tVkzvW/output\n"
     ]
    },
    {
     "name": "stderr",
     "output_type": "stream",
     "text": [
      "2022-08-19 14:25:30,908 [ForkPoolWorker-7:gedi_subset.maapx] [DEBUG] Downloading granule GEDI_L4A_AGB_Density_V2_1.GEDI04_A_2019179005829_O03062_01_T01418_02_002_02_V002.h5 to directory /tVkzvW/output\n"
     ]
    },
    {
     "name": "stderr",
     "output_type": "stream",
     "text": [
      "2022-08-19 14:25:30,915 [ForkPoolWorker-2:gedi_subset.maapx] [DEBUG] Setting up default boto3 session with new credentials\n"
     ]
    },
    {
     "name": "stderr",
     "output_type": "stream",
     "text": [
      "2022-08-19 14:25:30,927 [ForkPoolWorker-5:gedi_subset.maapx] [DEBUG] Downloading granule GEDI_L4A_AGB_Density_V2_1.GEDI04_A_2019157092752_O02726_01_T02336_02_002_02_V002.h5 to directory /tVkzvW/output\n"
     ]
    },
    {
     "name": "stderr",
     "output_type": "stream",
     "text": [
      "2022-08-19 14:25:30,938 [ForkPoolWorker-3:gedi_subset.maapx] [DEBUG] Downloading granule GEDI_L4A_AGB_Density_V2_1.GEDI04_A_2019132064242_O02336_04_T05281_02_002_02_V002.h5 to directory /tVkzvW/output\n"
     ]
    },
    {
     "name": "stderr",
     "output_type": "stream",
     "text": [
      "2022-08-19 14:25:30,955 [ForkPoolWorker-1:gedi_subset.maapx] [DEBUG] Downloading granule GEDI_L4A_AGB_Density_V2_1.GEDI04_A_2019111145043_O02015_03_T00201_02_002_02_V002.h5 to directory /tVkzvW/output\n"
     ]
    },
    {
     "name": "stderr",
     "output_type": "stream",
     "text": [
      "2022-08-19 14:25:30,977 [ForkPoolWorker-11:gedi_subset.maapx] [DEBUG] Downloading granule GEDI_L4A_AGB_Density_V2_1.GEDI04_A_2019230044746_O03856_01_T04769_02_002_02_V002.h5 to directory /tVkzvW/output\n"
     ]
    },
    {
     "name": "stderr",
     "output_type": "stream",
     "text": [
      "2022-08-19 14:25:30,978 [ForkPoolWorker-4:gedi_subset.maapx] [DEBUG] Downloading granule GEDI_L4A_AGB_Density_V2_1.GEDI04_A_2019146134206_O02558_02_T05641_02_002_02_V002.h5 to directory /tVkzvW/output\n"
     ]
    },
    {
     "name": "stderr",
     "output_type": "stream",
     "text": [
      "2022-08-19 14:25:31,010 [ForkPoolWorker-9:gedi_subset.maapx] [DEBUG] Downloading granule GEDI_L4A_AGB_Density_V2_1.GEDI04_A_2019201032158_O03405_03_T05587_02_002_02_V002.h5 to directory /tVkzvW/output\n"
     ]
    },
    {
     "name": "stderr",
     "output_type": "stream",
     "text": [
      "2022-08-19 14:25:31,013 [ForkPoolWorker-13:gedi_subset.maapx] [DEBUG] Downloading granule GEDI_L4A_AGB_Density_V2_1.GEDI04_A_2019253063627_O04214_03_T03506_02_002_02_V002.h5 to directory /tVkzvW/output\n"
     ]
    },
    {
     "name": "stderr",
     "output_type": "stream",
     "text": [
      "2022-08-19 14:25:31,040 [ForkPoolWorker-6:gedi_subset.maapx] [DEBUG] Downloading granule GEDI_L4A_AGB_Density_V2_1.GEDI04_A_2019168051318_O02894_01_T01877_02_002_02_V002.h5 to directory /tVkzvW/output\n"
     ]
    },
    {
     "name": "stderr",
     "output_type": "stream",
     "text": [
      "2022-08-19 14:25:31,133 [ForkPoolWorker-10:gedi_subset.maapx] [DEBUG] Downloading granule GEDI_L4A_AGB_Density_V2_1.GEDI04_A_2019218203648_O03680_04_T02986_02_002_02_V002.h5 to directory /tVkzvW/output\n"
     ]
    },
    {
     "name": "stderr",
     "output_type": "stream",
     "text": [
      "2022-08-19 14:25:31,173 [ForkPoolWorker-17:gedi_subset.maapx] [DEBUG] Setting up default boto3 session with new credentials\n"
     ]
    },
    {
     "name": "stderr",
     "output_type": "stream",
     "text": [
      "2022-08-19 14:25:31,200 [ForkPoolWorker-12:gedi_subset.maapx] [DEBUG] Downloading granule GEDI_L4A_AGB_Density_V2_1.GEDI04_A_2019245221529_O04100_01_T00408_02_002_02_V002.h5 to directory /tVkzvW/output\n"
     ]
    },
    {
     "name": "stderr",
     "output_type": "stream",
     "text": [
      "2022-08-19 14:25:31,243 [ForkPoolWorker-7:gedi_subset.maapx] [DEBUG] Downloading granule GEDI_L4A_AGB_Density_V2_1.GEDI04_A_2019179005829_O03062_02_T01418_02_002_02_V002.h5 to directory /tVkzvW/output\n"
     ]
    },
    {
     "name": "stderr",
     "output_type": "stream",
     "text": [
      "2022-08-19 14:25:31,243 [ForkPoolWorker-5:gedi_subset.maapx] [DEBUG] Downloading granule GEDI_L4A_AGB_Density_V2_1.GEDI04_A_2019157092752_O02726_02_T02336_02_002_02_V002.h5 to directory /tVkzvW/output\n"
     ]
    },
    {
     "name": "stderr",
     "output_type": "stream",
     "text": [
      "2022-08-19 14:25:31,268 [ForkPoolWorker-3:gedi_subset.maapx] [DEBUG] Downloading granule GEDI_L4A_AGB_Density_V2_1.GEDI04_A_2019132190410_O02344_01_T00867_02_002_02_V002.h5 to directory /tVkzvW/output\n"
     ]
    },
    {
     "name": "stderr",
     "output_type": "stream",
     "text": [
      "2022-08-19 14:25:31,283 [ForkPoolWorker-1:gedi_subset.maapx] [DEBUG] Downloading granule GEDI_L4A_AGB_Density_V2_1.GEDI04_A_2019111145043_O02015_04_T00201_02_002_02_V002.h5 to directory /tVkzvW/output\n"
     ]
    },
    {
     "name": "stderr",
     "output_type": "stream",
     "text": [
      "2022-08-19 14:25:31,318 [ForkPoolWorker-4:gedi_subset.maapx] [DEBUG] Downloading granule GEDI_L4A_AGB_Density_V2_1.GEDI04_A_2019149124939_O02604_02_T00041_02_002_02_V002.h5 to directory /tVkzvW/output\n"
     ]
    },
    {
     "name": "stderr",
     "output_type": "stream",
     "text": [
      "2022-08-19 14:25:31,319 [ForkPoolWorker-11:gedi_subset.maapx] [DEBUG] Downloading granule GEDI_L4A_AGB_Density_V2_1.GEDI04_A_2019230044746_O03856_02_T04769_02_002_02_V002.h5 to directory /tVkzvW/output\n"
     ]
    },
    {
     "name": "stderr",
     "output_type": "stream",
     "text": [
      "2022-08-19 14:25:31,321 [ForkPoolWorker-2:gedi_subset.maapx] [DEBUG] Downloading granule GEDI_L4A_AGB_Density_V2_1.GEDI04_A_2019118120814_O02122_04_T01471_02_002_02_V002.h5 to directory /tVkzvW/output\n"
     ]
    },
    {
     "name": "stderr",
     "output_type": "stream",
     "text": [
      "2022-08-19 14:25:31,427 [ForkPoolWorker-9:gedi_subset.maapx] [DEBUG] Downloading granule GEDI_L4A_AGB_Density_V2_1.GEDI04_A_2019201032158_O03405_04_T05587_02_002_02_V002.h5 to directory /tVkzvW/output\n"
     ]
    },
    {
     "name": "stderr",
     "output_type": "stream",
     "text": [
      "2022-08-19 14:25:31,435 [ForkPoolWorker-6:gedi_subset.maapx] [DEBUG] Downloading granule GEDI_L4A_AGB_Density_V2_1.GEDI04_A_2019168051318_O02894_02_T01877_02_002_02_V002.h5 to directory /tVkzvW/output\n"
     ]
    },
    {
     "name": "stderr",
     "output_type": "stream",
     "text": [
      "2022-08-19 14:25:31,457 [ForkPoolWorker-13:gedi_subset.maapx] [DEBUG] Downloading granule GEDI_L4A_AGB_Density_V2_1.GEDI04_A_2019253063627_O04214_04_T03506_02_002_02_V002.h5 to directory /tVkzvW/output\n"
     ]
    },
    {
     "name": "stderr",
     "output_type": "stream",
     "text": [
      "2022-08-19 14:25:31,470 [ForkPoolWorker-8:gedi_subset.maapx] [DEBUG] Setting up default boto3 session with new credentials\n"
     ]
    },
    {
     "name": "stderr",
     "output_type": "stream",
     "text": [
      "2022-08-19 14:25:31,471 [ForkPoolWorker-10:gedi_subset.maapx] [DEBUG] Downloading granule GEDI_L4A_AGB_Density_V2_1.GEDI04_A_2019219085904_O03688_01_T02841_02_002_02_V002.h5 to directory /tVkzvW/output\n"
     ]
    },
    {
     "name": "stderr",
     "output_type": "stream",
     "text": [
      "2022-08-19 14:25:31,538 [ForkPoolWorker-12:gedi_subset.maapx] [DEBUG] Downloading granule GEDI_L4A_AGB_Density_V2_1.GEDI04_A_2019248212459_O04146_02_T00194_02_002_02_V002.h5 to directory /tVkzvW/output\n"
     ]
    },
    {
     "name": "stderr",
     "output_type": "stream",
     "text": [
      "2022-08-19 14:25:31,547 [ForkPoolWorker-17:gedi_subset.maapx] [DEBUG] Downloading granule GEDI_L4A_AGB_Density_V2_1.GEDI04_A_2019298124345_O04916_03_T01777_02_002_02_V002.h5 to directory /tVkzvW/output\n"
     ]
    },
    {
     "name": "stderr",
     "output_type": "stream",
     "text": [
      "2022-08-19 14:25:31,583 [ForkPoolWorker-7:gedi_subset.maapx] [DEBUG] Downloading granule GEDI_L4A_AGB_Density_V2_1.GEDI04_A_2019179114752_O03069_03_T02695_02_002_02_V002.h5 to directory /tVkzvW/output\n"
     ]
    },
    {
     "name": "stderr",
     "output_type": "stream",
     "text": [
      "2022-08-19 14:25:31,586 [ForkPoolWorker-5:gedi_subset.maapx] [DEBUG] Downloading granule GEDI_L4A_AGB_Density_V2_1.GEDI04_A_2019160192444_O02779_03_T02282_02_002_02_V002.h5 to directory /tVkzvW/output\n"
     ]
    },
    {
     "name": "stderr",
     "output_type": "stream",
     "text": [
      "2022-08-19 14:25:31,610 [ForkPoolWorker-1:gedi_subset.maapx] [DEBUG] Downloading granule GEDI_L4A_AGB_Density_V2_1.GEDI04_A_2019114135421_O02061_04_T00905_02_002_02_V002.h5 to directory /tVkzvW/output\n"
     ]
    },
    {
     "name": "stderr",
     "output_type": "stream",
     "text": [
      "2022-08-19 14:25:31,626 [ForkPoolWorker-11:gedi_subset.maapx] [DEBUG] Downloading granule GEDI_L4A_AGB_Density_V2_1.GEDI04_A_2019230153730_O03863_03_T03047_02_002_02_V002.h5 to directory /tVkzvW/output\n"
     ]
    },
    {
     "name": "stderr",
     "output_type": "stream",
     "text": [
      "2022-08-19 14:25:31,642 [ForkPoolWorker-2:gedi_subset.maapx] [DEBUG] Downloading granule GEDI_L4A_AGB_Density_V2_1.GEDI04_A_2019119002944_O02130_01_T05595_02_002_02_V002.h5 to directory /tVkzvW/output\n"
     ]
    },
    {
     "name": "stderr",
     "output_type": "stream",
     "text": [
      "2022-08-19 14:25:31,643 [ForkPoolWorker-3:gedi_subset.maapx] [DEBUG] Downloading granule GEDI_L4A_AGB_Density_V2_1.GEDI04_A_2019135054606_O02382_04_T01869_02_002_02_V002.h5 to directory /tVkzvW/output\n"
     ]
    },
    {
     "name": "stderr",
     "output_type": "stream",
     "text": [
      "2022-08-19 14:25:31,657 [ForkPoolWorker-4:gedi_subset.maapx] [DEBUG] Downloading granule GEDI_L4A_AGB_Density_V2_1.GEDI04_A_2019149233903_O02611_03_T02741_02_002_02_V002.h5 to directory /tVkzvW/output\n"
     ]
    },
    {
     "name": "stderr",
     "output_type": "stream",
     "text": [
      "2022-08-19 14:25:31,752 [ForkPoolWorker-6:gedi_subset.maapx] [DEBUG] Downloading granule GEDI_L4A_AGB_Density_V2_1.GEDI04_A_2019168160242_O02901_03_T03001_02_002_02_V002.h5 to directory /tVkzvW/output\n"
     ]
    },
    {
     "name": "stderr",
     "output_type": "stream",
     "text": [
      "2022-08-19 14:25:31,764 [ForkPoolWorker-9:gedi_subset.maapx] [DEBUG] Downloading granule GEDI_L4A_AGB_Density_V2_1.GEDI04_A_2019204145213_O03459_01_T05381_02_002_02_V002.h5 to directory /tVkzvW/output\n"
     ]
    },
    {
     "name": "stderr",
     "output_type": "stream",
     "text": [
      "2022-08-19 14:25:31,775 [ForkPoolWorker-10:gedi_subset.maapx] [DEBUG] Downloading granule GEDI_L4A_AGB_Density_V2_1.GEDI04_A_2019219085904_O03688_02_T02841_02_002_02_V002.h5 to directory /tVkzvW/output\n"
     ]
    },
    {
     "name": "stderr",
     "output_type": "stream",
     "text": [
      "2022-08-19 14:25:31,844 [ForkPoolWorker-13:gedi_subset.maapx] [DEBUG] Downloading granule GEDI_L4A_AGB_Density_V2_1.GEDI04_A_2019256054558_O04260_04_T02022_02_002_02_V002.h5 to directory /tVkzvW/output\n"
     ]
    },
    {
     "name": "stderr",
     "output_type": "stream",
     "text": [
      "2022-08-19 14:25:31,851 [ForkPoolWorker-8:gedi_subset.maapx] [DEBUG] Downloading granule GEDI_L4A_AGB_Density_V2_1.GEDI04_A_2019189204453_O03230_02_T00806_02_002_02_V002.h5 to directory /tVkzvW/output\n"
     ]
    },
    {
     "name": "stderr",
     "output_type": "stream",
     "text": [
      "2022-08-19 14:25:31,862 [ForkPoolWorker-12:gedi_subset.maapx] [DEBUG] Downloading granule GEDI_L4A_AGB_Density_V2_1.GEDI04_A_2019249081442_O04153_03_T04317_02_002_02_V002.h5 to directory /tVkzvW/output\n"
     ]
    },
    {
     "name": "stderr",
     "output_type": "stream",
     "text": [
      "2022-08-19 14:25:31,877 [ForkPoolWorker-17:gedi_subset.maapx] [DEBUG] Downloading granule GEDI_L4A_AGB_Density_V2_1.GEDI04_A_2019298124345_O04916_04_T01777_02_002_02_V002.h5 to directory /tVkzvW/output\n"
     ]
    },
    {
     "name": "stderr",
     "output_type": "stream",
     "text": [
      "2022-08-19 14:25:31,905 [ForkPoolWorker-7:gedi_subset.maapx] [DEBUG] Downloading granule GEDI_L4A_AGB_Density_V2_1.GEDI04_A_2019182105506_O03115_03_T05633_02_002_02_V002.h5 to directory /tVkzvW/output\n"
     ]
    },
    {
     "name": "stderr",
     "output_type": "stream",
     "text": [
      "2022-08-19 14:25:31,906 [ForkPoolWorker-5:gedi_subset.maapx] [DEBUG] Downloading granule GEDI_L4A_AGB_Density_V2_1.GEDI04_A_2019160192444_O02779_04_T02282_02_002_02_V002.h5 to directory /tVkzvW/output\n"
     ]
    },
    {
     "name": "stderr",
     "output_type": "stream",
     "text": [
      "2022-08-19 14:25:31,941 [ForkPoolWorker-2:gedi_subset.maapx] [DEBUG] Downloading granule GEDI_L4A_AGB_Density_V2_1.GEDI04_A_2019121111147_O02168_04_T05021_02_002_02_V002.h5 to directory /tVkzvW/output\n"
     ]
    },
    {
     "name": "stderr",
     "output_type": "stream",
     "text": [
      "2022-08-19 14:25:31,946 [ForkPoolWorker-11:gedi_subset.maapx] [DEBUG] Downloading granule GEDI_L4A_AGB_Density_V2_1.GEDI04_A_2019230153730_O03863_04_T03047_02_002_02_V002.h5 to directory /tVkzvW/output\n"
     ]
    },
    {
     "name": "stderr",
     "output_type": "stream",
     "text": [
      "2022-08-19 14:25:31,955 [ForkPoolWorker-1:gedi_subset.maapx] [DEBUG] Downloading granule GEDI_L4A_AGB_Density_V2_1.GEDI04_A_2019115021551_O02069_01_T03606_02_002_02_V002.h5 to directory /tVkzvW/output\n"
     ]
    },
    {
     "name": "stderr",
     "output_type": "stream",
     "text": [
      "2022-08-19 14:25:31,960 [ForkPoolWorker-3:gedi_subset.maapx] [DEBUG] Downloading granule GEDI_L4A_AGB_Density_V2_1.GEDI04_A_2019135180733_O02390_01_T01724_02_002_02_V002.h5 to directory /tVkzvW/output\n"
     ]
    },
    {
     "name": "stderr",
     "output_type": "stream",
     "text": [
      "2022-08-19 14:25:31,964 [ForkPoolWorker-4:gedi_subset.maapx] [DEBUG] Downloading granule GEDI_L4A_AGB_Density_V2_1.GEDI04_A_2019149233903_O02611_04_T02741_02_002_02_V002.h5 to directory /tVkzvW/output\n"
     ]
    },
    {
     "name": "stderr",
     "output_type": "stream",
     "text": [
      "2022-08-19 14:25:32,031 [ForkPoolWorker-18:gedi_subset.maapx] [DEBUG] Setting up default boto3 session with new credentials\n"
     ]
    },
    {
     "name": "stderr",
     "output_type": "stream",
     "text": [
      "2022-08-19 14:25:32,078 [ForkPoolWorker-9:gedi_subset.maapx] [DEBUG] Downloading granule GEDI_L4A_AGB_Density_V2_1.GEDI04_A_2019204145213_O03459_02_T05381_02_002_02_V002.h5 to directory /tVkzvW/output\n"
     ]
    },
    {
     "name": "stderr",
     "output_type": "stream",
     "text": [
      "2022-08-19 14:25:32,078 [ForkPoolWorker-6:gedi_subset.maapx] [DEBUG] Downloading granule GEDI_L4A_AGB_Density_V2_1.GEDI04_A_2019171151005_O02947_03_T01823_02_002_02_V002.h5 to directory /tVkzvW/output\n"
     ]
    },
    {
     "name": "stderr",
     "output_type": "stream",
     "text": [
      "2022-08-19 14:25:32,109 [ForkPoolWorker-10:gedi_subset.maapx] [DEBUG] Downloading granule GEDI_L4A_AGB_Density_V2_1.GEDI04_A_2019219194832_O03695_03_T03965_02_002_02_V002.h5 to directory /tVkzvW/output\n"
     ]
    },
    {
     "name": "stderr",
     "output_type": "stream",
     "text": [
      "2022-08-19 14:25:32,159 [ForkPoolWorker-8:gedi_subset.maapx] [DEBUG] Downloading granule GEDI_L4A_AGB_Density_V2_1.GEDI04_A_2019190073422_O03237_03_T02083_02_002_02_V002.h5 to directory /tVkzvW/output\n"
     ]
    },
    {
     "name": "stderr",
     "output_type": "stream",
     "text": [
      "2022-08-19 14:25:32,171 [ForkPoolWorker-12:gedi_subset.maapx] [DEBUG] Downloading granule GEDI_L4A_AGB_Density_V2_1.GEDI04_A_2019249081442_O04153_04_T04317_02_002_02_V002.h5 to directory /tVkzvW/output\n"
     ]
    },
    {
     "name": "stderr",
     "output_type": "stream",
     "text": [
      "2022-08-19 14:25:32,173 [ForkPoolWorker-13:gedi_subset.maapx] [DEBUG] Downloading granule GEDI_L4A_AGB_Density_V2_1.GEDI04_A_2019256180829_O04268_01_T04570_02_002_02_V002.h5 to directory /tVkzvW/output\n"
     ]
    },
    {
     "name": "stderr",
     "output_type": "stream",
     "text": [
      "2022-08-19 14:25:32,194 [ForkPoolWorker-17:gedi_subset.maapx] [DEBUG] Downloading granule GEDI_L4A_AGB_Density_V2_1.GEDI04_A_2019299010623_O04924_01_T01479_02_002_02_V002.h5 to directory /tVkzvW/output\n"
     ]
    },
    {
     "name": "stderr",
     "output_type": "stream",
     "text": [
      "2022-08-19 14:25:32,212 [ForkPoolWorker-5:gedi_subset.maapx] [DEBUG] Downloading granule GEDI_L4A_AGB_Density_V2_1.GEDI04_A_2019161074654_O02787_01_T00561_02_002_02_V002.h5 to directory /tVkzvW/output\n"
     ]
    },
    {
     "name": "stderr",
     "output_type": "stream",
     "text": [
      "2022-08-19 14:25:32,227 [ForkPoolWorker-7:gedi_subset.maapx] [DEBUG] Downloading granule GEDI_L4A_AGB_Density_V2_1.GEDI04_A_2019182105506_O03115_04_T05633_02_002_02_V002.h5 to directory /tVkzvW/output\n"
     ]
    },
    {
     "name": "stderr",
     "output_type": "stream",
     "text": [
      "2022-08-19 14:25:32,273 [ForkPoolWorker-11:gedi_subset.maapx] [DEBUG] Downloading granule GEDI_L4A_AGB_Density_V2_1.GEDI04_A_2019231040003_O03871_01_T04172_02_002_02_V002.h5 to directory /tVkzvW/output\n"
     ]
    },
    {
     "name": "stderr",
     "output_type": "stream",
     "text": [
      "2022-08-19 14:25:32,277 [ForkPoolWorker-4:gedi_subset.maapx] [DEBUG] Downloading granule GEDI_L4A_AGB_Density_V2_1.GEDI04_A_2019150120114_O02619_01_T01020_02_002_02_V002.h5 to directory /tVkzvW/output\n"
     ]
    },
    {
     "name": "stderr",
     "output_type": "stream",
     "text": [
      "2022-08-19 14:25:32,285 [ForkPoolWorker-3:gedi_subset.maapx] [DEBUG] Downloading granule GEDI_L4A_AGB_Density_V2_1.GEDI04_A_2019135180733_O02390_02_T01724_02_002_02_V002.h5 to directory /tVkzvW/output\n"
     ]
    },
    {
     "name": "stderr",
     "output_type": "stream",
     "text": [
      "2022-08-19 14:25:32,298 [ForkPoolWorker-1:gedi_subset.maapx] [DEBUG] Downloading granule GEDI_L4A_AGB_Density_V2_1.GEDI04_A_2019115021551_O02069_02_T03606_02_002_02_V002.h5 to directory /tVkzvW/output\n"
     ]
    },
    {
     "name": "stderr",
     "output_type": "stream",
     "text": [
      "2022-08-19 14:25:32,337 [ForkPoolWorker-2:gedi_subset.maapx] [DEBUG] Downloading granule GEDI_L4A_AGB_Density_V2_1.GEDI04_A_2019121233316_O02176_01_T04876_02_002_02_V002.h5 to directory /tVkzvW/output\n"
     ]
    },
    {
     "name": "stderr",
     "output_type": "stream",
     "text": [
      "2022-08-19 14:25:32,388 [ForkPoolWorker-6:gedi_subset.maapx] [DEBUG] Downloading granule GEDI_L4A_AGB_Density_V2_1.GEDI04_A_2019171151005_O02947_04_T01823_02_002_02_V002.h5 to directory /tVkzvW/output\n"
     ]
    },
    {
     "name": "stderr",
     "output_type": "stream",
     "text": [
      "2022-08-19 14:25:32,393 [ForkPoolWorker-9:gedi_subset.maapx] [DEBUG] Downloading granule GEDI_L4A_AGB_Density_V2_1.GEDI04_A_2019205014141_O03466_03_T03659_02_002_02_V002.h5 to directory /tVkzvW/output\n"
     ]
    },
    {
     "name": "stderr",
     "output_type": "stream",
     "text": [
      "2022-08-19 14:25:32,406 [ForkPoolWorker-18:gedi_subset.maapx] [DEBUG] Downloading granule GEDI_L4A_AGB_Density_V2_1.GEDI04_A_2019309083851_O05084_03_T05480_02_002_02_V002.h5 to directory /tVkzvW/output\n"
     ]
    },
    {
     "name": "stderr",
     "output_type": "stream",
     "text": [
      "2022-08-19 14:25:32,437 [ForkPoolWorker-10:gedi_subset.maapx] [DEBUG] Downloading granule GEDI_L4A_AGB_Density_V2_1.GEDI04_A_2019222185622_O03741_03_T02787_02_002_02_V002.h5 to directory /tVkzvW/output\n"
     ]
    },
    {
     "name": "stderr",
     "output_type": "stream",
     "text": [
      "2022-08-19 14:25:32,478 [ForkPoolWorker-8:gedi_subset.maapx] [DEBUG] Downloading granule GEDI_L4A_AGB_Density_V2_1.GEDI04_A_2019190073422_O03237_04_T02083_02_002_02_V002.h5 to directory /tVkzvW/output\n"
     ]
    },
    {
     "name": "stderr",
     "output_type": "stream",
     "text": [
      "2022-08-19 14:25:32,481 [ForkPoolWorker-12:gedi_subset.maapx] [DEBUG] Downloading granule GEDI_L4A_AGB_Density_V2_1.GEDI04_A_2019252194644_O04207_01_T00959_02_002_02_V002.h5 to directory /tVkzvW/output\n"
     ]
    },
    {
     "name": "stderr",
     "output_type": "stream",
     "text": [
      "2022-08-19 14:25:32,501 [ForkPoolWorker-13:gedi_subset.maapx] [DEBUG] Downloading granule GEDI_L4A_AGB_Density_V2_1.GEDI04_A_2019256180829_O04268_02_T04570_02_002_02_V002.h5 to directory /tVkzvW/output\n"
     ]
    },
    {
     "name": "stderr",
     "output_type": "stream",
     "text": [
      "2022-08-19 14:25:32,505 [ForkPoolWorker-17:gedi_subset.maapx] [DEBUG] Downloading granule GEDI_L4A_AGB_Density_V2_1.GEDI04_A_2019302001631_O04970_01_T01112_02_002_02_V002.h5 to directory /tVkzvW/output\n"
     ]
    },
    {
     "name": "stderr",
     "output_type": "stream",
     "text": [
      "2022-08-19 14:25:32,542 [ForkPoolWorker-7:gedi_subset.maapx] [DEBUG] Downloading granule GEDI_L4A_AGB_Density_V2_1.GEDI04_A_2019182231714_O03123_01_T02642_02_002_02_V002.h5 to directory /tVkzvW/output\n"
     ]
    },
    {
     "name": "stderr",
     "output_type": "stream",
     "text": [
      "2022-08-19 14:25:32,563 [ForkPoolWorker-5:gedi_subset.maapx] [DEBUG] Downloading granule GEDI_L4A_AGB_Density_V2_1.GEDI04_A_2019164065420_O02833_01_T03499_02_002_02_V002.h5 to directory /tVkzvW/output\n"
     ]
    },
    {
     "name": "stderr",
     "output_type": "stream",
     "text": [
      "2022-08-19 14:25:32,591 [ForkPoolWorker-11:gedi_subset.maapx] [DEBUG] Downloading granule GEDI_L4A_AGB_Density_V2_1.GEDI04_A_2019241113102_O04031_03_T04210_02_002_02_V002.h5 to directory /tVkzvW/output\n"
     ]
    },
    {
     "name": "stderr",
     "output_type": "stream",
     "text": [
      "2022-08-19 14:25:32,603 [ForkPoolWorker-1:gedi_subset.maapx] [DEBUG] Downloading granule GEDI_L4A_AGB_Density_V2_1.GEDI04_A_2019118011926_O02115_02_T02887_02_002_02_V002.h5 to directory /tVkzvW/output\n"
     ]
    },
    {
     "name": "stderr",
     "output_type": "stream",
     "text": [
      "2022-08-19 14:25:32,609 [ForkPoolWorker-3:gedi_subset.maapx] [DEBUG] Downloading granule GEDI_L4A_AGB_Density_V2_1.GEDI04_A_2019136045620_O02397_03_T01578_02_002_02_V002.h5 to directory /tVkzvW/output\n"
     ]
    },
    {
     "name": "stderr",
     "output_type": "stream",
     "text": [
      "2022-08-19 14:25:32,639 [ForkPoolWorker-4:gedi_subset.maapx] [DEBUG] Downloading granule GEDI_L4A_AGB_Density_V2_1.GEDI04_A_2020119233820_O07807_01_T04677_02_002_02_V002.h5 to directory /tVkzvW/output\n"
     ]
    },
    {
     "name": "stderr",
     "output_type": "stream",
     "text": [
      "2022-08-19 14:25:32,639 [ForkPoolWorker-4:gedi_subset.maapx] [DEBUG] Obtaining S3 credentials from https://data.ornldaac.earthdata.nasa.gov/s3credentials\n"
     ]
    },
    {
     "name": "stderr",
     "output_type": "stream",
     "text": [
      "Traceback (most recent call last):\n"
     ]
    },
    {
     "name": "stderr",
     "output_type": "stream",
     "text": [
      "  File \"/home/jovyan/maap-documentation-examples/gedi-subset/src/subset.py\", line 264, in <module>\n"
     ]
    },
    {
     "name": "stderr",
     "output_type": "stream",
     "text": [
      "    typer.run(main)\n"
     ]
    },
    {
     "name": "stderr",
     "output_type": "stream",
     "text": [
      "  File \"/opt/conda/envs/gedi_subset/lib/python3.10/site-packages/typer/main.py\", line 864, in run\n"
     ]
    },
    {
     "name": "stderr",
     "output_type": "stream",
     "text": [
      "    app()\n"
     ]
    },
    {
     "name": "stderr",
     "output_type": "stream",
     "text": [
      "  File \"/opt/conda/envs/gedi_subset/lib/python3.10/site-packages/typer/main.py\", line 214, in __call__\n"
     ]
    },
    {
     "name": "stderr",
     "output_type": "stream",
     "text": [
      "    return get_command(self)(*args, **kwargs)\n"
     ]
    },
    {
     "name": "stderr",
     "output_type": "stream",
     "text": [
      "  File \"/opt/conda/envs/gedi_subset/lib/python3.10/site-packages/click/core.py\", line 1130, in __call__\n"
     ]
    },
    {
     "name": "stderr",
     "output_type": "stream",
     "text": [
      "    return self.main(*args, **kwargs)\n"
     ]
    },
    {
     "name": "stderr",
     "output_type": "stream",
     "text": [
      "  File \"/opt/conda/envs/gedi_subset/lib/python3.10/site-packages/click/core.py\", line 1055, in main\n"
     ]
    },
    {
     "name": "stderr",
     "output_type": "stream",
     "text": [
      "    rv = self.invoke(ctx)\n"
     ]
    },
    {
     "name": "stderr",
     "output_type": "stream",
     "text": [
      "  File \"/opt/conda/envs/gedi_subset/lib/python3.10/site-packages/click/core.py\", line 1404, in invoke\n"
     ]
    },
    {
     "name": "stderr",
     "output_type": "stream",
     "text": [
      "    return ctx.invoke(self.callback, **ctx.params)\n"
     ]
    },
    {
     "name": "stderr",
     "output_type": "stream",
     "text": [
      "  File \"/opt/conda/envs/gedi_subset/lib/python3.10/site-packages/click/core.py\", line 760, in invoke\n"
     ]
    },
    {
     "name": "stderr",
     "output_type": "stream",
     "text": [
      "    return __callback(*args, **kwargs)\n"
     ]
    },
    {
     "name": "stderr",
     "output_type": "stream",
     "text": [
      "  File \"/opt/conda/envs/gedi_subset/lib/python3.10/site-packages/typer/main.py\", line 500, in wrapper\n"
     ]
    },
    {
     "name": "stderr",
     "output_type": "stream",
     "text": [
      "    return callback(**use_params)  # type: ignore\n"
     ]
    },
    {
     "name": "stderr",
     "output_type": "stream",
     "text": [
      "  File \"/home/jovyan/maap-documentation-examples/gedi-subset/src/subset.py\", line 232, in main\n"
     ]
    },
    {
     "name": "stderr",
     "output_type": "stream",
     "text": [
      "    IOResult.do(\n"
     ]
    },
    {
     "name": "stderr",
     "output_type": "stream",
     "text": [
      "  File \"/opt/conda/envs/gedi_subset/lib/python3.10/site-packages/returns/io.py\", line 685, in do\n"
     ]
    },
    {
     "name": "stderr",
     "output_type": "stream",
     "text": [
      "    return IOResult.from_value(next(expr))\n"
     ]
    },
    {
     "name": "stderr",
     "output_type": "stream",
     "text": [
      "  File \"/home/jovyan/maap-documentation-examples/gedi-subset/src/subset.py\", line 242, in <genexpr>\n"
     ]
    },
    {
     "name": "stderr",
     "output_type": "stream",
     "text": [
      "    for subsets in subset_granules(\n"
     ]
    },
    {
     "name": "stderr",
     "output_type": "stream",
     "text": [
      "  File \"/home/jovyan/maap-documentation-examples/gedi-subset/src/subset.py\", line 150, in subset_granules\n"
     ]
    },
    {
     "name": "stderr",
     "output_type": "stream",
     "text": [
      "    return flow(\n"
     ]
    },
    {
     "name": "stderr",
     "output_type": "stream",
     "text": [
      "  File \"/opt/conda/envs/gedi_subset/lib/python3.10/site-packages/returns/_internal/pipeline/flow.py\", line 50, in flow\n"
     ]
    },
    {
     "name": "stderr",
     "output_type": "stream",
     "text": [
      "    return reduce(  # type: ignore\n"
     ]
    },
    {
     "name": "stderr",
     "output_type": "stream",
     "text": [
      "  File \"/opt/conda/envs/gedi_subset/lib/python3.10/site-packages/returns/_internal/pipeline/flow.py\", line 51, in <lambda>\n"
     ]
    },
    {
     "name": "stderr",
     "output_type": "stream",
     "text": [
      "    lambda composed, function: function(composed),  # type: ignore\n"
     ]
    },
    {
     "name": "stderr",
     "output_type": "stream",
     "text": [
      "  File \"/opt/conda/envs/gedi_subset/lib/python3.10/site-packages/returns/iterables.py\", line 157, in collect\n"
     ]
    },
    {
     "name": "stderr",
     "output_type": "stream",
     "text": [
      "    return cls._collect(iterable, acc)\n"
     ]
    },
    {
     "name": "stderr",
     "output_type": "stream",
     "text": [
      "  File \"/opt/conda/envs/gedi_subset/lib/python3.10/site-packages/returns/iterables.py\", line 279, in _collect\n"
     ]
    },
    {
     "name": "stderr",
     "output_type": "stream",
     "text": [
      "    return cls._loop(\n"
     ]
    },
    {
     "name": "stderr",
     "output_type": "stream",
     "text": [
      "  File \"/opt/conda/envs/gedi_subset/lib/python3.10/site-packages/returns/iterables.py\", line 355, in _loop\n"
     ]
    },
    {
     "name": "stderr",
     "output_type": "stream",
     "text": [
      "    for current in iterable:\n"
     ]
    },
    {
     "name": "stderr",
     "output_type": "stream",
     "text": [
      "  File \"/opt/conda/envs/gedi_subset/lib/python3.10/site-packages/returns/pointfree/lash.py\", line 55, in factory\n"
     ]
    },
    {
     "name": "stderr",
     "output_type": "stream",
     "text": [
      "    return container.lash(function)\n"
     ]
    },
    {
     "name": "stderr",
     "output_type": "stream",
     "text": [
      "  File \"/opt/conda/envs/gedi_subset/lib/python3.10/site-packages/returns/io.py\", line 851, in lash\n"
     ]
    },
    {
     "name": "stderr",
     "output_type": "stream",
     "text": [
      "    return function(self._inner_value.failure())\n"
     ]
    },
    {
     "name": "stderr",
     "output_type": "stream",
     "text": [
      "  File \"/opt/conda/envs/gedi_subset/lib/python3.10/site-packages/returns/functions.py\", line 132, in raise_exception\n"
     ]
    },
    {
     "name": "stderr",
     "output_type": "stream",
     "text": [
      "    raise exception\n"
     ]
    },
    {
     "name": "stderr",
     "output_type": "stream",
     "text": [
      "requests.exceptions.HTTPError: 403 Client Error: Forbidden for url: https://ornl-cumulus-prod-protected.s3.amazonaws.com/gedi/GEDI_L4A_AGB_Density_V2_1/data/GEDI04_A_2019142152425_O02497_02_T05687_02_002_02_V002.h5\n"
     ]
    },
    {
     "name": "stderr",
     "output_type": "stream",
     "text": [
      "ERROR conda.cli.main_run:execute(49): `conda run /home/jovyan/maap-documentation-examples/gedi-subset/src/subset.py --verbose --aoi /var/lib/cwl/stg4dcb2ff2-a559-4026-a1c9-0dce162ec333/geoBoundaries-GAB-ADM0.geojson --columns agbd, agbd_se, l2_quality_flag, l4_quality_flag, sensitivity, sensitivity_a2 --query l2_quality_flag == 1 and l4_quality_flag == 1 and sensitivity > 0.95 and sensitivity_a2 > 0.95 --limit 10000` failed. (See above for error)\n"
     ]
    },
    {
     "ename": "CalledProcessError",
     "evalue": "Command 'b'# write a bash script here\\nconda run --no-capture-output -n gedi_subset /home/jovyan/maap-documentation-examples/gedi-subset/src/subset.py \\\\\\n    --verbose --aoi \"${1}\" --columns \"${2}\" --query \"${3}\" --limit ${4}\\n'' returned non-zero exit status 1.",
     "output_type": "error",
     "traceback": [
      "\u001b[0;31m---------------------------------------------------------------------------\u001b[0m",
      "\u001b[0;31mCalledProcessError\u001b[0m                        Traceback (most recent call last)",
      "Input \u001b[0;32mIn [3]\u001b[0m, in \u001b[0;36m<cell line: 1>\u001b[0;34m()\u001b[0m\n\u001b[0;32m----> 1\u001b[0m \u001b[43mget_ipython\u001b[49m\u001b[43m(\u001b[49m\u001b[43m)\u001b[49m\u001b[38;5;241;43m.\u001b[39;49m\u001b[43mrun_cell_magic\u001b[49m\u001b[43m(\u001b[49m\u001b[38;5;124;43m'\u001b[39;49m\u001b[38;5;124;43mbash\u001b[39;49m\u001b[38;5;124;43m'\u001b[39;49m\u001b[43m,\u001b[49m\u001b[43m \u001b[49m\u001b[38;5;124;43m'\u001b[39;49m\u001b[38;5;124;43m-s \u001b[39;49m\u001b[38;5;124;43m\"\u001b[39;49m\u001b[38;5;124;43m$aoi\u001b[39;49m\u001b[38;5;124;43m\"\u001b[39;49m\u001b[38;5;124;43m \u001b[39;49m\u001b[38;5;124;43m\"\u001b[39;49m\u001b[38;5;124;43m$columns\u001b[39;49m\u001b[38;5;124;43m\"\u001b[39;49m\u001b[38;5;124;43m \u001b[39;49m\u001b[38;5;124;43m\"\u001b[39;49m\u001b[38;5;124;43m$query\u001b[39;49m\u001b[38;5;124;43m\"\u001b[39;49m\u001b[38;5;124;43m \u001b[39;49m\u001b[38;5;124;43m\"\u001b[39;49m\u001b[38;5;124;43m$limit\u001b[39;49m\u001b[38;5;124;43m\"\u001b[39;49m\u001b[38;5;124;43m'\u001b[39;49m\u001b[43m,\u001b[49m\u001b[43m \u001b[49m\u001b[38;5;124;43m'\u001b[39;49m\u001b[38;5;124;43m# write a bash script here\u001b[39;49m\u001b[38;5;130;43;01m\\n\u001b[39;49;00m\u001b[38;5;124;43mconda run --no-capture-output -n gedi_subset /home/jovyan/maap-documentation-examples/gedi-subset/src/subset.py \u001b[39;49m\u001b[38;5;130;43;01m\\\\\u001b[39;49;00m\u001b[38;5;130;43;01m\\n\u001b[39;49;00m\u001b[38;5;124;43m    --verbose --aoi \u001b[39;49m\u001b[38;5;124;43m\"\u001b[39;49m\u001b[38;5;124;43m$\u001b[39;49m\u001b[38;5;132;43;01m{1}\u001b[39;49;00m\u001b[38;5;124;43m\"\u001b[39;49m\u001b[38;5;124;43m --columns \u001b[39;49m\u001b[38;5;124;43m\"\u001b[39;49m\u001b[38;5;124;43m$\u001b[39;49m\u001b[38;5;132;43;01m{2}\u001b[39;49;00m\u001b[38;5;124;43m\"\u001b[39;49m\u001b[38;5;124;43m --query \u001b[39;49m\u001b[38;5;124;43m\"\u001b[39;49m\u001b[38;5;124;43m$\u001b[39;49m\u001b[38;5;132;43;01m{3}\u001b[39;49;00m\u001b[38;5;124;43m\"\u001b[39;49m\u001b[38;5;124;43m --limit $\u001b[39;49m\u001b[38;5;132;43;01m{4}\u001b[39;49;00m\u001b[38;5;130;43;01m\\n\u001b[39;49;00m\u001b[38;5;124;43m'\u001b[39;49m\u001b[43m)\u001b[49m\n",
      "File \u001b[0;32m/opt/conda/lib/python3.9/site-packages/IPython/core/interactiveshell.py:2358\u001b[0m, in \u001b[0;36mInteractiveShell.run_cell_magic\u001b[0;34m(self, magic_name, line, cell)\u001b[0m\n\u001b[1;32m   2356\u001b[0m \u001b[38;5;28;01mwith\u001b[39;00m \u001b[38;5;28mself\u001b[39m\u001b[38;5;241m.\u001b[39mbuiltin_trap:\n\u001b[1;32m   2357\u001b[0m     args \u001b[38;5;241m=\u001b[39m (magic_arg_s, cell)\n\u001b[0;32m-> 2358\u001b[0m     result \u001b[38;5;241m=\u001b[39m \u001b[43mfn\u001b[49m\u001b[43m(\u001b[49m\u001b[38;5;241;43m*\u001b[39;49m\u001b[43margs\u001b[49m\u001b[43m,\u001b[49m\u001b[43m \u001b[49m\u001b[38;5;241;43m*\u001b[39;49m\u001b[38;5;241;43m*\u001b[39;49m\u001b[43mkwargs\u001b[49m\u001b[43m)\u001b[49m\n\u001b[1;32m   2359\u001b[0m \u001b[38;5;28;01mreturn\u001b[39;00m result\n",
      "File \u001b[0;32m/opt/conda/lib/python3.9/site-packages/IPython/core/magics/script.py:153\u001b[0m, in \u001b[0;36mScriptMagics._make_script_magic.<locals>.named_script_magic\u001b[0;34m(line, cell)\u001b[0m\n\u001b[1;32m    151\u001b[0m \u001b[38;5;28;01melse\u001b[39;00m:\n\u001b[1;32m    152\u001b[0m     line \u001b[38;5;241m=\u001b[39m script\n\u001b[0;32m--> 153\u001b[0m \u001b[38;5;28;01mreturn\u001b[39;00m \u001b[38;5;28;43mself\u001b[39;49m\u001b[38;5;241;43m.\u001b[39;49m\u001b[43mshebang\u001b[49m\u001b[43m(\u001b[49m\u001b[43mline\u001b[49m\u001b[43m,\u001b[49m\u001b[43m \u001b[49m\u001b[43mcell\u001b[49m\u001b[43m)\u001b[49m\n",
      "File \u001b[0;32m/opt/conda/lib/python3.9/site-packages/IPython/core/magics/script.py:305\u001b[0m, in \u001b[0;36mScriptMagics.shebang\u001b[0;34m(self, line, cell)\u001b[0m\n\u001b[1;32m    300\u001b[0m \u001b[38;5;28;01mif\u001b[39;00m args\u001b[38;5;241m.\u001b[39mraise_error \u001b[38;5;129;01mand\u001b[39;00m p\u001b[38;5;241m.\u001b[39mreturncode \u001b[38;5;241m!=\u001b[39m \u001b[38;5;241m0\u001b[39m:\n\u001b[1;32m    301\u001b[0m     \u001b[38;5;66;03m# If we get here and p.returncode is still None, we must have\u001b[39;00m\n\u001b[1;32m    302\u001b[0m     \u001b[38;5;66;03m# killed it but not yet seen its return code. We don't wait for it,\u001b[39;00m\n\u001b[1;32m    303\u001b[0m     \u001b[38;5;66;03m# in case it's stuck in uninterruptible sleep. -9 = SIGKILL\u001b[39;00m\n\u001b[1;32m    304\u001b[0m     rc \u001b[38;5;241m=\u001b[39m p\u001b[38;5;241m.\u001b[39mreturncode \u001b[38;5;129;01mor\u001b[39;00m \u001b[38;5;241m-\u001b[39m\u001b[38;5;241m9\u001b[39m\n\u001b[0;32m--> 305\u001b[0m     \u001b[38;5;28;01mraise\u001b[39;00m CalledProcessError(rc, cell)\n",
      "\u001b[0;31mCalledProcessError\u001b[0m: Command 'b'# write a bash script here\\nconda run --no-capture-output -n gedi_subset /home/jovyan/maap-documentation-examples/gedi-subset/src/subset.py \\\\\\n    --verbose --aoi \"${1}\" --columns \"${2}\" --query \"${3}\" --limit ${4}\\n'' returned non-zero exit status 1."
     ]
    }
   ],
   "source": [
    "%%bash -s \"$aoi\" \"$columns\" \"$query\" \"$limit\"\n",
    "# write a bash script here\n",
    "conda run --no-capture-output -n gedi_subset /home/jovyan/maap-documentation-examples/gedi-subset/src/subset.py \\\n",
    "    --verbose --aoi \"${1}\" --columns \"${2}\" --query \"${3}\" --limit ${4}"
   ]
  }
 ],
 "metadata": {
  "kernelspec": {
   "display_name": "Python 3 (ipykernel)",
   "language": "python",
   "name": "python3"
  },
  "language_info": {
   "codemirror_mode": {
    "name": "ipython",
    "version": 3
   },
   "file_extension": ".py",
   "mimetype": "text/x-python",
   "name": "python",
   "nbconvert_exporter": "python",
   "pygments_lexer": "ipython3",
   "version": "3.9.5"
  },
  "papermill": {
   "default_parameters": {},
   "duration": 142.260471,
   "end_time": "2022-08-19T14:25:34.064287",
   "environment_variables": {},
   "exception": true,
   "input_path": "/home/jovyan/process.ipynb",
   "output_path": "output_nb.ipynb",
   "parameters": {
    "aoi": "/var/lib/cwl/stg4dcb2ff2-a559-4026-a1c9-0dce162ec333/geoBoundaries-GAB-ADM0.geojson",
    "columns": "agbd, agbd_se, l2_quality_flag, l4_quality_flag, sensitivity, sensitivity_a2",
    "limit": 10000,
    "query": "l2_quality_flag == 1 and l4_quality_flag == 1 and sensitivity > 0.95 and sensitivity_a2 > 0.95"
   },
   "start_time": "2022-08-19T14:23:11.803816",
   "version": "2.3.4"
  }
 },
 "nbformat": 4,
 "nbformat_minor": 5
}