{
 "cells": [
  {
   "cell_type": "markdown",
   "id": "8533402a",
   "metadata": {
    "tags": [
     "papermill-error-cell-tag"
    ]
   },
   "source": [
    "<span style=\"color:red; font-family:Helvetica Neue, Helvetica, Arial, sans-serif; font-size:2em;\">An Exception was encountered at '<a href=\"#papermill-error-cell\">In [3]</a>'.</span>"
   ]
  },
  {
   "cell_type": "code",
   "execution_count": 1,
   "id": "984d1053-68c6-4be1-b640-49a9833a466d",
   "metadata": {
    "execution": {
     "iopub.execute_input": "2022-08-15T19:31:11.096242Z",
     "iopub.status.busy": "2022-08-15T19:31:11.095278Z",
     "iopub.status.idle": "2022-08-15T19:31:11.109966Z",
     "shell.execute_reply": "2022-08-15T19:31:11.108905Z"
    },
    "papermill": {
     "duration": 0.024772,
     "end_time": "2022-08-15T19:31:11.112245",
     "exception": false,
     "start_time": "2022-08-15T19:31:11.087473",
     "status": "completed"
    },
    "tags": [
     "parameters"
    ]
   },
   "outputs": [],
   "source": [
    "aoi = 'abcd' # type: stage-in\n",
    "columns = 'agbd, agbd_se, l2_quality_flag, l4_quality_flag, sensitivity, sensitivity_a2' # type: string\n",
    "query = '' # type: string\n",
    "limit = '10000' # type: int"
   ]
  },
  {
   "cell_type": "code",
   "execution_count": 2,
   "id": "f1ca8363",
   "metadata": {
    "execution": {
     "iopub.execute_input": "2022-08-15T19:31:11.116654Z",
     "iopub.status.busy": "2022-08-15T19:31:11.116394Z",
     "iopub.status.idle": "2022-08-15T19:31:11.123103Z",
     "shell.execute_reply": "2022-08-15T19:31:11.121889Z"
    },
    "papermill": {
     "duration": 0.011839,
     "end_time": "2022-08-15T19:31:11.125733",
     "exception": false,
     "start_time": "2022-08-15T19:31:11.113894",
     "status": "completed"
    },
    "tags": [
     "injected-parameters"
    ]
   },
   "outputs": [],
   "source": [
    "# Parameters\n",
    "aoi = \"geoBoundaries-GAB-ADM0.geojson\"\n",
    "columns = \"agbd, agbd_se, l2_quality_flag, l4_quality_flag, sensitivity, sensitivity_a2\"\n",
    "limit = 10000\n",
    "query = \"l2_quality_flag == 1 and l4_quality_flag == 1 and sensitivity > 0.95 and sensitivity_a2 > 0.95\"\n"
   ]
  },
  {
   "cell_type": "markdown",
   "id": "1c293e6b",
   "metadata": {
    "tags": [
     "papermill-error-cell-tag"
    ]
   },
   "source": [
    "<span id=\"papermill-error-cell\" style=\"color:red; font-family:Helvetica Neue, Helvetica, Arial, sans-serif; font-size:2em;\">Execution using papermill encountered an exception here and stopped:</span>"
   ]
  },
  {
   "cell_type": "code",
   "execution_count": 3,
   "id": "42ce04c7-7913-45cb-92f4-b74072082180",
   "metadata": {
    "collapsed": true,
    "execution": {
     "iopub.execute_input": "2022-08-15T19:31:11.129889Z",
     "iopub.status.busy": "2022-08-15T19:31:11.129612Z",
     "iopub.status.idle": "2022-08-15T19:31:16.615590Z",
     "shell.execute_reply": "2022-08-15T19:31:16.613968Z"
    },
    "jupyter": {
     "outputs_hidden": true
    },
    "papermill": {
     "duration": 5.492758,
     "end_time": "2022-08-15T19:31:16.619754",
     "exception": true,
     "start_time": "2022-08-15T19:31:11.126996",
     "status": "failed"
    },
    "tags": []
   },
   "outputs": [
    {
     "name": "stderr",
     "output_type": "stream",
     "text": [
      "Usage: subset.py [OPTIONS]\n"
     ]
    },
    {
     "name": "stderr",
     "output_type": "stream",
     "text": [
      "Try 'subset.py --help' for help.\n"
     ]
    },
    {
     "name": "stderr",
     "output_type": "stream",
     "text": [
      "\n"
     ]
    },
    {
     "name": "stderr",
     "output_type": "stream",
     "text": [
      "Error: Invalid value for '--aoi': File 'geoBoundaries-GAB-ADM0.geojson' does not exist.\n"
     ]
    },
    {
     "name": "stderr",
     "output_type": "stream",
     "text": [
      "ERROR conda.cli.main_run:execute(49): `conda run /home/jovyan/maap-documentation-examples/gedi-subset/subset.py --verbose --aoi geoBoundaries-GAB-ADM0.geojson --columns agbd, agbd_se, l2_quality_flag, l4_quality_flag, sensitivity, sensitivity_a2 --query l2_quality_flag == 1 and l4_quality_flag == 1 and sensitivity > 0.95 and sensitivity_a2 > 0.95 --limit 10000` failed. (See above for error)\n"
     ]
    },
    {
     "ename": "CalledProcessError",
     "evalue": "Command 'b'# write a bash script here\\ncd /home/jovyan\\nconda run --no-capture-output -n gedi_subset /home/jovyan/maap-documentation-examples/gedi-subset/subset.py \\\\\\n    --verbose --aoi ${1} --columns \"${2}\" --query \"${3}\" --limit ${4}\\n'' returned non-zero exit status 2.",
     "output_type": "error",
     "traceback": [
      "\u001b[0;31m---------------------------------------------------------------------------\u001b[0m",
      "\u001b[0;31mCalledProcessError\u001b[0m                        Traceback (most recent call last)",
      "Input \u001b[0;32mIn [3]\u001b[0m, in \u001b[0;36m<cell line: 1>\u001b[0;34m()\u001b[0m\n\u001b[0;32m----> 1\u001b[0m \u001b[43mget_ipython\u001b[49m\u001b[43m(\u001b[49m\u001b[43m)\u001b[49m\u001b[38;5;241;43m.\u001b[39;49m\u001b[43mrun_cell_magic\u001b[49m\u001b[43m(\u001b[49m\u001b[38;5;124;43m'\u001b[39;49m\u001b[38;5;124;43mbash\u001b[39;49m\u001b[38;5;124;43m'\u001b[39;49m\u001b[43m,\u001b[49m\u001b[43m \u001b[49m\u001b[38;5;124;43m'\u001b[39;49m\u001b[38;5;124;43m-s \u001b[39;49m\u001b[38;5;124;43m\"\u001b[39;49m\u001b[38;5;124;43m$aoi\u001b[39;49m\u001b[38;5;124;43m\"\u001b[39;49m\u001b[38;5;124;43m \u001b[39;49m\u001b[38;5;124;43m\"\u001b[39;49m\u001b[38;5;124;43m$columns\u001b[39;49m\u001b[38;5;124;43m\"\u001b[39;49m\u001b[38;5;124;43m \u001b[39;49m\u001b[38;5;124;43m\"\u001b[39;49m\u001b[38;5;124;43m$query\u001b[39;49m\u001b[38;5;124;43m\"\u001b[39;49m\u001b[38;5;124;43m \u001b[39;49m\u001b[38;5;124;43m\"\u001b[39;49m\u001b[38;5;124;43m$limit\u001b[39;49m\u001b[38;5;124;43m\"\u001b[39;49m\u001b[38;5;124;43m'\u001b[39;49m\u001b[43m,\u001b[49m\u001b[43m \u001b[49m\u001b[38;5;124;43m'\u001b[39;49m\u001b[38;5;124;43m# write a bash script here\u001b[39;49m\u001b[38;5;130;43;01m\\n\u001b[39;49;00m\u001b[38;5;124;43mcd /home/jovyan\u001b[39;49m\u001b[38;5;130;43;01m\\n\u001b[39;49;00m\u001b[38;5;124;43mconda run --no-capture-output -n gedi_subset /home/jovyan/maap-documentation-examples/gedi-subset/subset.py \u001b[39;49m\u001b[38;5;130;43;01m\\\\\u001b[39;49;00m\u001b[38;5;130;43;01m\\n\u001b[39;49;00m\u001b[38;5;124;43m    --verbose --aoi $\u001b[39;49m\u001b[38;5;132;43;01m{1}\u001b[39;49;00m\u001b[38;5;124;43m --columns \u001b[39;49m\u001b[38;5;124;43m\"\u001b[39;49m\u001b[38;5;124;43m$\u001b[39;49m\u001b[38;5;132;43;01m{2}\u001b[39;49;00m\u001b[38;5;124;43m\"\u001b[39;49m\u001b[38;5;124;43m --query \u001b[39;49m\u001b[38;5;124;43m\"\u001b[39;49m\u001b[38;5;124;43m$\u001b[39;49m\u001b[38;5;132;43;01m{3}\u001b[39;49;00m\u001b[38;5;124;43m\"\u001b[39;49m\u001b[38;5;124;43m --limit $\u001b[39;49m\u001b[38;5;132;43;01m{4}\u001b[39;49;00m\u001b[38;5;130;43;01m\\n\u001b[39;49;00m\u001b[38;5;124;43m'\u001b[39;49m\u001b[43m)\u001b[49m\n",
      "File \u001b[0;32m/opt/conda/lib/python3.9/site-packages/IPython/core/interactiveshell.py:2358\u001b[0m, in \u001b[0;36mInteractiveShell.run_cell_magic\u001b[0;34m(self, magic_name, line, cell)\u001b[0m\n\u001b[1;32m   2356\u001b[0m \u001b[38;5;28;01mwith\u001b[39;00m \u001b[38;5;28mself\u001b[39m\u001b[38;5;241m.\u001b[39mbuiltin_trap:\n\u001b[1;32m   2357\u001b[0m     args \u001b[38;5;241m=\u001b[39m (magic_arg_s, cell)\n\u001b[0;32m-> 2358\u001b[0m     result \u001b[38;5;241m=\u001b[39m \u001b[43mfn\u001b[49m\u001b[43m(\u001b[49m\u001b[38;5;241;43m*\u001b[39;49m\u001b[43margs\u001b[49m\u001b[43m,\u001b[49m\u001b[43m \u001b[49m\u001b[38;5;241;43m*\u001b[39;49m\u001b[38;5;241;43m*\u001b[39;49m\u001b[43mkwargs\u001b[49m\u001b[43m)\u001b[49m\n\u001b[1;32m   2359\u001b[0m \u001b[38;5;28;01mreturn\u001b[39;00m result\n",
      "File \u001b[0;32m/opt/conda/lib/python3.9/site-packages/IPython/core/magics/script.py:153\u001b[0m, in \u001b[0;36mScriptMagics._make_script_magic.<locals>.named_script_magic\u001b[0;34m(line, cell)\u001b[0m\n\u001b[1;32m    151\u001b[0m \u001b[38;5;28;01melse\u001b[39;00m:\n\u001b[1;32m    152\u001b[0m     line \u001b[38;5;241m=\u001b[39m script\n\u001b[0;32m--> 153\u001b[0m \u001b[38;5;28;01mreturn\u001b[39;00m \u001b[38;5;28;43mself\u001b[39;49m\u001b[38;5;241;43m.\u001b[39;49m\u001b[43mshebang\u001b[49m\u001b[43m(\u001b[49m\u001b[43mline\u001b[49m\u001b[43m,\u001b[49m\u001b[43m \u001b[49m\u001b[43mcell\u001b[49m\u001b[43m)\u001b[49m\n",
      "File \u001b[0;32m/opt/conda/lib/python3.9/site-packages/IPython/core/magics/script.py:305\u001b[0m, in \u001b[0;36mScriptMagics.shebang\u001b[0;34m(self, line, cell)\u001b[0m\n\u001b[1;32m    300\u001b[0m \u001b[38;5;28;01mif\u001b[39;00m args\u001b[38;5;241m.\u001b[39mraise_error \u001b[38;5;129;01mand\u001b[39;00m p\u001b[38;5;241m.\u001b[39mreturncode \u001b[38;5;241m!=\u001b[39m \u001b[38;5;241m0\u001b[39m:\n\u001b[1;32m    301\u001b[0m     \u001b[38;5;66;03m# If we get here and p.returncode is still None, we must have\u001b[39;00m\n\u001b[1;32m    302\u001b[0m     \u001b[38;5;66;03m# killed it but not yet seen its return code. We don't wait for it,\u001b[39;00m\n\u001b[1;32m    303\u001b[0m     \u001b[38;5;66;03m# in case it's stuck in uninterruptible sleep. -9 = SIGKILL\u001b[39;00m\n\u001b[1;32m    304\u001b[0m     rc \u001b[38;5;241m=\u001b[39m p\u001b[38;5;241m.\u001b[39mreturncode \u001b[38;5;129;01mor\u001b[39;00m \u001b[38;5;241m-\u001b[39m\u001b[38;5;241m9\u001b[39m\n\u001b[0;32m--> 305\u001b[0m     \u001b[38;5;28;01mraise\u001b[39;00m CalledProcessError(rc, cell)\n",
      "\u001b[0;31mCalledProcessError\u001b[0m: Command 'b'# write a bash script here\\ncd /home/jovyan\\nconda run --no-capture-output -n gedi_subset /home/jovyan/maap-documentation-examples/gedi-subset/subset.py \\\\\\n    --verbose --aoi ${1} --columns \"${2}\" --query \"${3}\" --limit ${4}\\n'' returned non-zero exit status 2."
     ]
    }
   ],
   "source": [
    "%%bash -s \"$aoi\" \"$columns\" \"$query\" \"$limit\"\n",
    "# write a bash script here\n",
    "cd /home/jovyan\n",
    "conda run --no-capture-output -n gedi_subset /home/jovyan/maap-documentation-examples/gedi-subset/subset.py \\\n",
    "    --verbose --aoi ${1} --columns \"${2}\" --query \"${3}\" --limit ${4}"
   ]
  }
 ],
 "metadata": {
  "kernelspec": {
   "display_name": "Python 3 (ipykernel)",
   "language": "python",
   "name": "python3"
  },
  "language_info": {
   "codemirror_mode": {
    "name": "ipython",
    "version": 3
   },
   "file_extension": ".py",
   "mimetype": "text/x-python",
   "name": "python",
   "nbconvert_exporter": "python",
   "pygments_lexer": "ipython3",
   "version": "3.9.5"
  },
  "papermill": {
   "default_parameters": {},
   "duration": 7.280251,
   "end_time": "2022-08-15T19:31:16.948413",
   "environment_variables": {},
   "exception": true,
   "input_path": "/home/jovyan/process.ipynb",
   "output_path": "output_nb.ipynb",
   "parameters": {
    "aoi": "geoBoundaries-GAB-ADM0.geojson",
    "columns": "agbd, agbd_se, l2_quality_flag, l4_quality_flag, sensitivity, sensitivity_a2",
    "limit": 10000,
    "query": "l2_quality_flag == 1 and l4_quality_flag == 1 and sensitivity > 0.95 and sensitivity_a2 > 0.95"
   },
   "start_time": "2022-08-15T19:31:09.668162",
   "version": "2.3.4"
  }
 },
 "nbformat": 4,
 "nbformat_minor": 5
}