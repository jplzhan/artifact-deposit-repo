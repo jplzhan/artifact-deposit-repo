{
 "cells": [
  {
   "cell_type": "markdown",
   "id": "851d950a-2c4b-4ec5-9299-213419086f6e",
   "metadata": {},
   "source": [
    " # Downloading a Landsat 8 Image"
   ]
  },
  {
   "cell_type": "markdown",
   "id": "c6110b00-dc5f-4c15-9d02-a5a0918f6ebb",
   "metadata": {},
   "source": [
    "This notebook serves as an example of how to parameterize a notebook so that it can be called on the command-line via `papermill` with custom inputs specified. This notebook:\n",
    "\n",
    "1. downloads an input dataset; in this case, a Landsat 8 GeoTIFF from the Open Dataset hosted at AWS (https://docs.opendata.aws/landsat-pds/readme.html)"
   ]
  },
  {
   "cell_type": "markdown",
   "id": "cce878a5-cd5c-47ed-b340-7cc396ed2739",
   "metadata": {},
   "source": [
    "This first cell holds the input variables that we want to expose as papermill parameters. The cell needs to be tagged with `parameters` in order for papermill to recognize them."
   ]
  },
  {
   "cell_type": "code",
   "execution_count": null,
   "id": "7c8d899b-1267-40b5-ac67-e44b7e01c074",
   "metadata": {
    "tags": [
     "parameters"
    ]
   },
   "outputs": [],
   "source": [
    "input_url = \"https://s3-us-west-2.amazonaws.com/landsat-pds/L8/065/045/LC80650452017120LGN00/LC80650452017120LGN00_BQA.TIF\""
   ]
  },
  {
   "cell_type": "markdown",
   "id": "5fb50850-2736-4693-9f11-f0f730bd056b",
   "metadata": {},
   "source": [
    "This next cell downloads the input file."
   ]
  },
  {
   "cell_type": "code",
   "execution_count": null,
   "id": "0fd402c2-cdf4-4fb6-af51-cee93d77e8af",
   "metadata": {
    "tags": []
   },
   "outputs": [],
   "source": [
    "import os, random\n",
    "from urllib.request import urlretrieve\n",
    "\n",
    "# download input file\n",
    "input_file = os.path.basename(input_url)\n",
    "input_file, resp = urlretrieve(input_url, input_file)"
   ]
  },
  {
   "cell_type": "markdown",
   "id": "6670de01-4e2d-4801-9ad6-83e7311b5389",
   "metadata": {},
   "source": [
    "You should now have the Landsat 8 image in the current working directory:"
   ]
  },
  {
   "cell_type": "code",
   "execution_count": null,
   "id": "b98c80d9-ddab-48c1-8a05-75508ea9a020",
   "metadata": {},
   "outputs": [],
   "source": [
    "print(f\"Your Landsat 8 image is {input_file}\")"
   ]
  },
  {
   "cell_type": "markdown",
   "id": "7fded595",
   "metadata": {},
   "source": [
    "and to match on this file you can either:\n",
    "\n",
    "1. utilize the following glob pattern: \"*.TIFF\"\n",
    "2. utilize the following regex pattern: r'^\\w+\\.TIF$'"
   ]
  }
 ],
 "metadata": {
  "kernelspec": {
   "display_name": "Python 3 (ipykernel)",
   "language": "python",
   "name": "python3"
  },
  "language_info": {
   "codemirror_mode": {
    "name": "ipython",
    "version": 3
   },
   "file_extension": ".py",
   "mimetype": "text/x-python",
   "name": "python",
   "nbconvert_exporter": "python",
   "pygments_lexer": "ipython3",
   "version": "3.7.12"
  },
  "toc-autonumbering": true,
  "toc-showcode": false,
  "toc-showmarkdowntxt": false,
  "toc-showtags": true
 },
 "nbformat": 4,
 "nbformat_minor": 5
}
